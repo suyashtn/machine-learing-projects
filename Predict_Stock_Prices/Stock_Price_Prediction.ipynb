{
 "cells": [
  {
   "cell_type": "markdown",
   "metadata": {},
   "source": [
    "# Machine Learning Nanodegree\n",
    "\n",
    "### Capstone Project\n",
    "---\n",
    "\n",
    "## Stock Price Prediction\n",
    "This project builds a stock price predictor that examines the historic stock dataset for a publicly listed company and performs learning of various factors that affect the stock and allows prediction of future stock closing values. Predicting time-dependent data, referred to as time-series forecasting, is an active area of research; the task is non-trivial as many factors involved in the prediction: physical factors vs. physhological, rational and irrational behaviour, etc., make share prices volatile and very difficult to predict with a high degree of accuracy.\n",
    "\n",
    "The share price datasets for publicly listed companies is obtained from [Yahoo Finance](https://finance.yahoo.com/) in [`Part I`](#sec1). In this project, the Linear Regression ([`Part II`](#sec2)) and XGBoost ([`Part III`](#sec3)) methods are used as benchmark models. The performance of an implementation of the Long Short-Term Memory (LSTM) network model ([`Part IV`](#sec4)) is compared for making future predictions.\n",
    "\n",
    "---\n",
    "\n",
    "### General Outline\n",
    "Al the parts of this project will follow this general outline:\n",
    "\n",
    "1. Download or otherwise retrieve the data.\n",
    "2. Process / Prepare the data.\n",
    "3. Upload the processed data to S3.\n",
    "4. Train a chosen model.\n",
    "5. Test the trained model (typically using a batch transform job).\n",
    "6. Deploy the trained model.\n",
    "7. Use the deployed model.\n",
    "\n",
    "---\n",
    "\n",
    "### Setup the SageMaker Notebook\n",
    "Import all the libraries needed for this notebook instance. External libraries listed in [requirements.txt](./requirements.txt) will be installed using `pip`. "
   ]
  },
  {
   "cell_type": "code",
   "execution_count": 1,
   "metadata": {},
   "outputs": [
    {
     "data": {
      "application/javascript": [
       "IPython.notebook.set_autosave_interval(60000)"
      ]
     },
     "metadata": {},
     "output_type": "display_data"
    },
    {
     "name": "stdout",
     "output_type": "stream",
     "text": [
      "Autosaving every 60 seconds\n"
     ]
    }
   ],
   "source": [
    "%autosave 60\n",
    "# import all libraries\n",
    "import io\n",
    "import os\n",
    "import time, requests\n",
    "import matplotlib.pyplot as plt\n",
    "import numpy as np \n",
    "import pandas as pd\n",
    "import math\n",
    "from sklearn.metrics import mean_squared_error\n",
    "\n",
    "#import support functions from the src/ dir\n",
    "from src import viz_functions as viz, processData as ppd\n",
    "from src.lstm.lstm_model import build_lstm_model\n",
    "\n",
    "#import libraries for S3 and SageMaker\n",
    "import boto3\n",
    "import sagemaker\n",
    "from sagemaker import get_execution_role\n",
    "\n",
    "%matplotlib inline"
   ]
  },
  {
   "cell_type": "code",
   "execution_count": 2,
   "metadata": {},
   "outputs": [
    {
     "name": "stdout",
     "output_type": "stream",
     "text": [
      "\u001b[33mYou are using pip version 10.0.1, however version 19.3.1 is available.\r\n",
      "You should consider upgrading via the 'pip install --upgrade pip' command.\u001b[0m\r\n"
     ]
    }
   ],
   "source": [
    "\"\"\"\n",
    "DON'T MODIFY ANYTHING IN THIS CELL THAT IS BELOW THIS LINE\n",
    "\"\"\"\n",
    "!pip -q install -r requirements.txt --upgrade --no-cache-dir"
   ]
  },
  {
   "cell_type": "markdown",
   "metadata": {},
   "source": [
    "### Setup S3 Bucket to Load Data"
   ]
  },
  {
   "cell_type": "code",
   "execution_count": 3,
   "metadata": {},
   "outputs": [],
   "source": [
    "\"\"\"\n",
    "DON'T MODIFY ANYTHING IN THIS CELL THAT IS BELOW THIS LINE\n",
    "\"\"\"\n",
    "# sagemaker session, role\n",
    "sagemaker_session = sagemaker.Session()\n",
    "role = sagemaker.get_execution_role()\n",
    "\n",
    "# S3 bucket name\n",
    "bucket = sagemaker_session.default_bucket()"
   ]
  },
  {
   "cell_type": "markdown",
   "metadata": {},
   "source": [
    "### Setup Working Directories\n",
    "This project is housed in the following directories:\n",
    "1. `source_dir`: Is the source directory for this project. \n",
    "2. `data_dir`  : This exists inside the `source_dir` and houses the dataset loaded from Yahoo Finance.\n",
    "3. `processed_data_dir` : This is a sub-directory of the `data_dir` where the processed dataset is stored which will later be used to train/test our machine learning models.\n",
    "4. `images_dir`: Another directory inside the `source_dir` that is used to store images of plost / figures from this notebook instance.\n",
    "\n",
    "In [`Part IV`](#sec4) some more directories namely `keras_model` and `export` will be created to that will be used to export a pre-trained model in Keras for depolyment in SageMaker. "
   ]
  },
  {
   "cell_type": "code",
   "execution_count": 4,
   "metadata": {},
   "outputs": [],
   "source": [
    "source_dir = '/home/ec2-user/SageMaker/ML_Stock_Price_Prediction' # change this to your main project directory\n",
    "os.chdir(source_dir)\n",
    "\n",
    "data_dir = source_dir + '/data/'\n",
    "processed_data_dir = source_dir +'/data/processedData'\n",
    "images_dir = source_dir + '/images/'\n",
    "\n",
    "directories = [data_dir, processed_data_dir, images_dir]\n",
    "\n",
    "for folders in directories:\n",
    "    if not os.path.exists(folders):\n",
    "        os.makedirs(folders)"
   ]
  },
  {
   "cell_type": "markdown",
   "metadata": {},
   "source": [
    "<a id='sec1'></a>\n",
    "## I. Get the Data\n",
    "The share price datasets for publicly listed companies can be obtained from [Yahoo Finance](https://finance.yahoo.com/). To download the datasets from Yahoo Finance we make use of the package [`yfinance`](https://aroussi.com/post/python-yahoo-finance). \n",
    "\n",
    "Inputs needed for `yfinance` are: \n",
    "1. `symbol`: This is the ticker through which a particular dataset is identified, e.g. `'GOOGL'` for Alphabet Inc. , or `'AAPL'` for Apple Inc.\n",
    "2. `start` : This is the start date such as `'2009-11-01'` or in Unix Epoch Time\n",
    "3. `end`   : This is the end date such as `'2019-11-01'` or in Unix Epoch Time\n",
    "\n",
    "#### 1: Define a helper function \n",
    "`get_historical_data()` uses `yfinance` to download the dataset in the `data_dir`"
   ]
  },
  {
   "cell_type": "code",
   "execution_count": 5,
   "metadata": {},
   "outputs": [],
   "source": [
    "import yfinance as yf\n",
    "\n",
    "# def get_epoch_time(date):\n",
    "#     ''' Get the epoch time for a particular date\n",
    "#         param | date: Date in the format YYYY-MM-DD\n",
    "#     '''\n",
    "#     os.environ['TZ']='EST+5ETD'\n",
    "#     date_time = date + ' 00:00:00'\n",
    "#     pattern = '%Y-%m-%d %H:%M:%S'\n",
    "    \n",
    "#     epoch = int(time.mktime(time.strptime(date_time, pattern)))\n",
    "#     return epoch\n",
    "\n",
    "def get_historical_data(symbol,start_date,end_date, data_dir):\n",
    "    ''' Daily quotes from Google. Date format='yyyy-mm-dd' '''\n",
    "    symbol = symbol.upper()\n",
    "    df = yf.download('{0}'.format(symbol), start=start_date, end=end_date)\n",
    "    df.to_csv(data_dir+'{0}.csv'.format(symbol), index = True, header=False)\n",
    "    col_names = ['Date','Open','High','Low','Close','Adj_Close','Volume']\n",
    "    stocks = pd.read_csv('data/{0}.csv'.format(symbol), header=0, names=col_names)\n",
    "    \n",
    "    dataFile = pd.DataFrame(stocks)\n",
    "    return dataFile"
   ]
  },
  {
   "cell_type": "markdown",
   "metadata": {},
   "source": [
    "#### 2: Get the desired dataset "
   ]
  },
  {
   "cell_type": "code",
   "execution_count": 6,
   "metadata": {},
   "outputs": [],
   "source": [
    "# provide the symbol, start, and end date for the dataset to be downloaded\n",
    "symbol = 'GOOGL'\n",
    "start  = '2009-11-01'\n",
    "end    = '2019-11-01'"
   ]
  },
  {
   "cell_type": "code",
   "execution_count": 7,
   "metadata": {},
   "outputs": [
    {
     "name": "stdout",
     "output_type": "stream",
     "text": [
      "[*********************100%***********************]  1 of 1 completed\n"
     ]
    }
   ],
   "source": [
    "# from November 1, 2009 to November 1, 2019\n",
    "data = get_historical_data(symbol, start, end, data_dir)"
   ]
  },
  {
   "cell_type": "markdown",
   "metadata": {},
   "source": [
    "#### 3: Explore the dataset\n",
    "Use `head()` to get a glimpse of the structure of the dataset downloaded. In the dataset above, we se that there are five coulumns:\n",
    "* `Date`  : The date when the stock prices were recorded\n",
    "* `Open`  : The opening proce of the stock on that day\n",
    "* `High`  : The recorded high price of the stock on that day\n",
    "* `Low`   : The recorded low price of the stock on that day\n",
    "* `Close` : The closing price of the stock that day\n",
    "* `Adj_Close`: The adjusted closed price of the stock that day\n",
    "* `Volume`: The volume of transactions that day\n",
    "\n",
    "To variation in the dataset can be understood by exploring the mean, standard deviation, max and min values, etc. Use the `describe()` attribute that  lists this information for a given dataset. "
   ]
  },
  {
   "cell_type": "code",
   "execution_count": 8,
   "metadata": {},
   "outputs": [
    {
     "data": {
      "text/html": [
       "<div>\n",
       "<style scoped>\n",
       "    .dataframe tbody tr th:only-of-type {\n",
       "        vertical-align: middle;\n",
       "    }\n",
       "\n",
       "    .dataframe tbody tr th {\n",
       "        vertical-align: top;\n",
       "    }\n",
       "\n",
       "    .dataframe thead th {\n",
       "        text-align: right;\n",
       "    }\n",
       "</style>\n",
       "<table border=\"1\" class=\"dataframe\">\n",
       "  <thead>\n",
       "    <tr style=\"text-align: right;\">\n",
       "      <th></th>\n",
       "      <th>Date</th>\n",
       "      <th>Open</th>\n",
       "      <th>High</th>\n",
       "      <th>Low</th>\n",
       "      <th>Close</th>\n",
       "      <th>Adj_Close</th>\n",
       "      <th>Volume</th>\n",
       "    </tr>\n",
       "  </thead>\n",
       "  <tbody>\n",
       "    <tr>\n",
       "      <th>0</th>\n",
       "      <td>2009-11-03</td>\n",
       "      <td>265.270264</td>\n",
       "      <td>269.019012</td>\n",
       "      <td>264.414429</td>\n",
       "      <td>268.913910</td>\n",
       "      <td>268.913910</td>\n",
       "      <td>4755600</td>\n",
       "    </tr>\n",
       "    <tr>\n",
       "      <th>1</th>\n",
       "      <td>2009-11-04</td>\n",
       "      <td>270.670685</td>\n",
       "      <td>273.023010</td>\n",
       "      <td>268.478485</td>\n",
       "      <td>270.435425</td>\n",
       "      <td>270.435425</td>\n",
       "      <td>4660700</td>\n",
       "    </tr>\n",
       "    <tr>\n",
       "      <th>2</th>\n",
       "      <td>2009-11-05</td>\n",
       "      <td>272.017029</td>\n",
       "      <td>275.160156</td>\n",
       "      <td>271.601593</td>\n",
       "      <td>274.599609</td>\n",
       "      <td>274.599609</td>\n",
       "      <td>3691700</td>\n",
       "    </tr>\n",
       "    <tr>\n",
       "      <th>3</th>\n",
       "      <td>2009-11-06</td>\n",
       "      <td>274.134125</td>\n",
       "      <td>276.166168</td>\n",
       "      <td>273.023010</td>\n",
       "      <td>275.825836</td>\n",
       "      <td>275.825836</td>\n",
       "      <td>3649700</td>\n",
       "    </tr>\n",
       "    <tr>\n",
       "      <th>4</th>\n",
       "      <td>2009-11-09</td>\n",
       "      <td>278.002991</td>\n",
       "      <td>281.571564</td>\n",
       "      <td>277.392395</td>\n",
       "      <td>281.536530</td>\n",
       "      <td>281.536530</td>\n",
       "      <td>5294500</td>\n",
       "    </tr>\n",
       "  </tbody>\n",
       "</table>\n",
       "</div>"
      ],
      "text/plain": [
       "         Date        Open        High         Low       Close   Adj_Close  \\\n",
       "0  2009-11-03  265.270264  269.019012  264.414429  268.913910  268.913910   \n",
       "1  2009-11-04  270.670685  273.023010  268.478485  270.435425  270.435425   \n",
       "2  2009-11-05  272.017029  275.160156  271.601593  274.599609  274.599609   \n",
       "3  2009-11-06  274.134125  276.166168  273.023010  275.825836  275.825836   \n",
       "4  2009-11-09  278.002991  281.571564  277.392395  281.536530  281.536530   \n",
       "\n",
       "    Volume  \n",
       "0  4755600  \n",
       "1  4660700  \n",
       "2  3691700  \n",
       "3  3649700  \n",
       "4  5294500  "
      ]
     },
     "execution_count": 8,
     "metadata": {},
     "output_type": "execute_result"
    }
   ],
   "source": [
    "data.head()"
   ]
  },
  {
   "cell_type": "code",
   "execution_count": 9,
   "metadata": {},
   "outputs": [
    {
     "data": {
      "text/html": [
       "<div>\n",
       "<style scoped>\n",
       "    .dataframe tbody tr th:only-of-type {\n",
       "        vertical-align: middle;\n",
       "    }\n",
       "\n",
       "    .dataframe tbody tr th {\n",
       "        vertical-align: top;\n",
       "    }\n",
       "\n",
       "    .dataframe thead th {\n",
       "        text-align: right;\n",
       "    }\n",
       "</style>\n",
       "<table border=\"1\" class=\"dataframe\">\n",
       "  <thead>\n",
       "    <tr style=\"text-align: right;\">\n",
       "      <th></th>\n",
       "      <th>Open</th>\n",
       "      <th>High</th>\n",
       "      <th>Low</th>\n",
       "      <th>Close</th>\n",
       "      <th>Adj_Close</th>\n",
       "      <th>Volume</th>\n",
       "    </tr>\n",
       "  </thead>\n",
       "  <tbody>\n",
       "    <tr>\n",
       "      <th>count</th>\n",
       "      <td>2516.000000</td>\n",
       "      <td>2516.000000</td>\n",
       "      <td>2516.000000</td>\n",
       "      <td>2516.000000</td>\n",
       "      <td>2516.000000</td>\n",
       "      <td>2.516000e+03</td>\n",
       "    </tr>\n",
       "    <tr>\n",
       "      <th>mean</th>\n",
       "      <td>635.397300</td>\n",
       "      <td>640.689145</td>\n",
       "      <td>629.668080</td>\n",
       "      <td>635.334439</td>\n",
       "      <td>635.334439</td>\n",
       "      <td>3.427869e+06</td>\n",
       "    </tr>\n",
       "    <tr>\n",
       "      <th>std</th>\n",
       "      <td>320.135523</td>\n",
       "      <td>322.995625</td>\n",
       "      <td>317.249482</td>\n",
       "      <td>320.265958</td>\n",
       "      <td>320.265958</td>\n",
       "      <td>2.672654e+06</td>\n",
       "    </tr>\n",
       "    <tr>\n",
       "      <th>min</th>\n",
       "      <td>219.374374</td>\n",
       "      <td>221.361359</td>\n",
       "      <td>217.032028</td>\n",
       "      <td>218.253250</td>\n",
       "      <td>218.253250</td>\n",
       "      <td>5.206000e+05</td>\n",
       "    </tr>\n",
       "    <tr>\n",
       "      <th>25%</th>\n",
       "      <td>311.961975</td>\n",
       "      <td>314.191681</td>\n",
       "      <td>310.307800</td>\n",
       "      <td>312.367371</td>\n",
       "      <td>312.367371</td>\n",
       "      <td>1.583525e+06</td>\n",
       "    </tr>\n",
       "    <tr>\n",
       "      <th>50%</th>\n",
       "      <td>561.025024</td>\n",
       "      <td>565.725006</td>\n",
       "      <td>556.744995</td>\n",
       "      <td>561.229980</td>\n",
       "      <td>561.229980</td>\n",
       "      <td>2.561600e+06</td>\n",
       "    </tr>\n",
       "    <tr>\n",
       "      <th>75%</th>\n",
       "      <td>924.400009</td>\n",
       "      <td>934.392487</td>\n",
       "      <td>919.444992</td>\n",
       "      <td>924.935013</td>\n",
       "      <td>924.935013</td>\n",
       "      <td>4.489575e+06</td>\n",
       "    </tr>\n",
       "    <tr>\n",
       "      <th>max</th>\n",
       "      <td>1289.119995</td>\n",
       "      <td>1299.239990</td>\n",
       "      <td>1272.310059</td>\n",
       "      <td>1296.199951</td>\n",
       "      <td>1296.199951</td>\n",
       "      <td>2.961990e+07</td>\n",
       "    </tr>\n",
       "  </tbody>\n",
       "</table>\n",
       "</div>"
      ],
      "text/plain": [
       "              Open         High          Low        Close    Adj_Close  \\\n",
       "count  2516.000000  2516.000000  2516.000000  2516.000000  2516.000000   \n",
       "mean    635.397300   640.689145   629.668080   635.334439   635.334439   \n",
       "std     320.135523   322.995625   317.249482   320.265958   320.265958   \n",
       "min     219.374374   221.361359   217.032028   218.253250   218.253250   \n",
       "25%     311.961975   314.191681   310.307800   312.367371   312.367371   \n",
       "50%     561.025024   565.725006   556.744995   561.229980   561.229980   \n",
       "75%     924.400009   934.392487   919.444992   924.935013   924.935013   \n",
       "max    1289.119995  1299.239990  1272.310059  1296.199951  1296.199951   \n",
       "\n",
       "             Volume  \n",
       "count  2.516000e+03  \n",
       "mean   3.427869e+06  \n",
       "std    2.672654e+06  \n",
       "min    5.206000e+05  \n",
       "25%    1.583525e+06  \n",
       "50%    2.561600e+06  \n",
       "75%    4.489575e+06  \n",
       "max    2.961990e+07  "
      ]
     },
     "execution_count": 9,
     "metadata": {},
     "output_type": "execute_result"
    }
   ],
   "source": [
    "data.describe()"
   ]
  },
  {
   "cell_type": "markdown",
   "metadata": {},
   "source": [
    "#### 4: Feature selection\n",
    "As we can see from the `describe()` attribute for the dataset downloaded, the number of enteries are listed in the **count**. Additionally, for this basic implementation of the stock price predictor we will drop the `High` and `Low` values and only work with only three features: `Open`, `Close` and `Volume` part of the dataset.\n",
    "\n",
    "**[NOTE]**: The dataset is already arranged in the ascending order when loaded from Yahoo Finance, and thus, these dates are replaced with `Item` number.\n",
    "\n",
    "Remove the `Date`, `High` and `Low` values using the helper function `remove_data()` from [processData.py](./src/processData.py)"
   ]
  },
  {
   "cell_type": "code",
   "execution_count": 10,
   "metadata": {},
   "outputs": [
    {
     "name": "stdout",
     "output_type": "stream",
     "text": [
      "   Item        Open       Close   Volume\n",
      "0     0  265.270264  268.913910  4755600\n",
      "1     1  270.670685  270.435425  4660700\n",
      "2     2  272.017029  274.599609  3691700\n",
      "3     3  274.134125  275.825836  3649700\n",
      "4     4  278.002991  281.536530  5294500\n",
      "---\n",
      "      Item         Open        Close   Volume\n",
      "2511  2511  1252.000000  1264.300049  1355200\n",
      "2512  2512  1275.000000  1288.979980  3271400\n",
      "2513  2513  1276.000000  1260.660034  2632700\n",
      "2514  2514  1255.150024  1260.699951  1460200\n",
      "2515  2515  1260.000000  1258.800049  1595000\n"
     ]
    }
   ],
   "source": [
    "stocks = ppd.remove_data(data)\n",
    "\n",
    "#Print the dataframe head and tail\n",
    "print(stocks.head())\n",
    "print(\"---\")\n",
    "print(stocks.tail())"
   ]
  },
  {
   "cell_type": "markdown",
   "metadata": {},
   "source": [
    "#### 5: Visualize the dataset\n",
    "Use the helper functions for plotting and saving figures in `image_dir` from [viz_functions.py](./src/viz_functions.py)"
   ]
  },
  {
   "cell_type": "code",
   "execution_count": 11,
   "metadata": {},
   "outputs": [
    {
     "data": {
      "image/png": "[encoded data removed]",
      "text/plain": [
       "<Figure size 432x288 with 1 Axes>"
      ]
     },
     "metadata": {},
     "output_type": "display_data"
    }
   ],
   "source": [
    "viz.plot_basic(stocks, filename = images_dir+'basic.png')"
   ]
  },
  {
   "cell_type": "markdown",
   "metadata": {},
   "source": [
    "#### 6: Normalize the dataset and visualize\n",
    "Use the `MinMaxScaler` function encoded in [processData.py](./src/processData.py) to normalize the dataset values between `0` and `1` to facilitate training and testing."
   ]
  },
  {
   "cell_type": "code",
   "execution_count": 12,
   "metadata": {},
   "outputs": [
    {
     "name": "stderr",
     "output_type": "stream",
     "text": [
      "/home/ec2-user/anaconda3/envs/amazonei_tensorflow_p36/lib/python3.6/site-packages/sklearn/preprocessing/data.py:334: DataConversionWarning: Data with input dtype int64, float64 were all converted to float64 by MinMaxScaler.\n",
      "  return self.partial_fit(X, y)\n"
     ]
    },
    {
     "name": "stdout",
     "output_type": "stream",
     "text": [
      "   Item      Open     Close    Volume\n",
      "0     0  0.042904  0.046997  0.145536\n",
      "1     1  0.047952  0.048409  0.142275\n",
      "2     2  0.049210  0.052272  0.108975\n",
      "3     3  0.051190  0.053409  0.107532\n",
      "4     4  0.054806  0.058707  0.164055\n"
     ]
    },
    {
     "data": {
      "image/png": "[encoded data removed]",
      "text/plain": [
       "<Figure size 432x288 with 1 Axes>"
      ]
     },
     "metadata": {},
     "output_type": "display_data"
    }
   ],
   "source": [
    "stocks = ppd.normalise_data(stocks)\n",
    "print(stocks.head())\n",
    "\n",
    "#visualize the normalized dataset\n",
    "viz.plot_basic(stocks, filename = images_dir+'normalized.png')"
   ]
  },
  {
   "cell_type": "markdown",
   "metadata": {},
   "source": [
    "#### 7: Save the processed dataset\n",
    "Log the processed, normalized and cleaned dataset as a `csv` file in the `processed_data_dir` for future reusability. "
   ]
  },
  {
   "cell_type": "code",
   "execution_count": 13,
   "metadata": {},
   "outputs": [],
   "source": [
    "stocks.to_csv(processed_data_dir + '/{0}_processed.csv'.format(symbol) ,index= False, header=True)"
   ]
  },
  {
   "cell_type": "markdown",
   "metadata": {},
   "source": [
    "---\n",
    "\n",
    "<a id='sec2'></a>\n",
    "## II. Benchmark : Linear Regression \n",
    "The stock price datasets form a time-series dataset. From the visualizations seen in the data exploration part, we have seen how the closing price of the stock varies with time (trading days). Therefore, predicting stock prices can be thought of as a linear regression problem. For the given input dataset $(\\mathbf{X}, y)$ where $\\mathbf{X}$ is a high-dimensional vector and $y$ is a numeric label, or in this case, a real number denoting the price of the stock. \n",
    "\n",
    "If we set $y$ or the `target` to be `Close` price of the stock that needs to be predicted, and choose the `Item`, `Open` and `Volume` as $\\mathbf{X}$ which forms the set of input features, then the linear algorithm learns a linear function and maps $\\mathbf{X}$ to an approximation of the label $y$,\n",
    "\n",
    "\\begin{equation*}\n",
    "\\displaystyle \\widetilde{y} = \\theta_1 X_1 + \\theta_2 X_2 + \\theta_3 X_3\n",
    "\\end{equation*}\n",
    "\n",
    "The Amazon SageMaker linear learner algorithm provides a solution for both classification and regression problems. More details can be found [here](https://docs.aws.amazon.com/sagemaker/latest/dg/linear-learner.html).\n",
    "\n",
    "#### 1: Setup the built-in LinearLearner model in SageMaker"
   ]
  },
  {
   "cell_type": "code",
   "execution_count": 14,
   "metadata": {},
   "outputs": [],
   "source": [
    "# import LinearLearner\n",
    "from sagemaker import LinearLearner\n",
    "\n",
    "# specify an output path\n",
    "prefix = 'stockPrices'\n",
    "output_path = 's3://{}/{}/output'.format(bucket, prefix)\n",
    "\n",
    "# instantiate LinearLearner\n",
    "linear = LinearLearner(role=role,\n",
    "                       train_instance_count=1, \n",
    "                       train_instance_type='ml.c4.xlarge',\n",
    "                       predictor_type='regressor',\n",
    "                       loss='squared_loss',\n",
    "                       output_path=output_path,\n",
    "                       sagemaker_session=sagemaker_session,\n",
    "                       epochs=15)"
   ]
  },
  {
   "cell_type": "markdown",
   "metadata": {},
   "source": [
    "#### 2: Load the processed dataset\n",
    "Load the already pre-processed and saved dataset from `processed_data_dir`. "
   ]
  },
  {
   "cell_type": "code",
   "execution_count": 15,
   "metadata": {},
   "outputs": [
    {
     "data": {
      "text/html": [
       "<div>\n",
       "<style scoped>\n",
       "    .dataframe tbody tr th:only-of-type {\n",
       "        vertical-align: middle;\n",
       "    }\n",
       "\n",
       "    .dataframe tbody tr th {\n",
       "        vertical-align: top;\n",
       "    }\n",
       "\n",
       "    .dataframe thead th {\n",
       "        text-align: right;\n",
       "    }\n",
       "</style>\n",
       "<table border=\"1\" class=\"dataframe\">\n",
       "  <thead>\n",
       "    <tr style=\"text-align: right;\">\n",
       "      <th></th>\n",
       "      <th>Item</th>\n",
       "      <th>Open</th>\n",
       "      <th>Close</th>\n",
       "      <th>Volume</th>\n",
       "    </tr>\n",
       "  </thead>\n",
       "  <tbody>\n",
       "    <tr>\n",
       "      <th>0</th>\n",
       "      <td>0</td>\n",
       "      <td>0.042904</td>\n",
       "      <td>0.046997</td>\n",
       "      <td>0.145536</td>\n",
       "    </tr>\n",
       "    <tr>\n",
       "      <th>1</th>\n",
       "      <td>1</td>\n",
       "      <td>0.047952</td>\n",
       "      <td>0.048409</td>\n",
       "      <td>0.142275</td>\n",
       "    </tr>\n",
       "    <tr>\n",
       "      <th>2</th>\n",
       "      <td>2</td>\n",
       "      <td>0.049210</td>\n",
       "      <td>0.052272</td>\n",
       "      <td>0.108975</td>\n",
       "    </tr>\n",
       "    <tr>\n",
       "      <th>3</th>\n",
       "      <td>3</td>\n",
       "      <td>0.051190</td>\n",
       "      <td>0.053409</td>\n",
       "      <td>0.107532</td>\n",
       "    </tr>\n",
       "    <tr>\n",
       "      <th>4</th>\n",
       "      <td>4</td>\n",
       "      <td>0.054806</td>\n",
       "      <td>0.058707</td>\n",
       "      <td>0.164055</td>\n",
       "    </tr>\n",
       "  </tbody>\n",
       "</table>\n",
       "</div>"
      ],
      "text/plain": [
       "   Item      Open     Close    Volume\n",
       "0     0  0.042904  0.046997  0.145536\n",
       "1     1  0.047952  0.048409  0.142275\n",
       "2     2  0.049210  0.052272  0.108975\n",
       "3     3  0.051190  0.053409  0.107532\n",
       "4     4  0.054806  0.058707  0.164055"
      ]
     },
     "metadata": {},
     "output_type": "display_data"
    }
   ],
   "source": [
    "stocks = pd.read_csv(processed_data_dir + '/{0}_processed.csv'.format(symbol))\n",
    "display(stocks.head())"
   ]
  },
  {
   "cell_type": "markdown",
   "metadata": {},
   "source": [
    "#### 3: Split the dataset\n",
    "Split the dataset into `train` and `test` sets using the `train_test_split()` helper function from [processedData.py](./src/processData.py). Prescribe: \n",
    "* `train_fraction`: the fraction of the dataset to be used for training. A numeric value between `0` and `1`.\n",
    "\n",
    "\n",
    "**[NOTE]**: The dataset in parctice should also be split up into a validation set, that can be used to evaluate the model parameters and tune any hyperparameters if needed. This process is skipped here. "
   ]
  },
  {
   "cell_type": "code",
   "execution_count": 16,
   "metadata": {},
   "outputs": [
    {
     "name": "stdout",
     "output_type": "stream",
     "text": [
      "x_train (2012, 3)\n",
      "y_train (2012,)\n",
      "x_test (504, 3)\n",
      "y_test (504,)\n"
     ]
    },
    {
     "name": "stderr",
     "output_type": "stream",
     "text": [
      "/home/ec2-user/SageMaker/ML_Stock_Price_Prediction/src/processData.py:107: FutureWarning: Method .as_matrix will be removed in a future version. Use .values instead.\n",
      "  stock_matrix = stocks.as_matrix()\n"
     ]
    }
   ],
   "source": [
    "# The 80/20 split to train/test the LinearLearner model\n",
    "train_fraction = 0.8\n",
    "X_train, X_test, y_train, y_test = ppd.train_test_split(stocks, train_fraction)\n",
    "\n",
    "print(\"x_train\", X_train.shape)\n",
    "print(\"y_train\", y_train.shape)\n",
    "print(\"x_test\", X_test.shape)\n",
    "print(\"y_test\", y_test.shape)"
   ]
  },
  {
   "cell_type": "markdown",
   "metadata": {},
   "source": [
    "#### 4: Fromat the dataset for training\n",
    "The Amazon SageMaker LinearLearner model requires the training dataset to be a `Recordset` object. This is done through the `linear.record_set()` that constructs a `RecordSet` object from **ndarray** arrays. In addition, convert the `train` and `test` datasets from `float64` to `float32` format for `record_set()` to work properly. For more details on `Recordset` visit this [page](https://sagemaker.readthedocs.io/en/stable/linear_learner.html#sagemaker.LinearLearner.record_set)."
   ]
  },
  {
   "cell_type": "code",
   "execution_count": 17,
   "metadata": {},
   "outputs": [],
   "source": [
    "# convert features/labels to numpy in float32 format\n",
    "train_x_np = X_train.astype('float32')\n",
    "train_y_np = y_train.astype('float32')\n",
    "\n",
    "test_x_np = X_test.astype('float32')\n",
    "test_y_np = y_test.astype('float32')\n",
    "\n",
    "# create RecordSet\n",
    "formatted_train_data = linear.record_set(train_x_np , labels=train_y_np)"
   ]
  },
  {
   "cell_type": "markdown",
   "metadata": {},
   "source": [
    "#### 5: Train the linear estimator\n",
    "Train the `linear` estimator on the formatted training data created as a `Recordset`. This creates a training job that can be monitored in the SageMaker console. Use the `%%time` directive to see the total time taken to execute the training and the actual billable time given by SageMaker."
   ]
  },
  {
   "cell_type": "code",
   "execution_count": 18,
   "metadata": {},
   "outputs": [
    {
     "name": "stdout",
     "output_type": "stream",
     "text": [
      "2019-11-28 22:05:11 Starting - Starting the training job...\n",
      "2019-11-28 22:05:12 Starting - Launching requested ML instances......\n",
      "2019-11-28 22:06:34 Starting - Preparing the instances for training......\n",
      "2019-11-28 22:07:14 Downloading - Downloading input data...\n",
      "2019-11-28 22:08:09 Training - Training image download completed. Training in progress.\n",
      "2019-11-28 22:08:09 Uploading - Uploading generated training model.\u001b[31mDocker entrypoint called with argument(s): train\u001b[0m\n",
      "\u001b[31m[11/28/2019 22:08:06 INFO 140085482997568] Reading default configuration from /opt/amazon/lib/python2.7/site-packages/algorithm/resources/default-input.json: {u'loss_insensitivity': u'0.01', u'epochs': u'15', u'feature_dim': u'auto', u'init_bias': u'0.0', u'lr_scheduler_factor': u'auto', u'num_calibration_samples': u'10000000', u'accuracy_top_k': u'3', u'_num_kv_servers': u'auto', u'use_bias': u'true', u'num_point_for_scaler': u'10000', u'_log_level': u'info', u'quantile': u'0.5', u'bias_lr_mult': u'auto', u'lr_scheduler_step': u'auto', u'init_method': u'uniform', u'init_sigma': u'0.01', u'lr_scheduler_minimum_lr': u'auto', u'target_recall': u'0.8', u'num_models': u'auto', u'early_stopping_patience': u'3', u'momentum': u'auto', u'unbias_label': u'auto', u'wd': u'auto', u'optimizer': u'auto', u'_tuning_objective_metric': u'', u'early_stopping_tolerance': u'0.001', u'learning_rate': u'auto', u'_kvstore': u'auto', u'normalize_data': u'true', u'binary_classifier_model_selection_criteria': u'accuracy', u'use_lr_scheduler': u'true', u'target_precision': u'0.8', u'unbias_data': u'auto', u'init_scale': u'0.07', u'bias_wd_mult': u'auto', u'f_beta': u'1.0', u'mini_batch_size': u'1000', u'huber_delta': u'1.0', u'num_classes': u'1', u'beta_1': u'auto', u'loss': u'auto', u'beta_2': u'auto', u'_enable_profiler': u'false', u'normalize_label': u'auto', u'_num_gpus': u'auto', u'balance_multiclass_weights': u'false', u'positive_example_weight_mult': u'1.0', u'l1': u'auto', u'margin': u'1.0'}\u001b[0m\n",
      "\u001b[31m[11/28/2019 22:08:06 INFO 140085482997568] Reading provided configuration from /opt/ml/input/config/hyperparameters.json: {u'epochs': u'15', u'loss': u'squared_loss', u'feature_dim': u'3', u'mini_batch_size': u'1000', u'predictor_type': u'regressor'}\u001b[0m\n",
      "\u001b[31m[11/28/2019 22:08:06 INFO 140085482997568] Final configuration: {u'loss_insensitivity': u'0.01', u'epochs': u'15', u'feature_dim': u'3', u'init_bias': u'0.0', u'lr_scheduler_factor': u'auto', u'num_calibration_samples': u'10000000', u'accuracy_top_k': u'3', u'_num_kv_servers': u'auto', u'use_bias': u'true', u'num_point_for_scaler': u'10000', u'_log_level': u'info', u'quantile': u'0.5', u'bias_lr_mult': u'auto', u'lr_scheduler_step': u'auto', u'init_method': u'uniform', u'init_sigma': u'0.01', u'lr_scheduler_minimum_lr': u'auto', u'target_recall': u'0.8', u'num_models': u'auto', u'early_stopping_patience': u'3', u'momentum': u'auto', u'unbias_label': u'auto', u'wd': u'auto', u'optimizer': u'auto', u'_tuning_objective_metric': u'', u'early_stopping_tolerance': u'0.001', u'learning_rate': u'auto', u'_kvstore': u'auto', u'normalize_data': u'true', u'binary_classifier_model_selection_criteria': u'accuracy', u'use_lr_scheduler': u'true', u'target_precision': u'0.8', u'unbias_data': u'auto', u'init_scale': u'0.07', u'bias_wd_mult': u'auto', u'f_beta': u'1.0', u'mini_batch_size': u'1000', u'huber_delta': u'1.0', u'num_classes': u'1', u'predictor_type': u'regressor', u'beta_1': u'auto', u'loss': u'squared_loss', u'beta_2': u'auto', u'_enable_profiler': u'false', u'normalize_label': u'auto', u'_num_gpus': u'auto', u'balance_multiclass_weights': u'false', u'positive_example_weight_mult': u'1.0', u'l1': u'auto', u'margin': u'1.0'}\u001b[0m\n",
      "\u001b[31m[11/28/2019 22:08:06 WARNING 140085482997568] Loggers have already been setup.\u001b[0m\n",
      "\u001b[31mProcess 1 is a worker.\u001b[0m\n",
      "\u001b[31m[11/28/2019 22:08:06 INFO 140085482997568] Using default worker.\u001b[0m\n",
      "\u001b[31m[2019-11-28 22:08:07.030] [tensorio] [info] epoch_stats={\"data_pipeline\": \"/opt/ml/input/data/train\", \"epoch\": 0, \"duration\": 16, \"num_examples\": 1, \"num_bytes\": 56000}\u001b[0m\n",
      "\u001b[31m[11/28/2019 22:08:07 INFO 140085482997568] Create Store: local\u001b[0m\n",
      "\u001b[31m[2019-11-28 22:08:07.054] [tensorio] [info] epoch_stats={\"data_pipeline\": \"/opt/ml/input/data/train\", \"epoch\": 1, \"duration\": 22, \"num_examples\": 3, \"num_bytes\": 112672}\u001b[0m\n",
      "\u001b[31m[11/28/2019 22:08:07 INFO 140085482997568] Scaler algorithm parameters\n",
      " <algorithm.scaler.ScalerAlgorithmStable object at 0x7f67d3d981d0>\u001b[0m\n",
      "\u001b[31m[11/28/2019 22:08:07 INFO 140085482997568] Scaling model computed with parameters:\n",
      " {'stdev_weight': \u001b[0m\n",
      "\u001b[31m[5.7735022e+02 2.0433868e-01 9.6747473e-02]\u001b[0m\n",
      "\u001b[31m<NDArray 3 @cpu(0)>, 'stdev_label': \u001b[0m\n",
      "\u001b[31m[0.20279528]\u001b[0m\n",
      "\u001b[31m<NDArray 1 @cpu(0)>, 'mean_label': \u001b[0m\n",
      "\u001b[31m[0.26820627]\u001b[0m\n",
      "\u001b[31m<NDArray 1 @cpu(0)>, 'mean_weight': \u001b[0m\n",
      "\u001b[31m[9.9950000e+02 2.6933470e-01 1.1443968e-01]\u001b[0m\n",
      "\u001b[31m<NDArray 3 @cpu(0)>}\u001b[0m\n",
      "\u001b[31m[11/28/2019 22:08:07 INFO 140085482997568] nvidia-smi took: 0.0252578258514 secs to identify 0 gpus\u001b[0m\n",
      "\u001b[31m[11/28/2019 22:08:07 INFO 140085482997568] Number of GPUs being used: 0\u001b[0m\n",
      "\u001b[31m#metrics {\"Metrics\": {\"Max Batches Seen Between Resets\": {\"count\": 1, \"max\": 3, \"sum\": 3.0, \"min\": 3}, \"Number of Batches Since Last Reset\": {\"count\": 1, \"max\": 0, \"sum\": 0.0, \"min\": 0}, \"Number of Records Since Last Reset\": {\"count\": 1, \"max\": 0, \"sum\": 0.0, \"min\": 0}, \"Total Batches Seen\": {\"count\": 1, \"max\": 4, \"sum\": 4.0, \"min\": 4}, \"Total Records Seen\": {\"count\": 1, \"max\": 3012, \"sum\": 3012.0, \"min\": 3012}, \"Max Records Seen Between Resets\": {\"count\": 1, \"max\": 2012, \"sum\": 2012.0, \"min\": 2012}, \"Reset Count\": {\"count\": 1, \"max\": 2, \"sum\": 2.0, \"min\": 2}}, \"EndTime\": 1574978887.152457, \"Dimensions\": {\"Host\": \"algo-1\", \"Meta\": \"init_train_data_iter\", \"Operation\": \"training\", \"Algorithm\": \"Linear Learner\"}, \"StartTime\": 1574978887.152399}\n",
      "\u001b[0m\n",
      "\u001b[31m[2019-11-28 22:08:07.204] [tensorio] [info] epoch_stats={\"data_pipeline\": \"/opt/ml/input/data/train\", \"epoch\": 4, \"duration\": 52, \"num_examples\": 3, \"num_bytes\": 112672}\u001b[0m\n",
      "\u001b[31m#metrics {\"Metrics\": {\"train_mse_objective\": {\"count\": 1, \"max\": 1.0265387878417969, \"sum\": 1.0265387878417969, \"min\": 1.0265387878417969}}, \"EndTime\": 1574978887.205036, \"Dimensions\": {\"model\": 0, \"Host\": \"algo-1\", \"Operation\": \"training\", \"Algorithm\": \"Linear Learner\", \"epoch\": 0}, \"StartTime\": 1574978887.204964}\n",
      "\u001b[0m\n",
      "\u001b[31m#metrics {\"Metrics\": {\"train_mse_objective\": {\"count\": 1, \"max\": 1.0501627502441406, \"sum\": 1.0501627502441406, \"min\": 1.0501627502441406}}, \"EndTime\": 1574978887.205116, \"Dimensions\": {\"model\": 1, \"Host\": \"algo-1\", \"Operation\": \"training\", \"Algorithm\": \"Linear Learner\", \"epoch\": 0}, \"StartTime\": 1574978887.205101}\n",
      "\u001b[0m\n",
      "\u001b[31m#metrics {\"Metrics\": {\"train_mse_objective\": {\"count\": 1, \"max\": 1.038024200439453, \"sum\": 1.038024200439453, \"min\": 1.038024200439453}}, \"EndTime\": 1574978887.205164, \"Dimensions\": {\"model\": 2, \"Host\": \"algo-1\", \"Operation\": \"training\", \"Algorithm\": \"Linear Learner\", \"epoch\": 0}, \"StartTime\": 1574978887.205153}\n",
      "\u001b[0m\n",
      "\u001b[31m#metrics {\"Metrics\": {\"train_mse_objective\": {\"count\": 1, \"max\": 1.0040609130859375, \"sum\": 1.0040609130859375, \"min\": 1.0040609130859375}}, \"EndTime\": 1574978887.205206, \"Dimensions\": {\"model\": 3, \"Host\": \"algo-1\", \"Operation\": \"training\", \"Algorithm\": \"Linear Learner\", \"epoch\": 0}, \"StartTime\": 1574978887.205196}\n",
      "\u001b[0m\n",
      "\u001b[31m#metrics {\"Metrics\": {\"train_mse_objective\": {\"count\": 1, \"max\": 1.8100335693359375, \"sum\": 1.8100335693359375, \"min\": 1.8100335693359375}}, \"EndTime\": 1574978887.205245, \"Dimensions\": {\"model\": 4, \"Host\": \"algo-1\", \"Operation\": \"training\", \"Algorithm\": \"Linear Learner\", \"epoch\": 0}, \"StartTime\": 1574978887.205236}\n",
      "\u001b[0m\n",
      "\u001b[31m#metrics {\"Metrics\": {\"train_mse_objective\": {\"count\": 1, \"max\": 1.9610045776367186, \"sum\": 1.9610045776367186, \"min\": 1.9610045776367186}}, \"EndTime\": 1574978887.205283, \"Dimensions\": {\"model\": 5, \"Host\": \"algo-1\", \"Operation\": \"training\", \"Algorithm\": \"Linear Learner\", \"epoch\": 0}, \"StartTime\": 1574978887.205273}\n",
      "\u001b[0m\n",
      "\u001b[31m#metrics {\"Metrics\": {\"train_mse_objective\": {\"count\": 1, \"max\": 1.8663946533203124, \"sum\": 1.8663946533203124, \"min\": 1.8663946533203124}}, \"EndTime\": 1574978887.20532, \"Dimensions\": {\"model\": 6, \"Host\": \"algo-1\", \"Operation\": \"training\", \"Algorithm\": \"Linear Learner\", \"epoch\": 0}, \"StartTime\": 1574978887.20531}\n",
      "\u001b[0m\n",
      "\u001b[31m#metrics {\"Metrics\": {\"train_mse_objective\": {\"count\": 1, \"max\": 1.7001332092285155, \"sum\": 1.7001332092285155, \"min\": 1.7001332092285155}}, \"EndTime\": 1574978887.205357, \"Dimensions\": {\"model\": 7, \"Host\": \"algo-1\", \"Operation\": \"training\", \"Algorithm\": \"Linear Learner\", \"epoch\": 0}, \"StartTime\": 1574978887.205347}\n",
      "\u001b[0m\n",
      "\u001b[31m#metrics {\"Metrics\": {\"train_mse_objective\": {\"count\": 1, \"max\": 1.0300014343261719, \"sum\": 1.0300014343261719, \"min\": 1.0300014343261719}}, \"EndTime\": 1574978887.205393, \"Dimensions\": {\"model\": 8, \"Host\": \"algo-1\", \"Operation\": \"training\", \"Algorithm\": \"Linear Learner\", \"epoch\": 0}, \"StartTime\": 1574978887.205384}\n",
      "\u001b[0m\n",
      "\u001b[31m#metrics {\"Metrics\": {\"train_mse_objective\": {\"count\": 1, \"max\": 1.224799560546875, \"sum\": 1.224799560546875, \"min\": 1.224799560546875}}, \"EndTime\": 1574978887.205437, \"Dimensions\": {\"model\": 9, \"Host\": \"algo-1\", \"Operation\": \"training\", \"Algorithm\": \"Linear Learner\", \"epoch\": 0}, \"StartTime\": 1574978887.205426}\n",
      "\u001b[0m\n",
      "\u001b[31m#metrics {\"Metrics\": {\"train_mse_objective\": {\"count\": 1, \"max\": 0.96894091796875, \"sum\": 0.96894091796875, \"min\": 0.96894091796875}}, \"EndTime\": 1574978887.205476, \"Dimensions\": {\"model\": 10, \"Host\": \"algo-1\", \"Operation\": \"training\", \"Algorithm\": \"Linear Learner\", \"epoch\": 0}, \"StartTime\": 1574978887.205466}\n",
      "\u001b[0m\n",
      "\u001b[31m#metrics {\"Metrics\": {\"train_mse_objective\": {\"count\": 1, \"max\": 0.9101536865234375, \"sum\": 0.9101536865234375, \"min\": 0.9101536865234375}}, \"EndTime\": 1574978887.205513, \"Dimensions\": {\"model\": 11, \"Host\": \"algo-1\", \"Operation\": \"training\", \"Algorithm\": \"Linear Learner\", \"epoch\": 0}, \"StartTime\": 1574978887.205504}\n",
      "\u001b[0m\n",
      "\u001b[31m#metrics {\"Metrics\": {\"train_mse_objective\": {\"count\": 1, \"max\": 1.7664315185546875, \"sum\": 1.7664315185546875, \"min\": 1.7664315185546875}}, \"EndTime\": 1574978887.205551, \"Dimensions\": {\"model\": 12, \"Host\": \"algo-1\", \"Operation\": \"training\", \"Algorithm\": \"Linear Learner\", \"epoch\": 0}, \"StartTime\": 1574978887.205541}\n",
      "\u001b[0m\n",
      "\u001b[31m#metrics {\"Metrics\": {\"train_mse_objective\": {\"count\": 1, \"max\": 2.0749576721191407, \"sum\": 2.0749576721191407, \"min\": 2.0749576721191407}}, \"EndTime\": 1574978887.205587, \"Dimensions\": {\"model\": 13, \"Host\": \"algo-1\", \"Operation\": \"training\", \"Algorithm\": \"Linear Learner\", \"epoch\": 0}, \"StartTime\": 1574978887.205578}\n",
      "\u001b[0m\n",
      "\u001b[31m#metrics {\"Metrics\": {\"train_mse_objective\": {\"count\": 1, \"max\": 1.8254862060546875, \"sum\": 1.8254862060546875, \"min\": 1.8254862060546875}}, \"EndTime\": 1574978887.205624, \"Dimensions\": {\"model\": 14, \"Host\": \"algo-1\", \"Operation\": \"training\", \"Algorithm\": \"Linear Learner\", \"epoch\": 0}, \"StartTime\": 1574978887.205614}\n",
      "\u001b[0m\n",
      "\u001b[31m#metrics {\"Metrics\": {\"train_mse_objective\": {\"count\": 1, \"max\": 2.002947967529297, \"sum\": 2.002947967529297, \"min\": 2.002947967529297}}, \"EndTime\": 1574978887.205661, \"Dimensions\": {\"model\": 15, \"Host\": \"algo-1\", \"Operation\": \"training\", \"Algorithm\": \"Linear Learner\", \"epoch\": 0}, \"StartTime\": 1574978887.205651}\n",
      "\u001b[0m\n",
      "\u001b[31m#metrics {\"Metrics\": {\"train_mse_objective\": {\"count\": 1, \"max\": 0.9357413330078125, \"sum\": 0.9357413330078125, \"min\": 0.9357413330078125}}, \"EndTime\": 1574978887.205697, \"Dimensions\": {\"model\": 16, \"Host\": \"algo-1\", \"Operation\": \"training\", \"Algorithm\": \"Linear Learner\", \"epoch\": 0}, \"StartTime\": 1574978887.205688}\n",
      "\u001b[0m\n",
      "\u001b[31m#metrics {\"Metrics\": {\"train_mse_objective\": {\"count\": 1, \"max\": 1.1164020690917968, \"sum\": 1.1164020690917968, \"min\": 1.1164020690917968}}, \"EndTime\": 1574978887.205734, \"Dimensions\": {\"model\": 17, \"Host\": \"algo-1\", \"Operation\": \"training\", \"Algorithm\": \"Linear Learner\", \"epoch\": 0}, \"StartTime\": 1574978887.205724}\n",
      "\u001b[0m\n",
      "\u001b[31m#metrics {\"Metrics\": {\"train_mse_objective\": {\"count\": 1, \"max\": 1.033782470703125, \"sum\": 1.033782470703125, \"min\": 1.033782470703125}}, \"EndTime\": 1574978887.20577, \"Dimensions\": {\"model\": 18, \"Host\": \"algo-1\", \"Operation\": \"training\", \"Algorithm\": \"Linear Learner\", \"epoch\": 0}, \"StartTime\": 1574978887.205761}\n",
      "\u001b[0m\n",
      "\u001b[31m#metrics {\"Metrics\": {\"train_mse_objective\": {\"count\": 1, \"max\": 1.0235152587890626, \"sum\": 1.0235152587890626, \"min\": 1.0235152587890626}}, \"EndTime\": 1574978887.205808, \"Dimensions\": {\"model\": 19, \"Host\": \"algo-1\", \"Operation\": \"training\", \"Algorithm\": \"Linear Learner\", \"epoch\": 0}, \"StartTime\": 1574978887.205799}\n",
      "\u001b[0m\n",
      "\u001b[31m#metrics {\"Metrics\": {\"train_mse_objective\": {\"count\": 1, \"max\": 2.0037376708984374, \"sum\": 2.0037376708984374, \"min\": 2.0037376708984374}}, \"EndTime\": 1574978887.205848, \"Dimensions\": {\"model\": 20, \"Host\": \"algo-1\", \"Operation\": \"training\", \"Algorithm\": \"Linear Learner\", \"epoch\": 0}, \"StartTime\": 1574978887.205838}\n",
      "\u001b[0m\n",
      "\u001b[31m#metrics {\"Metrics\": {\"train_mse_objective\": {\"count\": 1, \"max\": 1.5910431518554689, \"sum\": 1.5910431518554689, \"min\": 1.5910431518554689}}, \"EndTime\": 1574978887.205885, \"Dimensions\": {\"model\": 21, \"Host\": \"algo-1\", \"Operation\": \"training\", \"Algorithm\": \"Linear Learner\", \"epoch\": 0}, \"StartTime\": 1574978887.205876}\n",
      "\u001b[0m\n",
      "\u001b[31m#metrics {\"Metrics\": {\"train_mse_objective\": {\"count\": 1, \"max\": 1.6707156372070313, \"sum\": 1.6707156372070313, \"min\": 1.6707156372070313}}, \"EndTime\": 1574978887.205924, \"Dimensions\": {\"model\": 22, \"Host\": \"algo-1\", \"Operation\": \"training\", \"Algorithm\": \"Linear Learner\", \"epoch\": 0}, \"StartTime\": 1574978887.205914}\n",
      "\u001b[0m\n",
      "\u001b[31m#metrics {\"Metrics\": {\"train_mse_objective\": {\"count\": 1, \"max\": 1.818259002685547, \"sum\": 1.818259002685547, \"min\": 1.818259002685547}}, \"EndTime\": 1574978887.205963, \"Dimensions\": {\"model\": 23, \"Host\": \"algo-1\", \"Operation\": \"training\", \"Algorithm\": \"Linear Learner\", \"epoch\": 0}, \"StartTime\": 1574978887.205953}\n",
      "\u001b[0m\n",
      "\u001b[31m#metrics {\"Metrics\": {\"train_mse_objective\": {\"count\": 1, \"max\": 1.1084506225585937, \"sum\": 1.1084506225585937, \"min\": 1.1084506225585937}}, \"EndTime\": 1574978887.206, \"Dimensions\": {\"model\": 24, \"Host\": \"algo-1\", \"Operation\": \"training\", \"Algorithm\": \"Linear Learner\", \"epoch\": 0}, \"StartTime\": 1574978887.205991}\n",
      "\u001b[0m\n",
      "\u001b[31m#metrics {\"Metrics\": {\"train_mse_objective\": {\"count\": 1, \"max\": 1.1281121520996094, \"sum\": 1.1281121520996094, \"min\": 1.1281121520996094}}, \"EndTime\": 1574978887.206039, \"Dimensions\": {\"model\": 25, \"Host\": \"algo-1\", \"Operation\": \"training\", \"Algorithm\": \"Linear Learner\", \"epoch\": 0}, \"StartTime\": 1574978887.206029}\n",
      "\u001b[0m\n",
      "\u001b[31m#metrics {\"Metrics\": {\"train_mse_objective\": {\"count\": 1, \"max\": 0.8690702819824219, \"sum\": 0.8690702819824219, \"min\": 0.8690702819824219}}, \"EndTime\": 1574978887.206079, \"Dimensions\": {\"model\": 26, \"Host\": \"algo-1\", \"Operation\": \"training\", \"Algorithm\": \"Linear Learner\", \"epoch\": 0}, \"StartTime\": 1574978887.206069}\n",
      "\u001b[0m\n",
      "\u001b[31m#metrics {\"Metrics\": {\"train_mse_objective\": {\"count\": 1, \"max\": 1.1612694702148438, \"sum\": 1.1612694702148438, \"min\": 1.1612694702148438}}, \"EndTime\": 1574978887.206118, \"Dimensions\": {\"model\": 27, \"Host\": \"algo-1\", \"Operation\": \"training\", \"Algorithm\": \"Linear Learner\", \"epoch\": 0}, \"StartTime\": 1574978887.206108}\n",
      "\u001b[0m\n",
      "\u001b[31m#metrics {\"Metrics\": {\"train_mse_objective\": {\"count\": 1, \"max\": 2.154052947998047, \"sum\": 2.154052947998047, \"min\": 2.154052947998047}}, \"EndTime\": 1574978887.206155, \"Dimensions\": {\"model\": 28, \"Host\": \"algo-1\", \"Operation\": \"training\", \"Algorithm\": \"Linear Learner\", \"epoch\": 0}, \"StartTime\": 1574978887.206145}\n",
      "\u001b[0m\n",
      "\u001b[31m#metrics {\"Metrics\": {\"train_mse_objective\": {\"count\": 1, \"max\": 2.3291736145019533, \"sum\": 2.3291736145019533, \"min\": 2.3291736145019533}}, \"EndTime\": 1574978887.206191, \"Dimensions\": {\"model\": 29, \"Host\": \"algo-1\", \"Operation\": \"training\", \"Algorithm\": \"Linear Learner\", \"epoch\": 0}, \"StartTime\": 1574978887.206181}\n",
      "\u001b[0m\n",
      "\u001b[31m#metrics {\"Metrics\": {\"train_mse_objective\": {\"count\": 1, \"max\": 2.4324453125, \"sum\": 2.4324453125, \"min\": 2.4324453125}}, \"EndTime\": 1574978887.206228, \"Dimensions\": {\"model\": 30, \"Host\": \"algo-1\", \"Operation\": \"training\", \"Algorithm\": \"Linear Learner\", \"epoch\": 0}, \"StartTime\": 1574978887.206218}\n",
      "\u001b[0m\n",
      "\u001b[31m#metrics {\"Metrics\": {\"train_mse_objective\": {\"count\": 1, \"max\": 2.3315895385742187, \"sum\": 2.3315895385742187, \"min\": 2.3315895385742187}}, \"EndTime\": 1574978887.206264, \"Dimensions\": {\"model\": 31, \"Host\": \"algo-1\", \"Operation\": \"training\", \"Algorithm\": \"Linear Learner\", \"epoch\": 0}, \"StartTime\": 1574978887.206254}\n",
      "\u001b[0m\n",
      "\u001b[31m[11/28/2019 22:08:07 INFO 140085482997568] #quality_metric: host=algo-1, epoch=0, train mse_objective <loss>=1.02653878784\u001b[0m\n",
      "\u001b[31m[11/28/2019 22:08:07 INFO 140085482997568] #early_stopping_criteria_metric: host=algo-1, epoch=0, criteria=mse_objective, value=0.869070281982\u001b[0m\n",
      "\u001b[31m[11/28/2019 22:08:07 INFO 140085482997568] Epoch 0: Loss improved. Updating best model\u001b[0m\n",
      "\u001b[31m[11/28/2019 22:08:07 INFO 140085482997568] #progress_metric: host=algo-1, completed 6 % of epochs\u001b[0m\n",
      "\u001b[31m#metrics {\"Metrics\": {\"Max Batches Seen Between Resets\": {\"count\": 1, \"max\": 3, \"sum\": 3.0, \"min\": 3}, \"Number of Batches Since Last Reset\": {\"count\": 1, \"max\": 3, \"sum\": 3.0, \"min\": 3}, \"Number of Records Since Last Reset\": {\"count\": 1, \"max\": 2012, \"sum\": 2012.0, \"min\": 2012}, \"Total Batches Seen\": {\"count\": 1, \"max\": 7, \"sum\": 7.0, \"min\": 7}, \"Total Records Seen\": {\"count\": 1, \"max\": 5024, \"sum\": 5024.0, \"min\": 5024}, \"Max Records Seen Between Resets\": {\"count\": 1, \"max\": 2012, \"sum\": 2012.0, \"min\": 2012}, \"Reset Count\": {\"count\": 1, \"max\": 3, \"sum\": 3.0, \"min\": 3}}, \"EndTime\": 1574978887.209468, \"Dimensions\": {\"Host\": \"algo-1\", \"Meta\": \"training_data_iter\", \"Operation\": \"training\", \"Algorithm\": \"Linear Learner\", \"epoch\": 0}, \"StartTime\": 1574978887.15269}\n",
      "\u001b[0m\n",
      "\u001b[31m[11/28/2019 22:08:07 INFO 140085482997568] #throughput_metric: host=algo-1, train throughput=35364.7115067 records/second\u001b[0m\n",
      "\u001b[31m[2019-11-28 22:08:07.252] [tensorio] [info] epoch_stats={\"data_pipeline\": \"/opt/ml/input/data/train\", \"epoch\": 6, \"duration\": 42, \"num_examples\": 3, \"num_bytes\": 112672}\u001b[0m\n",
      "\u001b[31m#metrics {\"Metrics\": {\"train_mse_objective\": {\"count\": 1, \"max\": 0.9475018310546875, \"sum\": 0.9475018310546875, \"min\": 0.9475018310546875}}, \"EndTime\": 1574978887.252456, \"Dimensions\": {\"model\": 0, \"Host\": \"algo-1\", \"Operation\": \"training\", \"Algorithm\": \"Linear Learner\", \"epoch\": 1}, \"StartTime\": 1574978887.252393}\n",
      "\u001b[0m\n",
      "\u001b[31m#metrics {\"Metrics\": {\"train_mse_objective\": {\"count\": 1, \"max\": 0.9696110534667969, \"sum\": 0.9696110534667969, \"min\": 0.9696110534667969}}, \"EndTime\": 1574978887.252518, \"Dimensions\": {\"model\": 1, \"Host\": \"algo-1\", \"Operation\": \"training\", \"Algorithm\": \"Linear Learner\", \"epoch\": 1}, \"StartTime\": 1574978887.252505}\n",
      "\u001b[0m\n",
      "\u001b[31m#metrics {\"Metrics\": {\"train_mse_objective\": {\"count\": 1, \"max\": 0.9603593444824219, \"sum\": 0.9603593444824219, \"min\": 0.9603593444824219}}, \"EndTime\": 1574978887.252565, \"Dimensions\": {\"model\": 2, \"Host\": \"algo-1\", \"Operation\": \"training\", \"Algorithm\": \"Linear Learner\", \"epoch\": 1}, \"StartTime\": 1574978887.252553}\n",
      "\u001b[0m\n",
      "\u001b[31m#metrics {\"Metrics\": {\"train_mse_objective\": {\"count\": 1, \"max\": 0.9254289245605469, \"sum\": 0.9254289245605469, \"min\": 0.9254289245605469}}, \"EndTime\": 1574978887.252605, \"Dimensions\": {\"model\": 3, \"Host\": \"algo-1\", \"Operation\": \"training\", \"Algorithm\": \"Linear Learner\", \"epoch\": 1}, \"StartTime\": 1574978887.252595}\n",
      "\u001b[0m\n",
      "\u001b[31m#metrics {\"Metrics\": {\"train_mse_objective\": {\"count\": 1, \"max\": 0.2655887222290039, \"sum\": 0.2655887222290039, \"min\": 0.2655887222290039}}, \"EndTime\": 1574978887.252644, \"Dimensions\": {\"model\": 4, \"Host\": \"algo-1\", \"Operation\": \"training\", \"Algorithm\": \"Linear Learner\", \"epoch\": 1}, \"StartTime\": 1574978887.252634}\n",
      "\u001b[0m\n",
      "\u001b[31m#metrics {\"Metrics\": {\"train_mse_objective\": {\"count\": 1, \"max\": 0.28837661361694333, \"sum\": 0.28837661361694333, \"min\": 0.28837661361694333}}, \"EndTime\": 1574978887.252681, \"Dimensions\": {\"model\": 5, \"Host\": \"algo-1\", \"Operation\": \"training\", \"Algorithm\": \"Linear Learner\", \"epoch\": 1}, \"StartTime\": 1574978887.252671}\n",
      "\u001b[0m\n",
      "\u001b[31m#metrics {\"Metrics\": {\"train_mse_objective\": {\"count\": 1, \"max\": 0.29900797271728513, \"sum\": 0.29900797271728513, \"min\": 0.29900797271728513}}, \"EndTime\": 1574978887.252719, \"Dimensions\": {\"model\": 6, \"Host\": \"algo-1\", \"Operation\": \"training\", \"Algorithm\": \"Linear Learner\", \"epoch\": 1}, \"StartTime\": 1574978887.25271}\n",
      "\u001b[0m\n",
      "\u001b[31m#metrics {\"Metrics\": {\"train_mse_objective\": {\"count\": 1, \"max\": 0.2236043472290039, \"sum\": 0.2236043472290039, \"min\": 0.2236043472290039}}, \"EndTime\": 1574978887.252756, \"Dimensions\": {\"model\": 7, \"Host\": \"algo-1\", \"Operation\": \"training\", \"Algorithm\": \"Linear Learner\", \"epoch\": 1}, \"StartTime\": 1574978887.252747}\n",
      "\u001b[0m\n",
      "\u001b[31m#metrics {\"Metrics\": {\"train_mse_objective\": {\"count\": 1, \"max\": 0.9521590881347656, \"sum\": 0.9521590881347656, \"min\": 0.9521590881347656}}, \"EndTime\": 1574978887.252793, \"Dimensions\": {\"model\": 8, \"Host\": \"algo-1\", \"Operation\": \"training\", \"Algorithm\": \"Linear Learner\", \"epoch\": 1}, \"StartTime\": 1574978887.252783}\n",
      "\u001b[0m\n",
      "\u001b[31m#metrics {\"Metrics\": {\"train_mse_objective\": {\"count\": 1, \"max\": 1.138168182373047, \"sum\": 1.138168182373047, \"min\": 1.138168182373047}}, \"EndTime\": 1574978887.252829, \"Dimensions\": {\"model\": 9, \"Host\": \"algo-1\", \"Operation\": \"training\", \"Algorithm\": \"Linear Learner\", \"epoch\": 1}, \"StartTime\": 1574978887.252819}\n",
      "\u001b[0m\n",
      "\u001b[31m#metrics {\"Metrics\": {\"train_mse_objective\": {\"count\": 1, \"max\": 0.8920568542480469, \"sum\": 0.8920568542480469, \"min\": 0.8920568542480469}}, \"EndTime\": 1574978887.252866, \"Dimensions\": {\"model\": 10, \"Host\": \"algo-1\", \"Operation\": \"training\", \"Algorithm\": \"Linear Learner\", \"epoch\": 1}, \"StartTime\": 1574978887.252856}\n",
      "\u001b[0m\n",
      "\u001b[31m#metrics {\"Metrics\": {\"train_mse_objective\": {\"count\": 1, \"max\": 0.8364892578125, \"sum\": 0.8364892578125, \"min\": 0.8364892578125}}, \"EndTime\": 1574978887.252902, \"Dimensions\": {\"model\": 11, \"Host\": \"algo-1\", \"Operation\": \"training\", \"Algorithm\": \"Linear Learner\", \"epoch\": 1}, \"StartTime\": 1574978887.252892}\n",
      "\u001b[0m\n",
      "\u001b[31m#metrics {\"Metrics\": {\"train_mse_objective\": {\"count\": 1, \"max\": 0.2510928726196289, \"sum\": 0.2510928726196289, \"min\": 0.2510928726196289}}, \"EndTime\": 1574978887.252938, \"Dimensions\": {\"model\": 12, \"Host\": \"algo-1\", \"Operation\": \"training\", \"Algorithm\": \"Linear Learner\", \"epoch\": 1}, \"StartTime\": 1574978887.252929}\n",
      "\u001b[0m\n",
      "\u001b[31m#metrics {\"Metrics\": {\"train_mse_objective\": {\"count\": 1, \"max\": 0.32749985122680664, \"sum\": 0.32749985122680664, \"min\": 0.32749985122680664}}, \"EndTime\": 1574978887.252975, \"Dimensions\": {\"model\": 13, \"Host\": \"algo-1\", \"Operation\": \"training\", \"Algorithm\": \"Linear Learner\", \"epoch\": 1}, \"StartTime\": 1574978887.252966}\n",
      "\u001b[0m\n",
      "\u001b[31m#metrics {\"Metrics\": {\"train_mse_objective\": {\"count\": 1, \"max\": 0.2687133026123047, \"sum\": 0.2687133026123047, \"min\": 0.2687133026123047}}, \"EndTime\": 1574978887.253012, \"Dimensions\": {\"model\": 14, \"Host\": \"algo-1\", \"Operation\": \"training\", \"Algorithm\": \"Linear Learner\", \"epoch\": 1}, \"StartTime\": 1574978887.253002}\n",
      "\u001b[0m\n",
      "\u001b[31m#metrics {\"Metrics\": {\"train_mse_objective\": {\"count\": 1, \"max\": 0.305458854675293, \"sum\": 0.305458854675293, \"min\": 0.305458854675293}}, \"EndTime\": 1574978887.253048, \"Dimensions\": {\"model\": 15, \"Host\": \"algo-1\", \"Operation\": \"training\", \"Algorithm\": \"Linear Learner\", \"epoch\": 1}, \"StartTime\": 1574978887.253039}\n",
      "\u001b[0m\n",
      "\u001b[31m#metrics {\"Metrics\": {\"train_mse_objective\": {\"count\": 1, \"max\": 0.8610618286132813, \"sum\": 0.8610618286132813, \"min\": 0.8610618286132813}}, \"EndTime\": 1574978887.253084, \"Dimensions\": {\"model\": 16, \"Host\": \"algo-1\", \"Operation\": \"training\", \"Algorithm\": \"Linear Learner\", \"epoch\": 1}, \"StartTime\": 1574978887.253075}\n",
      "\u001b[0m\n",
      "\u001b[31m#metrics {\"Metrics\": {\"train_mse_objective\": {\"count\": 1, \"max\": 1.0334955749511718, \"sum\": 1.0334955749511718, \"min\": 1.0334955749511718}}, \"EndTime\": 1574978887.25312, \"Dimensions\": {\"model\": 17, \"Host\": \"algo-1\", \"Operation\": \"training\", \"Algorithm\": \"Linear Learner\", \"epoch\": 1}, \"StartTime\": 1574978887.253111}\n",
      "\u001b[0m\n",
      "\u001b[31m#metrics {\"Metrics\": {\"train_mse_objective\": {\"count\": 1, \"max\": 0.9555413513183594, \"sum\": 0.9555413513183594, \"min\": 0.9555413513183594}}, \"EndTime\": 1574978887.253157, \"Dimensions\": {\"model\": 18, \"Host\": \"algo-1\", \"Operation\": \"training\", \"Algorithm\": \"Linear Learner\", \"epoch\": 1}, \"StartTime\": 1574978887.253147}\n",
      "\u001b[0m\n",
      "\u001b[31m#metrics {\"Metrics\": {\"train_mse_objective\": {\"count\": 1, \"max\": 0.946145263671875, \"sum\": 0.946145263671875, \"min\": 0.946145263671875}}, \"EndTime\": 1574978887.253193, \"Dimensions\": {\"model\": 19, \"Host\": \"algo-1\", \"Operation\": \"training\", \"Algorithm\": \"Linear Learner\", \"epoch\": 1}, \"StartTime\": 1574978887.253183}\n",
      "\u001b[0m\n",
      "\u001b[31m#metrics {\"Metrics\": {\"train_mse_objective\": {\"count\": 1, \"max\": 0.31870916748046874, \"sum\": 0.31870916748046874, \"min\": 0.31870916748046874}}, \"EndTime\": 1574978887.253229, \"Dimensions\": {\"model\": 20, \"Host\": \"algo-1\", \"Operation\": \"training\", \"Algorithm\": \"Linear Learner\", \"epoch\": 1}, \"StartTime\": 1574978887.253219}\n",
      "\u001b[0m\n",
      "\u001b[31m#metrics {\"Metrics\": {\"train_mse_objective\": {\"count\": 1, \"max\": 0.22128024291992188, \"sum\": 0.22128024291992188, \"min\": 0.22128024291992188}}, \"EndTime\": 1574978887.253265, \"Dimensions\": {\"model\": 21, \"Host\": \"algo-1\", \"Operation\": \"training\", \"Algorithm\": \"Linear Learner\", \"epoch\": 1}, \"StartTime\": 1574978887.253256}\n",
      "\u001b[0m\n",
      "\u001b[31m#metrics {\"Metrics\": {\"train_mse_objective\": {\"count\": 1, \"max\": 0.23979386138916015, \"sum\": 0.23979386138916015, \"min\": 0.23979386138916015}}, \"EndTime\": 1574978887.253302, \"Dimensions\": {\"model\": 22, \"Host\": \"algo-1\", \"Operation\": \"training\", \"Algorithm\": \"Linear Learner\", \"epoch\": 1}, \"StartTime\": 1574978887.253292}\n",
      "\u001b[0m\n",
      "\u001b[31m#metrics {\"Metrics\": {\"train_mse_objective\": {\"count\": 1, \"max\": 0.2664278259277344, \"sum\": 0.2664278259277344, \"min\": 0.2664278259277344}}, \"EndTime\": 1574978887.253338, \"Dimensions\": {\"model\": 23, \"Host\": \"algo-1\", \"Operation\": \"training\", \"Algorithm\": \"Linear Learner\", \"epoch\": 1}, \"StartTime\": 1574978887.253329}\n",
      "\u001b[0m\n",
      "\u001b[31m#metrics {\"Metrics\": {\"train_mse_objective\": {\"count\": 1, \"max\": 1.0665925598144532, \"sum\": 1.0665925598144532, \"min\": 1.0665925598144532}}, \"EndTime\": 1574978887.253374, \"Dimensions\": {\"model\": 24, \"Host\": \"algo-1\", \"Operation\": \"training\", \"Algorithm\": \"Linear Learner\", \"epoch\": 1}, \"StartTime\": 1574978887.253365}\n",
      "\u001b[0m\n",
      "\u001b[31m#metrics {\"Metrics\": {\"train_mse_objective\": {\"count\": 1, \"max\": 1.0651823425292968, \"sum\": 1.0651823425292968, \"min\": 1.0651823425292968}}, \"EndTime\": 1574978887.25341, \"Dimensions\": {\"model\": 25, \"Host\": \"algo-1\", \"Operation\": \"training\", \"Algorithm\": \"Linear Learner\", \"epoch\": 1}, \"StartTime\": 1574978887.253401}\n",
      "\u001b[0m\n",
      "\u001b[31m#metrics {\"Metrics\": {\"train_mse_objective\": {\"count\": 1, \"max\": 0.8696452331542969, \"sum\": 0.8696452331542969, \"min\": 0.8696452331542969}}, \"EndTime\": 1574978887.253446, \"Dimensions\": {\"model\": 26, \"Host\": \"algo-1\", \"Operation\": \"training\", \"Algorithm\": \"Linear Learner\", \"epoch\": 1}, \"StartTime\": 1574978887.253437}\n",
      "\u001b[0m\n",
      "\u001b[31m#metrics {\"Metrics\": {\"train_mse_objective\": {\"count\": 1, \"max\": 1.0883585815429688, \"sum\": 1.0883585815429688, \"min\": 1.0883585815429688}}, \"EndTime\": 1574978887.253482, \"Dimensions\": {\"model\": 27, \"Host\": \"algo-1\", \"Operation\": \"training\", \"Algorithm\": \"Linear Learner\", \"epoch\": 1}, \"StartTime\": 1574978887.253473}\n",
      "\u001b[0m\n",
      "\u001b[31m#metrics {\"Metrics\": {\"train_mse_objective\": {\"count\": 1, \"max\": 1.0349577484130859, \"sum\": 1.0349577484130859, \"min\": 1.0349577484130859}}, \"EndTime\": 1574978887.253518, \"Dimensions\": {\"model\": 28, \"Host\": \"algo-1\", \"Operation\": \"training\", \"Algorithm\": \"Linear Learner\", \"epoch\": 1}, \"StartTime\": 1574978887.253509}\n",
      "\u001b[0m\n",
      "\u001b[31m#metrics {\"Metrics\": {\"train_mse_objective\": {\"count\": 1, \"max\": 1.0108247756958009, \"sum\": 1.0108247756958009, \"min\": 1.0108247756958009}}, \"EndTime\": 1574978887.253554, \"Dimensions\": {\"model\": 29, \"Host\": \"algo-1\", \"Operation\": \"training\", \"Algorithm\": \"Linear Learner\", \"epoch\": 1}, \"StartTime\": 1574978887.253544}\n",
      "\u001b[0m\n",
      "\u001b[31m#metrics {\"Metrics\": {\"train_mse_objective\": {\"count\": 1, \"max\": 0.963752799987793, \"sum\": 0.963752799987793, \"min\": 0.963752799987793}}, \"EndTime\": 1574978887.253589, \"Dimensions\": {\"model\": 30, \"Host\": \"algo-1\", \"Operation\": \"training\", \"Algorithm\": \"Linear Learner\", \"epoch\": 1}, \"StartTime\": 1574978887.25358}\n",
      "\u001b[0m\n",
      "\u001b[31m#metrics {\"Metrics\": {\"train_mse_objective\": {\"count\": 1, \"max\": 0.9788024444580078, \"sum\": 0.9788024444580078, \"min\": 0.9788024444580078}}, \"EndTime\": 1574978887.253625, \"Dimensions\": {\"model\": 31, \"Host\": \"algo-1\", \"Operation\": \"training\", \"Algorithm\": \"Linear Learner\", \"epoch\": 1}, \"StartTime\": 1574978887.253616}\n",
      "\u001b[0m\n",
      "\u001b[31m[11/28/2019 22:08:07 INFO 140085482997568] #quality_metric: host=algo-1, epoch=1, train mse_objective <loss>=0.947501831055\u001b[0m\n",
      "\u001b[31m[11/28/2019 22:08:07 INFO 140085482997568] #early_stopping_criteria_metric: host=algo-1, epoch=1, criteria=mse_objective, value=0.22128024292\u001b[0m\n",
      "\u001b[31m[11/28/2019 22:08:07 INFO 140085482997568] Epoch 1: Loss improved. Updating best model\u001b[0m\n",
      "\u001b[31m[11/28/2019 22:08:07 INFO 140085482997568] #progress_metric: host=algo-1, completed 13 % of epochs\u001b[0m\n",
      "\u001b[31m#metrics {\"Metrics\": {\"Max Batches Seen Between Resets\": {\"count\": 1, \"max\": 3, \"sum\": 3.0, \"min\": 3}, \"Number of Batches Since Last Reset\": {\"count\": 1, \"max\": 3, \"sum\": 3.0, \"min\": 3}, \"Number of Records Since Last Reset\": {\"count\": 1, \"max\": 2012, \"sum\": 2012.0, \"min\": 2012}, \"Total Batches Seen\": {\"count\": 1, \"max\": 10, \"sum\": 10.0, \"min\": 10}, \"Total Records Seen\": {\"count\": 1, \"max\": 7036, \"sum\": 7036.0, \"min\": 7036}, \"Max Records Seen Between Resets\": {\"count\": 1, \"max\": 2012, \"sum\": 2012.0, \"min\": 2012}, \"Reset Count\": {\"count\": 1, \"max\": 4, \"sum\": 4.0, \"min\": 4}}, \"EndTime\": 1574978887.256476, \"Dimensions\": {\"Host\": \"algo-1\", \"Meta\": \"training_data_iter\", \"Operation\": \"training\", \"Algorithm\": \"Linear Learner\", \"epoch\": 1}, \"StartTime\": 1574978887.209687}\n",
      "\u001b[0m\n",
      "\u001b[31m[11/28/2019 22:08:07 INFO 140085482997568] #throughput_metric: host=algo-1, train throughput=42897.1388893 records/second\u001b[0m\n",
      "\u001b[31m[2019-11-28 22:08:07.298] [tensorio] [info] epoch_stats={\"data_pipeline\": \"/opt/ml/input/data/train\", \"epoch\": 8, \"duration\": 42, \"num_examples\": 3, \"num_bytes\": 112672}\u001b[0m\n",
      "\u001b[31m#metrics {\"Metrics\": {\"train_mse_objective\": {\"count\": 1, \"max\": 0.8938231811523437, \"sum\": 0.8938231811523437, \"min\": 0.8938231811523437}}, \"EndTime\": 1574978887.299095, \"Dimensions\": {\"model\": 0, \"Host\": \"algo-1\", \"Operation\": \"training\", \"Algorithm\": \"Linear Learner\", \"epoch\": 2}, \"StartTime\": 1574978887.299022}\n",
      "\u001b[0m\n",
      "\u001b[31m#metrics {\"Metrics\": {\"train_mse_objective\": {\"count\": 1, \"max\": 0.9147546691894531, \"sum\": 0.9147546691894531, \"min\": 0.9147546691894531}}, \"EndTime\": 1574978887.299224, \"Dimensions\": {\"model\": 1, \"Host\": \"algo-1\", \"Operation\": \"training\", \"Algorithm\": \"Linear Learner\", \"epoch\": 2}, \"StartTime\": 1574978887.299207}\n",
      "\u001b[0m\n",
      "\u001b[31m#metrics {\"Metrics\": {\"train_mse_objective\": {\"count\": 1, \"max\": 0.9079605712890625, \"sum\": 0.9079605712890625, \"min\": 0.9079605712890625}}, \"EndTime\": 1574978887.299272, \"Dimensions\": {\"model\": 2, \"Host\": \"algo-1\", \"Operation\": \"training\", \"Algorithm\": \"Linear Learner\", \"epoch\": 2}, \"StartTime\": 1574978887.29926}\n",
      "\u001b[0m\n",
      "\u001b[31m#metrics {\"Metrics\": {\"train_mse_objective\": {\"count\": 1, \"max\": 0.8719503173828125, \"sum\": 0.8719503173828125, \"min\": 0.8719503173828125}}, \"EndTime\": 1574978887.299313, \"Dimensions\": {\"model\": 3, \"Host\": \"algo-1\", \"Operation\": \"training\", \"Algorithm\": \"Linear Learner\", \"epoch\": 2}, \"StartTime\": 1574978887.299303}\n",
      "\u001b[0m\n",
      "\u001b[31m#metrics {\"Metrics\": {\"train_mse_objective\": {\"count\": 1, \"max\": 0.254249885559082, \"sum\": 0.254249885559082, \"min\": 0.254249885559082}}, \"EndTime\": 1574978887.299478, \"Dimensions\": {\"model\": 4, \"Host\": \"algo-1\", \"Operation\": \"training\", \"Algorithm\": \"Linear Learner\", \"epoch\": 2}, \"StartTime\": 1574978887.299461}\n",
      "\u001b[0m\n",
      "\u001b[31m#metrics {\"Metrics\": {\"train_mse_objective\": {\"count\": 1, \"max\": 0.1995435333251953, \"sum\": 0.1995435333251953, \"min\": 0.1995435333251953}}, \"EndTime\": 1574978887.299522, \"Dimensions\": {\"model\": 5, \"Host\": \"algo-1\", \"Operation\": \"training\", \"Algorithm\": \"Linear Learner\", \"epoch\": 2}, \"StartTime\": 1574978887.299511}\n",
      "\u001b[0m\n",
      "\u001b[31m#metrics {\"Metrics\": {\"train_mse_objective\": {\"count\": 1, \"max\": 0.2605705032348633, \"sum\": 0.2605705032348633, \"min\": 0.2605705032348633}}, \"EndTime\": 1574978887.299648, \"Dimensions\": {\"model\": 6, \"Host\": \"algo-1\", \"Operation\": \"training\", \"Algorithm\": \"Linear Learner\", \"epoch\": 2}, \"StartTime\": 1574978887.299631}\n",
      "\u001b[0m\n",
      "\u001b[31m#metrics {\"Metrics\": {\"train_mse_objective\": {\"count\": 1, \"max\": 0.26786688232421874, \"sum\": 0.26786688232421874, \"min\": 0.26786688232421874}}, \"EndTime\": 1574978887.299695, \"Dimensions\": {\"model\": 7, \"Host\": \"algo-1\", \"Operation\": \"training\", \"Algorithm\": \"Linear Learner\", \"epoch\": 2}, \"StartTime\": 1574978887.299684}\n",
      "\u001b[0m\n",
      "\u001b[31m#metrics {\"Metrics\": {\"train_mse_objective\": {\"count\": 1, \"max\": 0.8995517883300781, \"sum\": 0.8995517883300781, \"min\": 0.8995517883300781}}, \"EndTime\": 1574978887.299735, \"Dimensions\": {\"model\": 8, \"Host\": \"algo-1\", \"Operation\": \"training\", \"Algorithm\": \"Linear Learner\", \"epoch\": 2}, \"StartTime\": 1574978887.299725}\n",
      "\u001b[0m\n",
      "\u001b[31m#metrics {\"Metrics\": {\"train_mse_objective\": {\"count\": 1, \"max\": 1.0791046447753907, \"sum\": 1.0791046447753907, \"min\": 1.0791046447753907}}, \"EndTime\": 1574978887.299913, \"Dimensions\": {\"model\": 9, \"Host\": \"algo-1\", \"Operation\": \"training\", \"Algorithm\": \"Linear Learner\", \"epoch\": 2}, \"StartTime\": 1574978887.29985}\n",
      "\u001b[0m\n",
      "\u001b[31m#metrics {\"Metrics\": {\"train_mse_objective\": {\"count\": 1, \"max\": 0.8398529357910156, \"sum\": 0.8398529357910156, \"min\": 0.8398529357910156}}, \"EndTime\": 1574978887.299968, \"Dimensions\": {\"model\": 10, \"Host\": \"algo-1\", \"Operation\": \"training\", \"Algorithm\": \"Linear Learner\", \"epoch\": 2}, \"StartTime\": 1574978887.299953}\n",
      "\u001b[0m\n",
      "\u001b[31m#metrics {\"Metrics\": {\"train_mse_objective\": {\"count\": 1, \"max\": 0.7867279968261719, \"sum\": 0.7867279968261719, \"min\": 0.7867279968261719}}, \"EndTime\": 1574978887.300059, \"Dimensions\": {\"model\": 11, \"Host\": \"algo-1\", \"Operation\": \"training\", \"Algorithm\": \"Linear Learner\", \"epoch\": 2}, \"StartTime\": 1574978887.300005}\n",
      "\u001b[0m\n",
      "\u001b[31m#metrics {\"Metrics\": {\"train_mse_objective\": {\"count\": 1, \"max\": 0.2605068054199219, \"sum\": 0.2605068054199219, \"min\": 0.2605068054199219}}, \"EndTime\": 1574978887.300192, \"Dimensions\": {\"model\": 12, \"Host\": \"algo-1\", \"Operation\": \"training\", \"Algorithm\": \"Linear Learner\", \"epoch\": 2}, \"StartTime\": 1574978887.300177}\n",
      "\u001b[0m\n",
      "\u001b[31m#metrics {\"Metrics\": {\"train_mse_objective\": {\"count\": 1, \"max\": 0.1804724426269531, \"sum\": 0.1804724426269531, \"min\": 0.1804724426269531}}, \"EndTime\": 1574978887.300233, \"Dimensions\": {\"model\": 13, \"Host\": \"algo-1\", \"Operation\": \"training\", \"Algorithm\": \"Linear Learner\", \"epoch\": 2}, \"StartTime\": 1574978887.300222}\n",
      "\u001b[0m\n",
      "\u001b[31m#metrics {\"Metrics\": {\"train_mse_objective\": {\"count\": 1, \"max\": 0.24761888885498046, \"sum\": 0.24761888885498046, \"min\": 0.24761888885498046}}, \"EndTime\": 1574978887.30027, \"Dimensions\": {\"model\": 14, \"Host\": \"algo-1\", \"Operation\": \"training\", \"Algorithm\": \"Linear Learner\", \"epoch\": 2}, \"StartTime\": 1574978887.30026}\n",
      "\u001b[0m\n",
      "\u001b[31m#metrics {\"Metrics\": {\"train_mse_objective\": {\"count\": 1, \"max\": 0.19487342071533204, \"sum\": 0.19487342071533204, \"min\": 0.19487342071533204}}, \"EndTime\": 1574978887.300314, \"Dimensions\": {\"model\": 15, \"Host\": \"algo-1\", \"Operation\": \"training\", \"Algorithm\": \"Linear Learner\", \"epoch\": 2}, \"StartTime\": 1574978887.300301}\n",
      "\u001b[0m\n",
      "\u001b[31m#metrics {\"Metrics\": {\"train_mse_objective\": {\"count\": 1, \"max\": 0.8106343688964843, \"sum\": 0.8106343688964843, \"min\": 0.8106343688964843}}, \"EndTime\": 1574978887.300359, \"Dimensions\": {\"model\": 16, \"Host\": \"algo-1\", \"Operation\": \"training\", \"Algorithm\": \"Linear Learner\", \"epoch\": 2}, \"StartTime\": 1574978887.300347}\n",
      "\u001b[0m\n",
      "\u001b[31m#metrics {\"Metrics\": {\"train_mse_objective\": {\"count\": 1, \"max\": 0.9770360717773438, \"sum\": 0.9770360717773438, \"min\": 0.9770360717773438}}, \"EndTime\": 1574978887.300404, \"Dimensions\": {\"model\": 17, \"Host\": \"algo-1\", \"Operation\": \"training\", \"Algorithm\": \"Linear Learner\", \"epoch\": 2}, \"StartTime\": 1574978887.300391}\n",
      "\u001b[0m\n",
      "\u001b[31m#metrics {\"Metrics\": {\"train_mse_objective\": {\"count\": 1, \"max\": 0.9026433715820312, \"sum\": 0.9026433715820312, \"min\": 0.9026433715820312}}, \"EndTime\": 1574978887.300599, \"Dimensions\": {\"model\": 18, \"Host\": \"algo-1\", \"Operation\": \"training\", \"Algorithm\": \"Linear Learner\", \"epoch\": 2}, \"StartTime\": 1574978887.300515}\n",
      "\u001b[0m\n",
      "\u001b[31m#metrics {\"Metrics\": {\"train_mse_objective\": {\"count\": 1, \"max\": 0.8939962768554688, \"sum\": 0.8939962768554688, \"min\": 0.8939962768554688}}, \"EndTime\": 1574978887.300663, \"Dimensions\": {\"model\": 19, \"Host\": \"algo-1\", \"Operation\": \"training\", \"Algorithm\": \"Linear Learner\", \"epoch\": 2}, \"StartTime\": 1574978887.300645}\n",
      "\u001b[0m\n",
      "\u001b[31m#metrics {\"Metrics\": {\"train_mse_objective\": {\"count\": 1, \"max\": 0.17194001770019532, \"sum\": 0.17194001770019532, \"min\": 0.17194001770019532}}, \"EndTime\": 1574978887.300713, \"Dimensions\": {\"model\": 20, \"Host\": \"algo-1\", \"Operation\": \"training\", \"Algorithm\": \"Linear Learner\", \"epoch\": 2}, \"StartTime\": 1574978887.300702}\n",
      "\u001b[0m\n",
      "\u001b[31m#metrics {\"Metrics\": {\"train_mse_objective\": {\"count\": 1, \"max\": 0.2375663299560547, \"sum\": 0.2375663299560547, \"min\": 0.2375663299560547}}, \"EndTime\": 1574978887.300743, \"Dimensions\": {\"model\": 21, \"Host\": \"algo-1\", \"Operation\": \"training\", \"Algorithm\": \"Linear Learner\", \"epoch\": 2}, \"StartTime\": 1574978887.300735}\n",
      "\u001b[0m\n",
      "\u001b[31m#metrics {\"Metrics\": {\"train_mse_objective\": {\"count\": 1, \"max\": 0.22518358612060546, \"sum\": 0.22518358612060546, \"min\": 0.22518358612060546}}, \"EndTime\": 1574978887.300769, \"Dimensions\": {\"model\": 22, \"Host\": \"algo-1\", \"Operation\": \"training\", \"Algorithm\": \"Linear Learner\", \"epoch\": 2}, \"StartTime\": 1574978887.300762}\n",
      "\u001b[0m\n",
      "\u001b[31m#metrics {\"Metrics\": {\"train_mse_objective\": {\"count\": 1, \"max\": 0.19626398468017578, \"sum\": 0.19626398468017578, \"min\": 0.19626398468017578}}, \"EndTime\": 1574978887.300811, \"Dimensions\": {\"model\": 23, \"Host\": \"algo-1\", \"Operation\": \"training\", \"Algorithm\": \"Linear Learner\", \"epoch\": 2}, \"StartTime\": 1574978887.300797}\n",
      "\u001b[0m\n",
      "\u001b[31m#metrics {\"Metrics\": {\"train_mse_objective\": {\"count\": 1, \"max\": 1.0478499450683594, \"sum\": 1.0478499450683594, \"min\": 1.0478499450683594}}, \"EndTime\": 1574978887.300871, \"Dimensions\": {\"model\": 24, \"Host\": \"algo-1\", \"Operation\": \"training\", \"Algorithm\": \"Linear Learner\", \"epoch\": 2}, \"StartTime\": 1574978887.300855}\n",
      "\u001b[0m\n",
      "\u001b[31m#metrics {\"Metrics\": {\"train_mse_objective\": {\"count\": 1, \"max\": 1.0284478149414062, \"sum\": 1.0284478149414062, \"min\": 1.0284478149414062}}, \"EndTime\": 1574978887.300905, \"Dimensions\": {\"model\": 25, \"Host\": \"algo-1\", \"Operation\": \"training\", \"Algorithm\": \"Linear Learner\", \"epoch\": 2}, \"StartTime\": 1574978887.300896}\n",
      "\u001b[0m\n",
      "\u001b[31m#metrics {\"Metrics\": {\"train_mse_objective\": {\"count\": 1, \"max\": 0.8966411437988281, \"sum\": 0.8966411437988281, \"min\": 0.8966411437988281}}, \"EndTime\": 1574978887.300931, \"Dimensions\": {\"model\": 26, \"Host\": \"algo-1\", \"Operation\": \"training\", \"Algorithm\": \"Linear Learner\", \"epoch\": 2}, \"StartTime\": 1574978887.300924}\n",
      "\u001b[0m\n",
      "\u001b[31m#metrics {\"Metrics\": {\"train_mse_objective\": {\"count\": 1, \"max\": 1.0489499816894532, \"sum\": 1.0489499816894532, \"min\": 1.0489499816894532}}, \"EndTime\": 1574978887.300957, \"Dimensions\": {\"model\": 27, \"Host\": \"algo-1\", \"Operation\": \"training\", \"Algorithm\": \"Linear Learner\", \"epoch\": 2}, \"StartTime\": 1574978887.30095}\n",
      "\u001b[0m\n",
      "\u001b[31m#metrics {\"Metrics\": {\"train_mse_objective\": {\"count\": 1, \"max\": 1.0126511840820311, \"sum\": 1.0126511840820311, \"min\": 1.0126511840820311}}, \"EndTime\": 1574978887.300982, \"Dimensions\": {\"model\": 28, \"Host\": \"algo-1\", \"Operation\": \"training\", \"Algorithm\": \"Linear Learner\", \"epoch\": 2}, \"StartTime\": 1574978887.300976}\n",
      "\u001b[0m\n",
      "\u001b[31m#metrics {\"Metrics\": {\"train_mse_objective\": {\"count\": 1, \"max\": 0.8248116149902344, \"sum\": 0.8248116149902344, \"min\": 0.8248116149902344}}, \"EndTime\": 1574978887.301017, \"Dimensions\": {\"model\": 29, \"Host\": \"algo-1\", \"Operation\": \"training\", \"Algorithm\": \"Linear Learner\", \"epoch\": 2}, \"StartTime\": 1574978887.301004}\n",
      "\u001b[0m\n",
      "\u001b[31m#metrics {\"Metrics\": {\"train_mse_objective\": {\"count\": 1, \"max\": 0.7715623474121094, \"sum\": 0.7715623474121094, \"min\": 0.7715623474121094}}, \"EndTime\": 1574978887.301071, \"Dimensions\": {\"model\": 30, \"Host\": \"algo-1\", \"Operation\": \"training\", \"Algorithm\": \"Linear Learner\", \"epoch\": 2}, \"StartTime\": 1574978887.301055}\n",
      "\u001b[0m\n",
      "\u001b[31m#metrics {\"Metrics\": {\"train_mse_objective\": {\"count\": 1, \"max\": 0.8502528991699219, \"sum\": 0.8502528991699219, \"min\": 0.8502528991699219}}, \"EndTime\": 1574978887.301127, \"Dimensions\": {\"model\": 31, \"Host\": \"algo-1\", \"Operation\": \"training\", \"Algorithm\": \"Linear Learner\", \"epoch\": 2}, \"StartTime\": 1574978887.301111}\n",
      "\u001b[0m\n",
      "\u001b[31m[11/28/2019 22:08:07 INFO 140085482997568] #quality_metric: host=algo-1, epoch=2, train mse_objective <loss>=0.893823181152\u001b[0m\n",
      "\u001b[31m[11/28/2019 22:08:07 INFO 140085482997568] #early_stopping_criteria_metric: host=algo-1, epoch=2, criteria=mse_objective, value=0.1719400177\u001b[0m\n",
      "\u001b[31m[11/28/2019 22:08:07 INFO 140085482997568] Epoch 2: Loss improved. Updating best model\u001b[0m\n",
      "\u001b[31m[11/28/2019 22:08:07 INFO 140085482997568] #progress_metric: host=algo-1, completed 20 % of epochs\u001b[0m\n",
      "\u001b[31m#metrics {\"Metrics\": {\"Max Batches Seen Between Resets\": {\"count\": 1, \"max\": 3, \"sum\": 3.0, \"min\": 3}, \"Number of Batches Since Last Reset\": {\"count\": 1, \"max\": 3, \"sum\": 3.0, \"min\": 3}, \"Number of Records Since Last Reset\": {\"count\": 1, \"max\": 2012, \"sum\": 2012.0, \"min\": 2012}, \"Total Batches Seen\": {\"count\": 1, \"max\": 13, \"sum\": 13.0, \"min\": 13}, \"Total Records Seen\": {\"count\": 1, \"max\": 9048, \"sum\": 9048.0, \"min\": 9048}, \"Max Records Seen Between Resets\": {\"count\": 1, \"max\": 2012, \"sum\": 2012.0, \"min\": 2012}, \"Reset Count\": {\"count\": 1, \"max\": 5, \"sum\": 5.0, \"min\": 5}}, \"EndTime\": 1574978887.303908, \"Dimensions\": {\"Host\": \"algo-1\", \"Meta\": \"training_data_iter\", \"Operation\": \"training\", \"Algorithm\": \"Linear Learner\", \"epoch\": 2}, \"StartTime\": 1574978887.256704}\n",
      "\u001b[0m\n",
      "\u001b[31m[11/28/2019 22:08:07 INFO 140085482997568] #throughput_metric: host=algo-1, train throughput=42515.4775179 records/second\u001b[0m\n",
      "\u001b[31m[2019-11-28 22:08:07.347] [tensorio] [info] epoch_stats={\"data_pipeline\": \"/opt/ml/input/data/train\", \"epoch\": 10, \"duration\": 43, \"num_examples\": 3, \"num_bytes\": 112672}\u001b[0m\n",
      "\u001b[31m#metrics {\"Metrics\": {\"train_mse_objective\": {\"count\": 1, \"max\": 0.8448186340332031, \"sum\": 0.8448186340332031, \"min\": 0.8448186340332031}}, \"EndTime\": 1574978887.347955, \"Dimensions\": {\"model\": 0, \"Host\": \"algo-1\", \"Operation\": \"training\", \"Algorithm\": \"Linear Learner\", \"epoch\": 3}, \"StartTime\": 1574978887.34789}\n",
      "\u001b[0m\n",
      "\u001b[31m#metrics {\"Metrics\": {\"train_mse_objective\": {\"count\": 1, \"max\": 0.8646191711425781, \"sum\": 0.8646191711425781, \"min\": 0.8646191711425781}}, \"EndTime\": 1574978887.348023, \"Dimensions\": {\"model\": 1, \"Host\": \"algo-1\", \"Operation\": \"training\", \"Algorithm\": \"Linear Learner\", \"epoch\": 3}, \"StartTime\": 1574978887.348009}\n",
      "\u001b[0m\n",
      "\u001b[31m#metrics {\"Metrics\": {\"train_mse_objective\": {\"count\": 1, \"max\": 0.8602263793945313, \"sum\": 0.8602263793945313, \"min\": 0.8602263793945313}}, \"EndTime\": 1574978887.348068, \"Dimensions\": {\"model\": 2, \"Host\": \"algo-1\", \"Operation\": \"training\", \"Algorithm\": \"Linear Learner\", \"epoch\": 3}, \"StartTime\": 1574978887.348057}\n",
      "\u001b[0m\n",
      "\u001b[31m#metrics {\"Metrics\": {\"train_mse_objective\": {\"count\": 1, \"max\": 0.8231146545410156, \"sum\": 0.8231146545410156, \"min\": 0.8231146545410156}}, \"EndTime\": 1574978887.348111, \"Dimensions\": {\"model\": 3, \"Host\": \"algo-1\", \"Operation\": \"training\", \"Algorithm\": \"Linear Learner\", \"epoch\": 3}, \"StartTime\": 1574978887.3481}\n",
      "\u001b[0m\n",
      "\u001b[31m#metrics {\"Metrics\": {\"train_mse_objective\": {\"count\": 1, \"max\": 0.529241470336914, \"sum\": 0.529241470336914, \"min\": 0.529241470336914}}, \"EndTime\": 1574978887.34815, \"Dimensions\": {\"model\": 4, \"Host\": \"algo-1\", \"Operation\": \"training\", \"Algorithm\": \"Linear Learner\", \"epoch\": 3}, \"StartTime\": 1574978887.34814}\n",
      "\u001b[0m\n",
      "\u001b[31m#metrics {\"Metrics\": {\"train_mse_objective\": {\"count\": 1, \"max\": 0.5203937377929687, \"sum\": 0.5203937377929687, \"min\": 0.5203937377929687}}, \"EndTime\": 1574978887.348195, \"Dimensions\": {\"model\": 5, \"Host\": \"algo-1\", \"Operation\": \"training\", \"Algorithm\": \"Linear Learner\", \"epoch\": 3}, \"StartTime\": 1574978887.348184}\n",
      "\u001b[0m\n",
      "\u001b[31m#metrics {\"Metrics\": {\"train_mse_objective\": {\"count\": 1, \"max\": 0.5428753662109375, \"sum\": 0.5428753662109375, \"min\": 0.5428753662109375}}, \"EndTime\": 1574978887.348234, \"Dimensions\": {\"model\": 6, \"Host\": \"algo-1\", \"Operation\": \"training\", \"Algorithm\": \"Linear Learner\", \"epoch\": 3}, \"StartTime\": 1574978887.348224}\n",
      "\u001b[0m\n",
      "\u001b[31m#metrics {\"Metrics\": {\"train_mse_objective\": {\"count\": 1, \"max\": 0.5138330535888672, \"sum\": 0.5138330535888672, \"min\": 0.5138330535888672}}, \"EndTime\": 1574978887.348277, \"Dimensions\": {\"model\": 7, \"Host\": \"algo-1\", \"Operation\": \"training\", \"Algorithm\": \"Linear Learner\", \"epoch\": 3}, \"StartTime\": 1574978887.348267}\n",
      "\u001b[0m\n",
      "\u001b[31m#metrics {\"Metrics\": {\"train_mse_objective\": {\"count\": 1, \"max\": 0.8516045837402344, \"sum\": 0.8516045837402344, \"min\": 0.8516045837402344}}, \"EndTime\": 1574978887.348315, \"Dimensions\": {\"model\": 8, \"Host\": \"algo-1\", \"Operation\": \"training\", \"Algorithm\": \"Linear Learner\", \"epoch\": 3}, \"StartTime\": 1574978887.348306}\n",
      "\u001b[0m\n",
      "\u001b[31m#metrics {\"Metrics\": {\"train_mse_objective\": {\"count\": 1, \"max\": 1.0250352172851562, \"sum\": 1.0250352172851562, \"min\": 1.0250352172851562}}, \"EndTime\": 1574978887.348352, \"Dimensions\": {\"model\": 9, \"Host\": \"algo-1\", \"Operation\": \"training\", \"Algorithm\": \"Linear Learner\", \"epoch\": 3}, \"StartTime\": 1574978887.348342}\n",
      "\u001b[0m\n",
      "\u001b[31m#metrics {\"Metrics\": {\"train_mse_objective\": {\"count\": 1, \"max\": 0.7922240295410157, \"sum\": 0.7922240295410157, \"min\": 0.7922240295410157}}, \"EndTime\": 1574978887.348389, \"Dimensions\": {\"model\": 10, \"Host\": \"algo-1\", \"Operation\": \"training\", \"Algorithm\": \"Linear Learner\", \"epoch\": 3}, \"StartTime\": 1574978887.348379}\n",
      "\u001b[0m\n",
      "\u001b[31m#metrics {\"Metrics\": {\"train_mse_objective\": {\"count\": 1, \"max\": 0.7414335632324218, \"sum\": 0.7414335632324218, \"min\": 0.7414335632324218}}, \"EndTime\": 1574978887.348425, \"Dimensions\": {\"model\": 11, \"Host\": \"algo-1\", \"Operation\": \"training\", \"Algorithm\": \"Linear Learner\", \"epoch\": 3}, \"StartTime\": 1574978887.348416}\n",
      "\u001b[0m\n",
      "\u001b[31m#metrics {\"Metrics\": {\"train_mse_objective\": {\"count\": 1, \"max\": 0.5222934112548828, \"sum\": 0.5222934112548828, \"min\": 0.5222934112548828}}, \"EndTime\": 1574978887.348467, \"Dimensions\": {\"model\": 12, \"Host\": \"algo-1\", \"Operation\": \"training\", \"Algorithm\": \"Linear Learner\", \"epoch\": 3}, \"StartTime\": 1574978887.348457}\n",
      "\u001b[0m\n",
      "\u001b[31m#metrics {\"Metrics\": {\"train_mse_objective\": {\"count\": 1, \"max\": 0.5183419494628906, \"sum\": 0.5183419494628906, \"min\": 0.5183419494628906}}, \"EndTime\": 1574978887.348508, \"Dimensions\": {\"model\": 13, \"Host\": \"algo-1\", \"Operation\": \"training\", \"Algorithm\": \"Linear Learner\", \"epoch\": 3}, \"StartTime\": 1574978887.348498}\n",
      "\u001b[0m\n",
      "\u001b[31m#metrics {\"Metrics\": {\"train_mse_objective\": {\"count\": 1, \"max\": 0.5253282318115234, \"sum\": 0.5253282318115234, \"min\": 0.5253282318115234}}, \"EndTime\": 1574978887.348552, \"Dimensions\": {\"model\": 14, \"Host\": \"algo-1\", \"Operation\": \"training\", \"Algorithm\": \"Linear Learner\", \"epoch\": 3}, \"StartTime\": 1574978887.348541}\n",
      "\u001b[0m\n",
      "\u001b[31m#metrics {\"Metrics\": {\"train_mse_objective\": {\"count\": 1, \"max\": 0.5207554931640626, \"sum\": 0.5207554931640626, \"min\": 0.5207554931640626}}, \"EndTime\": 1574978887.34859, \"Dimensions\": {\"model\": 15, \"Host\": \"algo-1\", \"Operation\": \"training\", \"Algorithm\": \"Linear Learner\", \"epoch\": 3}, \"StartTime\": 1574978887.34858}\n",
      "\u001b[0m\n",
      "\u001b[31m#metrics {\"Metrics\": {\"train_mse_objective\": {\"count\": 1, \"max\": 0.7647884216308594, \"sum\": 0.7647884216308594, \"min\": 0.7647884216308594}}, \"EndTime\": 1574978887.348633, \"Dimensions\": {\"model\": 16, \"Host\": \"algo-1\", \"Operation\": \"training\", \"Algorithm\": \"Linear Learner\", \"epoch\": 3}, \"StartTime\": 1574978887.348622}\n",
      "\u001b[0m\n",
      "\u001b[31m#metrics {\"Metrics\": {\"train_mse_objective\": {\"count\": 1, \"max\": 0.9254591674804687, \"sum\": 0.9254591674804687, \"min\": 0.9254591674804687}}, \"EndTime\": 1574978887.348675, \"Dimensions\": {\"model\": 17, \"Host\": \"algo-1\", \"Operation\": \"training\", \"Algorithm\": \"Linear Learner\", \"epoch\": 3}, \"StartTime\": 1574978887.348665}\n",
      "\u001b[0m\n",
      "\u001b[31m#metrics {\"Metrics\": {\"train_mse_objective\": {\"count\": 1, \"max\": 0.8544850158691406, \"sum\": 0.8544850158691406, \"min\": 0.8544850158691406}}, \"EndTime\": 1574978887.348712, \"Dimensions\": {\"model\": 18, \"Host\": \"algo-1\", \"Operation\": \"training\", \"Algorithm\": \"Linear Learner\", \"epoch\": 3}, \"StartTime\": 1574978887.348702}\n",
      "\u001b[0m\n",
      "\u001b[31m#metrics {\"Metrics\": {\"train_mse_objective\": {\"count\": 1, \"max\": 0.8465781860351562, \"sum\": 0.8465781860351562, \"min\": 0.8465781860351562}}, \"EndTime\": 1574978887.348754, \"Dimensions\": {\"model\": 19, \"Host\": \"algo-1\", \"Operation\": \"training\", \"Algorithm\": \"Linear Learner\", \"epoch\": 3}, \"StartTime\": 1574978887.348744}\n",
      "\u001b[0m\n",
      "\u001b[31m#metrics {\"Metrics\": {\"train_mse_objective\": {\"count\": 1, \"max\": 0.42627174377441407, \"sum\": 0.42627174377441407, \"min\": 0.42627174377441407}}, \"EndTime\": 1574978887.348794, \"Dimensions\": {\"model\": 20, \"Host\": \"algo-1\", \"Operation\": \"training\", \"Algorithm\": \"Linear Learner\", \"epoch\": 3}, \"StartTime\": 1574978887.348784}\n",
      "\u001b[0m\n",
      "\u001b[31m#metrics {\"Metrics\": {\"train_mse_objective\": {\"count\": 1, \"max\": 0.39956866455078127, \"sum\": 0.39956866455078127, \"min\": 0.39956866455078127}}, \"EndTime\": 1574978887.348837, \"Dimensions\": {\"model\": 21, \"Host\": \"algo-1\", \"Operation\": \"training\", \"Algorithm\": \"Linear Learner\", \"epoch\": 3}, \"StartTime\": 1574978887.348826}\n",
      "\u001b[0m\n",
      "\u001b[31m#metrics {\"Metrics\": {\"train_mse_objective\": {\"count\": 1, \"max\": 0.40719401550292966, \"sum\": 0.40719401550292966, \"min\": 0.40719401550292966}}, \"EndTime\": 1574978887.348876, \"Dimensions\": {\"model\": 22, \"Host\": \"algo-1\", \"Operation\": \"training\", \"Algorithm\": \"Linear Learner\", \"epoch\": 3}, \"StartTime\": 1574978887.348866}\n",
      "\u001b[0m\n",
      "\u001b[31m#metrics {\"Metrics\": {\"train_mse_objective\": {\"count\": 1, \"max\": 0.41575112915039064, \"sum\": 0.41575112915039064, \"min\": 0.41575112915039064}}, \"EndTime\": 1574978887.348915, \"Dimensions\": {\"model\": 23, \"Host\": \"algo-1\", \"Operation\": \"training\", \"Algorithm\": \"Linear Learner\", \"epoch\": 3}, \"StartTime\": 1574978887.348905}\n",
      "\u001b[0m\n",
      "\u001b[31m#metrics {\"Metrics\": {\"train_mse_objective\": {\"count\": 1, \"max\": 1.0297717895507812, \"sum\": 1.0297717895507812, \"min\": 1.0297717895507812}}, \"EndTime\": 1574978887.348954, \"Dimensions\": {\"model\": 24, \"Host\": \"algo-1\", \"Operation\": \"training\", \"Algorithm\": \"Linear Learner\", \"epoch\": 3}, \"StartTime\": 1574978887.348944}\n",
      "\u001b[0m\n",
      "\u001b[31m#metrics {\"Metrics\": {\"train_mse_objective\": {\"count\": 1, \"max\": 1.0091095275878905, \"sum\": 1.0091095275878905, \"min\": 1.0091095275878905}}, \"EndTime\": 1574978887.348997, \"Dimensions\": {\"model\": 25, \"Host\": \"algo-1\", \"Operation\": \"training\", \"Algorithm\": \"Linear Learner\", \"epoch\": 3}, \"StartTime\": 1574978887.348986}\n",
      "\u001b[0m\n",
      "\u001b[31m#metrics {\"Metrics\": {\"train_mse_objective\": {\"count\": 1, \"max\": 0.9285314331054687, \"sum\": 0.9285314331054687, \"min\": 0.9285314331054687}}, \"EndTime\": 1574978887.349035, \"Dimensions\": {\"model\": 26, \"Host\": \"algo-1\", \"Operation\": \"training\", \"Algorithm\": \"Linear Learner\", \"epoch\": 3}, \"StartTime\": 1574978887.349025}\n",
      "\u001b[0m\n",
      "\u001b[31m#metrics {\"Metrics\": {\"train_mse_objective\": {\"count\": 1, \"max\": 1.0136728820800782, \"sum\": 1.0136728820800782, \"min\": 1.0136728820800782}}, \"EndTime\": 1574978887.349121, \"Dimensions\": {\"model\": 27, \"Host\": \"algo-1\", \"Operation\": \"training\", \"Algorithm\": \"Linear Learner\", \"epoch\": 3}, \"StartTime\": 1574978887.349075}\n",
      "\u001b[0m\n",
      "\u001b[31m#metrics {\"Metrics\": {\"train_mse_objective\": {\"count\": 1, \"max\": 1.3093599853515625, \"sum\": 1.3093599853515625, \"min\": 1.3093599853515625}}, \"EndTime\": 1574978887.349169, \"Dimensions\": {\"model\": 28, \"Host\": \"algo-1\", \"Operation\": \"training\", \"Algorithm\": \"Linear Learner\", \"epoch\": 3}, \"StartTime\": 1574978887.349158}\n",
      "\u001b[0m\n",
      "\u001b[31m#metrics {\"Metrics\": {\"train_mse_objective\": {\"count\": 1, \"max\": 1.2062025146484374, \"sum\": 1.2062025146484374, \"min\": 1.2062025146484374}}, \"EndTime\": 1574978887.349209, \"Dimensions\": {\"model\": 29, \"Host\": \"algo-1\", \"Operation\": \"training\", \"Algorithm\": \"Linear Learner\", \"epoch\": 3}, \"StartTime\": 1574978887.349199}\n",
      "\u001b[0m\n",
      "\u001b[31m#metrics {\"Metrics\": {\"train_mse_objective\": {\"count\": 1, \"max\": 1.1820590209960937, \"sum\": 1.1820590209960937, \"min\": 1.1820590209960937}}, \"EndTime\": 1574978887.349247, \"Dimensions\": {\"model\": 30, \"Host\": \"algo-1\", \"Operation\": \"training\", \"Algorithm\": \"Linear Learner\", \"epoch\": 3}, \"StartTime\": 1574978887.349237}\n",
      "\u001b[0m\n",
      "\u001b[31m#metrics {\"Metrics\": {\"train_mse_objective\": {\"count\": 1, \"max\": 1.2265226440429688, \"sum\": 1.2265226440429688, \"min\": 1.2265226440429688}}, \"EndTime\": 1574978887.349283, \"Dimensions\": {\"model\": 31, \"Host\": \"algo-1\", \"Operation\": \"training\", \"Algorithm\": \"Linear Learner\", \"epoch\": 3}, \"StartTime\": 1574978887.349274}\n",
      "\u001b[0m\n",
      "\u001b[31m[11/28/2019 22:08:07 INFO 140085482997568] #quality_metric: host=algo-1, epoch=3, train mse_objective <loss>=0.844818634033\u001b[0m\n",
      "\u001b[31m[11/28/2019 22:08:07 INFO 140085482997568] #early_stopping_criteria_metric: host=algo-1, epoch=3, criteria=mse_objective, value=0.399568664551\u001b[0m\n",
      "\u001b[31m[11/28/2019 22:08:07 INFO 140085482997568] #progress_metric: host=algo-1, completed 26 % of epochs\u001b[0m\n",
      "\u001b[31m#metrics {\"Metrics\": {\"Max Batches Seen Between Resets\": {\"count\": 1, \"max\": 3, \"sum\": 3.0, \"min\": 3}, \"Number of Batches Since Last Reset\": {\"count\": 1, \"max\": 3, \"sum\": 3.0, \"min\": 3}, \"Number of Records Since Last Reset\": {\"count\": 1, \"max\": 2012, \"sum\": 2012.0, \"min\": 2012}, \"Total Batches Seen\": {\"count\": 1, \"max\": 16, \"sum\": 16.0, \"min\": 16}, \"Total Records Seen\": {\"count\": 1, \"max\": 11060, \"sum\": 11060.0, \"min\": 11060}, \"Max Records Seen Between Resets\": {\"count\": 1, \"max\": 2012, \"sum\": 2012.0, \"min\": 2012}, \"Reset Count\": {\"count\": 1, \"max\": 6, \"sum\": 6.0, \"min\": 6}}, \"EndTime\": 1574978887.351195, \"Dimensions\": {\"Host\": \"algo-1\", \"Meta\": \"training_data_iter\", \"Operation\": \"training\", \"Algorithm\": \"Linear Learner\", \"epoch\": 3}, \"StartTime\": 1574978887.304143}\n",
      "\u001b[0m\n",
      "\u001b[31m[11/28/2019 22:08:07 INFO 140085482997568] #throughput_metric: host=algo-1, train throughput=42669.6110105 records/second\u001b[0m\n",
      "\u001b[31m[2019-11-28 22:08:07.394] [tensorio] [info] epoch_stats={\"data_pipeline\": \"/opt/ml/input/data/train\", \"epoch\": 12, \"duration\": 43, \"num_examples\": 3, \"num_bytes\": 112672}\u001b[0m\n",
      "\u001b[31m#metrics {\"Metrics\": {\"train_mse_objective\": {\"count\": 1, \"max\": 0.7984027404785157, \"sum\": 0.7984027404785157, \"min\": 0.7984027404785157}}, \"EndTime\": 1574978887.394856, \"Dimensions\": {\"model\": 0, \"Host\": \"algo-1\", \"Operation\": \"training\", \"Algorithm\": \"Linear Learner\", \"epoch\": 4}, \"StartTime\": 1574978887.394792}\n",
      "\u001b[0m\n",
      "\u001b[31m#metrics {\"Metrics\": {\"train_mse_objective\": {\"count\": 1, \"max\": 0.8170864868164063, \"sum\": 0.8170864868164063, \"min\": 0.8170864868164063}}, \"EndTime\": 1574978887.394924, \"Dimensions\": {\"model\": 1, \"Host\": \"algo-1\", \"Operation\": \"training\", \"Algorithm\": \"Linear Learner\", \"epoch\": 4}, \"StartTime\": 1574978887.394909}\n",
      "\u001b[0m\n",
      "\u001b[31m#metrics {\"Metrics\": {\"train_mse_objective\": {\"count\": 1, \"max\": 0.8150778503417969, \"sum\": 0.8150778503417969, \"min\": 0.8150778503417969}}, \"EndTime\": 1574978887.394969, \"Dimensions\": {\"model\": 2, \"Host\": \"algo-1\", \"Operation\": \"training\", \"Algorithm\": \"Linear Learner\", \"epoch\": 4}, \"StartTime\": 1574978887.394958}\n",
      "\u001b[0m\n",
      "\u001b[31m#metrics {\"Metrics\": {\"train_mse_objective\": {\"count\": 1, \"max\": 0.7768570861816406, \"sum\": 0.7768570861816406, \"min\": 0.7768570861816406}}, \"EndTime\": 1574978887.395009, \"Dimensions\": {\"model\": 3, \"Host\": \"algo-1\", \"Operation\": \"training\", \"Algorithm\": \"Linear Learner\", \"epoch\": 4}, \"StartTime\": 1574978887.394999}\n",
      "\u001b[0m\n",
      "\u001b[31m#metrics {\"Metrics\": {\"train_mse_objective\": {\"count\": 1, \"max\": 0.23539978790283203, \"sum\": 0.23539978790283203, \"min\": 0.23539978790283203}}, \"EndTime\": 1574978887.395047, \"Dimensions\": {\"model\": 4, \"Host\": \"algo-1\", \"Operation\": \"training\", \"Algorithm\": \"Linear Learner\", \"epoch\": 4}, \"StartTime\": 1574978887.395037}\n",
      "\u001b[0m\n",
      "\u001b[31m#metrics {\"Metrics\": {\"train_mse_objective\": {\"count\": 1, \"max\": 0.2738135757446289, \"sum\": 0.2738135757446289, \"min\": 0.2738135757446289}}, \"EndTime\": 1574978887.395084, \"Dimensions\": {\"model\": 5, \"Host\": \"algo-1\", \"Operation\": \"training\", \"Algorithm\": \"Linear Learner\", \"epoch\": 4}, \"StartTime\": 1574978887.395075}\n",
      "\u001b[0m\n",
      "\u001b[31m#metrics {\"Metrics\": {\"train_mse_objective\": {\"count\": 1, \"max\": 0.2553470001220703, \"sum\": 0.2553470001220703, \"min\": 0.2553470001220703}}, \"EndTime\": 1574978887.395121, \"Dimensions\": {\"model\": 6, \"Host\": \"algo-1\", \"Operation\": \"training\", \"Algorithm\": \"Linear Learner\", \"epoch\": 4}, \"StartTime\": 1574978887.395111}\n",
      "\u001b[0m\n",
      "\u001b[31m#metrics {\"Metrics\": {\"train_mse_objective\": {\"count\": 1, \"max\": 0.20212118530273437, \"sum\": 0.20212118530273437, \"min\": 0.20212118530273437}}, \"EndTime\": 1574978887.395157, \"Dimensions\": {\"model\": 7, \"Host\": \"algo-1\", \"Operation\": \"training\", \"Algorithm\": \"Linear Learner\", \"epoch\": 4}, \"StartTime\": 1574978887.395148}\n",
      "\u001b[0m\n",
      "\u001b[31m#metrics {\"Metrics\": {\"train_mse_objective\": {\"count\": 1, \"max\": 0.8062425231933594, \"sum\": 0.8062425231933594, \"min\": 0.8062425231933594}}, \"EndTime\": 1574978887.395194, \"Dimensions\": {\"model\": 8, \"Host\": \"algo-1\", \"Operation\": \"training\", \"Algorithm\": \"Linear Learner\", \"epoch\": 4}, \"StartTime\": 1574978887.395184}\n",
      "\u001b[0m\n",
      "\u001b[31m#metrics {\"Metrics\": {\"train_mse_objective\": {\"count\": 1, \"max\": 0.9736583251953125, \"sum\": 0.9736583251953125, \"min\": 0.9736583251953125}}, \"EndTime\": 1574978887.39523, \"Dimensions\": {\"model\": 9, \"Host\": \"algo-1\", \"Operation\": \"training\", \"Algorithm\": \"Linear Learner\", \"epoch\": 4}, \"StartTime\": 1574978887.395221}\n",
      "\u001b[0m\n",
      "\u001b[31m#metrics {\"Metrics\": {\"train_mse_objective\": {\"count\": 1, \"max\": 0.7471517944335937, \"sum\": 0.7471517944335937, \"min\": 0.7471517944335937}}, \"EndTime\": 1574978887.395266, \"Dimensions\": {\"model\": 10, \"Host\": \"algo-1\", \"Operation\": \"training\", \"Algorithm\": \"Linear Learner\", \"epoch\": 4}, \"StartTime\": 1574978887.395257}\n",
      "\u001b[0m\n",
      "\u001b[31m#metrics {\"Metrics\": {\"train_mse_objective\": {\"count\": 1, \"max\": 0.6986626739501953, \"sum\": 0.6986626739501953, \"min\": 0.6986626739501953}}, \"EndTime\": 1574978887.395303, \"Dimensions\": {\"model\": 11, \"Host\": \"algo-1\", \"Operation\": \"training\", \"Algorithm\": \"Linear Learner\", \"epoch\": 4}, \"StartTime\": 1574978887.395293}\n",
      "\u001b[0m\n",
      "\u001b[31m#metrics {\"Metrics\": {\"train_mse_objective\": {\"count\": 1, \"max\": 0.21891207122802733, \"sum\": 0.21891207122802733, \"min\": 0.21891207122802733}}, \"EndTime\": 1574978887.395339, \"Dimensions\": {\"model\": 12, \"Host\": \"algo-1\", \"Operation\": \"training\", \"Algorithm\": \"Linear Learner\", \"epoch\": 4}, \"StartTime\": 1574978887.39533}\n",
      "\u001b[0m\n",
      "\u001b[31m#metrics {\"Metrics\": {\"train_mse_objective\": {\"count\": 1, \"max\": 0.30214508819580077, \"sum\": 0.30214508819580077, \"min\": 0.30214508819580077}}, \"EndTime\": 1574978887.395376, \"Dimensions\": {\"model\": 13, \"Host\": \"algo-1\", \"Operation\": \"training\", \"Algorithm\": \"Linear Learner\", \"epoch\": 4}, \"StartTime\": 1574978887.395366}\n",
      "\u001b[0m\n",
      "\u001b[31m#metrics {\"Metrics\": {\"train_mse_objective\": {\"count\": 1, \"max\": 0.23350356292724608, \"sum\": 0.23350356292724608, \"min\": 0.23350356292724608}}, \"EndTime\": 1574978887.395437, \"Dimensions\": {\"model\": 14, \"Host\": \"algo-1\", \"Operation\": \"training\", \"Algorithm\": \"Linear Learner\", \"epoch\": 4}, \"StartTime\": 1574978887.395423}\n",
      "\u001b[0m\n",
      "\u001b[31m#metrics {\"Metrics\": {\"train_mse_objective\": {\"count\": 1, \"max\": 0.28293802642822263, \"sum\": 0.28293802642822263, \"min\": 0.28293802642822263}}, \"EndTime\": 1574978887.395481, \"Dimensions\": {\"model\": 15, \"Host\": \"algo-1\", \"Operation\": \"training\", \"Algorithm\": \"Linear Learner\", \"epoch\": 4}, \"StartTime\": 1574978887.39547}\n",
      "\u001b[0m\n",
      "\u001b[31m#metrics {\"Metrics\": {\"train_mse_objective\": {\"count\": 1, \"max\": 0.7215731201171875, \"sum\": 0.7215731201171875, \"min\": 0.7215731201171875}}, \"EndTime\": 1574978887.395518, \"Dimensions\": {\"model\": 16, \"Host\": \"algo-1\", \"Operation\": \"training\", \"Algorithm\": \"Linear Learner\", \"epoch\": 4}, \"StartTime\": 1574978887.395509}\n",
      "\u001b[0m\n",
      "\u001b[31m#metrics {\"Metrics\": {\"train_mse_objective\": {\"count\": 1, \"max\": 0.8765956420898438, \"sum\": 0.8765956420898438, \"min\": 0.8765956420898438}}, \"EndTime\": 1574978887.395555, \"Dimensions\": {\"model\": 17, \"Host\": \"algo-1\", \"Operation\": \"training\", \"Algorithm\": \"Linear Learner\", \"epoch\": 4}, \"StartTime\": 1574978887.395545}\n",
      "\u001b[0m\n",
      "\u001b[31m#metrics {\"Metrics\": {\"train_mse_objective\": {\"count\": 1, \"max\": 0.8090070495605469, \"sum\": 0.8090070495605469, \"min\": 0.8090070495605469}}, \"EndTime\": 1574978887.395591, \"Dimensions\": {\"model\": 18, \"Host\": \"algo-1\", \"Operation\": \"training\", \"Algorithm\": \"Linear Learner\", \"epoch\": 4}, \"StartTime\": 1574978887.395582}\n",
      "\u001b[0m\n",
      "\u001b[31m#metrics {\"Metrics\": {\"train_mse_objective\": {\"count\": 1, \"max\": 0.8018449096679687, \"sum\": 0.8018449096679687, \"min\": 0.8018449096679687}}, \"EndTime\": 1574978887.395628, \"Dimensions\": {\"model\": 19, \"Host\": \"algo-1\", \"Operation\": \"training\", \"Algorithm\": \"Linear Learner\", \"epoch\": 4}, \"StartTime\": 1574978887.395618}\n",
      "\u001b[0m\n",
      "\u001b[31m#metrics {\"Metrics\": {\"train_mse_objective\": {\"count\": 1, \"max\": 0.18065107345581055, \"sum\": 0.18065107345581055, \"min\": 0.18065107345581055}}, \"EndTime\": 1574978887.395664, \"Dimensions\": {\"model\": 20, \"Host\": \"algo-1\", \"Operation\": \"training\", \"Algorithm\": \"Linear Learner\", \"epoch\": 4}, \"StartTime\": 1574978887.395654}\n",
      "\u001b[0m\n",
      "\u001b[31m#metrics {\"Metrics\": {\"train_mse_objective\": {\"count\": 1, \"max\": 0.1321057643890381, \"sum\": 0.1321057643890381, \"min\": 0.1321057643890381}}, \"EndTime\": 1574978887.3957, \"Dimensions\": {\"model\": 21, \"Host\": \"algo-1\", \"Operation\": \"training\", \"Algorithm\": \"Linear Learner\", \"epoch\": 4}, \"StartTime\": 1574978887.395691}\n",
      "\u001b[0m\n",
      "\u001b[31m#metrics {\"Metrics\": {\"train_mse_objective\": {\"count\": 1, \"max\": 0.13630702590942384, \"sum\": 0.13630702590942384, \"min\": 0.13630702590942384}}, \"EndTime\": 1574978887.395736, \"Dimensions\": {\"model\": 22, \"Host\": \"algo-1\", \"Operation\": \"training\", \"Algorithm\": \"Linear Learner\", \"epoch\": 4}, \"StartTime\": 1574978887.395727}\n",
      "\u001b[0m\n",
      "\u001b[31m#metrics {\"Metrics\": {\"train_mse_objective\": {\"count\": 1, \"max\": 0.15010235595703125, \"sum\": 0.15010235595703125, \"min\": 0.15010235595703125}}, \"EndTime\": 1574978887.395773, \"Dimensions\": {\"model\": 23, \"Host\": \"algo-1\", \"Operation\": \"training\", \"Algorithm\": \"Linear Learner\", \"epoch\": 4}, \"StartTime\": 1574978887.395764}\n",
      "\u001b[0m\n",
      "\u001b[31m#metrics {\"Metrics\": {\"train_mse_objective\": {\"count\": 1, \"max\": 1.0099587097167968, \"sum\": 1.0099587097167968, \"min\": 1.0099587097167968}}, \"EndTime\": 1574978887.395809, \"Dimensions\": {\"model\": 24, \"Host\": \"algo-1\", \"Operation\": \"training\", \"Algorithm\": \"Linear Learner\", \"epoch\": 4}, \"StartTime\": 1574978887.3958}\n",
      "\u001b[0m\n",
      "\u001b[31m#metrics {\"Metrics\": {\"train_mse_objective\": {\"count\": 1, \"max\": 0.9970752563476563, \"sum\": 0.9970752563476563, \"min\": 0.9970752563476563}}, \"EndTime\": 1574978887.395846, \"Dimensions\": {\"model\": 25, \"Host\": \"algo-1\", \"Operation\": \"training\", \"Algorithm\": \"Linear Learner\", \"epoch\": 4}, \"StartTime\": 1574978887.395836}\n",
      "\u001b[0m\n",
      "\u001b[31m#metrics {\"Metrics\": {\"train_mse_objective\": {\"count\": 1, \"max\": 0.9570565795898438, \"sum\": 0.9570565795898438, \"min\": 0.9570565795898438}}, \"EndTime\": 1574978887.395882, \"Dimensions\": {\"model\": 26, \"Host\": \"algo-1\", \"Operation\": \"training\", \"Algorithm\": \"Linear Learner\", \"epoch\": 4}, \"StartTime\": 1574978887.395872}\n",
      "\u001b[0m\n",
      "\u001b[31m#metrics {\"Metrics\": {\"train_mse_objective\": {\"count\": 1, \"max\": 0.9858189697265625, \"sum\": 0.9858189697265625, \"min\": 0.9858189697265625}}, \"EndTime\": 1574978887.395918, \"Dimensions\": {\"model\": 27, \"Host\": \"algo-1\", \"Operation\": \"training\", \"Algorithm\": \"Linear Learner\", \"epoch\": 4}, \"StartTime\": 1574978887.395908}\n",
      "\u001b[0m\n",
      "\u001b[31m#metrics {\"Metrics\": {\"train_mse_objective\": {\"count\": 1, \"max\": 1.1652357788085939, \"sum\": 1.1652357788085939, \"min\": 1.1652357788085939}}, \"EndTime\": 1574978887.395954, \"Dimensions\": {\"model\": 28, \"Host\": \"algo-1\", \"Operation\": \"training\", \"Algorithm\": \"Linear Learner\", \"epoch\": 4}, \"StartTime\": 1574978887.395944}\n",
      "\u001b[0m\n",
      "\u001b[31m#metrics {\"Metrics\": {\"train_mse_objective\": {\"count\": 1, \"max\": 1.31230224609375, \"sum\": 1.31230224609375, \"min\": 1.31230224609375}}, \"EndTime\": 1574978887.39599, \"Dimensions\": {\"model\": 29, \"Host\": \"algo-1\", \"Operation\": \"training\", \"Algorithm\": \"Linear Learner\", \"epoch\": 4}, \"StartTime\": 1574978887.39598}\n",
      "\u001b[0m\n",
      "\u001b[31m#metrics {\"Metrics\": {\"train_mse_objective\": {\"count\": 1, \"max\": 1.3395791015625, \"sum\": 1.3395791015625, \"min\": 1.3395791015625}}, \"EndTime\": 1574978887.396025, \"Dimensions\": {\"model\": 30, \"Host\": \"algo-1\", \"Operation\": \"training\", \"Algorithm\": \"Linear Learner\", \"epoch\": 4}, \"StartTime\": 1574978887.396016}\n",
      "\u001b[0m\n",
      "\u001b[31m#metrics {\"Metrics\": {\"train_mse_objective\": {\"count\": 1, \"max\": 1.269394775390625, \"sum\": 1.269394775390625, \"min\": 1.269394775390625}}, \"EndTime\": 1574978887.396062, \"Dimensions\": {\"model\": 31, \"Host\": \"algo-1\", \"Operation\": \"training\", \"Algorithm\": \"Linear Learner\", \"epoch\": 4}, \"StartTime\": 1574978887.396052}\n",
      "\u001b[0m\n",
      "\u001b[31m[11/28/2019 22:08:07 INFO 140085482997568] #quality_metric: host=algo-1, epoch=4, train mse_objective <loss>=0.798402740479\u001b[0m\n",
      "\u001b[31m[11/28/2019 22:08:07 INFO 140085482997568] #early_stopping_criteria_metric: host=algo-1, epoch=4, criteria=mse_objective, value=0.132105764389\u001b[0m\n",
      "\u001b[31m[11/28/2019 22:08:07 INFO 140085482997568] Epoch 4: Loss improved. Updating best model\u001b[0m\n",
      "\u001b[31m[11/28/2019 22:08:07 INFO 140085482997568] #progress_metric: host=algo-1, completed 33 % of epochs\u001b[0m\n",
      "\u001b[31m#metrics {\"Metrics\": {\"Max Batches Seen Between Resets\": {\"count\": 1, \"max\": 3, \"sum\": 3.0, \"min\": 3}, \"Number of Batches Since Last Reset\": {\"count\": 1, \"max\": 3, \"sum\": 3.0, \"min\": 3}, \"Number of Records Since Last Reset\": {\"count\": 1, \"max\": 2012, \"sum\": 2012.0, \"min\": 2012}, \"Total Batches Seen\": {\"count\": 1, \"max\": 19, \"sum\": 19.0, \"min\": 19}, \"Total Records Seen\": {\"count\": 1, \"max\": 13072, \"sum\": 13072.0, \"min\": 13072}, \"Max Records Seen Between Resets\": {\"count\": 1, \"max\": 2012, \"sum\": 2012.0, \"min\": 2012}, \"Reset Count\": {\"count\": 1, \"max\": 7, \"sum\": 7.0, \"min\": 7}}, \"EndTime\": 1574978887.39891, \"Dimensions\": {\"Host\": \"algo-1\", \"Meta\": \"training_data_iter\", \"Operation\": \"training\", \"Algorithm\": \"Linear Learner\", \"epoch\": 4}, \"StartTime\": 1574978887.351436}\n",
      "\u001b[0m\n",
      "\u001b[31m[11/28/2019 22:08:07 INFO 140085482997568] #throughput_metric: host=algo-1, train throughput=42261.8946525 records/second\u001b[0m\n",
      "\u001b[31m[2019-11-28 22:08:07.456] [tensorio] [info] epoch_stats={\"data_pipeline\": \"/opt/ml/input/data/train\", \"epoch\": 14, \"duration\": 55, \"num_examples\": 3, \"num_bytes\": 112672}\u001b[0m\n",
      "\u001b[31m#metrics {\"Metrics\": {\"train_mse_objective\": {\"count\": 1, \"max\": 0.7541912536621094, \"sum\": 0.7541912536621094, \"min\": 0.7541912536621094}}, \"EndTime\": 1574978887.456274, \"Dimensions\": {\"model\": 0, \"Host\": \"algo-1\", \"Operation\": \"training\", \"Algorithm\": \"Linear Learner\", \"epoch\": 5}, \"StartTime\": 1574978887.456196}\n",
      "\u001b[0m\n",
      "\u001b[31m#metrics {\"Metrics\": {\"train_mse_objective\": {\"count\": 1, \"max\": 0.7716524658203125, \"sum\": 0.7716524658203125, \"min\": 0.7716524658203125}}, \"EndTime\": 1574978887.456345, \"Dimensions\": {\"model\": 1, \"Host\": \"algo-1\", \"Operation\": \"training\", \"Algorithm\": \"Linear Learner\", \"epoch\": 5}, \"StartTime\": 1574978887.456331}\n",
      "\u001b[0m\n",
      "\u001b[31m#metrics {\"Metrics\": {\"train_mse_objective\": {\"count\": 1, \"max\": 0.7721299743652343, \"sum\": 0.7721299743652343, \"min\": 0.7721299743652343}}, \"EndTime\": 1574978887.456394, \"Dimensions\": {\"model\": 2, \"Host\": \"algo-1\", \"Operation\": \"training\", \"Algorithm\": \"Linear Learner\", \"epoch\": 5}, \"StartTime\": 1574978887.456379}\n",
      "\u001b[0m\n",
      "\u001b[31m#metrics {\"Metrics\": {\"train_mse_objective\": {\"count\": 1, \"max\": 0.7326881713867187, \"sum\": 0.7326881713867187, \"min\": 0.7326881713867187}}, \"EndTime\": 1574978887.456483, \"Dimensions\": {\"model\": 3, \"Host\": \"algo-1\", \"Operation\": \"training\", \"Algorithm\": \"Linear Learner\", \"epoch\": 5}, \"StartTime\": 1574978887.456463}\n",
      "\u001b[0m\n",
      "\u001b[31m#metrics {\"Metrics\": {\"train_mse_objective\": {\"count\": 1, \"max\": 0.1613010721206665, \"sum\": 0.1613010721206665, \"min\": 0.1613010721206665}}, \"EndTime\": 1574978887.456534, \"Dimensions\": {\"model\": 4, \"Host\": \"algo-1\", \"Operation\": \"training\", \"Algorithm\": \"Linear Learner\", \"epoch\": 5}, \"StartTime\": 1574978887.456522}\n",
      "\u001b[0m\n",
      "\u001b[31m#metrics {\"Metrics\": {\"train_mse_objective\": {\"count\": 1, \"max\": 0.16267134857177734, \"sum\": 0.16267134857177734, \"min\": 0.16267134857177734}}, \"EndTime\": 1574978887.456572, \"Dimensions\": {\"model\": 5, \"Host\": \"algo-1\", \"Operation\": \"training\", \"Algorithm\": \"Linear Learner\", \"epoch\": 5}, \"StartTime\": 1574978887.456563}\n",
      "\u001b[0m\n",
      "\u001b[31m#metrics {\"Metrics\": {\"train_mse_objective\": {\"count\": 1, \"max\": 0.1647068119049072, \"sum\": 0.1647068119049072, \"min\": 0.1647068119049072}}, \"EndTime\": 1574978887.45661, \"Dimensions\": {\"model\": 6, \"Host\": \"algo-1\", \"Operation\": \"training\", \"Algorithm\": \"Linear Learner\", \"epoch\": 5}, \"StartTime\": 1574978887.4566}\n",
      "\u001b[0m\n",
      "\u001b[31m#metrics {\"Metrics\": {\"train_mse_objective\": {\"count\": 1, \"max\": 0.1626603660583496, \"sum\": 0.1626603660583496, \"min\": 0.1626603660583496}}, \"EndTime\": 1574978887.456653, \"Dimensions\": {\"model\": 7, \"Host\": \"algo-1\", \"Operation\": \"training\", \"Algorithm\": \"Linear Learner\", \"epoch\": 5}, \"StartTime\": 1574978887.45664}\n",
      "\u001b[0m\n",
      "\u001b[31m#metrics {\"Metrics\": {\"train_mse_objective\": {\"count\": 1, \"max\": 0.7630825500488281, \"sum\": 0.7630825500488281, \"min\": 0.7630825500488281}}, \"EndTime\": 1574978887.456696, \"Dimensions\": {\"model\": 8, \"Host\": \"algo-1\", \"Operation\": \"training\", \"Algorithm\": \"Linear Learner\", \"epoch\": 5}, \"StartTime\": 1574978887.456686}\n",
      "\u001b[0m\n",
      "\u001b[31m#metrics {\"Metrics\": {\"train_mse_objective\": {\"count\": 1, \"max\": 0.9244178466796875, \"sum\": 0.9244178466796875, \"min\": 0.9244178466796875}}, \"EndTime\": 1574978887.456741, \"Dimensions\": {\"model\": 9, \"Host\": \"algo-1\", \"Operation\": \"training\", \"Algorithm\": \"Linear Learner\", \"epoch\": 5}, \"StartTime\": 1574978887.456729}\n",
      "\u001b[0m\n",
      "\u001b[31m#metrics {\"Metrics\": {\"train_mse_objective\": {\"count\": 1, \"max\": 0.7042683410644531, \"sum\": 0.7042683410644531, \"min\": 0.7042683410644531}}, \"EndTime\": 1574978887.45678, \"Dimensions\": {\"model\": 10, \"Host\": \"algo-1\", \"Operation\": \"training\", \"Algorithm\": \"Linear Learner\", \"epoch\": 5}, \"StartTime\": 1574978887.456771}\n",
      "\u001b[0m\n",
      "\u001b[31m#metrics {\"Metrics\": {\"train_mse_objective\": {\"count\": 1, \"max\": 0.6579584808349609, \"sum\": 0.6579584808349609, \"min\": 0.6579584808349609}}, \"EndTime\": 1574978887.456817, \"Dimensions\": {\"model\": 11, \"Host\": \"algo-1\", \"Operation\": \"training\", \"Algorithm\": \"Linear Learner\", \"epoch\": 5}, \"StartTime\": 1574978887.456808}\n",
      "\u001b[0m\n",
      "\u001b[31m#metrics {\"Metrics\": {\"train_mse_objective\": {\"count\": 1, \"max\": 0.1572370204925537, \"sum\": 0.1572370204925537, \"min\": 0.1572370204925537}}, \"EndTime\": 1574978887.456854, \"Dimensions\": {\"model\": 12, \"Host\": \"algo-1\", \"Operation\": \"training\", \"Algorithm\": \"Linear Learner\", \"epoch\": 5}, \"StartTime\": 1574978887.456844}\n",
      "\u001b[0m\n",
      "\u001b[31m#metrics {\"Metrics\": {\"train_mse_objective\": {\"count\": 1, \"max\": 0.16482972526550294, \"sum\": 0.16482972526550294, \"min\": 0.16482972526550294}}, \"EndTime\": 1574978887.456895, \"Dimensions\": {\"model\": 13, \"Host\": \"algo-1\", \"Operation\": \"training\", \"Algorithm\": \"Linear Learner\", \"epoch\": 5}, \"StartTime\": 1574978887.456883}\n",
      "\u001b[0m\n",
      "\u001b[31m#metrics {\"Metrics\": {\"train_mse_objective\": {\"count\": 1, \"max\": 0.15283097553253175, \"sum\": 0.15283097553253175, \"min\": 0.15283097553253175}}, \"EndTime\": 1574978887.456936, \"Dimensions\": {\"model\": 14, \"Host\": \"algo-1\", \"Operation\": \"training\", \"Algorithm\": \"Linear Learner\", \"epoch\": 5}, \"StartTime\": 1574978887.456926}\n",
      "\u001b[0m\n",
      "\u001b[31m#metrics {\"Metrics\": {\"train_mse_objective\": {\"count\": 1, \"max\": 0.16009974098205568, \"sum\": 0.16009974098205568, \"min\": 0.16009974098205568}}, \"EndTime\": 1574978887.456973, \"Dimensions\": {\"model\": 15, \"Host\": \"algo-1\", \"Operation\": \"training\", \"Algorithm\": \"Linear Learner\", \"epoch\": 5}, \"StartTime\": 1574978887.456963}\n",
      "\u001b[0m\n",
      "\u001b[31m#metrics {\"Metrics\": {\"train_mse_objective\": {\"count\": 1, \"max\": 0.6806482696533203, \"sum\": 0.6806482696533203, \"min\": 0.6806482696533203}}, \"EndTime\": 1574978887.457009, \"Dimensions\": {\"model\": 16, \"Host\": \"algo-1\", \"Operation\": \"training\", \"Algorithm\": \"Linear Learner\", \"epoch\": 5}, \"StartTime\": 1574978887.457}\n",
      "\u001b[0m\n",
      "\u001b[31m#metrics {\"Metrics\": {\"train_mse_objective\": {\"count\": 1, \"max\": 0.8299386901855469, \"sum\": 0.8299386901855469, \"min\": 0.8299386901855469}}, \"EndTime\": 1574978887.457055, \"Dimensions\": {\"model\": 17, \"Host\": \"algo-1\", \"Operation\": \"training\", \"Algorithm\": \"Linear Learner\", \"epoch\": 5}, \"StartTime\": 1574978887.457043}\n",
      "\u001b[0m\n",
      "\u001b[31m#metrics {\"Metrics\": {\"train_mse_objective\": {\"count\": 1, \"max\": 0.765843994140625, \"sum\": 0.765843994140625, \"min\": 0.765843994140625}}, \"EndTime\": 1574978887.457094, \"Dimensions\": {\"model\": 18, \"Host\": \"algo-1\", \"Operation\": \"training\", \"Algorithm\": \"Linear Learner\", \"epoch\": 5}, \"StartTime\": 1574978887.457084}\n",
      "\u001b[0m\n",
      "\u001b[31m#metrics {\"Metrics\": {\"train_mse_objective\": {\"count\": 1, \"max\": 0.7593234558105468, \"sum\": 0.7593234558105468, \"min\": 0.7593234558105468}}, \"EndTime\": 1574978887.457131, \"Dimensions\": {\"model\": 19, \"Host\": \"algo-1\", \"Operation\": \"training\", \"Algorithm\": \"Linear Learner\", \"epoch\": 5}, \"StartTime\": 1574978887.457121}\n",
      "\u001b[0m\n",
      "\u001b[31m#metrics {\"Metrics\": {\"train_mse_objective\": {\"count\": 1, \"max\": 0.10305564880371093, \"sum\": 0.10305564880371093, \"min\": 0.10305564880371093}}, \"EndTime\": 1574978887.457167, \"Dimensions\": {\"model\": 20, \"Host\": \"algo-1\", \"Operation\": \"training\", \"Algorithm\": \"Linear Learner\", \"epoch\": 5}, \"StartTime\": 1574978887.457158}\n",
      "\u001b[0m\n",
      "\u001b[31m#metrics {\"Metrics\": {\"train_mse_objective\": {\"count\": 1, \"max\": 0.2092972068786621, \"sum\": 0.2092972068786621, \"min\": 0.2092972068786621}}, \"EndTime\": 1574978887.45721, \"Dimensions\": {\"model\": 21, \"Host\": \"algo-1\", \"Operation\": \"training\", \"Algorithm\": \"Linear Learner\", \"epoch\": 5}, \"StartTime\": 1574978887.457198}\n",
      "\u001b[0m\n",
      "\u001b[31m#metrics {\"Metrics\": {\"train_mse_objective\": {\"count\": 1, \"max\": 0.18122808837890625, \"sum\": 0.18122808837890625, \"min\": 0.18122808837890625}}, \"EndTime\": 1574978887.457249, \"Dimensions\": {\"model\": 22, \"Host\": \"algo-1\", \"Operation\": \"training\", \"Algorithm\": \"Linear Learner\", \"epoch\": 5}, \"StartTime\": 1574978887.457239}\n",
      "\u001b[0m\n",
      "\u001b[31m#metrics {\"Metrics\": {\"train_mse_objective\": {\"count\": 1, \"max\": 0.14019924736022948, \"sum\": 0.14019924736022948, \"min\": 0.14019924736022948}}, \"EndTime\": 1574978887.457286, \"Dimensions\": {\"model\": 23, \"Host\": \"algo-1\", \"Operation\": \"training\", \"Algorithm\": \"Linear Learner\", \"epoch\": 5}, \"StartTime\": 1574978887.457276}\n",
      "\u001b[0m\n",
      "\u001b[31m#metrics {\"Metrics\": {\"train_mse_objective\": {\"count\": 1, \"max\": 0.9895677795410156, \"sum\": 0.9895677795410156, \"min\": 0.9895677795410156}}, \"EndTime\": 1574978887.457322, \"Dimensions\": {\"model\": 24, \"Host\": \"algo-1\", \"Operation\": \"training\", \"Algorithm\": \"Linear Learner\", \"epoch\": 5}, \"StartTime\": 1574978887.457313}\n",
      "\u001b[0m\n",
      "\u001b[31m#metrics {\"Metrics\": {\"train_mse_objective\": {\"count\": 1, \"max\": 0.9847363891601563, \"sum\": 0.9847363891601563, \"min\": 0.9847363891601563}}, \"EndTime\": 1574978887.457358, \"Dimensions\": {\"model\": 25, \"Host\": \"algo-1\", \"Operation\": \"training\", \"Algorithm\": \"Linear Learner\", \"epoch\": 5}, \"StartTime\": 1574978887.457349}\n",
      "\u001b[0m\n",
      "\u001b[31m#metrics {\"Metrics\": {\"train_mse_objective\": {\"count\": 1, \"max\": 0.9770636901855468, \"sum\": 0.9770636901855468, \"min\": 0.9770636901855468}}, \"EndTime\": 1574978887.457394, \"Dimensions\": {\"model\": 26, \"Host\": \"algo-1\", \"Operation\": \"training\", \"Algorithm\": \"Linear Learner\", \"epoch\": 5}, \"StartTime\": 1574978887.457385}\n",
      "\u001b[0m\n",
      "\u001b[31m#metrics {\"Metrics\": {\"train_mse_objective\": {\"count\": 1, \"max\": 0.9687107849121094, \"sum\": 0.9687107849121094, \"min\": 0.9687107849121094}}, \"EndTime\": 1574978887.457435, \"Dimensions\": {\"model\": 27, \"Host\": \"algo-1\", \"Operation\": \"training\", \"Algorithm\": \"Linear Learner\", \"epoch\": 5}, \"StartTime\": 1574978887.457423}\n",
      "\u001b[0m\n",
      "\u001b[31m#metrics {\"Metrics\": {\"train_mse_objective\": {\"count\": 1, \"max\": 1.0662123413085938, \"sum\": 1.0662123413085938, \"min\": 1.0662123413085938}}, \"EndTime\": 1574978887.457474, \"Dimensions\": {\"model\": 28, \"Host\": \"algo-1\", \"Operation\": \"training\", \"Algorithm\": \"Linear Learner\", \"epoch\": 5}, \"StartTime\": 1574978887.457464}\n",
      "\u001b[0m\n",
      "\u001b[31m#metrics {\"Metrics\": {\"train_mse_objective\": {\"count\": 1, \"max\": 1.1914671020507812, \"sum\": 1.1914671020507812, \"min\": 1.1914671020507812}}, \"EndTime\": 1574978887.457511, \"Dimensions\": {\"model\": 29, \"Host\": \"algo-1\", \"Operation\": \"training\", \"Algorithm\": \"Linear Learner\", \"epoch\": 5}, \"StartTime\": 1574978887.457501}\n",
      "\u001b[0m\n",
      "\u001b[31m#metrics {\"Metrics\": {\"train_mse_objective\": {\"count\": 1, \"max\": 1.25648291015625, \"sum\": 1.25648291015625, \"min\": 1.25648291015625}}, \"EndTime\": 1574978887.457547, \"Dimensions\": {\"model\": 30, \"Host\": \"algo-1\", \"Operation\": \"training\", \"Algorithm\": \"Linear Learner\", \"epoch\": 5}, \"StartTime\": 1574978887.457538}\n",
      "\u001b[0m\n",
      "\u001b[31m#metrics {\"Metrics\": {\"train_mse_objective\": {\"count\": 1, \"max\": 1.1906485595703125, \"sum\": 1.1906485595703125, \"min\": 1.1906485595703125}}, \"EndTime\": 1574978887.457586, \"Dimensions\": {\"model\": 31, \"Host\": \"algo-1\", \"Operation\": \"training\", \"Algorithm\": \"Linear Learner\", \"epoch\": 5}, \"StartTime\": 1574978887.457574}\n",
      "\u001b[0m\n",
      "\u001b[31m[11/28/2019 22:08:07 INFO 140085482997568] #quality_metric: host=algo-1, epoch=5, train mse_objective <loss>=0.754191253662\u001b[0m\n",
      "\u001b[31m[11/28/2019 22:08:07 INFO 140085482997568] #early_stopping_criteria_metric: host=algo-1, epoch=5, criteria=mse_objective, value=0.103055648804\u001b[0m\n",
      "\u001b[31m[11/28/2019 22:08:07 INFO 140085482997568] Epoch 5: Loss improved. Updating best model\u001b[0m\n",
      "\u001b[31m[11/28/2019 22:08:07 INFO 140085482997568] #progress_metric: host=algo-1, completed 40 % of epochs\u001b[0m\n",
      "\u001b[31m#metrics {\"Metrics\": {\"Max Batches Seen Between Resets\": {\"count\": 1, \"max\": 3, \"sum\": 3.0, \"min\": 3}, \"Number of Batches Since Last Reset\": {\"count\": 1, \"max\": 3, \"sum\": 3.0, \"min\": 3}, \"Number of Records Since Last Reset\": {\"count\": 1, \"max\": 2012, \"sum\": 2012.0, \"min\": 2012}, \"Total Batches Seen\": {\"count\": 1, \"max\": 22, \"sum\": 22.0, \"min\": 22}, \"Total Records Seen\": {\"count\": 1, \"max\": 15084, \"sum\": 15084.0, \"min\": 15084}, \"Max Records Seen Between Resets\": {\"count\": 1, \"max\": 2012, \"sum\": 2012.0, \"min\": 2012}, \"Reset Count\": {\"count\": 1, \"max\": 8, \"sum\": 8.0, \"min\": 8}}, \"EndTime\": 1574978887.460272, \"Dimensions\": {\"Host\": \"algo-1\", \"Meta\": \"training_data_iter\", \"Operation\": \"training\", \"Algorithm\": \"Linear Learner\", \"epoch\": 5}, \"StartTime\": 1574978887.39918}\n",
      "\u001b[0m\n",
      "\u001b[31m[11/28/2019 22:08:07 INFO 140085482997568] #throughput_metric: host=algo-1, train throughput=32874.2039392 records/second\u001b[0m\n",
      "\u001b[31m[2019-11-28 22:08:07.503] [tensorio] [info] epoch_stats={\"data_pipeline\": \"/opt/ml/input/data/train\", \"epoch\": 16, \"duration\": 42, \"num_examples\": 3, \"num_bytes\": 112672}\u001b[0m\n",
      "\u001b[31m#metrics {\"Metrics\": {\"train_mse_objective\": {\"count\": 1, \"max\": 0.7122174377441406, \"sum\": 0.7122174377441406, \"min\": 0.7122174377441406}}, \"EndTime\": 1574978887.503469, \"Dimensions\": {\"model\": 0, \"Host\": \"algo-1\", \"Operation\": \"training\", \"Algorithm\": \"Linear Learner\", \"epoch\": 6}, \"StartTime\": 1574978887.503313}\n",
      "\u001b[0m\n",
      "\u001b[31m#metrics {\"Metrics\": {\"train_mse_objective\": {\"count\": 1, \"max\": 0.7281579284667968, \"sum\": 0.7281579284667968, \"min\": 0.7281579284667968}}, \"EndTime\": 1574978887.503542, \"Dimensions\": {\"model\": 1, \"Host\": \"algo-1\", \"Operation\": \"training\", \"Algorithm\": \"Linear Learner\", \"epoch\": 6}, \"StartTime\": 1574978887.503527}\n",
      "\u001b[0m\n",
      "\u001b[31m#metrics {\"Metrics\": {\"train_mse_objective\": {\"count\": 1, \"max\": 0.7314017944335938, \"sum\": 0.7314017944335938, \"min\": 0.7314017944335938}}, \"EndTime\": 1574978887.503661, \"Dimensions\": {\"model\": 2, \"Host\": \"algo-1\", \"Operation\": \"training\", \"Algorithm\": \"Linear Learner\", \"epoch\": 6}, \"StartTime\": 1574978887.503601}\n",
      "\u001b[0m\n",
      "\u001b[31m#metrics {\"Metrics\": {\"train_mse_objective\": {\"count\": 1, \"max\": 0.6904540710449218, \"sum\": 0.6904540710449218, \"min\": 0.6904540710449218}}, \"EndTime\": 1574978887.503742, \"Dimensions\": {\"model\": 3, \"Host\": \"algo-1\", \"Operation\": \"training\", \"Algorithm\": \"Linear Learner\", \"epoch\": 6}, \"StartTime\": 1574978887.503702}\n",
      "\u001b[0m\n",
      "\u001b[31m#metrics {\"Metrics\": {\"train_mse_objective\": {\"count\": 1, \"max\": 0.27852960968017576, \"sum\": 0.27852960968017576, \"min\": 0.27852960968017576}}, \"EndTime\": 1574978887.503881, \"Dimensions\": {\"model\": 4, \"Host\": \"algo-1\", \"Operation\": \"training\", \"Algorithm\": \"Linear Learner\", \"epoch\": 6}, \"StartTime\": 1574978887.503865}\n",
      "\u001b[0m\n",
      "\u001b[31m#metrics {\"Metrics\": {\"train_mse_objective\": {\"count\": 1, \"max\": 0.28565111351013184, \"sum\": 0.28565111351013184, \"min\": 0.28565111351013184}}, \"EndTime\": 1574978887.504001, \"Dimensions\": {\"model\": 5, \"Host\": \"algo-1\", \"Operation\": \"training\", \"Algorithm\": \"Linear Learner\", \"epoch\": 6}, \"StartTime\": 1574978887.503983}\n",
      "\u001b[0m\n",
      "\u001b[31m#metrics {\"Metrics\": {\"train_mse_objective\": {\"count\": 1, \"max\": 0.28180646514892577, \"sum\": 0.28180646514892577, \"min\": 0.28180646514892577}}, \"EndTime\": 1574978887.504106, \"Dimensions\": {\"model\": 6, \"Host\": \"algo-1\", \"Operation\": \"training\", \"Algorithm\": \"Linear Learner\", \"epoch\": 6}, \"StartTime\": 1574978887.504037}\n",
      "\u001b[0m\n",
      "\u001b[31m#metrics {\"Metrics\": {\"train_mse_objective\": {\"count\": 1, \"max\": 0.2763351516723633, \"sum\": 0.2763351516723633, \"min\": 0.2763351516723633}}, \"EndTime\": 1574978887.504161, \"Dimensions\": {\"model\": 7, \"Host\": \"algo-1\", \"Operation\": \"training\", \"Algorithm\": \"Linear Learner\", \"epoch\": 6}, \"StartTime\": 1574978887.504147}\n",
      "\u001b[0m\n",
      "\u001b[31m#metrics {\"Metrics\": {\"train_mse_objective\": {\"count\": 1, \"max\": 0.7221470947265625, \"sum\": 0.7221470947265625, \"min\": 0.7221470947265625}}, \"EndTime\": 1574978887.504389, \"Dimensions\": {\"model\": 8, \"Host\": \"algo-1\", \"Operation\": \"training\", \"Algorithm\": \"Linear Learner\", \"epoch\": 6}, \"StartTime\": 1574978887.504301}\n",
      "\u001b[0m\n",
      "\u001b[31m#metrics {\"Metrics\": {\"train_mse_objective\": {\"count\": 1, \"max\": 0.8771351318359375, \"sum\": 0.8771351318359375, \"min\": 0.8771351318359375}}, \"EndTime\": 1574978887.504451, \"Dimensions\": {\"model\": 9, \"Host\": \"algo-1\", \"Operation\": \"training\", \"Algorithm\": \"Linear Learner\", \"epoch\": 6}, \"StartTime\": 1574978887.504437}\n",
      "\u001b[0m\n",
      "\u001b[31m#metrics {\"Metrics\": {\"train_mse_objective\": {\"count\": 1, \"max\": 0.6636067962646485, \"sum\": 0.6636067962646485, \"min\": 0.6636067962646485}}, \"EndTime\": 1574978887.504585, \"Dimensions\": {\"model\": 10, \"Host\": \"algo-1\", \"Operation\": \"training\", \"Algorithm\": \"Linear Learner\", \"epoch\": 6}, \"StartTime\": 1574978887.504568}\n",
      "\u001b[0m\n",
      "\u001b[31m#metrics {\"Metrics\": {\"train_mse_objective\": {\"count\": 1, \"max\": 0.6191777648925781, \"sum\": 0.6191777648925781, \"min\": 0.6191777648925781}}, \"EndTime\": 1574978887.50471, \"Dimensions\": {\"model\": 11, \"Host\": \"algo-1\", \"Operation\": \"training\", \"Algorithm\": \"Linear Learner\", \"epoch\": 6}, \"StartTime\": 1574978887.504646}\n",
      "\u001b[0m\n",
      "\u001b[31m#metrics {\"Metrics\": {\"train_mse_objective\": {\"count\": 1, \"max\": 0.27250131607055667, \"sum\": 0.27250131607055667, \"min\": 0.27250131607055667}}, \"EndTime\": 1574978887.504759, \"Dimensions\": {\"model\": 12, \"Host\": \"algo-1\", \"Operation\": \"training\", \"Algorithm\": \"Linear Learner\", \"epoch\": 6}, \"StartTime\": 1574978887.504749}\n",
      "\u001b[0m\n",
      "\u001b[31m#metrics {\"Metrics\": {\"train_mse_objective\": {\"count\": 1, \"max\": 0.2829552574157715, \"sum\": 0.2829552574157715, \"min\": 0.2829552574157715}}, \"EndTime\": 1574978887.504792, \"Dimensions\": {\"model\": 13, \"Host\": \"algo-1\", \"Operation\": \"training\", \"Algorithm\": \"Linear Learner\", \"epoch\": 6}, \"StartTime\": 1574978887.504781}\n",
      "\u001b[0m\n",
      "\u001b[31m#metrics {\"Metrics\": {\"train_mse_objective\": {\"count\": 1, \"max\": 0.2700683174133301, \"sum\": 0.2700683174133301, \"min\": 0.2700683174133301}}, \"EndTime\": 1574978887.504845, \"Dimensions\": {\"model\": 14, \"Host\": \"algo-1\", \"Operation\": \"training\", \"Algorithm\": \"Linear Learner\", \"epoch\": 6}, \"StartTime\": 1574978887.504828}\n",
      "\u001b[0m\n",
      "\u001b[31m#metrics {\"Metrics\": {\"train_mse_objective\": {\"count\": 1, \"max\": 0.2809994583129883, \"sum\": 0.2809994583129883, \"min\": 0.2809994583129883}}, \"EndTime\": 1574978887.504902, \"Dimensions\": {\"model\": 15, \"Host\": \"algo-1\", \"Operation\": \"training\", \"Algorithm\": \"Linear Learner\", \"epoch\": 6}, \"StartTime\": 1574978887.504886}\n",
      "\u001b[0m\n",
      "\u001b[31m#metrics {\"Metrics\": {\"train_mse_objective\": {\"count\": 1, \"max\": 0.6420529327392578, \"sum\": 0.6420529327392578, \"min\": 0.6420529327392578}}, \"EndTime\": 1574978887.50496, \"Dimensions\": {\"model\": 16, \"Host\": \"algo-1\", \"Operation\": \"training\", \"Algorithm\": \"Linear Learner\", \"epoch\": 6}, \"StartTime\": 1574978887.504944}\n",
      "\u001b[0m\n",
      "\u001b[31m#metrics {\"Metrics\": {\"train_mse_objective\": {\"count\": 1, \"max\": 0.7853368225097657, \"sum\": 0.7853368225097657, \"min\": 0.7853368225097657}}, \"EndTime\": 1574978887.505016, \"Dimensions\": {\"model\": 17, \"Host\": \"algo-1\", \"Operation\": \"training\", \"Algorithm\": \"Linear Learner\", \"epoch\": 6}, \"StartTime\": 1574978887.505}\n",
      "\u001b[0m\n",
      "\u001b[31m#metrics {\"Metrics\": {\"train_mse_objective\": {\"count\": 1, \"max\": 0.7250353698730468, \"sum\": 0.7250353698730468, \"min\": 0.7250353698730468}}, \"EndTime\": 1574978887.505075, \"Dimensions\": {\"model\": 18, \"Host\": \"algo-1\", \"Operation\": \"training\", \"Algorithm\": \"Linear Learner\", \"epoch\": 6}, \"StartTime\": 1574978887.505057}\n",
      "\u001b[0m\n",
      "\u001b[31m#metrics {\"Metrics\": {\"train_mse_objective\": {\"count\": 1, \"max\": 0.7188740234375, \"sum\": 0.7188740234375, \"min\": 0.7188740234375}}, \"EndTime\": 1574978887.505132, \"Dimensions\": {\"model\": 19, \"Host\": \"algo-1\", \"Operation\": \"training\", \"Algorithm\": \"Linear Learner\", \"epoch\": 6}, \"StartTime\": 1574978887.505119}\n",
      "\u001b[0m\n",
      "\u001b[31m#metrics {\"Metrics\": {\"train_mse_objective\": {\"count\": 1, \"max\": 0.2683324432373047, \"sum\": 0.2683324432373047, \"min\": 0.2683324432373047}}, \"EndTime\": 1574978887.505173, \"Dimensions\": {\"model\": 20, \"Host\": \"algo-1\", \"Operation\": \"training\", \"Algorithm\": \"Linear Learner\", \"epoch\": 6}, \"StartTime\": 1574978887.505159}\n",
      "\u001b[0m\n",
      "\u001b[31m#metrics {\"Metrics\": {\"train_mse_objective\": {\"count\": 1, \"max\": 0.3331538925170898, \"sum\": 0.3331538925170898, \"min\": 0.3331538925170898}}, \"EndTime\": 1574978887.505227, \"Dimensions\": {\"model\": 21, \"Host\": \"algo-1\", \"Operation\": \"training\", \"Algorithm\": \"Linear Learner\", \"epoch\": 6}, \"StartTime\": 1574978887.505211}\n",
      "\u001b[0m\n",
      "\u001b[31m#metrics {\"Metrics\": {\"train_mse_objective\": {\"count\": 1, \"max\": 0.32106336784362793, \"sum\": 0.32106336784362793, \"min\": 0.32106336784362793}}, \"EndTime\": 1574978887.505283, \"Dimensions\": {\"model\": 22, \"Host\": \"algo-1\", \"Operation\": \"training\", \"Algorithm\": \"Linear Learner\", \"epoch\": 6}, \"StartTime\": 1574978887.505267}\n",
      "\u001b[0m\n",
      "\u001b[31m#metrics {\"Metrics\": {\"train_mse_objective\": {\"count\": 1, \"max\": 0.3040496940612793, \"sum\": 0.3040496940612793, \"min\": 0.3040496940612793}}, \"EndTime\": 1574978887.50534, \"Dimensions\": {\"model\": 23, \"Host\": \"algo-1\", \"Operation\": \"training\", \"Algorithm\": \"Linear Learner\", \"epoch\": 6}, \"StartTime\": 1574978887.505324}\n",
      "\u001b[0m\n",
      "\u001b[31m#metrics {\"Metrics\": {\"train_mse_objective\": {\"count\": 1, \"max\": 0.9704858093261719, \"sum\": 0.9704858093261719, \"min\": 0.9704858093261719}}, \"EndTime\": 1574978887.505402, \"Dimensions\": {\"model\": 24, \"Host\": \"algo-1\", \"Operation\": \"training\", \"Algorithm\": \"Linear Learner\", \"epoch\": 6}, \"StartTime\": 1574978887.505385}\n",
      "\u001b[0m\n",
      "\u001b[31m#metrics {\"Metrics\": {\"train_mse_objective\": {\"count\": 1, \"max\": 0.9700269775390625, \"sum\": 0.9700269775390625, \"min\": 0.9700269775390625}}, \"EndTime\": 1574978887.505459, \"Dimensions\": {\"model\": 25, \"Host\": \"algo-1\", \"Operation\": \"training\", \"Algorithm\": \"Linear Learner\", \"epoch\": 6}, \"StartTime\": 1574978887.505443}\n",
      "\u001b[0m\n",
      "\u001b[31m#metrics {\"Metrics\": {\"train_mse_objective\": {\"count\": 1, \"max\": 0.98726220703125, \"sum\": 0.98726220703125, \"min\": 0.98726220703125}}, \"EndTime\": 1574978887.505517, \"Dimensions\": {\"model\": 26, \"Host\": \"algo-1\", \"Operation\": \"training\", \"Algorithm\": \"Linear Learner\", \"epoch\": 6}, \"StartTime\": 1574978887.5055}\n",
      "\u001b[0m\n",
      "\u001b[31m#metrics {\"Metrics\": {\"train_mse_objective\": {\"count\": 1, \"max\": 0.959578857421875, \"sum\": 0.959578857421875, \"min\": 0.959578857421875}}, \"EndTime\": 1574978887.505574, \"Dimensions\": {\"model\": 27, \"Host\": \"algo-1\", \"Operation\": \"training\", \"Algorithm\": \"Linear Learner\", \"epoch\": 6}, \"StartTime\": 1574978887.505557}\n",
      "\u001b[0m\n",
      "\u001b[31m#metrics {\"Metrics\": {\"train_mse_objective\": {\"count\": 1, \"max\": 1.2093663635253906, \"sum\": 1.2093663635253906, \"min\": 1.2093663635253906}}, \"EndTime\": 1574978887.505631, \"Dimensions\": {\"model\": 28, \"Host\": \"algo-1\", \"Operation\": \"training\", \"Algorithm\": \"Linear Learner\", \"epoch\": 6}, \"StartTime\": 1574978887.505615}\n",
      "\u001b[0m\n",
      "\u001b[31m#metrics {\"Metrics\": {\"train_mse_objective\": {\"count\": 1, \"max\": 1.117460693359375, \"sum\": 1.117460693359375, \"min\": 1.117460693359375}}, \"EndTime\": 1574978887.505688, \"Dimensions\": {\"model\": 29, \"Host\": \"algo-1\", \"Operation\": \"training\", \"Algorithm\": \"Linear Learner\", \"epoch\": 6}, \"StartTime\": 1574978887.505671}\n",
      "\u001b[0m\n",
      "\u001b[31m#metrics {\"Metrics\": {\"train_mse_objective\": {\"count\": 1, \"max\": 1.1471729736328125, \"sum\": 1.1471729736328125, \"min\": 1.1471729736328125}}, \"EndTime\": 1574978887.505745, \"Dimensions\": {\"model\": 30, \"Host\": \"algo-1\", \"Operation\": \"training\", \"Algorithm\": \"Linear Learner\", \"epoch\": 6}, \"StartTime\": 1574978887.505728}\n",
      "\u001b[0m\n",
      "\u001b[31m#metrics {\"Metrics\": {\"train_mse_objective\": {\"count\": 1, \"max\": 1.1865380859375, \"sum\": 1.1865380859375, \"min\": 1.1865380859375}}, \"EndTime\": 1574978887.5058, \"Dimensions\": {\"model\": 31, \"Host\": \"algo-1\", \"Operation\": \"training\", \"Algorithm\": \"Linear Learner\", \"epoch\": 6}, \"StartTime\": 1574978887.505786}\n",
      "\u001b[0m\n",
      "\u001b[31m[11/28/2019 22:08:07 INFO 140085482997568] #quality_metric: host=algo-1, epoch=6, train mse_objective <loss>=0.712217437744\u001b[0m\n",
      "\u001b[31m[11/28/2019 22:08:07 INFO 140085482997568] #early_stopping_criteria_metric: host=algo-1, epoch=6, criteria=mse_objective, value=0.268332443237\u001b[0m\n",
      "\u001b[31m[11/28/2019 22:08:07 INFO 140085482997568] #progress_metric: host=algo-1, completed 46 % of epochs\u001b[0m\n",
      "\u001b[31m#metrics {\"Metrics\": {\"Max Batches Seen Between Resets\": {\"count\": 1, \"max\": 3, \"sum\": 3.0, \"min\": 3}, \"Number of Batches Since Last Reset\": {\"count\": 1, \"max\": 3, \"sum\": 3.0, \"min\": 3}, \"Number of Records Since Last Reset\": {\"count\": 1, \"max\": 2012, \"sum\": 2012.0, \"min\": 2012}, \"Total Batches Seen\": {\"count\": 1, \"max\": 25, \"sum\": 25.0, \"min\": 25}, \"Total Records Seen\": {\"count\": 1, \"max\": 17096, \"sum\": 17096.0, \"min\": 17096}, \"Max Records Seen Between Resets\": {\"count\": 1, \"max\": 2012, \"sum\": 2012.0, \"min\": 2012}, \"Reset Count\": {\"count\": 1, \"max\": 9, \"sum\": 9.0, \"min\": 9}}, \"EndTime\": 1574978887.507835, \"Dimensions\": {\"Host\": \"algo-1\", \"Meta\": \"training_data_iter\", \"Operation\": \"training\", \"Algorithm\": \"Linear Learner\", \"epoch\": 6}, \"StartTime\": 1574978887.460482}\n",
      "\u001b[0m\n",
      "\u001b[31m[11/28/2019 22:08:07 INFO 140085482997568] #throughput_metric: host=algo-1, train throughput=42388.2003747 records/second\u001b[0m\n",
      "\u001b[31m[2019-11-28 22:08:07.551] [tensorio] [info] epoch_stats={\"data_pipeline\": \"/opt/ml/input/data/train\", \"epoch\": 18, \"duration\": 43, \"num_examples\": 3, \"num_bytes\": 112672}\u001b[0m\n",
      "\u001b[31m#metrics {\"Metrics\": {\"train_mse_objective\": {\"count\": 1, \"max\": 0.6720855865478516, \"sum\": 0.6720855865478516, \"min\": 0.6720855865478516}}, \"EndTime\": 1574978887.55198, \"Dimensions\": {\"model\": 0, \"Host\": \"algo-1\", \"Operation\": \"training\", \"Algorithm\": \"Linear Learner\", \"epoch\": 7}, \"StartTime\": 1574978887.551907}\n",
      "\u001b[0m\n",
      "\u001b[31m#metrics {\"Metrics\": {\"train_mse_objective\": {\"count\": 1, \"max\": 0.6865434875488281, \"sum\": 0.6865434875488281, \"min\": 0.6865434875488281}}, \"EndTime\": 1574978887.552061, \"Dimensions\": {\"model\": 1, \"Host\": \"algo-1\", \"Operation\": \"training\", \"Algorithm\": \"Linear Learner\", \"epoch\": 7}, \"StartTime\": 1574978887.552046}\n",
      "\u001b[0m\n",
      "\u001b[31m#metrics {\"Metrics\": {\"train_mse_objective\": {\"count\": 1, \"max\": 0.6925073852539062, \"sum\": 0.6925073852539062, \"min\": 0.6925073852539062}}, \"EndTime\": 1574978887.55211, \"Dimensions\": {\"model\": 2, \"Host\": \"algo-1\", \"Operation\": \"training\", \"Algorithm\": \"Linear Learner\", \"epoch\": 7}, \"StartTime\": 1574978887.552098}\n",
      "\u001b[0m\n",
      "\u001b[31m#metrics {\"Metrics\": {\"train_mse_objective\": {\"count\": 1, \"max\": 0.6500971984863281, \"sum\": 0.6500971984863281, \"min\": 0.6500971984863281}}, \"EndTime\": 1574978887.55215, \"Dimensions\": {\"model\": 3, \"Host\": \"algo-1\", \"Operation\": \"training\", \"Algorithm\": \"Linear Learner\", \"epoch\": 7}, \"StartTime\": 1574978887.55214}\n",
      "\u001b[0m\n",
      "\u001b[31m#metrics {\"Metrics\": {\"train_mse_objective\": {\"count\": 1, \"max\": 0.16121455574035645, \"sum\": 0.16121455574035645, \"min\": 0.16121455574035645}}, \"EndTime\": 1574978887.552189, \"Dimensions\": {\"model\": 4, \"Host\": \"algo-1\", \"Operation\": \"training\", \"Algorithm\": \"Linear Learner\", \"epoch\": 7}, \"StartTime\": 1574978887.552179}\n",
      "\u001b[0m\n",
      "\u001b[31m#metrics {\"Metrics\": {\"train_mse_objective\": {\"count\": 1, \"max\": 0.19986785888671876, \"sum\": 0.19986785888671876, \"min\": 0.19986785888671876}}, \"EndTime\": 1574978887.552228, \"Dimensions\": {\"model\": 5, \"Host\": \"algo-1\", \"Operation\": \"training\", \"Algorithm\": \"Linear Learner\", \"epoch\": 7}, \"StartTime\": 1574978887.552218}\n",
      "\u001b[0m\n",
      "\u001b[31m#metrics {\"Metrics\": {\"train_mse_objective\": {\"count\": 1, \"max\": 0.1732887535095215, \"sum\": 0.1732887535095215, \"min\": 0.1732887535095215}}, \"EndTime\": 1574978887.552265, \"Dimensions\": {\"model\": 6, \"Host\": \"algo-1\", \"Operation\": \"training\", \"Algorithm\": \"Linear Learner\", \"epoch\": 7}, \"StartTime\": 1574978887.552255}\n",
      "\u001b[0m\n",
      "\u001b[31m#metrics {\"Metrics\": {\"train_mse_objective\": {\"count\": 1, \"max\": 0.13680886459350586, \"sum\": 0.13680886459350586, \"min\": 0.13680886459350586}}, \"EndTime\": 1574978887.552302, \"Dimensions\": {\"model\": 7, \"Host\": \"algo-1\", \"Operation\": \"training\", \"Algorithm\": \"Linear Learner\", \"epoch\": 7}, \"StartTime\": 1574978887.552293}\n",
      "\u001b[0m\n",
      "\u001b[31m#metrics {\"Metrics\": {\"train_mse_objective\": {\"count\": 1, \"max\": 0.6830491790771485, \"sum\": 0.6830491790771485, \"min\": 0.6830491790771485}}, \"EndTime\": 1574978887.552339, \"Dimensions\": {\"model\": 8, \"Host\": \"algo-1\", \"Operation\": \"training\", \"Algorithm\": \"Linear Learner\", \"epoch\": 7}, \"StartTime\": 1574978887.55233}\n",
      "\u001b[0m\n",
      "\u001b[31m#metrics {\"Metrics\": {\"train_mse_objective\": {\"count\": 1, \"max\": 0.8317430419921875, \"sum\": 0.8317430419921875, \"min\": 0.8317430419921875}}, \"EndTime\": 1574978887.552379, \"Dimensions\": {\"model\": 9, \"Host\": \"algo-1\", \"Operation\": \"training\", \"Algorithm\": \"Linear Learner\", \"epoch\": 7}, \"StartTime\": 1574978887.552369}\n",
      "\u001b[0m\n",
      "\u001b[31m#metrics {\"Metrics\": {\"train_mse_objective\": {\"count\": 1, \"max\": 0.6247846984863281, \"sum\": 0.6247846984863281, \"min\": 0.6247846984863281}}, \"EndTime\": 1574978887.552419, \"Dimensions\": {\"model\": 10, \"Host\": \"algo-1\", \"Operation\": \"training\", \"Algorithm\": \"Linear Learner\", \"epoch\": 7}, \"StartTime\": 1574978887.552409}\n",
      "\u001b[0m\n",
      "\u001b[31m#metrics {\"Metrics\": {\"train_mse_objective\": {\"count\": 1, \"max\": 0.5822652893066407, \"sum\": 0.5822652893066407, \"min\": 0.5822652893066407}}, \"EndTime\": 1574978887.552458, \"Dimensions\": {\"model\": 11, \"Host\": \"algo-1\", \"Operation\": \"training\", \"Algorithm\": \"Linear Learner\", \"epoch\": 7}, \"StartTime\": 1574978887.552448}\n",
      "\u001b[0m\n",
      "\u001b[31m#metrics {\"Metrics\": {\"train_mse_objective\": {\"count\": 1, \"max\": 0.1473191204071045, \"sum\": 0.1473191204071045, \"min\": 0.1473191204071045}}, \"EndTime\": 1574978887.552496, \"Dimensions\": {\"model\": 12, \"Host\": \"algo-1\", \"Operation\": \"training\", \"Algorithm\": \"Linear Learner\", \"epoch\": 7}, \"StartTime\": 1574978887.552486}\n",
      "\u001b[0m\n",
      "\u001b[31m#metrics {\"Metrics\": {\"train_mse_objective\": {\"count\": 1, \"max\": 0.2213311004638672, \"sum\": 0.2213311004638672, \"min\": 0.2213311004638672}}, \"EndTime\": 1574978887.552533, \"Dimensions\": {\"model\": 13, \"Host\": \"algo-1\", \"Operation\": \"training\", \"Algorithm\": \"Linear Learner\", \"epoch\": 7}, \"StartTime\": 1574978887.552523}\n",
      "\u001b[0m\n",
      "\u001b[31m#metrics {\"Metrics\": {\"train_mse_objective\": {\"count\": 1, \"max\": 0.1566220016479492, \"sum\": 0.1566220016479492, \"min\": 0.1566220016479492}}, \"EndTime\": 1574978887.552569, \"Dimensions\": {\"model\": 14, \"Host\": \"algo-1\", \"Operation\": \"training\", \"Algorithm\": \"Linear Learner\", \"epoch\": 7}, \"StartTime\": 1574978887.552559}\n",
      "\u001b[0m\n",
      "\u001b[31m#metrics {\"Metrics\": {\"train_mse_objective\": {\"count\": 1, \"max\": 0.20394671058654784, \"sum\": 0.20394671058654784, \"min\": 0.20394671058654784}}, \"EndTime\": 1574978887.552605, \"Dimensions\": {\"model\": 15, \"Host\": \"algo-1\", \"Operation\": \"training\", \"Algorithm\": \"Linear Learner\", \"epoch\": 7}, \"StartTime\": 1574978887.552595}\n",
      "\u001b[0m\n",
      "\u001b[31m#metrics {\"Metrics\": {\"train_mse_objective\": {\"count\": 1, \"max\": 0.6054345092773438, \"sum\": 0.6054345092773438, \"min\": 0.6054345092773438}}, \"EndTime\": 1574978887.552642, \"Dimensions\": {\"model\": 16, \"Host\": \"algo-1\", \"Operation\": \"training\", \"Algorithm\": \"Linear Learner\", \"epoch\": 7}, \"StartTime\": 1574978887.552632}\n",
      "\u001b[0m\n",
      "\u001b[31m#metrics {\"Metrics\": {\"train_mse_objective\": {\"count\": 1, \"max\": 0.7427408447265625, \"sum\": 0.7427408447265625, \"min\": 0.7427408447265625}}, \"EndTime\": 1574978887.552678, \"Dimensions\": {\"model\": 17, \"Host\": \"algo-1\", \"Operation\": \"training\", \"Algorithm\": \"Linear Learner\", \"epoch\": 7}, \"StartTime\": 1574978887.552669}\n",
      "\u001b[0m\n",
      "\u001b[31m#metrics {\"Metrics\": {\"train_mse_objective\": {\"count\": 1, \"max\": 0.6862071533203125, \"sum\": 0.6862071533203125, \"min\": 0.6862071533203125}}, \"EndTime\": 1574978887.552715, \"Dimensions\": {\"model\": 18, \"Host\": \"algo-1\", \"Operation\": \"training\", \"Algorithm\": \"Linear Learner\", \"epoch\": 7}, \"StartTime\": 1574978887.552705}\n",
      "\u001b[0m\n",
      "\u001b[31m#metrics {\"Metrics\": {\"train_mse_objective\": {\"count\": 1, \"max\": 0.6804495697021484, \"sum\": 0.6804495697021484, \"min\": 0.6804495697021484}}, \"EndTime\": 1574978887.552753, \"Dimensions\": {\"model\": 19, \"Host\": \"algo-1\", \"Operation\": \"training\", \"Algorithm\": \"Linear Learner\", \"epoch\": 7}, \"StartTime\": 1574978887.552743}\n",
      "\u001b[0m\n",
      "\u001b[31m#metrics {\"Metrics\": {\"train_mse_objective\": {\"count\": 1, \"max\": 0.2370824041366577, \"sum\": 0.2370824041366577, \"min\": 0.2370824041366577}}, \"EndTime\": 1574978887.55279, \"Dimensions\": {\"model\": 20, \"Host\": \"algo-1\", \"Operation\": \"training\", \"Algorithm\": \"Linear Learner\", \"epoch\": 7}, \"StartTime\": 1574978887.55278}\n",
      "\u001b[0m\n",
      "\u001b[31m#metrics {\"Metrics\": {\"train_mse_objective\": {\"count\": 1, \"max\": 0.20253781223297118, \"sum\": 0.20253781223297118, \"min\": 0.20253781223297118}}, \"EndTime\": 1574978887.552826, \"Dimensions\": {\"model\": 21, \"Host\": \"algo-1\", \"Operation\": \"training\", \"Algorithm\": \"Linear Learner\", \"epoch\": 7}, \"StartTime\": 1574978887.552817}\n",
      "\u001b[0m\n",
      "\u001b[31m#metrics {\"Metrics\": {\"train_mse_objective\": {\"count\": 1, \"max\": 0.2095228910446167, \"sum\": 0.2095228910446167, \"min\": 0.2095228910446167}}, \"EndTime\": 1574978887.552863, \"Dimensions\": {\"model\": 22, \"Host\": \"algo-1\", \"Operation\": \"training\", \"Algorithm\": \"Linear Learner\", \"epoch\": 7}, \"StartTime\": 1574978887.552853}\n",
      "\u001b[0m\n",
      "\u001b[31m#metrics {\"Metrics\": {\"train_mse_objective\": {\"count\": 1, \"max\": 0.22618580532073976, \"sum\": 0.22618580532073976, \"min\": 0.22618580532073976}}, \"EndTime\": 1574978887.552899, \"Dimensions\": {\"model\": 23, \"Host\": \"algo-1\", \"Operation\": \"training\", \"Algorithm\": \"Linear Learner\", \"epoch\": 7}, \"StartTime\": 1574978887.55289}\n",
      "\u001b[0m\n",
      "\u001b[31m#metrics {\"Metrics\": {\"train_mse_objective\": {\"count\": 1, \"max\": 0.9539585876464843, \"sum\": 0.9539585876464843, \"min\": 0.9539585876464843}}, \"EndTime\": 1574978887.552938, \"Dimensions\": {\"model\": 24, \"Host\": \"algo-1\", \"Operation\": \"training\", \"Algorithm\": \"Linear Learner\", \"epoch\": 7}, \"StartTime\": 1574978887.552928}\n",
      "\u001b[0m\n",
      "\u001b[31m#metrics {\"Metrics\": {\"train_mse_objective\": {\"count\": 1, \"max\": 0.9551094970703125, \"sum\": 0.9551094970703125, \"min\": 0.9551094970703125}}, \"EndTime\": 1574978887.552977, \"Dimensions\": {\"model\": 25, \"Host\": \"algo-1\", \"Operation\": \"training\", \"Algorithm\": \"Linear Learner\", \"epoch\": 7}, \"StartTime\": 1574978887.552967}\n",
      "\u001b[0m\n",
      "\u001b[31m#metrics {\"Metrics\": {\"train_mse_objective\": {\"count\": 1, \"max\": 0.9896575012207032, \"sum\": 0.9896575012207032, \"min\": 0.9896575012207032}}, \"EndTime\": 1574978887.553014, \"Dimensions\": {\"model\": 26, \"Host\": \"algo-1\", \"Operation\": \"training\", \"Algorithm\": \"Linear Learner\", \"epoch\": 7}, \"StartTime\": 1574978887.553004}\n",
      "\u001b[0m\n",
      "\u001b[31m#metrics {\"Metrics\": {\"train_mse_objective\": {\"count\": 1, \"max\": 0.9536876525878907, \"sum\": 0.9536876525878907, \"min\": 0.9536876525878907}}, \"EndTime\": 1574978887.553052, \"Dimensions\": {\"model\": 27, \"Host\": \"algo-1\", \"Operation\": \"training\", \"Algorithm\": \"Linear Learner\", \"epoch\": 7}, \"StartTime\": 1574978887.553042}\n",
      "\u001b[0m\n",
      "\u001b[31m#metrics {\"Metrics\": {\"train_mse_objective\": {\"count\": 1, \"max\": 1.2347600708007813, \"sum\": 1.2347600708007813, \"min\": 1.2347600708007813}}, \"EndTime\": 1574978887.553089, \"Dimensions\": {\"model\": 28, \"Host\": \"algo-1\", \"Operation\": \"training\", \"Algorithm\": \"Linear Learner\", \"epoch\": 7}, \"StartTime\": 1574978887.55308}\n",
      "\u001b[0m\n",
      "\u001b[31m#metrics {\"Metrics\": {\"train_mse_objective\": {\"count\": 1, \"max\": 1.1022720642089843, \"sum\": 1.1022720642089843, \"min\": 1.1022720642089843}}, \"EndTime\": 1574978887.553126, \"Dimensions\": {\"model\": 29, \"Host\": \"algo-1\", \"Operation\": \"training\", \"Algorithm\": \"Linear Learner\", \"epoch\": 7}, \"StartTime\": 1574978887.553116}\n",
      "\u001b[0m\n",
      "\u001b[31m#metrics {\"Metrics\": {\"train_mse_objective\": {\"count\": 1, \"max\": 1.0570261993408203, \"sum\": 1.0570261993408203, \"min\": 1.0570261993408203}}, \"EndTime\": 1574978887.553162, \"Dimensions\": {\"model\": 30, \"Host\": \"algo-1\", \"Operation\": \"training\", \"Algorithm\": \"Linear Learner\", \"epoch\": 7}, \"StartTime\": 1574978887.553152}\n",
      "\u001b[0m\n",
      "\u001b[31m#metrics {\"Metrics\": {\"train_mse_objective\": {\"count\": 1, \"max\": 1.1264185638427735, \"sum\": 1.1264185638427735, \"min\": 1.1264185638427735}}, \"EndTime\": 1574978887.553199, \"Dimensions\": {\"model\": 31, \"Host\": \"algo-1\", \"Operation\": \"training\", \"Algorithm\": \"Linear Learner\", \"epoch\": 7}, \"StartTime\": 1574978887.553189}\n",
      "\u001b[0m\n",
      "\u001b[31m[11/28/2019 22:08:07 INFO 140085482997568] #quality_metric: host=algo-1, epoch=7, train mse_objective <loss>=0.672085586548\u001b[0m\n",
      "\u001b[31m[11/28/2019 22:08:07 INFO 140085482997568] #early_stopping_criteria_metric: host=algo-1, epoch=7, criteria=mse_objective, value=0.136808864594\u001b[0m\n",
      "\u001b[31m[11/28/2019 22:08:07 INFO 140085482997568] #progress_metric: host=algo-1, completed 53 % of epochs\u001b[0m\n",
      "\u001b[31m#metrics {\"Metrics\": {\"Max Batches Seen Between Resets\": {\"count\": 1, \"max\": 3, \"sum\": 3.0, \"min\": 3}, \"Number of Batches Since Last Reset\": {\"count\": 1, \"max\": 3, \"sum\": 3.0, \"min\": 3}, \"Number of Records Since Last Reset\": {\"count\": 1, \"max\": 2012, \"sum\": 2012.0, \"min\": 2012}, \"Total Batches Seen\": {\"count\": 1, \"max\": 28, \"sum\": 28.0, \"min\": 28}, \"Total Records Seen\": {\"count\": 1, \"max\": 19108, \"sum\": 19108.0, \"min\": 19108}, \"Max Records Seen Between Resets\": {\"count\": 1, \"max\": 2012, \"sum\": 2012.0, \"min\": 2012}, \"Reset Count\": {\"count\": 1, \"max\": 10, \"sum\": 10.0, \"min\": 10}}, \"EndTime\": 1574978887.555191, \"Dimensions\": {\"Host\": \"algo-1\", \"Meta\": \"training_data_iter\", \"Operation\": \"training\", \"Algorithm\": \"Linear Learner\", \"epoch\": 7}, \"StartTime\": 1574978887.508096}\n",
      "\u001b[0m\n",
      "\u001b[31m[11/28/2019 22:08:07 INFO 140085482997568] #throughput_metric: host=algo-1, train throughput=42619.8310548 records/second\u001b[0m\n",
      "\u001b[31m[2019-11-28 22:08:07.594] [tensorio] [info] epoch_stats={\"data_pipeline\": \"/opt/ml/input/data/train\", \"epoch\": 20, \"duration\": 38, \"num_examples\": 3, \"num_bytes\": 112672}\u001b[0m\n",
      "\u001b[31m#metrics {\"Metrics\": {\"train_mse_objective\": {\"count\": 1, \"max\": 0.6337666015625, \"sum\": 0.6337666015625, \"min\": 0.6337666015625}}, \"EndTime\": 1574978887.594242, \"Dimensions\": {\"model\": 0, \"Host\": \"algo-1\", \"Operation\": \"training\", \"Algorithm\": \"Linear Learner\", \"epoch\": 8}, \"StartTime\": 1574978887.594096}\n",
      "\u001b[0m\n",
      "\u001b[31m#metrics {\"Metrics\": {\"train_mse_objective\": {\"count\": 1, \"max\": 0.6467808074951172, \"sum\": 0.6467808074951172, \"min\": 0.6467808074951172}}, \"EndTime\": 1574978887.594317, \"Dimensions\": {\"model\": 1, \"Host\": \"algo-1\", \"Operation\": \"training\", \"Algorithm\": \"Linear Learner\", \"epoch\": 8}, \"StartTime\": 1574978887.594298}\n",
      "\u001b[0m\n",
      "\u001b[31m#metrics {\"Metrics\": {\"train_mse_objective\": {\"count\": 1, \"max\": 0.6554145050048829, \"sum\": 0.6554145050048829, \"min\": 0.6554145050048829}}, \"EndTime\": 1574978887.594381, \"Dimensions\": {\"model\": 2, \"Host\": \"algo-1\", \"Operation\": \"training\", \"Algorithm\": \"Linear Learner\", \"epoch\": 8}, \"StartTime\": 1574978887.594363}\n",
      "\u001b[0m\n",
      "\u001b[31m#metrics {\"Metrics\": {\"train_mse_objective\": {\"count\": 1, \"max\": 0.6115892486572265, \"sum\": 0.6115892486572265, \"min\": 0.6115892486572265}}, \"EndTime\": 1574978887.594443, \"Dimensions\": {\"model\": 3, \"Host\": \"algo-1\", \"Operation\": \"training\", \"Algorithm\": \"Linear Learner\", \"epoch\": 8}, \"StartTime\": 1574978887.594426}\n",
      "\u001b[0m\n",
      "\u001b[31m#metrics {\"Metrics\": {\"train_mse_objective\": {\"count\": 1, \"max\": 0.02846261501312256, \"sum\": 0.02846261501312256, \"min\": 0.02846261501312256}}, \"EndTime\": 1574978887.594509, \"Dimensions\": {\"model\": 4, \"Host\": \"algo-1\", \"Operation\": \"training\", \"Algorithm\": \"Linear Learner\", \"epoch\": 8}, \"StartTime\": 1574978887.594491}\n",
      "\u001b[0m\n",
      "\u001b[31m#metrics {\"Metrics\": {\"train_mse_objective\": {\"count\": 1, \"max\": 0.040363520622253415, \"sum\": 0.040363520622253415, \"min\": 0.040363520622253415}}, \"EndTime\": 1574978887.594602, \"Dimensions\": {\"model\": 5, \"Host\": \"algo-1\", \"Operation\": \"training\", \"Algorithm\": \"Linear Learner\", \"epoch\": 8}, \"StartTime\": 1574978887.594583}\n",
      "\u001b[0m\n",
      "\u001b[31m#metrics {\"Metrics\": {\"train_mse_objective\": {\"count\": 1, \"max\": 0.033249814987182616, \"sum\": 0.033249814987182616, \"min\": 0.033249814987182616}}, \"EndTime\": 1574978887.594665, \"Dimensions\": {\"model\": 6, \"Host\": \"algo-1\", \"Operation\": \"training\", \"Algorithm\": \"Linear Learner\", \"epoch\": 8}, \"StartTime\": 1574978887.594647}\n",
      "\u001b[0m\n",
      "\u001b[31m#metrics {\"Metrics\": {\"train_mse_objective\": {\"count\": 1, \"max\": 0.025675719261169433, \"sum\": 0.025675719261169433, \"min\": 0.025675719261169433}}, \"EndTime\": 1574978887.594724, \"Dimensions\": {\"model\": 7, \"Host\": \"algo-1\", \"Operation\": \"training\", \"Algorithm\": \"Linear Learner\", \"epoch\": 8}, \"StartTime\": 1574978887.594706}\n",
      "\u001b[0m\n",
      "\u001b[31m#metrics {\"Metrics\": {\"train_mse_objective\": {\"count\": 1, \"max\": 0.6457576446533203, \"sum\": 0.6457576446533203, \"min\": 0.6457576446533203}}, \"EndTime\": 1574978887.594792, \"Dimensions\": {\"model\": 8, \"Host\": \"algo-1\", \"Operation\": \"training\", \"Algorithm\": \"Linear Learner\", \"epoch\": 8}, \"StartTime\": 1574978887.594774}\n",
      "\u001b[0m\n",
      "\u001b[31m#metrics {\"Metrics\": {\"train_mse_objective\": {\"count\": 1, \"max\": 0.7882110900878906, \"sum\": 0.7882110900878906, \"min\": 0.7882110900878906}}, \"EndTime\": 1574978887.594862, \"Dimensions\": {\"model\": 9, \"Host\": \"algo-1\", \"Operation\": \"training\", \"Algorithm\": \"Linear Learner\", \"epoch\": 8}, \"StartTime\": 1574978887.594844}\n",
      "\u001b[0m\n",
      "\u001b[31m#metrics {\"Metrics\": {\"train_mse_objective\": {\"count\": 1, \"max\": 0.5877737274169922, \"sum\": 0.5877737274169922, \"min\": 0.5877737274169922}}, \"EndTime\": 1574978887.594931, \"Dimensions\": {\"model\": 10, \"Host\": \"algo-1\", \"Operation\": \"training\", \"Algorithm\": \"Linear Learner\", \"epoch\": 8}, \"StartTime\": 1574978887.594914}\n",
      "\u001b[0m\n",
      "\u001b[31m#metrics {\"Metrics\": {\"train_mse_objective\": {\"count\": 1, \"max\": 0.5471907958984376, \"sum\": 0.5471907958984376, \"min\": 0.5471907958984376}}, \"EndTime\": 1574978887.594989, \"Dimensions\": {\"model\": 11, \"Host\": \"algo-1\", \"Operation\": \"training\", \"Algorithm\": \"Linear Learner\", \"epoch\": 8}, \"StartTime\": 1574978887.594972}\n",
      "\u001b[0m\n",
      "\u001b[31m#metrics {\"Metrics\": {\"train_mse_objective\": {\"count\": 1, \"max\": 0.02453060722351074, \"sum\": 0.02453060722351074, \"min\": 0.02453060722351074}}, \"EndTime\": 1574978887.595045, \"Dimensions\": {\"model\": 12, \"Host\": \"algo-1\", \"Operation\": \"training\", \"Algorithm\": \"Linear Learner\", \"epoch\": 8}, \"StartTime\": 1574978887.595029}\n",
      "\u001b[0m\n",
      "\u001b[31m#metrics {\"Metrics\": {\"train_mse_objective\": {\"count\": 1, \"max\": 0.052078300476074216, \"sum\": 0.052078300476074216, \"min\": 0.052078300476074216}}, \"EndTime\": 1574978887.595102, \"Dimensions\": {\"model\": 13, \"Host\": \"algo-1\", \"Operation\": \"training\", \"Algorithm\": \"Linear Learner\", \"epoch\": 8}, \"StartTime\": 1574978887.595086}\n",
      "\u001b[0m\n",
      "\u001b[31m#metrics {\"Metrics\": {\"train_mse_objective\": {\"count\": 1, \"max\": 0.02277522087097168, \"sum\": 0.02277522087097168, \"min\": 0.02277522087097168}}, \"EndTime\": 1574978887.59516, \"Dimensions\": {\"model\": 14, \"Host\": \"algo-1\", \"Operation\": \"training\", \"Algorithm\": \"Linear Learner\", \"epoch\": 8}, \"StartTime\": 1574978887.595143}\n",
      "\u001b[0m\n",
      "\u001b[31m#metrics {\"Metrics\": {\"train_mse_objective\": {\"count\": 1, \"max\": 0.04164272975921631, \"sum\": 0.04164272975921631, \"min\": 0.04164272975921631}}, \"EndTime\": 1574978887.595217, \"Dimensions\": {\"model\": 15, \"Host\": \"algo-1\", \"Operation\": \"training\", \"Algorithm\": \"Linear Learner\", \"epoch\": 8}, \"StartTime\": 1574978887.595201}\n",
      "\u001b[0m\n",
      "\u001b[31m#metrics {\"Metrics\": {\"train_mse_objective\": {\"count\": 1, \"max\": 0.5707733154296875, \"sum\": 0.5707733154296875, \"min\": 0.5707733154296875}}, \"EndTime\": 1574978887.595274, \"Dimensions\": {\"model\": 16, \"Host\": \"algo-1\", \"Operation\": \"training\", \"Algorithm\": \"Linear Learner\", \"epoch\": 8}, \"StartTime\": 1574978887.595258}\n",
      "\u001b[0m\n",
      "\u001b[31m#metrics {\"Metrics\": {\"train_mse_objective\": {\"count\": 1, \"max\": 0.7021323547363282, \"sum\": 0.7021323547363282, \"min\": 0.7021323547363282}}, \"EndTime\": 1574978887.595342, \"Dimensions\": {\"model\": 17, \"Host\": \"algo-1\", \"Operation\": \"training\", \"Algorithm\": \"Linear Learner\", \"epoch\": 8}, \"StartTime\": 1574978887.595324}\n",
      "\u001b[0m\n",
      "\u001b[31m#metrics {\"Metrics\": {\"train_mse_objective\": {\"count\": 1, \"max\": 0.6493390197753907, \"sum\": 0.6493390197753907, \"min\": 0.6493390197753907}}, \"EndTime\": 1574978887.595436, \"Dimensions\": {\"model\": 18, \"Host\": \"algo-1\", \"Operation\": \"training\", \"Algorithm\": \"Linear Learner\", \"epoch\": 8}, \"StartTime\": 1574978887.595392}\n",
      "\u001b[0m\n",
      "\u001b[31m#metrics {\"Metrics\": {\"train_mse_objective\": {\"count\": 1, \"max\": 0.6440282745361328, \"sum\": 0.6440282745361328, \"min\": 0.6440282745361328}}, \"EndTime\": 1574978887.595496, \"Dimensions\": {\"model\": 19, \"Host\": \"algo-1\", \"Operation\": \"training\", \"Algorithm\": \"Linear Learner\", \"epoch\": 8}, \"StartTime\": 1574978887.595479}\n",
      "\u001b[0m\n",
      "\u001b[31m#metrics {\"Metrics\": {\"train_mse_objective\": {\"count\": 1, \"max\": 0.16298492050170899, \"sum\": 0.16298492050170899, \"min\": 0.16298492050170899}}, \"EndTime\": 1574978887.595556, \"Dimensions\": {\"model\": 20, \"Host\": \"algo-1\", \"Operation\": \"training\", \"Algorithm\": \"Linear Learner\", \"epoch\": 8}, \"StartTime\": 1574978887.59554}\n",
      "\u001b[0m\n",
      "\u001b[31m#metrics {\"Metrics\": {\"train_mse_objective\": {\"count\": 1, \"max\": 0.1800686798095703, \"sum\": 0.1800686798095703, \"min\": 0.1800686798095703}}, \"EndTime\": 1574978887.595614, \"Dimensions\": {\"model\": 21, \"Host\": \"algo-1\", \"Operation\": \"training\", \"Algorithm\": \"Linear Learner\", \"epoch\": 8}, \"StartTime\": 1574978887.595598}\n",
      "\u001b[0m\n",
      "\u001b[31m#metrics {\"Metrics\": {\"train_mse_objective\": {\"count\": 1, \"max\": 0.17225523376464844, \"sum\": 0.17225523376464844, \"min\": 0.17225523376464844}}, \"EndTime\": 1574978887.595666, \"Dimensions\": {\"model\": 22, \"Host\": \"algo-1\", \"Operation\": \"training\", \"Algorithm\": \"Linear Learner\", \"epoch\": 8}, \"StartTime\": 1574978887.595653}\n",
      "\u001b[0m\n",
      "\u001b[31m#metrics {\"Metrics\": {\"train_mse_objective\": {\"count\": 1, \"max\": 0.17101622009277342, \"sum\": 0.17101622009277342, \"min\": 0.17101622009277342}}, \"EndTime\": 1574978887.595721, \"Dimensions\": {\"model\": 23, \"Host\": \"algo-1\", \"Operation\": \"training\", \"Algorithm\": \"Linear Learner\", \"epoch\": 8}, \"StartTime\": 1574978887.595705}\n",
      "\u001b[0m\n",
      "\u001b[31m#metrics {\"Metrics\": {\"train_mse_objective\": {\"count\": 1, \"max\": 0.9411257019042969, \"sum\": 0.9411257019042969, \"min\": 0.9411257019042969}}, \"EndTime\": 1574978887.59578, \"Dimensions\": {\"model\": 24, \"Host\": \"algo-1\", \"Operation\": \"training\", \"Algorithm\": \"Linear Learner\", \"epoch\": 8}, \"StartTime\": 1574978887.595763}\n",
      "\u001b[0m\n",
      "\u001b[31m#metrics {\"Metrics\": {\"train_mse_objective\": {\"count\": 1, \"max\": 0.9431209411621094, \"sum\": 0.9431209411621094, \"min\": 0.9431209411621094}}, \"EndTime\": 1574978887.595839, \"Dimensions\": {\"model\": 25, \"Host\": \"algo-1\", \"Operation\": \"training\", \"Algorithm\": \"Linear Learner\", \"epoch\": 8}, \"StartTime\": 1574978887.595823}\n",
      "\u001b[0m\n",
      "\u001b[31m#metrics {\"Metrics\": {\"train_mse_objective\": {\"count\": 1, \"max\": 0.9872430725097656, \"sum\": 0.9872430725097656, \"min\": 0.9872430725097656}}, \"EndTime\": 1574978887.595896, \"Dimensions\": {\"model\": 26, \"Host\": \"algo-1\", \"Operation\": \"training\", \"Algorithm\": \"Linear Learner\", \"epoch\": 8}, \"StartTime\": 1574978887.59588}\n",
      "\u001b[0m\n",
      "\u001b[31m#metrics {\"Metrics\": {\"train_mse_objective\": {\"count\": 1, \"max\": 0.9487514953613281, \"sum\": 0.9487514953613281, \"min\": 0.9487514953613281}}, \"EndTime\": 1574978887.595959, \"Dimensions\": {\"model\": 27, \"Host\": \"algo-1\", \"Operation\": \"training\", \"Algorithm\": \"Linear Learner\", \"epoch\": 8}, \"StartTime\": 1574978887.59594}\n",
      "\u001b[0m\n",
      "\u001b[31m#metrics {\"Metrics\": {\"train_mse_objective\": {\"count\": 1, \"max\": 1.0394434204101564, \"sum\": 1.0394434204101564, \"min\": 1.0394434204101564}}, \"EndTime\": 1574978887.596032, \"Dimensions\": {\"model\": 28, \"Host\": \"algo-1\", \"Operation\": \"training\", \"Algorithm\": \"Linear Learner\", \"epoch\": 8}, \"StartTime\": 1574978887.596013}\n",
      "\u001b[0m\n",
      "\u001b[31m#metrics {\"Metrics\": {\"train_mse_objective\": {\"count\": 1, \"max\": 1.0454799194335938, \"sum\": 1.0454799194335938, \"min\": 1.0454799194335938}}, \"EndTime\": 1574978887.596092, \"Dimensions\": {\"model\": 29, \"Host\": \"algo-1\", \"Operation\": \"training\", \"Algorithm\": \"Linear Learner\", \"epoch\": 8}, \"StartTime\": 1574978887.59608}\n",
      "\u001b[0m\n",
      "\u001b[31m#metrics {\"Metrics\": {\"train_mse_objective\": {\"count\": 1, \"max\": 0.9800749053955078, \"sum\": 0.9800749053955078, \"min\": 0.9800749053955078}}, \"EndTime\": 1574978887.596133, \"Dimensions\": {\"model\": 30, \"Host\": \"algo-1\", \"Operation\": \"training\", \"Algorithm\": \"Linear Learner\", \"epoch\": 8}, \"StartTime\": 1574978887.596119}\n",
      "\u001b[0m\n",
      "\u001b[31m#metrics {\"Metrics\": {\"train_mse_objective\": {\"count\": 1, \"max\": 0.987312728881836, \"sum\": 0.987312728881836, \"min\": 0.987312728881836}}, \"EndTime\": 1574978887.596198, \"Dimensions\": {\"model\": 31, \"Host\": \"algo-1\", \"Operation\": \"training\", \"Algorithm\": \"Linear Learner\", \"epoch\": 8}, \"StartTime\": 1574978887.59618}\n",
      "\u001b[0m\n",
      "\u001b[31m[11/28/2019 22:08:07 INFO 140085482997568] #quality_metric: host=algo-1, epoch=8, train mse_objective <loss>=0.633766601562\u001b[0m\n",
      "\u001b[31m[11/28/2019 22:08:07 INFO 140085482997568] #early_stopping_criteria_metric: host=algo-1, epoch=8, criteria=mse_objective, value=0.022775220871\u001b[0m\n",
      "\u001b[31m[11/28/2019 22:08:07 INFO 140085482997568] Epoch 8: Loss improved. Updating best model\u001b[0m\n",
      "\u001b[31m[11/28/2019 22:08:07 INFO 140085482997568] #progress_metric: host=algo-1, completed 60 % of epochs\u001b[0m\n",
      "\u001b[31m#metrics {\"Metrics\": {\"Max Batches Seen Between Resets\": {\"count\": 1, \"max\": 3, \"sum\": 3.0, \"min\": 3}, \"Number of Batches Since Last Reset\": {\"count\": 1, \"max\": 3, \"sum\": 3.0, \"min\": 3}, \"Number of Records Since Last Reset\": {\"count\": 1, \"max\": 2012, \"sum\": 2012.0, \"min\": 2012}, \"Total Batches Seen\": {\"count\": 1, \"max\": 31, \"sum\": 31.0, \"min\": 31}, \"Total Records Seen\": {\"count\": 1, \"max\": 21120, \"sum\": 21120.0, \"min\": 21120}, \"Max Records Seen Between Resets\": {\"count\": 1, \"max\": 2012, \"sum\": 2012.0, \"min\": 2012}, \"Reset Count\": {\"count\": 1, \"max\": 11, \"sum\": 11.0, \"min\": 11}}, \"EndTime\": 1574978887.599, \"Dimensions\": {\"Host\": \"algo-1\", \"Meta\": \"training_data_iter\", \"Operation\": \"training\", \"Algorithm\": \"Linear Learner\", \"epoch\": 8}, \"StartTime\": 1574978887.555453}\n",
      "\u001b[0m\n",
      "\u001b[31m[11/28/2019 22:08:07 INFO 140085482997568] #throughput_metric: host=algo-1, train throughput=46042.2160219 records/second\u001b[0m\n",
      "\u001b[31m[2019-11-28 22:08:07.640] [tensorio] [info] epoch_stats={\"data_pipeline\": \"/opt/ml/input/data/train\", \"epoch\": 22, \"duration\": 41, \"num_examples\": 3, \"num_bytes\": 112672}\u001b[0m\n",
      "\u001b[31m#metrics {\"Metrics\": {\"train_mse_objective\": {\"count\": 1, \"max\": 0.5972385711669922, \"sum\": 0.5972385711669922, \"min\": 0.5972385711669922}}, \"EndTime\": 1574978887.640601, \"Dimensions\": {\"model\": 0, \"Host\": \"algo-1\", \"Operation\": \"training\", \"Algorithm\": \"Linear Learner\", \"epoch\": 9}, \"StartTime\": 1574978887.640531}\n",
      "\u001b[0m\n",
      "\u001b[31m#metrics {\"Metrics\": {\"train_mse_objective\": {\"count\": 1, \"max\": 0.6088489532470703, \"sum\": 0.6088489532470703, \"min\": 0.6088489532470703}}, \"EndTime\": 1574978887.640675, \"Dimensions\": {\"model\": 1, \"Host\": \"algo-1\", \"Operation\": \"training\", \"Algorithm\": \"Linear Learner\", \"epoch\": 9}, \"StartTime\": 1574978887.640659}\n",
      "\u001b[0m\n",
      "\u001b[31m#metrics {\"Metrics\": {\"train_mse_objective\": {\"count\": 1, \"max\": 0.6200980072021485, \"sum\": 0.6200980072021485, \"min\": 0.6200980072021485}}, \"EndTime\": 1574978887.640719, \"Dimensions\": {\"model\": 2, \"Host\": \"algo-1\", \"Operation\": \"training\", \"Algorithm\": \"Linear Learner\", \"epoch\": 9}, \"StartTime\": 1574978887.640704}\n",
      "\u001b[0m\n",
      "\u001b[31m#metrics {\"Metrics\": {\"train_mse_objective\": {\"count\": 1, \"max\": 0.574908432006836, \"sum\": 0.574908432006836, \"min\": 0.574908432006836}}, \"EndTime\": 1574978887.64078, \"Dimensions\": {\"model\": 3, \"Host\": \"algo-1\", \"Operation\": \"training\", \"Algorithm\": \"Linear Learner\", \"epoch\": 9}, \"StartTime\": 1574978887.640763}\n",
      "\u001b[0m\n",
      "\u001b[31m#metrics {\"Metrics\": {\"train_mse_objective\": {\"count\": 1, \"max\": 0.07890606880187988, \"sum\": 0.07890606880187988, \"min\": 0.07890606880187988}}, \"EndTime\": 1574978887.640853, \"Dimensions\": {\"model\": 4, \"Host\": \"algo-1\", \"Operation\": \"training\", \"Algorithm\": \"Linear Learner\", \"epoch\": 9}, \"StartTime\": 1574978887.640834}\n",
      "\u001b[0m\n",
      "\u001b[31m#metrics {\"Metrics\": {\"train_mse_objective\": {\"count\": 1, \"max\": 0.0606330509185791, \"sum\": 0.0606330509185791, \"min\": 0.0606330509185791}}, \"EndTime\": 1574978887.640922, \"Dimensions\": {\"model\": 5, \"Host\": \"algo-1\", \"Operation\": \"training\", \"Algorithm\": \"Linear Learner\", \"epoch\": 9}, \"StartTime\": 1574978887.640905}\n",
      "\u001b[0m\n",
      "\u001b[31m#metrics {\"Metrics\": {\"train_mse_objective\": {\"count\": 1, \"max\": 0.07527069473266601, \"sum\": 0.07527069473266601, \"min\": 0.07527069473266601}}, \"EndTime\": 1574978887.640981, \"Dimensions\": {\"model\": 6, \"Host\": \"algo-1\", \"Operation\": \"training\", \"Algorithm\": \"Linear Learner\", \"epoch\": 9}, \"StartTime\": 1574978887.640964}\n",
      "\u001b[0m\n",
      "\u001b[31m#metrics {\"Metrics\": {\"train_mse_objective\": {\"count\": 1, \"max\": 0.09539113235473633, \"sum\": 0.09539113235473633, \"min\": 0.09539113235473633}}, \"EndTime\": 1574978887.641032, \"Dimensions\": {\"model\": 7, \"Host\": \"algo-1\", \"Operation\": \"training\", \"Algorithm\": \"Linear Learner\", \"epoch\": 9}, \"StartTime\": 1574978887.641021}\n",
      "\u001b[0m\n",
      "\u001b[31m#metrics {\"Metrics\": {\"train_mse_objective\": {\"count\": 1, \"max\": 0.6102481079101563, \"sum\": 0.6102481079101563, \"min\": 0.6102481079101563}}, \"EndTime\": 1574978887.641079, \"Dimensions\": {\"model\": 8, \"Host\": \"algo-1\", \"Operation\": \"training\", \"Algorithm\": \"Linear Learner\", \"epoch\": 9}, \"StartTime\": 1574978887.641064}\n",
      "\u001b[0m\n",
      "\u001b[31m#metrics {\"Metrics\": {\"train_mse_objective\": {\"count\": 1, \"max\": 0.74651953125, \"sum\": 0.74651953125, \"min\": 0.74651953125}}, \"EndTime\": 1574978887.641135, \"Dimensions\": {\"model\": 9, \"Host\": \"algo-1\", \"Operation\": \"training\", \"Algorithm\": \"Linear Learner\", \"epoch\": 9}, \"StartTime\": 1574978887.641119}\n",
      "\u001b[0m\n",
      "\u001b[31m#metrics {\"Metrics\": {\"train_mse_objective\": {\"count\": 1, \"max\": 0.5525514221191407, \"sum\": 0.5525514221191407, \"min\": 0.5525514221191407}}, \"EndTime\": 1574978887.641194, \"Dimensions\": {\"model\": 10, \"Host\": \"algo-1\", \"Operation\": \"training\", \"Algorithm\": \"Linear Learner\", \"epoch\": 9}, \"StartTime\": 1574978887.641177}\n",
      "\u001b[0m\n",
      "\u001b[31m#metrics {\"Metrics\": {\"train_mse_objective\": {\"count\": 1, \"max\": 0.5139282684326172, \"sum\": 0.5139282684326172, \"min\": 0.5139282684326172}}, \"EndTime\": 1574978887.641256, \"Dimensions\": {\"model\": 11, \"Host\": \"algo-1\", \"Operation\": \"training\", \"Algorithm\": \"Linear Learner\", \"epoch\": 9}, \"StartTime\": 1574978887.641238}\n",
      "\u001b[0m\n",
      "\u001b[31m#metrics {\"Metrics\": {\"train_mse_objective\": {\"count\": 1, \"max\": 0.08451974868774415, \"sum\": 0.08451974868774415, \"min\": 0.08451974868774415}}, \"EndTime\": 1574978887.641314, \"Dimensions\": {\"model\": 12, \"Host\": \"algo-1\", \"Operation\": \"training\", \"Algorithm\": \"Linear Learner\", \"epoch\": 9}, \"StartTime\": 1574978887.641297}\n",
      "\u001b[0m\n",
      "\u001b[31m#metrics {\"Metrics\": {\"train_mse_objective\": {\"count\": 1, \"max\": 0.04951572799682617, \"sum\": 0.04951572799682617, \"min\": 0.04951572799682617}}, \"EndTime\": 1574978887.641377, \"Dimensions\": {\"model\": 13, \"Host\": \"algo-1\", \"Operation\": \"training\", \"Algorithm\": \"Linear Learner\", \"epoch\": 9}, \"StartTime\": 1574978887.641359}\n",
      "\u001b[0m\n",
      "\u001b[31m#metrics {\"Metrics\": {\"train_mse_objective\": {\"count\": 1, \"max\": 0.07277485847473145, \"sum\": 0.07277485847473145, \"min\": 0.07277485847473145}}, \"EndTime\": 1574978887.641438, \"Dimensions\": {\"model\": 14, \"Host\": \"algo-1\", \"Operation\": \"training\", \"Algorithm\": \"Linear Learner\", \"epoch\": 9}, \"StartTime\": 1574978887.641421}\n",
      "\u001b[0m\n",
      "\u001b[31m#metrics {\"Metrics\": {\"train_mse_objective\": {\"count\": 1, \"max\": 0.055797119140625, \"sum\": 0.055797119140625, \"min\": 0.055797119140625}}, \"EndTime\": 1574978887.641497, \"Dimensions\": {\"model\": 15, \"Host\": \"algo-1\", \"Operation\": \"training\", \"Algorithm\": \"Linear Learner\", \"epoch\": 9}, \"StartTime\": 1574978887.64148}\n",
      "\u001b[0m\n",
      "\u001b[31m#metrics {\"Metrics\": {\"train_mse_objective\": {\"count\": 1, \"max\": 0.538051284790039, \"sum\": 0.538051284790039, \"min\": 0.538051284790039}}, \"EndTime\": 1574978887.641554, \"Dimensions\": {\"model\": 16, \"Host\": \"algo-1\", \"Operation\": \"training\", \"Algorithm\": \"Linear Learner\", \"epoch\": 9}, \"StartTime\": 1574978887.641538}\n",
      "\u001b[0m\n",
      "\u001b[31m#metrics {\"Metrics\": {\"train_mse_objective\": {\"count\": 1, \"max\": 0.6634989471435547, \"sum\": 0.6634989471435547, \"min\": 0.6634989471435547}}, \"EndTime\": 1574978887.641614, \"Dimensions\": {\"model\": 17, \"Host\": \"algo-1\", \"Operation\": \"training\", \"Algorithm\": \"Linear Learner\", \"epoch\": 9}, \"StartTime\": 1574978887.641597}\n",
      "\u001b[0m\n",
      "\u001b[31m#metrics {\"Metrics\": {\"train_mse_objective\": {\"count\": 1, \"max\": 0.6144143371582031, \"sum\": 0.6144143371582031, \"min\": 0.6144143371582031}}, \"EndTime\": 1574978887.641674, \"Dimensions\": {\"model\": 18, \"Host\": \"algo-1\", \"Operation\": \"training\", \"Algorithm\": \"Linear Learner\", \"epoch\": 9}, \"StartTime\": 1574978887.641658}\n",
      "\u001b[0m\n",
      "\u001b[31m#metrics {\"Metrics\": {\"train_mse_objective\": {\"count\": 1, \"max\": 0.6095905914306641, \"sum\": 0.6095905914306641, \"min\": 0.6095905914306641}}, \"EndTime\": 1574978887.641735, \"Dimensions\": {\"model\": 19, \"Host\": \"algo-1\", \"Operation\": \"training\", \"Algorithm\": \"Linear Learner\", \"epoch\": 9}, \"StartTime\": 1574978887.641718}\n",
      "\u001b[0m\n",
      "\u001b[31m#metrics {\"Metrics\": {\"train_mse_objective\": {\"count\": 1, \"max\": 0.25395361328125, \"sum\": 0.25395361328125, \"min\": 0.25395361328125}}, \"EndTime\": 1574978887.641795, \"Dimensions\": {\"model\": 20, \"Host\": \"algo-1\", \"Operation\": \"training\", \"Algorithm\": \"Linear Learner\", \"epoch\": 9}, \"StartTime\": 1574978887.641778}\n",
      "\u001b[0m\n",
      "\u001b[31m#metrics {\"Metrics\": {\"train_mse_objective\": {\"count\": 1, \"max\": 0.27543068695068357, \"sum\": 0.27543068695068357, \"min\": 0.27543068695068357}}, \"EndTime\": 1574978887.641856, \"Dimensions\": {\"model\": 21, \"Host\": \"algo-1\", \"Operation\": \"training\", \"Algorithm\": \"Linear Learner\", \"epoch\": 9}, \"StartTime\": 1574978887.641839}\n",
      "\u001b[0m\n",
      "\u001b[31m#metrics {\"Metrics\": {\"train_mse_objective\": {\"count\": 1, \"max\": 0.2704066925048828, \"sum\": 0.2704066925048828, \"min\": 0.2704066925048828}}, \"EndTime\": 1574978887.641918, \"Dimensions\": {\"model\": 22, \"Host\": \"algo-1\", \"Operation\": \"training\", \"Algorithm\": \"Linear Learner\", \"epoch\": 9}, \"StartTime\": 1574978887.641901}\n",
      "\u001b[0m\n",
      "\u001b[31m#metrics {\"Metrics\": {\"train_mse_objective\": {\"count\": 1, \"max\": 0.27285176467895506, \"sum\": 0.27285176467895506, \"min\": 0.27285176467895506}}, \"EndTime\": 1574978887.641979, \"Dimensions\": {\"model\": 23, \"Host\": \"algo-1\", \"Operation\": \"training\", \"Algorithm\": \"Linear Learner\", \"epoch\": 9}, \"StartTime\": 1574978887.641962}\n",
      "\u001b[0m\n",
      "\u001b[31m#metrics {\"Metrics\": {\"train_mse_objective\": {\"count\": 1, \"max\": 0.9327622985839844, \"sum\": 0.9327622985839844, \"min\": 0.9327622985839844}}, \"EndTime\": 1574978887.642038, \"Dimensions\": {\"model\": 24, \"Host\": \"algo-1\", \"Operation\": \"training\", \"Algorithm\": \"Linear Learner\", \"epoch\": 9}, \"StartTime\": 1574978887.642022}\n",
      "\u001b[0m\n",
      "\u001b[31m#metrics {\"Metrics\": {\"train_mse_objective\": {\"count\": 1, \"max\": 0.9353107604980468, \"sum\": 0.9353107604980468, \"min\": 0.9353107604980468}}, \"EndTime\": 1574978887.642098, \"Dimensions\": {\"model\": 25, \"Host\": \"algo-1\", \"Operation\": \"training\", \"Algorithm\": \"Linear Learner\", \"epoch\": 9}, \"StartTime\": 1574978887.642081}\n",
      "\u001b[0m\n",
      "\u001b[31m#metrics {\"Metrics\": {\"train_mse_objective\": {\"count\": 1, \"max\": 0.9828514099121094, \"sum\": 0.9828514099121094, \"min\": 0.9828514099121094}}, \"EndTime\": 1574978887.642156, \"Dimensions\": {\"model\": 26, \"Host\": \"algo-1\", \"Operation\": \"training\", \"Algorithm\": \"Linear Learner\", \"epoch\": 9}, \"StartTime\": 1574978887.64214}\n",
      "\u001b[0m\n",
      "\u001b[31m#metrics {\"Metrics\": {\"train_mse_objective\": {\"count\": 1, \"max\": 0.9452300720214843, \"sum\": 0.9452300720214843, \"min\": 0.9452300720214843}}, \"EndTime\": 1574978887.642214, \"Dimensions\": {\"model\": 27, \"Host\": \"algo-1\", \"Operation\": \"training\", \"Algorithm\": \"Linear Learner\", \"epoch\": 9}, \"StartTime\": 1574978887.642198}\n",
      "\u001b[0m\n",
      "\u001b[31m#metrics {\"Metrics\": {\"train_mse_objective\": {\"count\": 1, \"max\": 0.8740661468505859, \"sum\": 0.8740661468505859, \"min\": 0.8740661468505859}}, \"EndTime\": 1574978887.64227, \"Dimensions\": {\"model\": 28, \"Host\": \"algo-1\", \"Operation\": \"training\", \"Algorithm\": \"Linear Learner\", \"epoch\": 9}, \"StartTime\": 1574978887.642254}\n",
      "\u001b[0m\n",
      "\u001b[31m#metrics {\"Metrics\": {\"train_mse_objective\": {\"count\": 1, \"max\": 0.9632054443359375, \"sum\": 0.9632054443359375, \"min\": 0.9632054443359375}}, \"EndTime\": 1574978887.642338, \"Dimensions\": {\"model\": 29, \"Host\": \"algo-1\", \"Operation\": \"training\", \"Algorithm\": \"Linear Learner\", \"epoch\": 9}, \"StartTime\": 1574978887.642321}\n",
      "\u001b[0m\n",
      "\u001b[31m#metrics {\"Metrics\": {\"train_mse_objective\": {\"count\": 1, \"max\": 0.9498917846679688, \"sum\": 0.9498917846679688, \"min\": 0.9498917846679688}}, \"EndTime\": 1574978887.642399, \"Dimensions\": {\"model\": 30, \"Host\": \"algo-1\", \"Operation\": \"training\", \"Algorithm\": \"Linear Learner\", \"epoch\": 9}, \"StartTime\": 1574978887.642382}\n",
      "\u001b[0m\n",
      "\u001b[31m#metrics {\"Metrics\": {\"train_mse_objective\": {\"count\": 1, \"max\": 0.904009017944336, \"sum\": 0.904009017944336, \"min\": 0.904009017944336}}, \"EndTime\": 1574978887.642459, \"Dimensions\": {\"model\": 31, \"Host\": \"algo-1\", \"Operation\": \"training\", \"Algorithm\": \"Linear Learner\", \"epoch\": 9}, \"StartTime\": 1574978887.642442}\n",
      "\u001b[0m\n",
      "\u001b[31m[11/28/2019 22:08:07 INFO 140085482997568] #quality_metric: host=algo-1, epoch=9, train mse_objective <loss>=0.597238571167\u001b[0m\n",
      "\u001b[31m[11/28/2019 22:08:07 INFO 140085482997568] #early_stopping_criteria_metric: host=algo-1, epoch=9, criteria=mse_objective, value=0.0495157279968\u001b[0m\n",
      "\u001b[31m[11/28/2019 22:08:07 INFO 140085482997568] #progress_metric: host=algo-1, completed 66 % of epochs\u001b[0m\n",
      "\u001b[31m#metrics {\"Metrics\": {\"Max Batches Seen Between Resets\": {\"count\": 1, \"max\": 3, \"sum\": 3.0, \"min\": 3}, \"Number of Batches Since Last Reset\": {\"count\": 1, \"max\": 3, \"sum\": 3.0, \"min\": 3}, \"Number of Records Since Last Reset\": {\"count\": 1, \"max\": 2012, \"sum\": 2012.0, \"min\": 2012}, \"Total Batches Seen\": {\"count\": 1, \"max\": 34, \"sum\": 34.0, \"min\": 34}, \"Total Records Seen\": {\"count\": 1, \"max\": 23132, \"sum\": 23132.0, \"min\": 23132}, \"Max Records Seen Between Resets\": {\"count\": 1, \"max\": 2012, \"sum\": 2012.0, \"min\": 2012}, \"Reset Count\": {\"count\": 1, \"max\": 12, \"sum\": 12.0, \"min\": 12}}, \"EndTime\": 1574978887.644439, \"Dimensions\": {\"Host\": \"algo-1\", \"Meta\": \"training_data_iter\", \"Operation\": \"training\", \"Algorithm\": \"Linear Learner\", \"epoch\": 9}, \"StartTime\": 1574978887.599279}\n",
      "\u001b[0m\n",
      "\u001b[31m[11/28/2019 22:08:07 INFO 140085482997568] #throughput_metric: host=algo-1, train throughput=44427.8648676 records/second\u001b[0m\n",
      "\u001b[31m[2019-11-28 22:08:07.687] [tensorio] [info] epoch_stats={\"data_pipeline\": \"/opt/ml/input/data/train\", \"epoch\": 24, \"duration\": 42, \"num_examples\": 3, \"num_bytes\": 112672}\u001b[0m\n",
      "\u001b[31m#metrics {\"Metrics\": {\"train_mse_objective\": {\"count\": 1, \"max\": 0.5625767974853516, \"sum\": 0.5625767974853516, \"min\": 0.5625767974853516}}, \"EndTime\": 1574978887.687837, \"Dimensions\": {\"model\": 0, \"Host\": \"algo-1\", \"Operation\": \"training\", \"Algorithm\": \"Linear Learner\", \"epoch\": 10}, \"StartTime\": 1574978887.687758}\n",
      "\u001b[0m\n",
      "\u001b[31m#metrics {\"Metrics\": {\"train_mse_objective\": {\"count\": 1, \"max\": 0.5727256317138671, \"sum\": 0.5727256317138671, \"min\": 0.5727256317138671}}, \"EndTime\": 1574978887.687906, \"Dimensions\": {\"model\": 1, \"Host\": \"algo-1\", \"Operation\": \"training\", \"Algorithm\": \"Linear Learner\", \"epoch\": 10}, \"StartTime\": 1574978887.687891}\n",
      "\u001b[0m\n",
      "\u001b[31m#metrics {\"Metrics\": {\"train_mse_objective\": {\"count\": 1, \"max\": 0.5866292266845703, \"sum\": 0.5866292266845703, \"min\": 0.5866292266845703}}, \"EndTime\": 1574978887.687973, \"Dimensions\": {\"model\": 2, \"Host\": \"algo-1\", \"Operation\": \"training\", \"Algorithm\": \"Linear Learner\", \"epoch\": 10}, \"StartTime\": 1574978887.68796}\n",
      "\u001b[0m\n",
      "\u001b[31m#metrics {\"Metrics\": {\"train_mse_objective\": {\"count\": 1, \"max\": 0.5400310363769532, \"sum\": 0.5400310363769532, \"min\": 0.5400310363769532}}, \"EndTime\": 1574978887.688015, \"Dimensions\": {\"model\": 3, \"Host\": \"algo-1\", \"Operation\": \"training\", \"Algorithm\": \"Linear Learner\", \"epoch\": 10}, \"StartTime\": 1574978887.688004}\n",
      "\u001b[0m\n",
      "\u001b[31m#metrics {\"Metrics\": {\"train_mse_objective\": {\"count\": 1, \"max\": 0.11687668609619141, \"sum\": 0.11687668609619141, \"min\": 0.11687668609619141}}, \"EndTime\": 1574978887.68806, \"Dimensions\": {\"model\": 4, \"Host\": \"algo-1\", \"Operation\": \"training\", \"Algorithm\": \"Linear Learner\", \"epoch\": 10}, \"StartTime\": 1574978887.688049}\n",
      "\u001b[0m\n",
      "\u001b[31m#metrics {\"Metrics\": {\"train_mse_objective\": {\"count\": 1, \"max\": 0.11637395668029785, \"sum\": 0.11637395668029785, \"min\": 0.11637395668029785}}, \"EndTime\": 1574978887.688108, \"Dimensions\": {\"model\": 5, \"Host\": \"algo-1\", \"Operation\": \"training\", \"Algorithm\": \"Linear Learner\", \"epoch\": 10}, \"StartTime\": 1574978887.688096}\n",
      "\u001b[0m\n",
      "\u001b[31m#metrics {\"Metrics\": {\"train_mse_objective\": {\"count\": 1, \"max\": 0.1168439598083496, \"sum\": 0.1168439598083496, \"min\": 0.1168439598083496}}, \"EndTime\": 1574978887.688148, \"Dimensions\": {\"model\": 6, \"Host\": \"algo-1\", \"Operation\": \"training\", \"Algorithm\": \"Linear Learner\", \"epoch\": 10}, \"StartTime\": 1574978887.688138}\n",
      "\u001b[0m\n",
      "\u001b[31m#metrics {\"Metrics\": {\"train_mse_objective\": {\"count\": 1, \"max\": 0.11799814128875732, \"sum\": 0.11799814128875732, \"min\": 0.11799814128875732}}, \"EndTime\": 1574978887.688185, \"Dimensions\": {\"model\": 7, \"Host\": \"algo-1\", \"Operation\": \"training\", \"Algorithm\": \"Linear Learner\", \"epoch\": 10}, \"StartTime\": 1574978887.688176}\n",
      "\u001b[0m\n",
      "\u001b[31m#metrics {\"Metrics\": {\"train_mse_objective\": {\"count\": 1, \"max\": 0.576592788696289, \"sum\": 0.576592788696289, \"min\": 0.576592788696289}}, \"EndTime\": 1574978887.688225, \"Dimensions\": {\"model\": 8, \"Host\": \"algo-1\", \"Operation\": \"training\", \"Algorithm\": \"Linear Learner\", \"epoch\": 10}, \"StartTime\": 1574978887.688215}\n",
      "\u001b[0m\n",
      "\u001b[31m#metrics {\"Metrics\": {\"train_mse_objective\": {\"count\": 1, \"max\": 0.7066489562988282, \"sum\": 0.7066489562988282, \"min\": 0.7066489562988282}}, \"EndTime\": 1574978887.688265, \"Dimensions\": {\"model\": 9, \"Host\": \"algo-1\", \"Operation\": \"training\", \"Algorithm\": \"Linear Learner\", \"epoch\": 10}, \"StartTime\": 1574978887.688254}\n",
      "\u001b[0m\n",
      "\u001b[31m#metrics {\"Metrics\": {\"train_mse_objective\": {\"count\": 1, \"max\": 0.5191881561279297, \"sum\": 0.5191881561279297, \"min\": 0.5191881561279297}}, \"EndTime\": 1574978887.688303, \"Dimensions\": {\"model\": 10, \"Host\": \"algo-1\", \"Operation\": \"training\", \"Algorithm\": \"Linear Learner\", \"epoch\": 10}, \"StartTime\": 1574978887.688294}\n",
      "\u001b[0m\n",
      "\u001b[31m#metrics {\"Metrics\": {\"train_mse_objective\": {\"count\": 1, \"max\": 0.48244801330566406, \"sum\": 0.48244801330566406, \"min\": 0.48244801330566406}}, \"EndTime\": 1574978887.688341, \"Dimensions\": {\"model\": 11, \"Host\": \"algo-1\", \"Operation\": \"training\", \"Algorithm\": \"Linear Learner\", \"epoch\": 10}, \"StartTime\": 1574978887.688331}\n",
      "\u001b[0m\n",
      "\u001b[31m#metrics {\"Metrics\": {\"train_mse_objective\": {\"count\": 1, \"max\": 0.11761224937438965, \"sum\": 0.11761224937438965, \"min\": 0.11761224937438965}}, \"EndTime\": 1574978887.68838, \"Dimensions\": {\"model\": 12, \"Host\": \"algo-1\", \"Operation\": \"training\", \"Algorithm\": \"Linear Learner\", \"epoch\": 10}, \"StartTime\": 1574978887.68837}\n",
      "\u001b[0m\n",
      "\u001b[31m#metrics {\"Metrics\": {\"train_mse_objective\": {\"count\": 1, \"max\": 0.11253503036499024, \"sum\": 0.11253503036499024, \"min\": 0.11253503036499024}}, \"EndTime\": 1574978887.688418, \"Dimensions\": {\"model\": 13, \"Host\": \"algo-1\", \"Operation\": \"training\", \"Algorithm\": \"Linear Learner\", \"epoch\": 10}, \"StartTime\": 1574978887.688408}\n",
      "\u001b[0m\n",
      "\u001b[31m#metrics {\"Metrics\": {\"train_mse_objective\": {\"count\": 1, \"max\": 0.11375586318969727, \"sum\": 0.11375586318969727, \"min\": 0.11375586318969727}}, \"EndTime\": 1574978887.688457, \"Dimensions\": {\"model\": 14, \"Host\": \"algo-1\", \"Operation\": \"training\", \"Algorithm\": \"Linear Learner\", \"epoch\": 10}, \"StartTime\": 1574978887.688447}\n",
      "\u001b[0m\n",
      "\u001b[31m#metrics {\"Metrics\": {\"train_mse_objective\": {\"count\": 1, \"max\": 0.11516158676147462, \"sum\": 0.11516158676147462, \"min\": 0.11516158676147462}}, \"EndTime\": 1574978887.688496, \"Dimensions\": {\"model\": 15, \"Host\": \"algo-1\", \"Operation\": \"training\", \"Algorithm\": \"Linear Learner\", \"epoch\": 10}, \"StartTime\": 1574978887.688486}\n",
      "\u001b[0m\n",
      "\u001b[31m#metrics {\"Metrics\": {\"train_mse_objective\": {\"count\": 1, \"max\": 0.5073327331542968, \"sum\": 0.5073327331542968, \"min\": 0.5073327331542968}}, \"EndTime\": 1574978887.688534, \"Dimensions\": {\"model\": 16, \"Host\": \"algo-1\", \"Operation\": \"training\", \"Algorithm\": \"Linear Learner\", \"epoch\": 10}, \"StartTime\": 1574978887.688525}\n",
      "\u001b[0m\n",
      "\u001b[31m#metrics {\"Metrics\": {\"train_mse_objective\": {\"count\": 1, \"max\": 0.6268248901367187, \"sum\": 0.6268248901367187, \"min\": 0.6268248901367187}}, \"EndTime\": 1574978887.688571, \"Dimensions\": {\"model\": 17, \"Host\": \"algo-1\", \"Operation\": \"training\", \"Algorithm\": \"Linear Learner\", \"epoch\": 10}, \"StartTime\": 1574978887.688562}\n",
      "\u001b[0m\n",
      "\u001b[31m#metrics {\"Metrics\": {\"train_mse_objective\": {\"count\": 1, \"max\": 0.5815064086914062, \"sum\": 0.5815064086914062, \"min\": 0.5815064086914062}}, \"EndTime\": 1574978887.68861, \"Dimensions\": {\"model\": 18, \"Host\": \"algo-1\", \"Operation\": \"training\", \"Algorithm\": \"Linear Learner\", \"epoch\": 10}, \"StartTime\": 1574978887.6886}\n",
      "\u001b[0m\n",
      "\u001b[31m#metrics {\"Metrics\": {\"train_mse_objective\": {\"count\": 1, \"max\": 0.5771100463867187, \"sum\": 0.5771100463867187, \"min\": 0.5771100463867187}}, \"EndTime\": 1574978887.688647, \"Dimensions\": {\"model\": 19, \"Host\": \"algo-1\", \"Operation\": \"training\", \"Algorithm\": \"Linear Learner\", \"epoch\": 10}, \"StartTime\": 1574978887.688638}\n",
      "\u001b[0m\n",
      "\u001b[31m#metrics {\"Metrics\": {\"train_mse_objective\": {\"count\": 1, \"max\": 0.3059208450317383, \"sum\": 0.3059208450317383, \"min\": 0.3059208450317383}}, \"EndTime\": 1574978887.688692, \"Dimensions\": {\"model\": 20, \"Host\": \"algo-1\", \"Operation\": \"training\", \"Algorithm\": \"Linear Learner\", \"epoch\": 10}, \"StartTime\": 1574978887.688681}\n",
      "\u001b[0m\n",
      "\u001b[31m#metrics {\"Metrics\": {\"train_mse_objective\": {\"count\": 1, \"max\": 0.23751554870605468, \"sum\": 0.23751554870605468, \"min\": 0.23751554870605468}}, \"EndTime\": 1574978887.688732, \"Dimensions\": {\"model\": 21, \"Host\": \"algo-1\", \"Operation\": \"training\", \"Algorithm\": \"Linear Learner\", \"epoch\": 10}, \"StartTime\": 1574978887.688722}\n",
      "\u001b[0m\n",
      "\u001b[31m#metrics {\"Metrics\": {\"train_mse_objective\": {\"count\": 1, \"max\": 0.25230256271362306, \"sum\": 0.25230256271362306, \"min\": 0.25230256271362306}}, \"EndTime\": 1574978887.68877, \"Dimensions\": {\"model\": 22, \"Host\": \"algo-1\", \"Operation\": \"training\", \"Algorithm\": \"Linear Learner\", \"epoch\": 10}, \"StartTime\": 1574978887.68876}\n",
      "\u001b[0m\n",
      "\u001b[31m#metrics {\"Metrics\": {\"train_mse_objective\": {\"count\": 1, \"max\": 0.2824311752319336, \"sum\": 0.2824311752319336, \"min\": 0.2824311752319336}}, \"EndTime\": 1574978887.688809, \"Dimensions\": {\"model\": 23, \"Host\": \"algo-1\", \"Operation\": \"training\", \"Algorithm\": \"Linear Learner\", \"epoch\": 10}, \"StartTime\": 1574978887.688799}\n",
      "\u001b[0m\n",
      "\u001b[31m#metrics {\"Metrics\": {\"train_mse_objective\": {\"count\": 1, \"max\": 0.9289893493652344, \"sum\": 0.9289893493652344, \"min\": 0.9289893493652344}}, \"EndTime\": 1574978887.688847, \"Dimensions\": {\"model\": 24, \"Host\": \"algo-1\", \"Operation\": \"training\", \"Algorithm\": \"Linear Learner\", \"epoch\": 10}, \"StartTime\": 1574978887.688838}\n",
      "\u001b[0m\n",
      "\u001b[31m#metrics {\"Metrics\": {\"train_mse_objective\": {\"count\": 1, \"max\": 0.9310696716308594, \"sum\": 0.9310696716308594, \"min\": 0.9310696716308594}}, \"EndTime\": 1574978887.688884, \"Dimensions\": {\"model\": 25, \"Host\": \"algo-1\", \"Operation\": \"training\", \"Algorithm\": \"Linear Learner\", \"epoch\": 10}, \"StartTime\": 1574978887.688875}\n",
      "\u001b[0m\n",
      "\u001b[31m#metrics {\"Metrics\": {\"train_mse_objective\": {\"count\": 1, \"max\": 0.9782125854492187, \"sum\": 0.9782125854492187, \"min\": 0.9782125854492187}}, \"EndTime\": 1574978887.688922, \"Dimensions\": {\"model\": 26, \"Host\": \"algo-1\", \"Operation\": \"training\", \"Algorithm\": \"Linear Learner\", \"epoch\": 10}, \"StartTime\": 1574978887.688912}\n",
      "\u001b[0m\n",
      "\u001b[31m#metrics {\"Metrics\": {\"train_mse_objective\": {\"count\": 1, \"max\": 0.9435687255859375, \"sum\": 0.9435687255859375, \"min\": 0.9435687255859375}}, \"EndTime\": 1574978887.688961, \"Dimensions\": {\"model\": 27, \"Host\": \"algo-1\", \"Operation\": \"training\", \"Algorithm\": \"Linear Learner\", \"epoch\": 10}, \"StartTime\": 1574978887.688951}\n",
      "\u001b[0m\n",
      "\u001b[31m#metrics {\"Metrics\": {\"train_mse_objective\": {\"count\": 1, \"max\": 0.8963771667480469, \"sum\": 0.8963771667480469, \"min\": 0.8963771667480469}}, \"EndTime\": 1574978887.688999, \"Dimensions\": {\"model\": 28, \"Host\": \"algo-1\", \"Operation\": \"training\", \"Algorithm\": \"Linear Learner\", \"epoch\": 10}, \"StartTime\": 1574978887.688989}\n",
      "\u001b[0m\n",
      "\u001b[31m#metrics {\"Metrics\": {\"train_mse_objective\": {\"count\": 1, \"max\": 0.9342501525878906, \"sum\": 0.9342501525878906, \"min\": 0.9342501525878906}}, \"EndTime\": 1574978887.689035, \"Dimensions\": {\"model\": 29, \"Host\": \"algo-1\", \"Operation\": \"training\", \"Algorithm\": \"Linear Learner\", \"epoch\": 10}, \"StartTime\": 1574978887.689026}\n",
      "\u001b[0m\n",
      "\u001b[31m#metrics {\"Metrics\": {\"train_mse_objective\": {\"count\": 1, \"max\": 0.9873236694335937, \"sum\": 0.9873236694335937, \"min\": 0.9873236694335937}}, \"EndTime\": 1574978887.689079, \"Dimensions\": {\"model\": 30, \"Host\": \"algo-1\", \"Operation\": \"training\", \"Algorithm\": \"Linear Learner\", \"epoch\": 10}, \"StartTime\": 1574978887.689069}\n",
      "\u001b[0m\n",
      "\u001b[31m#metrics {\"Metrics\": {\"train_mse_objective\": {\"count\": 1, \"max\": 0.9553540649414063, \"sum\": 0.9553540649414063, \"min\": 0.9553540649414063}}, \"EndTime\": 1574978887.689117, \"Dimensions\": {\"model\": 31, \"Host\": \"algo-1\", \"Operation\": \"training\", \"Algorithm\": \"Linear Learner\", \"epoch\": 10}, \"StartTime\": 1574978887.689107}\n",
      "\u001b[0m\n",
      "\u001b[31m[11/28/2019 22:08:07 INFO 140085482997568] #quality_metric: host=algo-1, epoch=10, train mse_objective <loss>=0.562576797485\u001b[0m\n",
      "\u001b[31m[11/28/2019 22:08:07 INFO 140085482997568] #early_stopping_criteria_metric: host=algo-1, epoch=10, criteria=mse_objective, value=0.112535030365\u001b[0m\n",
      "\u001b[31m[11/28/2019 22:08:07 INFO 140085482997568] #progress_metric: host=algo-1, completed 73 % of epochs\u001b[0m\n",
      "\u001b[31m#metrics {\"Metrics\": {\"Max Batches Seen Between Resets\": {\"count\": 1, \"max\": 3, \"sum\": 3.0, \"min\": 3}, \"Number of Batches Since Last Reset\": {\"count\": 1, \"max\": 3, \"sum\": 3.0, \"min\": 3}, \"Number of Records Since Last Reset\": {\"count\": 1, \"max\": 2012, \"sum\": 2012.0, \"min\": 2012}, \"Total Batches Seen\": {\"count\": 1, \"max\": 37, \"sum\": 37.0, \"min\": 37}, \"Total Records Seen\": {\"count\": 1, \"max\": 25144, \"sum\": 25144.0, \"min\": 25144}, \"Max Records Seen Between Resets\": {\"count\": 1, \"max\": 2012, \"sum\": 2012.0, \"min\": 2012}, \"Reset Count\": {\"count\": 1, \"max\": 13, \"sum\": 13.0, \"min\": 13}}, \"EndTime\": 1574978887.69102, \"Dimensions\": {\"Host\": \"algo-1\", \"Meta\": \"training_data_iter\", \"Operation\": \"training\", \"Algorithm\": \"Linear Learner\", \"epoch\": 10}, \"StartTime\": 1574978887.644683}\n",
      "\u001b[0m\n",
      "\u001b[31m[11/28/2019 22:08:07 INFO 140085482997568] #throughput_metric: host=algo-1, train throughput=43319.0440277 records/second\u001b[0m\n",
      "\u001b[31m[2019-11-28 22:08:07.744] [tensorio] [info] epoch_stats={\"data_pipeline\": \"/opt/ml/input/data/train\", \"epoch\": 26, \"duration\": 53, \"num_examples\": 3, \"num_bytes\": 112672}\u001b[0m\n",
      "\u001b[31m#metrics {\"Metrics\": {\"train_mse_objective\": {\"count\": 1, \"max\": 0.5298761749267578, \"sum\": 0.5298761749267578, \"min\": 0.5298761749267578}}, \"EndTime\": 1574978887.745042, \"Dimensions\": {\"model\": 0, \"Host\": \"algo-1\", \"Operation\": \"training\", \"Algorithm\": \"Linear Learner\", \"epoch\": 11}, \"StartTime\": 1574978887.744956}\n",
      "\u001b[0m\n",
      "\u001b[31m#metrics {\"Metrics\": {\"train_mse_objective\": {\"count\": 1, \"max\": 0.5383840637207031, \"sum\": 0.5383840637207031, \"min\": 0.5383840637207031}}, \"EndTime\": 1574978887.745128, \"Dimensions\": {\"model\": 1, \"Host\": \"algo-1\", \"Operation\": \"training\", \"Algorithm\": \"Linear Learner\", \"epoch\": 11}, \"StartTime\": 1574978887.745108}\n",
      "\u001b[0m\n",
      "\u001b[31m#metrics {\"Metrics\": {\"train_mse_objective\": {\"count\": 1, \"max\": 0.5550885772705079, \"sum\": 0.5550885772705079, \"min\": 0.5550885772705079}}, \"EndTime\": 1574978887.745195, \"Dimensions\": {\"model\": 2, \"Host\": \"algo-1\", \"Operation\": \"training\", \"Algorithm\": \"Linear Learner\", \"epoch\": 11}, \"StartTime\": 1574978887.745177}\n",
      "\u001b[0m\n",
      "\u001b[31m#metrics {\"Metrics\": {\"train_mse_objective\": {\"count\": 1, \"max\": 0.506928237915039, \"sum\": 0.506928237915039, \"min\": 0.506928237915039}}, \"EndTime\": 1574978887.745259, \"Dimensions\": {\"model\": 3, \"Host\": \"algo-1\", \"Operation\": \"training\", \"Algorithm\": \"Linear Learner\", \"epoch\": 11}, \"StartTime\": 1574978887.745241}\n",
      "\u001b[0m\n",
      "\u001b[31m#metrics {\"Metrics\": {\"train_mse_objective\": {\"count\": 1, \"max\": 0.07990206718444824, \"sum\": 0.07990206718444824, \"min\": 0.07990206718444824}}, \"EndTime\": 1574978887.745323, \"Dimensions\": {\"model\": 4, \"Host\": \"algo-1\", \"Operation\": \"training\", \"Algorithm\": \"Linear Learner\", \"epoch\": 11}, \"StartTime\": 1574978887.745305}\n",
      "\u001b[0m\n",
      "\u001b[31m#metrics {\"Metrics\": {\"train_mse_objective\": {\"count\": 1, \"max\": 0.09140788078308106, \"sum\": 0.09140788078308106, \"min\": 0.09140788078308106}}, \"EndTime\": 1574978887.745385, \"Dimensions\": {\"model\": 5, \"Host\": \"algo-1\", \"Operation\": \"training\", \"Algorithm\": \"Linear Learner\", \"epoch\": 11}, \"StartTime\": 1574978887.745366}\n",
      "\u001b[0m\n",
      "\u001b[31m#metrics {\"Metrics\": {\"train_mse_objective\": {\"count\": 1, \"max\": 0.08224390602111817, \"sum\": 0.08224390602111817, \"min\": 0.08224390602111817}}, \"EndTime\": 1574978887.745443, \"Dimensions\": {\"model\": 6, \"Host\": \"algo-1\", \"Operation\": \"training\", \"Algorithm\": \"Linear Learner\", \"epoch\": 11}, \"StartTime\": 1574978887.745426}\n",
      "\u001b[0m\n",
      "\u001b[31m#metrics {\"Metrics\": {\"train_mse_objective\": {\"count\": 1, \"max\": 0.07582515907287597, \"sum\": 0.07582515907287597, \"min\": 0.07582515907287597}}, \"EndTime\": 1574978887.745502, \"Dimensions\": {\"model\": 7, \"Host\": \"algo-1\", \"Operation\": \"training\", \"Algorithm\": \"Linear Learner\", \"epoch\": 11}, \"StartTime\": 1574978887.745485}\n",
      "\u001b[0m\n",
      "\u001b[31m#metrics {\"Metrics\": {\"train_mse_objective\": {\"count\": 1, \"max\": 0.5448750457763671, \"sum\": 0.5448750457763671, \"min\": 0.5448750457763671}}, \"EndTime\": 1574978887.745561, \"Dimensions\": {\"model\": 8, \"Host\": \"algo-1\", \"Operation\": \"training\", \"Algorithm\": \"Linear Learner\", \"epoch\": 11}, \"StartTime\": 1574978887.745544}\n",
      "\u001b[0m\n",
      "\u001b[31m#metrics {\"Metrics\": {\"train_mse_objective\": {\"count\": 1, \"max\": 0.6685767364501953, \"sum\": 0.6685767364501953, \"min\": 0.6685767364501953}}, \"EndTime\": 1574978887.745618, \"Dimensions\": {\"model\": 9, \"Host\": \"algo-1\", \"Operation\": \"training\", \"Algorithm\": \"Linear Learner\", \"epoch\": 11}, \"StartTime\": 1574978887.745601}\n",
      "\u001b[0m\n",
      "\u001b[31m#metrics {\"Metrics\": {\"train_mse_objective\": {\"count\": 1, \"max\": 0.4877715301513672, \"sum\": 0.4877715301513672, \"min\": 0.4877715301513672}}, \"EndTime\": 1574978887.745677, \"Dimensions\": {\"model\": 10, \"Host\": \"algo-1\", \"Operation\": \"training\", \"Algorithm\": \"Linear Learner\", \"epoch\": 11}, \"StartTime\": 1574978887.74566}\n",
      "\u001b[0m\n",
      "\u001b[31m#metrics {\"Metrics\": {\"train_mse_objective\": {\"count\": 1, \"max\": 0.45271446228027346, \"sum\": 0.45271446228027346, \"min\": 0.45271446228027346}}, \"EndTime\": 1574978887.745737, \"Dimensions\": {\"model\": 11, \"Host\": \"algo-1\", \"Operation\": \"training\", \"Algorithm\": \"Linear Learner\", \"epoch\": 11}, \"StartTime\": 1574978887.74572}\n",
      "\u001b[0m\n",
      "\u001b[31m#metrics {\"Metrics\": {\"train_mse_objective\": {\"count\": 1, \"max\": 0.07783141326904297, \"sum\": 0.07783141326904297, \"min\": 0.07783141326904297}}, \"EndTime\": 1574978887.745794, \"Dimensions\": {\"model\": 12, \"Host\": \"algo-1\", \"Operation\": \"training\", \"Algorithm\": \"Linear Learner\", \"epoch\": 11}, \"StartTime\": 1574978887.745777}\n",
      "\u001b[0m\n",
      "\u001b[31m#metrics {\"Metrics\": {\"train_mse_objective\": {\"count\": 1, \"max\": 0.09807935333251953, \"sum\": 0.09807935333251953, \"min\": 0.09807935333251953}}, \"EndTime\": 1574978887.745851, \"Dimensions\": {\"model\": 13, \"Host\": \"algo-1\", \"Operation\": \"training\", \"Algorithm\": \"Linear Learner\", \"epoch\": 11}, \"StartTime\": 1574978887.745835}\n",
      "\u001b[0m\n",
      "\u001b[31m#metrics {\"Metrics\": {\"train_mse_objective\": {\"count\": 1, \"max\": 0.07734965133666992, \"sum\": 0.07734965133666992, \"min\": 0.07734965133666992}}, \"EndTime\": 1574978887.745907, \"Dimensions\": {\"model\": 14, \"Host\": \"algo-1\", \"Operation\": \"training\", \"Algorithm\": \"Linear Learner\", \"epoch\": 11}, \"StartTime\": 1574978887.745891}\n",
      "\u001b[0m\n",
      "\u001b[31m#metrics {\"Metrics\": {\"train_mse_objective\": {\"count\": 1, \"max\": 0.0932961311340332, \"sum\": 0.0932961311340332, \"min\": 0.0932961311340332}}, \"EndTime\": 1574978887.745962, \"Dimensions\": {\"model\": 15, \"Host\": \"algo-1\", \"Operation\": \"training\", \"Algorithm\": \"Linear Learner\", \"epoch\": 11}, \"StartTime\": 1574978887.745946}\n",
      "\u001b[0m\n",
      "\u001b[31m#metrics {\"Metrics\": {\"train_mse_objective\": {\"count\": 1, \"max\": 0.47868650817871095, \"sum\": 0.47868650817871095, \"min\": 0.47868650817871095}}, \"EndTime\": 1574978887.746038, \"Dimensions\": {\"model\": 16, \"Host\": \"algo-1\", \"Operation\": \"training\", \"Algorithm\": \"Linear Learner\", \"epoch\": 11}, \"StartTime\": 1574978887.746004}\n",
      "\u001b[0m\n",
      "\u001b[31m#metrics {\"Metrics\": {\"train_mse_objective\": {\"count\": 1, \"max\": 0.5920875854492188, \"sum\": 0.5920875854492188, \"min\": 0.5920875854492188}}, \"EndTime\": 1574978887.74613, \"Dimensions\": {\"model\": 17, \"Host\": \"algo-1\", \"Operation\": \"training\", \"Algorithm\": \"Linear Learner\", \"epoch\": 11}, \"StartTime\": 1574978887.746112}\n",
      "\u001b[0m\n",
      "\u001b[31m#metrics {\"Metrics\": {\"train_mse_objective\": {\"count\": 1, \"max\": 0.5506966247558593, \"sum\": 0.5506966247558593, \"min\": 0.5506966247558593}}, \"EndTime\": 1574978887.746191, \"Dimensions\": {\"model\": 18, \"Host\": \"algo-1\", \"Operation\": \"training\", \"Algorithm\": \"Linear Learner\", \"epoch\": 11}, \"StartTime\": 1574978887.746173}\n",
      "\u001b[0m\n",
      "\u001b[31m#metrics {\"Metrics\": {\"train_mse_objective\": {\"count\": 1, \"max\": 0.5465504150390625, \"sum\": 0.5465504150390625, \"min\": 0.5465504150390625}}, \"EndTime\": 1574978887.746249, \"Dimensions\": {\"model\": 19, \"Host\": \"algo-1\", \"Operation\": \"training\", \"Algorithm\": \"Linear Learner\", \"epoch\": 11}, \"StartTime\": 1574978887.746231}\n",
      "\u001b[0m\n",
      "\u001b[31m#metrics {\"Metrics\": {\"train_mse_objective\": {\"count\": 1, \"max\": 0.2249541778564453, \"sum\": 0.2249541778564453, \"min\": 0.2249541778564453}}, \"EndTime\": 1574978887.746325, \"Dimensions\": {\"model\": 20, \"Host\": \"algo-1\", \"Operation\": \"training\", \"Algorithm\": \"Linear Learner\", \"epoch\": 11}, \"StartTime\": 1574978887.746307}\n",
      "\u001b[0m\n",
      "\u001b[31m#metrics {\"Metrics\": {\"train_mse_objective\": {\"count\": 1, \"max\": 0.15165645599365235, \"sum\": 0.15165645599365235, \"min\": 0.15165645599365235}}, \"EndTime\": 1574978887.746382, \"Dimensions\": {\"model\": 21, \"Host\": \"algo-1\", \"Operation\": \"training\", \"Algorithm\": \"Linear Learner\", \"epoch\": 11}, \"StartTime\": 1574978887.746366}\n",
      "\u001b[0m\n",
      "\u001b[31m#metrics {\"Metrics\": {\"train_mse_objective\": {\"count\": 1, \"max\": 0.1631412124633789, \"sum\": 0.1631412124633789, \"min\": 0.1631412124633789}}, \"EndTime\": 1574978887.746441, \"Dimensions\": {\"model\": 22, \"Host\": \"algo-1\", \"Operation\": \"training\", \"Algorithm\": \"Linear Learner\", \"epoch\": 11}, \"StartTime\": 1574978887.746425}\n",
      "\u001b[0m\n",
      "\u001b[31m#metrics {\"Metrics\": {\"train_mse_objective\": {\"count\": 1, \"max\": 0.18726829528808595, \"sum\": 0.18726829528808595, \"min\": 0.18726829528808595}}, \"EndTime\": 1574978887.7465, \"Dimensions\": {\"model\": 23, \"Host\": \"algo-1\", \"Operation\": \"training\", \"Algorithm\": \"Linear Learner\", \"epoch\": 11}, \"StartTime\": 1574978887.746483}\n",
      "\u001b[0m\n",
      "\u001b[31m#metrics {\"Metrics\": {\"train_mse_objective\": {\"count\": 1, \"max\": 0.9291788330078125, \"sum\": 0.9291788330078125, \"min\": 0.9291788330078125}}, \"EndTime\": 1574978887.746595, \"Dimensions\": {\"model\": 24, \"Host\": \"algo-1\", \"Operation\": \"training\", \"Algorithm\": \"Linear Learner\", \"epoch\": 11}, \"StartTime\": 1574978887.746576}\n",
      "\u001b[0m\n",
      "\u001b[31m#metrics {\"Metrics\": {\"train_mse_objective\": {\"count\": 1, \"max\": 0.9294599609375, \"sum\": 0.9294599609375, \"min\": 0.9294599609375}}, \"EndTime\": 1574978887.746652, \"Dimensions\": {\"model\": 25, \"Host\": \"algo-1\", \"Operation\": \"training\", \"Algorithm\": \"Linear Learner\", \"epoch\": 11}, \"StartTime\": 1574978887.746636}\n",
      "\u001b[0m\n",
      "\u001b[31m#metrics {\"Metrics\": {\"train_mse_objective\": {\"count\": 1, \"max\": 0.9738961486816406, \"sum\": 0.9738961486816406, \"min\": 0.9738961486816406}}, \"EndTime\": 1574978887.746705, \"Dimensions\": {\"model\": 26, \"Host\": \"algo-1\", \"Operation\": \"training\", \"Algorithm\": \"Linear Learner\", \"epoch\": 11}, \"StartTime\": 1574978887.746691}\n",
      "\u001b[0m\n",
      "\u001b[31m#metrics {\"Metrics\": {\"train_mse_objective\": {\"count\": 1, \"max\": 0.942495849609375, \"sum\": 0.942495849609375, \"min\": 0.942495849609375}}, \"EndTime\": 1574978887.746757, \"Dimensions\": {\"model\": 27, \"Host\": \"algo-1\", \"Operation\": \"training\", \"Algorithm\": \"Linear Learner\", \"epoch\": 11}, \"StartTime\": 1574978887.74674}\n",
      "\u001b[0m\n",
      "\u001b[31m#metrics {\"Metrics\": {\"train_mse_objective\": {\"count\": 1, \"max\": 1.0298164672851562, \"sum\": 1.0298164672851562, \"min\": 1.0298164672851562}}, \"EndTime\": 1574978887.746817, \"Dimensions\": {\"model\": 28, \"Host\": \"algo-1\", \"Operation\": \"training\", \"Algorithm\": \"Linear Learner\", \"epoch\": 11}, \"StartTime\": 1574978887.746801}\n",
      "\u001b[0m\n",
      "\u001b[31m#metrics {\"Metrics\": {\"train_mse_objective\": {\"count\": 1, \"max\": 0.9743382873535156, \"sum\": 0.9743382873535156, \"min\": 0.9743382873535156}}, \"EndTime\": 1574978887.746876, \"Dimensions\": {\"model\": 29, \"Host\": \"algo-1\", \"Operation\": \"training\", \"Algorithm\": \"Linear Learner\", \"epoch\": 11}, \"StartTime\": 1574978887.746859}\n",
      "\u001b[0m\n",
      "\u001b[31m#metrics {\"Metrics\": {\"train_mse_objective\": {\"count\": 1, \"max\": 1.032513427734375, \"sum\": 1.032513427734375, \"min\": 1.032513427734375}}, \"EndTime\": 1574978887.746943, \"Dimensions\": {\"model\": 30, \"Host\": \"algo-1\", \"Operation\": \"training\", \"Algorithm\": \"Linear Learner\", \"epoch\": 11}, \"StartTime\": 1574978887.746924}\n",
      "\u001b[0m\n",
      "\u001b[31m#metrics {\"Metrics\": {\"train_mse_objective\": {\"count\": 1, \"max\": 1.0555963134765625, \"sum\": 1.0555963134765625, \"min\": 1.0555963134765625}}, \"EndTime\": 1574978887.74701, \"Dimensions\": {\"model\": 31, \"Host\": \"algo-1\", \"Operation\": \"training\", \"Algorithm\": \"Linear Learner\", \"epoch\": 11}, \"StartTime\": 1574978887.746992}\n",
      "\u001b[0m\n",
      "\u001b[31m[11/28/2019 22:08:07 INFO 140085482997568] #quality_metric: host=algo-1, epoch=11, train mse_objective <loss>=0.529876174927\u001b[0m\n",
      "\u001b[31m[11/28/2019 22:08:07 INFO 140085482997568] #early_stopping_criteria_metric: host=algo-1, epoch=11, criteria=mse_objective, value=0.0758251590729\u001b[0m\n",
      "\u001b[31m[11/28/2019 22:08:07 INFO 140085482997568] #progress_metric: host=algo-1, completed 80 % of epochs\u001b[0m\n",
      "\u001b[31m#metrics {\"Metrics\": {\"Max Batches Seen Between Resets\": {\"count\": 1, \"max\": 3, \"sum\": 3.0, \"min\": 3}, \"Number of Batches Since Last Reset\": {\"count\": 1, \"max\": 3, \"sum\": 3.0, \"min\": 3}, \"Number of Records Since Last Reset\": {\"count\": 1, \"max\": 2012, \"sum\": 2012.0, \"min\": 2012}, \"Total Batches Seen\": {\"count\": 1, \"max\": 40, \"sum\": 40.0, \"min\": 40}, \"Total Records Seen\": {\"count\": 1, \"max\": 27156, \"sum\": 27156.0, \"min\": 27156}, \"Max Records Seen Between Resets\": {\"count\": 1, \"max\": 2012, \"sum\": 2012.0, \"min\": 2012}, \"Reset Count\": {\"count\": 1, \"max\": 14, \"sum\": 14.0, \"min\": 14}}, \"EndTime\": 1574978887.750675, \"Dimensions\": {\"Host\": \"algo-1\", \"Meta\": \"training_data_iter\", \"Operation\": \"training\", \"Algorithm\": \"Linear Learner\", \"epoch\": 11}, \"StartTime\": 1574978887.691269}\n",
      "\u001b[0m\n",
      "\u001b[31m[11/28/2019 22:08:07 INFO 140085482997568] #throughput_metric: host=algo-1, train throughput=33799.2920802 records/second\u001b[0m\n",
      "\u001b[31m[2019-11-28 22:08:07.793] [tensorio] [info] epoch_stats={\"data_pipeline\": \"/opt/ml/input/data/train\", \"epoch\": 28, \"duration\": 42, \"num_examples\": 3, \"num_bytes\": 112672}\u001b[0m\n",
      "\u001b[31m#metrics {\"Metrics\": {\"train_mse_objective\": {\"count\": 1, \"max\": 0.49885073852539064, \"sum\": 0.49885073852539064, \"min\": 0.49885073852539064}}, \"EndTime\": 1574978887.794017, \"Dimensions\": {\"model\": 0, \"Host\": \"algo-1\", \"Operation\": \"training\", \"Algorithm\": \"Linear Learner\", \"epoch\": 12}, \"StartTime\": 1574978887.793938}\n",
      "\u001b[0m\n",
      "\u001b[31m#metrics {\"Metrics\": {\"train_mse_objective\": {\"count\": 1, \"max\": 0.5057918701171875, \"sum\": 0.5057918701171875, \"min\": 0.5057918701171875}}, \"EndTime\": 1574978887.794101, \"Dimensions\": {\"model\": 1, \"Host\": \"algo-1\", \"Operation\": \"training\", \"Algorithm\": \"Linear Learner\", \"epoch\": 12}, \"StartTime\": 1574978887.79408}\n",
      "\u001b[0m\n",
      "\u001b[31m#metrics {\"Metrics\": {\"train_mse_objective\": {\"count\": 1, \"max\": 0.5251977844238281, \"sum\": 0.5251977844238281, \"min\": 0.5251977844238281}}, \"EndTime\": 1574978887.794168, \"Dimensions\": {\"model\": 2, \"Host\": \"algo-1\", \"Operation\": \"training\", \"Algorithm\": \"Linear Learner\", \"epoch\": 12}, \"StartTime\": 1574978887.794149}\n",
      "\u001b[0m\n",
      "\u001b[31m#metrics {\"Metrics\": {\"train_mse_objective\": {\"count\": 1, \"max\": 0.475565673828125, \"sum\": 0.475565673828125, \"min\": 0.475565673828125}}, \"EndTime\": 1574978887.794236, \"Dimensions\": {\"model\": 3, \"Host\": \"algo-1\", \"Operation\": \"training\", \"Algorithm\": \"Linear Learner\", \"epoch\": 12}, \"StartTime\": 1574978887.794217}\n",
      "\u001b[0m\n",
      "\u001b[31m#metrics {\"Metrics\": {\"train_mse_objective\": {\"count\": 1, \"max\": 0.0732343521118164, \"sum\": 0.0732343521118164, \"min\": 0.0732343521118164}}, \"EndTime\": 1574978887.794297, \"Dimensions\": {\"model\": 4, \"Host\": \"algo-1\", \"Operation\": \"training\", \"Algorithm\": \"Linear Learner\", \"epoch\": 12}, \"StartTime\": 1574978887.794279}\n",
      "\u001b[0m\n",
      "\u001b[31m#metrics {\"Metrics\": {\"train_mse_objective\": {\"count\": 1, \"max\": 0.07752412605285644, \"sum\": 0.07752412605285644, \"min\": 0.07752412605285644}}, \"EndTime\": 1574978887.794356, \"Dimensions\": {\"model\": 5, \"Host\": \"algo-1\", \"Operation\": \"training\", \"Algorithm\": \"Linear Learner\", \"epoch\": 12}, \"StartTime\": 1574978887.79434}\n",
      "\u001b[0m\n",
      "\u001b[31m#metrics {\"Metrics\": {\"train_mse_objective\": {\"count\": 1, \"max\": 0.07514186477661133, \"sum\": 0.07514186477661133, \"min\": 0.07514186477661133}}, \"EndTime\": 1574978887.794416, \"Dimensions\": {\"model\": 6, \"Host\": \"algo-1\", \"Operation\": \"training\", \"Algorithm\": \"Linear Learner\", \"epoch\": 12}, \"StartTime\": 1574978887.7944}\n",
      "\u001b[0m\n",
      "\u001b[31m#metrics {\"Metrics\": {\"train_mse_objective\": {\"count\": 1, \"max\": 0.07352861785888672, \"sum\": 0.07352861785888672, \"min\": 0.07352861785888672}}, \"EndTime\": 1574978887.794475, \"Dimensions\": {\"model\": 7, \"Host\": \"algo-1\", \"Operation\": \"training\", \"Algorithm\": \"Linear Learner\", \"epoch\": 12}, \"StartTime\": 1574978887.794459}\n",
      "\u001b[0m\n",
      "\u001b[31m#metrics {\"Metrics\": {\"train_mse_objective\": {\"count\": 1, \"max\": 0.5148153686523438, \"sum\": 0.5148153686523438, \"min\": 0.5148153686523438}}, \"EndTime\": 1574978887.794628, \"Dimensions\": {\"model\": 8, \"Host\": \"algo-1\", \"Operation\": \"training\", \"Algorithm\": \"Linear Learner\", \"epoch\": 12}, \"StartTime\": 1574978887.794606}\n",
      "\u001b[0m\n",
      "\u001b[31m#metrics {\"Metrics\": {\"train_mse_objective\": {\"count\": 1, \"max\": 0.632275390625, \"sum\": 0.632275390625, \"min\": 0.632275390625}}, \"EndTime\": 1574978887.794692, \"Dimensions\": {\"model\": 9, \"Host\": \"algo-1\", \"Operation\": \"training\", \"Algorithm\": \"Linear Learner\", \"epoch\": 12}, \"StartTime\": 1574978887.794674}\n",
      "\u001b[0m\n",
      "\u001b[31m#metrics {\"Metrics\": {\"train_mse_objective\": {\"count\": 1, \"max\": 0.4580230255126953, \"sum\": 0.4580230255126953, \"min\": 0.4580230255126953}}, \"EndTime\": 1574978887.794752, \"Dimensions\": {\"model\": 10, \"Host\": \"algo-1\", \"Operation\": \"training\", \"Algorithm\": \"Linear Learner\", \"epoch\": 12}, \"StartTime\": 1574978887.794735}\n",
      "\u001b[0m\n",
      "\u001b[31m#metrics {\"Metrics\": {\"train_mse_objective\": {\"count\": 1, \"max\": 0.4246856689453125, \"sum\": 0.4246856689453125, \"min\": 0.4246856689453125}}, \"EndTime\": 1574978887.794812, \"Dimensions\": {\"model\": 11, \"Host\": \"algo-1\", \"Operation\": \"training\", \"Algorithm\": \"Linear Learner\", \"epoch\": 12}, \"StartTime\": 1574978887.794795}\n",
      "\u001b[0m\n",
      "\u001b[31m#metrics {\"Metrics\": {\"train_mse_objective\": {\"count\": 1, \"max\": 0.07205346488952637, \"sum\": 0.07205346488952637, \"min\": 0.07205346488952637}}, \"EndTime\": 1574978887.79487, \"Dimensions\": {\"model\": 12, \"Host\": \"algo-1\", \"Operation\": \"training\", \"Algorithm\": \"Linear Learner\", \"epoch\": 12}, \"StartTime\": 1574978887.794854}\n",
      "\u001b[0m\n",
      "\u001b[31m#metrics {\"Metrics\": {\"train_mse_objective\": {\"count\": 1, \"max\": 0.08038921546936036, \"sum\": 0.08038921546936036, \"min\": 0.08038921546936036}}, \"EndTime\": 1574978887.794926, \"Dimensions\": {\"model\": 13, \"Host\": \"algo-1\", \"Operation\": \"training\", \"Algorithm\": \"Linear Learner\", \"epoch\": 12}, \"StartTime\": 1574978887.79491}\n",
      "\u001b[0m\n",
      "\u001b[31m#metrics {\"Metrics\": {\"train_mse_objective\": {\"count\": 1, \"max\": 0.06932200050354004, \"sum\": 0.06932200050354004, \"min\": 0.06932200050354004}}, \"EndTime\": 1574978887.794984, \"Dimensions\": {\"model\": 14, \"Host\": \"algo-1\", \"Operation\": \"training\", \"Algorithm\": \"Linear Learner\", \"epoch\": 12}, \"StartTime\": 1574978887.794967}\n",
      "\u001b[0m\n",
      "\u001b[31m#metrics {\"Metrics\": {\"train_mse_objective\": {\"count\": 1, \"max\": 0.0776584701538086, \"sum\": 0.0776584701538086, \"min\": 0.0776584701538086}}, \"EndTime\": 1574978887.795042, \"Dimensions\": {\"model\": 15, \"Host\": \"algo-1\", \"Operation\": \"training\", \"Algorithm\": \"Linear Learner\", \"epoch\": 12}, \"StartTime\": 1574978887.795025}\n",
      "\u001b[0m\n",
      "\u001b[31m#metrics {\"Metrics\": {\"train_mse_objective\": {\"count\": 1, \"max\": 0.45184625244140625, \"sum\": 0.45184625244140625, \"min\": 0.45184625244140625}}, \"EndTime\": 1574978887.7951, \"Dimensions\": {\"model\": 16, \"Host\": \"algo-1\", \"Operation\": \"training\", \"Algorithm\": \"Linear Learner\", \"epoch\": 12}, \"StartTime\": 1574978887.795084}\n",
      "\u001b[0m\n",
      "\u001b[31m#metrics {\"Metrics\": {\"train_mse_objective\": {\"count\": 1, \"max\": 0.5592564849853515, \"sum\": 0.5592564849853515, \"min\": 0.5592564849853515}}, \"EndTime\": 1574978887.795159, \"Dimensions\": {\"model\": 17, \"Host\": \"algo-1\", \"Operation\": \"training\", \"Algorithm\": \"Linear Learner\", \"epoch\": 12}, \"StartTime\": 1574978887.795142}\n",
      "\u001b[0m\n",
      "\u001b[31m#metrics {\"Metrics\": {\"train_mse_objective\": {\"count\": 1, \"max\": 0.5217066650390625, \"sum\": 0.5217066650390625, \"min\": 0.5217066650390625}}, \"EndTime\": 1574978887.795217, \"Dimensions\": {\"model\": 18, \"Host\": \"algo-1\", \"Operation\": \"training\", \"Algorithm\": \"Linear Learner\", \"epoch\": 12}, \"StartTime\": 1574978887.7952}\n",
      "\u001b[0m\n",
      "\u001b[31m#metrics {\"Metrics\": {\"train_mse_objective\": {\"count\": 1, \"max\": 0.5178649291992188, \"sum\": 0.5178649291992188, \"min\": 0.5178649291992188}}, \"EndTime\": 1574978887.795274, \"Dimensions\": {\"model\": 19, \"Host\": \"algo-1\", \"Operation\": \"training\", \"Algorithm\": \"Linear Learner\", \"epoch\": 12}, \"StartTime\": 1574978887.795258}\n",
      "\u001b[0m\n",
      "\u001b[31m#metrics {\"Metrics\": {\"train_mse_objective\": {\"count\": 1, \"max\": 0.1570811004638672, \"sum\": 0.1570811004638672, \"min\": 0.1570811004638672}}, \"EndTime\": 1574978887.795332, \"Dimensions\": {\"model\": 20, \"Host\": \"algo-1\", \"Operation\": \"training\", \"Algorithm\": \"Linear Learner\", \"epoch\": 12}, \"StartTime\": 1574978887.795315}\n",
      "\u001b[0m\n",
      "\u001b[31m#metrics {\"Metrics\": {\"train_mse_objective\": {\"count\": 1, \"max\": 0.14284363174438477, \"sum\": 0.14284363174438477, \"min\": 0.14284363174438477}}, \"EndTime\": 1574978887.795389, \"Dimensions\": {\"model\": 21, \"Host\": \"algo-1\", \"Operation\": \"training\", \"Algorithm\": \"Linear Learner\", \"epoch\": 12}, \"StartTime\": 1574978887.795373}\n",
      "\u001b[0m\n",
      "\u001b[31m#metrics {\"Metrics\": {\"train_mse_objective\": {\"count\": 1, \"max\": 0.14257108879089356, \"sum\": 0.14257108879089356, \"min\": 0.14257108879089356}}, \"EndTime\": 1574978887.795479, \"Dimensions\": {\"model\": 22, \"Host\": \"algo-1\", \"Operation\": \"training\", \"Algorithm\": \"Linear Learner\", \"epoch\": 12}, \"StartTime\": 1574978887.795461}\n",
      "\u001b[0m\n",
      "\u001b[31m#metrics {\"Metrics\": {\"train_mse_objective\": {\"count\": 1, \"max\": 0.14547091674804688, \"sum\": 0.14547091674804688, \"min\": 0.14547091674804688}}, \"EndTime\": 1574978887.795539, \"Dimensions\": {\"model\": 23, \"Host\": \"algo-1\", \"Operation\": \"training\", \"Algorithm\": \"Linear Learner\", \"epoch\": 12}, \"StartTime\": 1574978887.795522}\n",
      "\u001b[0m\n",
      "\u001b[31m#metrics {\"Metrics\": {\"train_mse_objective\": {\"count\": 1, \"max\": 0.9321953125, \"sum\": 0.9321953125, \"min\": 0.9321953125}}, \"EndTime\": 1574978887.795596, \"Dimensions\": {\"model\": 24, \"Host\": \"algo-1\", \"Operation\": \"training\", \"Algorithm\": \"Linear Learner\", \"epoch\": 12}, \"StartTime\": 1574978887.79558}\n",
      "\u001b[0m\n",
      "\u001b[31m#metrics {\"Metrics\": {\"train_mse_objective\": {\"count\": 1, \"max\": 0.9302329406738281, \"sum\": 0.9302329406738281, \"min\": 0.9302329406738281}}, \"EndTime\": 1574978887.795649, \"Dimensions\": {\"model\": 25, \"Host\": \"algo-1\", \"Operation\": \"training\", \"Algorithm\": \"Linear Learner\", \"epoch\": 12}, \"StartTime\": 1574978887.795634}\n",
      "\u001b[0m\n",
      "\u001b[31m#metrics {\"Metrics\": {\"train_mse_objective\": {\"count\": 1, \"max\": 0.9697054443359375, \"sum\": 0.9697054443359375, \"min\": 0.9697054443359375}}, \"EndTime\": 1574978887.795706, \"Dimensions\": {\"model\": 26, \"Host\": \"algo-1\", \"Operation\": \"training\", \"Algorithm\": \"Linear Learner\", \"epoch\": 12}, \"StartTime\": 1574978887.79569}\n",
      "\u001b[0m\n",
      "\u001b[31m#metrics {\"Metrics\": {\"train_mse_objective\": {\"count\": 1, \"max\": 0.940447265625, \"sum\": 0.940447265625, \"min\": 0.940447265625}}, \"EndTime\": 1574978887.795763, \"Dimensions\": {\"model\": 27, \"Host\": \"algo-1\", \"Operation\": \"training\", \"Algorithm\": \"Linear Learner\", \"epoch\": 12}, \"StartTime\": 1574978887.795747}\n",
      "\u001b[0m\n",
      "\u001b[31m#metrics {\"Metrics\": {\"train_mse_objective\": {\"count\": 1, \"max\": 1.0871463317871093, \"sum\": 1.0871463317871093, \"min\": 1.0871463317871093}}, \"EndTime\": 1574978887.795821, \"Dimensions\": {\"model\": 28, \"Host\": \"algo-1\", \"Operation\": \"training\", \"Algorithm\": \"Linear Learner\", \"epoch\": 12}, \"StartTime\": 1574978887.795805}\n",
      "\u001b[0m\n",
      "\u001b[31m#metrics {\"Metrics\": {\"train_mse_objective\": {\"count\": 1, \"max\": 1.0347866516113282, \"sum\": 1.0347866516113282, \"min\": 1.0347866516113282}}, \"EndTime\": 1574978887.795878, \"Dimensions\": {\"model\": 29, \"Host\": \"algo-1\", \"Operation\": \"training\", \"Algorithm\": \"Linear Learner\", \"epoch\": 12}, \"StartTime\": 1574978887.795862}\n",
      "\u001b[0m\n",
      "\u001b[31m#metrics {\"Metrics\": {\"train_mse_objective\": {\"count\": 1, \"max\": 1.0280663452148437, \"sum\": 1.0280663452148437, \"min\": 1.0280663452148437}}, \"EndTime\": 1574978887.795934, \"Dimensions\": {\"model\": 30, \"Host\": \"algo-1\", \"Operation\": \"training\", \"Algorithm\": \"Linear Learner\", \"epoch\": 12}, \"StartTime\": 1574978887.795919}\n",
      "\u001b[0m\n",
      "\u001b[31m#metrics {\"Metrics\": {\"train_mse_objective\": {\"count\": 1, \"max\": 1.0670159301757813, \"sum\": 1.0670159301757813, \"min\": 1.0670159301757813}}, \"EndTime\": 1574978887.79599, \"Dimensions\": {\"model\": 31, \"Host\": \"algo-1\", \"Operation\": \"training\", \"Algorithm\": \"Linear Learner\", \"epoch\": 12}, \"StartTime\": 1574978887.795974}\n",
      "\u001b[0m\n",
      "\u001b[31m[11/28/2019 22:08:07 INFO 140085482997568] #quality_metric: host=algo-1, epoch=12, train mse_objective <loss>=0.498850738525\u001b[0m\n",
      "\u001b[31m[11/28/2019 22:08:07 INFO 140085482997568] #early_stopping_criteria_metric: host=algo-1, epoch=12, criteria=mse_objective, value=0.0693220005035\u001b[0m\n",
      "\u001b[31m[11/28/2019 22:08:07 INFO 140085482997568] Early stop condition met. Stopping training.\u001b[0m\n",
      "\u001b[31m[11/28/2019 22:08:07 INFO 140085482997568] #progress_metric: host=algo-1, completed 100 % epochs\u001b[0m\n",
      "\u001b[31m#metrics {\"Metrics\": {\"Max Batches Seen Between Resets\": {\"count\": 1, \"max\": 3, \"sum\": 3.0, \"min\": 3}, \"Number of Batches Since Last Reset\": {\"count\": 1, \"max\": 3, \"sum\": 3.0, \"min\": 3}, \"Number of Records Since Last Reset\": {\"count\": 1, \"max\": 2012, \"sum\": 2012.0, \"min\": 2012}, \"Total Batches Seen\": {\"count\": 1, \"max\": 43, \"sum\": 43.0, \"min\": 43}, \"Total Records Seen\": {\"count\": 1, \"max\": 29168, \"sum\": 29168.0, \"min\": 29168}, \"Max Records Seen Between Resets\": {\"count\": 1, \"max\": 2012, \"sum\": 2012.0, \"min\": 2012}, \"Reset Count\": {\"count\": 1, \"max\": 15, \"sum\": 15.0, \"min\": 15}}, \"EndTime\": 1574978887.798796, \"Dimensions\": {\"Host\": \"algo-1\", \"Meta\": \"training_data_iter\", \"Operation\": \"training\", \"Algorithm\": \"Linear Learner\", \"epoch\": 12}, \"StartTime\": 1574978887.750942}\n",
      "\u001b[0m\n",
      "\u001b[31m[11/28/2019 22:08:07 INFO 140085482997568] #throughput_metric: host=algo-1, train throughput=41933.2444608 records/second\u001b[0m\n",
      "\u001b[31m[11/28/2019 22:08:07 WARNING 140085482997568] wait_for_all_workers will not sync workers since the kv store is not running distributed\u001b[0m\n",
      "\u001b[31m[11/28/2019 22:08:07 WARNING 140085482997568] wait_for_all_workers will not sync workers since the kv store is not running distributed\u001b[0m\n",
      "\u001b[31m[2019-11-28 22:08:07.804] [tensorio] [info] epoch_stats={\"data_pipeline\": \"/opt/ml/input/data/train\", \"epoch\": 30, \"duration\": 4, \"num_examples\": 1, \"num_bytes\": 56000}\u001b[0m\n",
      "\u001b[31m[2019-11-28 22:08:07.814] [tensorio] [info] epoch_stats={\"data_pipeline\": \"/opt/ml/input/data/train\", \"epoch\": 32, \"duration\": 7, \"num_examples\": 3, \"num_bytes\": 112672}\u001b[0m\n",
      "\u001b[31m[11/28/2019 22:08:07 INFO 140085482997568] #train_score (algo-1) : ('mse_objective', 0.002756804018605419)\u001b[0m\n",
      "\u001b[31m[11/28/2019 22:08:07 INFO 140085482997568] #train_score (algo-1) : ('mse', 0.002756804018605419)\u001b[0m\n",
      "\u001b[31m[11/28/2019 22:08:07 INFO 140085482997568] #train_score (algo-1) : ('absolute_loss', 0.045982717934470056)\u001b[0m\n",
      "\u001b[31m[11/28/2019 22:08:07 INFO 140085482997568] #quality_metric: host=algo-1, train mse_objective <loss>=0.00275680401861\u001b[0m\n",
      "\u001b[31m[11/28/2019 22:08:07 INFO 140085482997568] #quality_metric: host=algo-1, train mse <loss>=0.00275680401861\u001b[0m\n",
      "\u001b[31m[11/28/2019 22:08:07 INFO 140085482997568] #quality_metric: host=algo-1, train absolute_loss <loss>=0.0459827179345\u001b[0m\n",
      "\u001b[31m[11/28/2019 22:08:07 INFO 140085482997568] Best model found for hyperparameters: {\"lr_scheduler_step\": 10, \"wd\": 0.01, \"optimizer\": \"adam\", \"lr_scheduler_factor\": 0.99, \"l1\": 0.0, \"learning_rate\": 0.1, \"lr_scheduler_minimum_lr\": 0.0001}\u001b[0m\n",
      "\u001b[31m[11/28/2019 22:08:07 INFO 140085482997568] Saved checkpoint to \"/tmp/tmpHMNJ0j/mx-mod-0000.params\"\u001b[0m\n",
      "\u001b[31m[11/28/2019 22:08:07 INFO 140085482997568] Test data is not provided.\u001b[0m\n",
      "\u001b[31m#metrics {\"Metrics\": {\"totaltime\": {\"count\": 1, \"max\": 890.3210163116455, \"sum\": 890.3210163116455, \"min\": 890.3210163116455}, \"finalize.time\": {\"count\": 1, \"max\": 16.36791229248047, \"sum\": 16.36791229248047, \"min\": 16.36791229248047}, \"initialize.time\": {\"count\": 1, \"max\": 135.12206077575684, \"sum\": 135.12206077575684, \"min\": 135.12206077575684}, \"check_early_stopping.time\": {\"count\": 13, \"max\": 1.0609626770019531, \"sum\": 6.956338882446289, \"min\": 0.16689300537109375}, \"setuptime\": {\"count\": 1, \"max\": 31.80384635925293, \"sum\": 31.80384635925293, \"min\": 31.80384635925293}, \"update.time\": {\"count\": 13, \"max\": 60.929059982299805, \"sum\": 641.0162448883057, \"min\": 43.419837951660156}, \"epochs\": {\"count\": 1, \"max\": 15, \"sum\": 15.0, \"min\": 15}}, \"EndTime\": 1574978887.822311, \"Dimensions\": {\"Host\": \"algo-1\", \"Operation\": \"training\", \"Algorithm\": \"Linear Learner\"}, \"StartTime\": 1574978887.014037}\n",
      "\u001b[0m\n"
     ]
    },
    {
     "name": "stdout",
     "output_type": "stream",
     "text": [
      "\n",
      "2019-11-28 22:08:16 Completed - Training job completed\n",
      "Training seconds: 62\n",
      "Billable seconds: 62\n",
      "CPU times: user 476 ms, sys: 40.6 ms, total: 517 ms\n",
      "Wall time: 3min 42s\n"
     ]
    }
   ],
   "source": [
    "%%time \n",
    "# train the estimator on formatted training data\n",
    "linear.fit(formatted_train_data)"
   ]
  },
  {
   "cell_type": "markdown",
   "metadata": {},
   "source": [
    "#### 6: Deploy the trained model\n",
    "Deploying the trained model to create a `linear_predictor`. We use the `model.deploy()`, which takes the following two arguments: \n",
    "* `initial_instance_count` : The number of deployed instances - here its `1`.\n",
    "* `instance_type`          : The type of SageMaker instance for deployment - here `ml.t2.medium` are used."
   ]
  },
  {
   "cell_type": "code",
   "execution_count": 19,
   "metadata": {},
   "outputs": [
    {
     "name": "stdout",
     "output_type": "stream",
     "text": [
      "-------------------------------------------------------------------------------------------------------------!CPU times: user 520 ms, sys: 40 ms, total: 560 ms\n",
      "Wall time: 9min 9s\n"
     ]
    }
   ],
   "source": [
    "%%time \n",
    "# deploy and create a predictor\n",
    "linear_predictor = linear.deploy(initial_instance_count=1, instance_type='ml.t2.medium')"
   ]
  },
  {
   "cell_type": "markdown",
   "metadata": {},
   "source": [
    "#### 7: Evaluate the deployed model\n",
    "The performance of the delpoyed model can be evaluated against the `test` data. The `linear_predictor` expects an **ndarray** of input features and returns a list of Records. See [predictor documentation](https://sagemaker.readthedocs.io/en/stable/linear_learner.html#sagemaker.LinearLearnerPredictor) for details.\n",
    "\n",
    "First test linear model on just one test point, to see the resulting list."
   ]
  },
  {
   "cell_type": "code",
   "execution_count": 20,
   "metadata": {},
   "outputs": [
    {
     "name": "stdout",
     "output_type": "stream",
     "text": [
      "[label {\n",
      "  key: \"score\"\n",
      "  value {\n",
      "    float32_tensor {\n",
      "      values: 0.7172136902809143\n",
      "    }\n",
      "  }\n",
      "}\n",
      "]\n"
     ]
    }
   ],
   "source": [
    "# test one prediction\n",
    "result = linear_predictor.predict(test_x_np[0])\n",
    "\n",
    "print (result)"
   ]
  },
  {
   "cell_type": "markdown",
   "metadata": {},
   "source": [
    "#### Helper function for evaluation\n",
    "The provided function below, takes in a deployed predictor, some test features and labels, and returns a metric score of `mean_squared_error()` between the predictions ($\\tilde{y}$) and the actual values ($y$).\n",
    "\n",
    "\\begin{align*}\n",
    "\\displaystyle MSE &= \\frac{1}{n}\\sum\\limits_{i=1}^n (y_i - \\tilde{y_i})^2 \\\\\n",
    "\\displaystyle RMSE &= (\\frac{1}{n}\\sum\\limits_{i=1}^n (y_i - \\tilde{y_i})^2)^{1/2} = \\sqrt{MSE}\n",
    "\\end{align*}"
   ]
  },
  {
   "cell_type": "code",
   "execution_count": 21,
   "metadata": {},
   "outputs": [],
   "source": [
    "from sklearn.metrics import mean_squared_error\n",
    "import math\n",
    "\n",
    "# code to evaluate the endpoint on test data\n",
    "# returns a variety of model metrics\n",
    "def evaluate(predictor, test_features, test_labels, verbose=True):\n",
    "    \"\"\"\n",
    "    Evaluate a model on a test set given the prediction endpoint.  \n",
    "    Return binary classification metrics.\n",
    "    :param predictor: A prediction endpoint\n",
    "    :param test_features: Test features\n",
    "    :param test_labels: Class labels for test data\n",
    "    :param verbose: If True, prints a table of all performance metrics\n",
    "    :return: A dictionary of performance metrics.\n",
    "    \"\"\"\n",
    "    \n",
    "    # We have a lot of test data, so we'll split it into batches of 100\n",
    "    # split the test data set into batches and evaluate using prediction endpoint    \n",
    "    prediction_batches = [predictor.predict(batch) for batch in np.array_split(test_features, 100)]\n",
    "    \n",
    "    # LinearLearner produces a `predicted_label` for each data point in a batch\n",
    "    # get the 'predicted_label' for every point in a batch\n",
    "    test_preds = np.concatenate([np.array([x.label['score'].float32_tensor.values[0] for x in batch]) \n",
    "                                 for batch in prediction_batches])\n",
    "    \n",
    "    viz.plot_prediction(test_labels, test_preds, filename = images_dir+'linearModel.png')\n",
    "\n",
    "    #calculate the score based on mean squared error\n",
    "    score = mean_squared_error(test_preds, test_labels)\n",
    "    \n",
    "    # printing a table of metrics\n",
    "    if verbose:\n",
    "        print(\"{:<11} {:.8f} MSE ({:.8f} RMSE)\".format('Score:', score, math.sqrt(score)))\n",
    "        print()\n",
    "        \n",
    "    return {'Predictions': test_preds, 'Score': score}"
   ]
  },
  {
   "cell_type": "code",
   "execution_count": 22,
   "metadata": {},
   "outputs": [
    {
     "name": "stdout",
     "output_type": "stream",
     "text": [
      "Metrics for simple, LinearLearner.\n",
      "\n",
      "Score:      0.00276604 MSE (0.05259319 RMSE)\n",
      "\n"
     ]
    },
    {
     "data": {
      "image/png": "[encoded data removed]",
      "text/plain": [
       "<Figure size 432x288 with 1 Axes>"
      ]
     },
     "metadata": {},
     "output_type": "display_data"
    }
   ],
   "source": [
    "print('Metrics for simple, LinearLearner.\\n')\n",
    "\n",
    "# get metrics for linear predictor\n",
    "predictions, metrics = evaluate(linear_predictor, \n",
    "                   test_x_np, \n",
    "                   test_y_np, \n",
    "                   verbose=True) # verbose means we'll print out the metrics"
   ]
  },
  {
   "cell_type": "markdown",
   "metadata": {},
   "source": [
    "#### 8: Delete the Endpoint\n",
    "A convenience function to delete prediction endpoints. After model evaluation, the model endpoint must be deleted!"
   ]
  },
  {
   "cell_type": "code",
   "execution_count": 23,
   "metadata": {},
   "outputs": [],
   "source": [
    "# Deletes a precictor.endpoint\n",
    "def delete_endpoint(predictor):\n",
    "        try:\n",
    "            boto3.client('sagemaker').delete_endpoint(EndpointName=predictor.endpoint)\n",
    "            print('Deleted {}'.format(predictor.endpoint))\n",
    "        except:\n",
    "            print('Already deleted: {}'.format(predictor.endpoint))"
   ]
  },
  {
   "cell_type": "code",
   "execution_count": 24,
   "metadata": {},
   "outputs": [
    {
     "name": "stdout",
     "output_type": "stream",
     "text": [
      "Deleted linear-learner-2019-11-28-22-05-11-012\n"
     ]
    }
   ],
   "source": [
    "# delete the predictor endpoint \n",
    "delete_endpoint(linear_predictor)"
   ]
  },
  {
   "cell_type": "markdown",
   "metadata": {},
   "source": [
    "---\n",
    "<a id='sec3'></a>\n",
    "## III. Benchmark : XGBoost\n",
    "Another popular technique for linear regression relies on [Gradient Boosting](https://en.wikipedia.org/wiki/Gradient_boosting) method that produces a prediction model in the form of an ensemble of weak prediction models, typically decision trees. It builds the model in a stage-wise fashion, and it generalizes them by allowing optimization of an arbitrary differentiable loss function. Say for instance that the goal is to \"teach\" a model $\\mathcal{F}$ to predict values of the form $\\displaystyle \\widetilde{y} = \\mathcal{F}(x)$. \n",
    "\n",
    "At each stage $m$, $1 \\leq m \\leq M$, of gradient boosting, it may be assumed that there is some imperfect model $\\mathcal{F}_m$.  The gradient boosting algorithm improves on $\\mathcal{F}_m$ by constructing a new model that adds an estimator $h$ to provide a better model. To find $h$, the gradient boosting solution starts with the observation that a perfect $h$ would imply: \n",
    "\n",
    "\\begin{equation*}\n",
    "\\mathcal{F}_{m+1} (x) = \\mathcal{F}_m (x) + h (x) = y\n",
    "\\end{equation*}\n",
    "\n",
    "or equivalently, \n",
    "\n",
    "\\begin{equation*}\n",
    "h (x) = y - \\mathcal{F}_m (x)\n",
    "\\end{equation*}\n",
    "\n",
    "Therefore, gradient boosting will fit $h$ to the residual $ y - \\mathcal{F}_m (x)$. \n",
    "\n",
    "XGBoost is an optimized distributed gradient boosting library designed to be highly **efficient, flexible** and **portable**. <br>\n",
    "It implements machine learning algorithms under the Gradient Boosting framework. Check this [github page](https://github.com/dmlc/xgboost) for more details.\n",
    "\n",
    "Amazon SageMaker provides an in-built algorithm for [XGBoost](https://docs.aws.amazon.com/sagemaker/latest/dg/xgboost.html)."
   ]
  },
  {
   "cell_type": "code",
   "execution_count": 25,
   "metadata": {},
   "outputs": [],
   "source": [
    "# import libraries needed for XGBoost \n",
    "from sagemaker.amazon.amazon_estimator import get_image_uri\n",
    "from sagemaker.predictor import csv_serializer"
   ]
  },
  {
   "cell_type": "markdown",
   "metadata": {},
   "source": [
    "#### 1: Load the processed dataset\n",
    "Load the already pre-processed and saved dataset from `processed_data_dir`."
   ]
  },
  {
   "cell_type": "code",
   "execution_count": 26,
   "metadata": {},
   "outputs": [
    {
     "data": {
      "text/html": [
       "<div>\n",
       "<style scoped>\n",
       "    .dataframe tbody tr th:only-of-type {\n",
       "        vertical-align: middle;\n",
       "    }\n",
       "\n",
       "    .dataframe tbody tr th {\n",
       "        vertical-align: top;\n",
       "    }\n",
       "\n",
       "    .dataframe thead th {\n",
       "        text-align: right;\n",
       "    }\n",
       "</style>\n",
       "<table border=\"1\" class=\"dataframe\">\n",
       "  <thead>\n",
       "    <tr style=\"text-align: right;\">\n",
       "      <th></th>\n",
       "      <th>Item</th>\n",
       "      <th>Open</th>\n",
       "      <th>Close</th>\n",
       "      <th>Volume</th>\n",
       "    </tr>\n",
       "  </thead>\n",
       "  <tbody>\n",
       "    <tr>\n",
       "      <th>0</th>\n",
       "      <td>0</td>\n",
       "      <td>0.042904</td>\n",
       "      <td>0.046997</td>\n",
       "      <td>0.145536</td>\n",
       "    </tr>\n",
       "    <tr>\n",
       "      <th>1</th>\n",
       "      <td>1</td>\n",
       "      <td>0.047952</td>\n",
       "      <td>0.048409</td>\n",
       "      <td>0.142275</td>\n",
       "    </tr>\n",
       "    <tr>\n",
       "      <th>2</th>\n",
       "      <td>2</td>\n",
       "      <td>0.049210</td>\n",
       "      <td>0.052272</td>\n",
       "      <td>0.108975</td>\n",
       "    </tr>\n",
       "    <tr>\n",
       "      <th>3</th>\n",
       "      <td>3</td>\n",
       "      <td>0.051190</td>\n",
       "      <td>0.053409</td>\n",
       "      <td>0.107532</td>\n",
       "    </tr>\n",
       "    <tr>\n",
       "      <th>4</th>\n",
       "      <td>4</td>\n",
       "      <td>0.054806</td>\n",
       "      <td>0.058707</td>\n",
       "      <td>0.164055</td>\n",
       "    </tr>\n",
       "  </tbody>\n",
       "</table>\n",
       "</div>"
      ],
      "text/plain": [
       "   Item      Open     Close    Volume\n",
       "0     0  0.042904  0.046997  0.145536\n",
       "1     1  0.047952  0.048409  0.142275\n",
       "2     2  0.049210  0.052272  0.108975\n",
       "3     3  0.051190  0.053409  0.107532\n",
       "4     4  0.054806  0.058707  0.164055"
      ]
     },
     "metadata": {},
     "output_type": "display_data"
    }
   ],
   "source": [
    "stocks = pd.read_csv(processed_data_dir + '/{0}_processed.csv'.format(symbol))\n",
    "display(stocks.head())"
   ]
  },
  {
   "cell_type": "markdown",
   "metadata": {},
   "source": [
    "#### 2: Split the dataset\n",
    "Using the `train_test_split()` helper function from [processedData.py](./src/processedData.py), split the dateset into:\n",
    "* `train`: The part of the dataset that will be used to train the estimator.\n",
    "* `val`  : The part of the dataset that will be used to evaluate the estimator and tune hyperparameters.\n",
    "* `test` : The part of the dataset that will be used to check the performance of the deployed model.\n",
    "\n",
    "Here the dataset is first split into `80/20` `train` and `test` respectively. <br>Then, the `train` data is again split  such that `20%` corresponds to validation (`val`). "
   ]
  },
  {
   "cell_type": "code",
   "execution_count": 27,
   "metadata": {},
   "outputs": [
    {
     "name": "stdout",
     "output_type": "stream",
     "text": [
      "x_train (1610, 3)\n",
      "y_train (1610,)\n",
      "x_validation (402, 3)\n",
      "y_validation (402,)\n",
      "x_test (504, 3)\n",
      "y_test (504,)\n"
     ]
    },
    {
     "name": "stderr",
     "output_type": "stream",
     "text": [
      "/home/ec2-user/SageMaker/ML_Stock_Price_Prediction/src/processData.py:107: FutureWarning: Method .as_matrix will be removed in a future version. Use .values instead.\n",
      "  stock_matrix = stocks.as_matrix()\n"
     ]
    }
   ],
   "source": [
    "# The 80/20 split to train/test the XGBoost model\n",
    "# Further split the training set such that 20% comprises of validation data.\n",
    "train_fraction = 0.8\n",
    "val_fraction = 0.2\n",
    "\n",
    "X_train, X_val, X_test, y_train, y_val, y_test = ppd.train_test_split(stocks, \n",
    "                                                                      train_fraction, \n",
    "                                                                      val_frac=val_fraction)\n",
    "\n",
    "print(\"x_train\", X_train.shape)\n",
    "print(\"y_train\", y_train.shape)\n",
    "print(\"x_validation\", X_val.shape)\n",
    "print(\"y_validation\", y_val.shape)\n",
    "print(\"x_test\", X_test.shape)\n",
    "print(\"y_test\", y_test.shape)"
   ]
  },
  {
   "cell_type": "markdown",
   "metadata": {},
   "source": [
    "#### 3: Save the data\n",
    "Using pandas to save test, train and validation data to `csv` files. Note that header information or an index as this is not included as required by the built in algorithms provided by Amazon. Also, for the train and validation data, it is assumed that the first entry in each row is the target variable. <br>\n",
    "These files will then be uploaded to S3"
   ]
  },
  {
   "cell_type": "code",
   "execution_count": 28,
   "metadata": {},
   "outputs": [],
   "source": [
    "# save files locally as csv\n",
    "\n",
    "X_test = pd.DataFrame(X_test)\n",
    "y_test = pd.DataFrame(y_test)\n",
    "X_test.to_csv(os.path.join(processed_data_dir, 'XGB_features_test.csv'), header=False, index=False)\n",
    "y_test.to_csv(os.path.join(processed_data_dir, 'XGB_labels_test.csv'), header=False, index=False)\n",
    "\n",
    "pd.concat([pd.DataFrame(y_val), pd.DataFrame(X_val)], axis=1).to_csv(os.path.join(processed_data_dir, 'XGB_validation.csv'), header=False, index=False)\n",
    "pd.concat([pd.DataFrame(y_train), pd.DataFrame(X_train)], axis=1).to_csv(os.path.join(processed_data_dir, 'XGB_train.csv'), header=False, index=False)"
   ]
  },
  {
   "cell_type": "markdown",
   "metadata": {},
   "source": [
    "#### Upload to S3\n",
    "Use the SageMaker session object to upload data to the 'default' S3 bucket with a custom prefix (S3 folder)."
   ]
  },
  {
   "cell_type": "code",
   "execution_count": 29,
   "metadata": {},
   "outputs": [],
   "source": [
    "prefix = 'stockPrices-xgboost'\n",
    "output_path = 's3://{}/{}/output'.format(bucket, prefix)\n",
    "\n",
    "test_location = sagemaker_session.upload_data(os.path.join(processed_data_dir, 'XGB_features_test.csv'), key_prefix=prefix)\n",
    "val_location = sagemaker_session.upload_data(os.path.join(processed_data_dir, 'XGB_validation.csv'), key_prefix=prefix)\n",
    "train_location = sagemaker_session.upload_data(os.path.join(processed_data_dir, 'XGB_train.csv'), key_prefix=prefix)"
   ]
  },
  {
   "cell_type": "markdown",
   "metadata": {},
   "source": [
    "#### 4: Setup the built-in XGBoost estimator\n",
    "Constructing the XGBoost model and train it with the training and validation data that was uploaded to S3. Here a high-level SageMaker API is used which will make the resulting code a little easier to read. \n",
    "\n",
    "Since a built-in algorithm is used, it is required to provide the location of the container that contains the training code. This container is provided by Amazon. SageMaker provides a useful utility method called `get_image_uri` that constructs the required container image name."
   ]
  },
  {
   "cell_type": "code",
   "execution_count": 30,
   "metadata": {},
   "outputs": [],
   "source": [
    "# As stated above, we use this utility method to construct the image name for the training container.\n",
    "container = get_image_uri(sagemaker_session.boto_region_name, 'xgboost', '0.90-1')\n",
    "\n",
    "# Now that we know which container to use, we can construct the estimator object.\n",
    "xgb = sagemaker.estimator.Estimator(container,     # The name of the training container\n",
    "                                    role = role,             # The IAM role to use (our current role in this case)\n",
    "                                    train_instance_count=1,  # The number of instances to use for training\n",
    "                                    train_instance_type='ml.m4.xlarge', # The type of instance ot use for training\n",
    "                                    output_path= output_path,  # Where to save the output (the model artifacts)\n",
    "                                    sagemaker_session=sagemaker_session) # The current SageMaker session"
   ]
  },
  {
   "cell_type": "markdown",
   "metadata": {},
   "source": [
    "Before beginning the training, some model specific hyperparameters must be set. XGBoost algorithm has quite a few hyperparameters. <br>\n",
    "Complete list can be found at [XGBoost hyperparameters](https://docs.aws.amazon.com/sagemaker/latest/dg/xgboost_hyperparameters.html). Guide to [parameter tuning](https://www.analyticsvidhya.com/blog/2016/03/complete-guide-parameter-tuning-xgboost-with-codes-python/) in XGBoost directs how to set the parameters here. "
   ]
  },
  {
   "cell_type": "code",
   "execution_count": 31,
   "metadata": {},
   "outputs": [],
   "source": [
    "xgb.set_hyperparameters(max_depth=5,       # Higher depth will allow model to learn relations, typically 3-10\n",
    "                        eta=0.2,           # Typical final values to be used: 0.01-0.2\n",
    "                        gamma=4,           # Makes the algorithm conservative.\n",
    "                        alpha=0,           # Can be used for very high dimensionality to run the algorithm faster\n",
    "                        min_child_weight=6,# Higher values prevent a model from learning relations\n",
    "                        subsample=0.8,     # Lower values make the algorithm more conservative, typically 0.5-1 \n",
    "                        objective='reg:linear', # reg:squarederror is favored instead of reg:linear\n",
    "                        early_stopping_rounds=10,\n",
    "                        num_round=200)"
   ]
  },
  {
   "cell_type": "markdown",
   "metadata": {},
   "source": [
    "Create a hyperparameter tuner. Here the following parameters are tuned `max_depth`, `eta`, `min_child_weight`, `subsample` and `gamma`. Around 20 models are chosen to be trained below, of which SageMaker will train 3 in parallel (This can take some time ~ 25 mins). \n",
    "\n",
    "**[NOTE]** These steps are optional, and are carried out with the Batch Transform functionality. Once the model is ready and tested, it will be deployed. "
   ]
  },
  {
   "cell_type": "code",
   "execution_count": 32,
   "metadata": {},
   "outputs": [],
   "source": [
    "from sagemaker.tuner import IntegerParameter, ContinuousParameter, HyperparameterTuner\n",
    "\n",
    "xgb_hyperparameter_tuner = HyperparameterTuner(estimator = xgb, # The estimator object to use as the basis for the training jobs.\n",
    "                                               objective_metric_name = 'validation:rmse', # The metric used to compare trained models.\n",
    "                                               objective_type = 'Minimize', # Whether we wish to minimize or maximize the metric.\n",
    "                                               max_jobs = 20, # The total number of models to train\n",
    "                                               max_parallel_jobs = 3, # The number of models to train in parallel\n",
    "                                               hyperparameter_ranges = {\n",
    "                                                    'max_depth': IntegerParameter(3, 12),\n",
    "                                                    'eta'      : ContinuousParameter(0.05, 0.5),\n",
    "                                                    'min_child_weight': IntegerParameter(2, 8),\n",
    "                                                    'subsample': ContinuousParameter(0.5, 0.9),\n",
    "                                                    'gamma': ContinuousParameter(0, 10),\n",
    "                                               })"
   ]
  },
  {
   "cell_type": "markdown",
   "metadata": {},
   "source": [
    "#### 5: Train the XGBoost estimator\n",
    "Train the XGBoost estimator with the training and validation data stored in S3. It is ensured that SageMaker knows that our data is in `csv` format through a wrapper, which is then fed to the `fit` method. "
   ]
  },
  {
   "cell_type": "code",
   "execution_count": 33,
   "metadata": {},
   "outputs": [
    {
     "name": "stdout",
     "output_type": "stream",
     "text": [
      "CPU times: user 14.6 ms, sys: 0 ns, total: 14.6 ms\n",
      "Wall time: 342 ms\n"
     ]
    }
   ],
   "source": [
    "%%time\n",
    "# This is a wrapper around the location of our train and validation data, \n",
    "# to make sure that SageMaker knows our data is in csv format.\n",
    "s3_input_train = sagemaker.s3_input(s3_data=train_location, content_type='csv')\n",
    "s3_input_validation = sagemaker.s3_input(s3_data=val_location, content_type='csv')\n",
    "\n",
    "xgb_hyperparameter_tuner.fit({'train': s3_input_train, 'validation': s3_input_validation})"
   ]
  },
  {
   "cell_type": "code",
   "execution_count": 34,
   "metadata": {},
   "outputs": [
    {
     "name": "stdout",
     "output_type": "stream",
     "text": [
      "..............................................................................................................................................................................................................................................................................!\n",
      "CPU times: user 1.41 s, sys: 55.7 ms, total: 1.47 s\n",
      "Wall time: 22min 42s\n"
     ]
    }
   ],
   "source": [
    "%%time\n",
    "xgb_hyperparameter_tuner.wait()"
   ]
  },
  {
   "cell_type": "markdown",
   "metadata": {},
   "source": [
    "Retrieve the information about the best performing model"
   ]
  },
  {
   "cell_type": "code",
   "execution_count": 35,
   "metadata": {},
   "outputs": [
    {
     "data": {
      "text/plain": [
       "'sagemaker-xgboost-191128-2221-018-25848f47'"
      ]
     },
     "execution_count": 35,
     "metadata": {},
     "output_type": "execute_result"
    }
   ],
   "source": [
    "xgb_hyperparameter_tuner.best_training_job()"
   ]
  },
  {
   "cell_type": "markdown",
   "metadata": {},
   "source": [
    "Construct a new estimator object from the results of the best training job. The `xgb_attached` object below can now be used as though it were an estimator with the best performing hyperparameters and then fit it to our training data."
   ]
  },
  {
   "cell_type": "code",
   "execution_count": 36,
   "metadata": {},
   "outputs": [
    {
     "name": "stdout",
     "output_type": "stream",
     "text": [
      "2019-11-28 22:41:01 Starting - Preparing the instances for training\n",
      "2019-11-28 22:41:01 Downloading - Downloading input data\n",
      "2019-11-28 22:41:01 Training - Training image download completed. Training in progress.\n",
      "2019-11-28 22:41:01 Uploading - Uploading generated training model\n",
      "2019-11-28 22:41:01 Completed - Training job completed\u001b[31mINFO:sagemaker-containers:Imported framework sagemaker_xgboost_container.training\u001b[0m\n",
      "\u001b[31mINFO:sagemaker-containers:Failed to parse hyperparameter _tuning_objective_metric value validation:rmse to Json.\u001b[0m\n",
      "\u001b[31mReturning the value itself\u001b[0m\n",
      "\u001b[31mINFO:sagemaker-containers:Failed to parse hyperparameter objective value reg:linear to Json.\u001b[0m\n",
      "\u001b[31mReturning the value itself\u001b[0m\n",
      "\u001b[31mINFO:sagemaker-containers:No GPUs detected (normal if no gpus installed)\u001b[0m\n",
      "\u001b[31mINFO:sagemaker_xgboost_container.training:Running XGBoost Sagemaker in algorithm mode\u001b[0m\n",
      "\u001b[31mINFO:root:Determined delimiter of CSV input is ','\u001b[0m\n",
      "\u001b[31mINFO:root:Determined delimiter of CSV input is ','\u001b[0m\n",
      "\u001b[31mINFO:root:Determined delimiter of CSV input is ','\u001b[0m\n",
      "\u001b[31m[22:40:51] 1610x3 matrix with 4830 entries loaded from /opt/ml/input/data/train?format=csv&label_column=0&delimiter=,\u001b[0m\n",
      "\u001b[31mINFO:root:Determined delimiter of CSV input is ','\u001b[0m\n",
      "\u001b[31m[22:40:51] 402x3 matrix with 1206 entries loaded from /opt/ml/input/data/validation?format=csv&label_column=0&delimiter=,\u001b[0m\n",
      "\u001b[31mINFO:root:Single node training.\u001b[0m\n",
      "\u001b[31mINFO:root:Setting up HPO optimized metric to be : rmse\u001b[0m\n",
      "\u001b[31mINFO:root:Train matrix has 1610 rows\u001b[0m\n",
      "\u001b[31mINFO:root:Validation matrix has 402 rows\u001b[0m\n",
      "\u001b[31m[22:40:51] WARNING: /workspace/src/objective/regression_obj.cu:152: reg:linear is now deprecated in favor of reg:squarederror.\u001b[0m\n",
      "\u001b[31m[0]#011train-rmse:0.320481#011validation-rmse:0.116882\u001b[0m\n",
      "\u001b[31m[1]#011train-rmse:0.303185#011validation-rmse:0.116015\u001b[0m\n",
      "\u001b[31m[2]#011train-rmse:0.286818#011validation-rmse:0.115192\u001b[0m\n",
      "\u001b[31m[3]#011train-rmse:0.271346#011validation-rmse:0.114662\u001b[0m\n",
      "\u001b[31m[4]#011train-rmse:0.256698#011validation-rmse:0.113879\u001b[0m\n",
      "\u001b[31m[5]#011train-rmse:0.242848#011validation-rmse:0.113127\u001b[0m\n",
      "\u001b[31m[6]#011train-rmse:0.229746#011validation-rmse:0.112418\u001b[0m\n",
      "\u001b[31m[7]#011train-rmse:0.217358#011validation-rmse:0.111832\u001b[0m\n",
      "\u001b[31m[8]#011train-rmse:0.20563#011validation-rmse:0.111191\u001b[0m\n",
      "\u001b[31m[9]#011train-rmse:0.194536#011validation-rmse:0.110772\u001b[0m\n",
      "\u001b[31m[10]#011train-rmse:0.184055#011validation-rmse:0.110209\u001b[0m\n",
      "\u001b[31m[11]#011train-rmse:0.174135#011validation-rmse:0.110098\u001b[0m\n",
      "\u001b[31m[12]#011train-rmse:0.164751#011validation-rmse:0.109801\u001b[0m\n",
      "\u001b[31m[13]#011train-rmse:0.155887#011validation-rmse:0.109255\u001b[0m\n",
      "\u001b[31m[14]#011train-rmse:0.14748#011validation-rmse:0.108742\u001b[0m\n",
      "\u001b[31m[15]#011train-rmse:0.139535#011validation-rmse:0.108259\u001b[0m\n",
      "\u001b[31m[16]#011train-rmse:0.132011#011validation-rmse:0.107734\u001b[0m\n",
      "\u001b[31m[17]#011train-rmse:0.124904#011validation-rmse:0.107289\u001b[0m\n",
      "\u001b[31m[18]#011train-rmse:0.118171#011validation-rmse:0.106914\u001b[0m\n",
      "\u001b[31m[19]#011train-rmse:0.111815#011validation-rmse:0.106499\u001b[0m\n",
      "\u001b[31m[20]#011train-rmse:0.105793#011validation-rmse:0.106104\u001b[0m\n",
      "\u001b[31m[21]#011train-rmse:0.100099#011validation-rmse:0.105958\u001b[0m\n",
      "\u001b[31m[22]#011train-rmse:0.094715#011validation-rmse:0.10559\u001b[0m\n",
      "\u001b[31m[23]#011train-rmse:0.089614#011validation-rmse:0.105248\u001b[0m\n",
      "\u001b[31m[24]#011train-rmse:0.084794#011validation-rmse:0.105245\u001b[0m\n",
      "\u001b[31m[25]#011train-rmse:0.080232#011validation-rmse:0.105162\u001b[0m\n",
      "\u001b[31m[26]#011train-rmse:0.075917#011validation-rmse:0.104838\u001b[0m\n",
      "\u001b[31m[27]#011train-rmse:0.071837#011validation-rmse:0.10458\u001b[0m\n",
      "\u001b[31m[28]#011train-rmse:0.067978#011validation-rmse:0.104409\u001b[0m\n",
      "\u001b[31m[29]#011train-rmse:0.06433#011validation-rmse:0.104505\u001b[0m\n",
      "\u001b[31m[30]#011train-rmse:0.060873#011validation-rmse:0.104168\u001b[0m\n",
      "\u001b[31m[31]#011train-rmse:0.057603#011validation-rmse:0.104055\u001b[0m\n",
      "\u001b[31m[32]#011train-rmse:0.054515#011validation-rmse:0.103819\u001b[0m\n",
      "\u001b[31m[33]#011train-rmse:0.051593#011validation-rmse:0.103593\u001b[0m\n",
      "\u001b[31m[34]#011train-rmse:0.048827#011validation-rmse:0.103696\u001b[0m\n",
      "\u001b[31m[35]#011train-rmse:0.046216#011validation-rmse:0.103409\u001b[0m\n",
      "\u001b[31m[36]#011train-rmse:0.04374#011validation-rmse:0.103329\u001b[0m\n",
      "\u001b[31m[37]#011train-rmse:0.041401#011validation-rmse:0.10325\u001b[0m\n",
      "\u001b[31m[38]#011train-rmse:0.039189#011validation-rmse:0.103174\u001b[0m\n",
      "\u001b[31m[39]#011train-rmse:0.037096#011validation-rmse:0.103102\u001b[0m\n",
      "\u001b[31m[40]#011train-rmse:0.035119#011validation-rmse:0.103034\u001b[0m\n",
      "\u001b[31m[41]#011train-rmse:0.033251#011validation-rmse:0.102967\u001b[0m\n",
      "\u001b[31m[42]#011train-rmse:0.031485#011validation-rmse:0.103051\u001b[0m\n",
      "\u001b[31m[43]#011train-rmse:0.029819#011validation-rmse:0.103134\u001b[0m\n",
      "\u001b[31m[44]#011train-rmse:0.028237#011validation-rmse:0.103201\u001b[0m\n",
      "\u001b[31m[45]#011train-rmse:0.026745#011validation-rmse:0.102995\u001b[0m\n",
      "\u001b[31m[46]#011train-rmse:0.025333#011validation-rmse:0.10291\u001b[0m\n",
      "\u001b[31m[47]#011train-rmse:0.024#011validation-rmse:0.102894\u001b[0m\n",
      "\u001b[31m[48]#011train-rmse:0.022741#011validation-rmse:0.102955\u001b[0m\n",
      "\u001b[31m[49]#011train-rmse:0.02155#011validation-rmse:0.10303\u001b[0m\n",
      "\u001b[31m[50]#011train-rmse:0.020421#011validation-rmse:0.102855\u001b[0m\n",
      "\u001b[31m[51]#011train-rmse:0.019354#011validation-rmse:0.102687\u001b[0m\n",
      "\u001b[31m[52]#011train-rmse:0.018347#011validation-rmse:0.102524\u001b[0m\n",
      "\u001b[31m[53]#011train-rmse:0.017399#011validation-rmse:0.102515\u001b[0m\n",
      "\u001b[31m[54]#011train-rmse:0.016506#011validation-rmse:0.102581\u001b[0m\n",
      "\u001b[31m[55]#011train-rmse:0.015663#011validation-rmse:0.102472\u001b[0m\n",
      "\u001b[31m[56]#011train-rmse:0.014866#011validation-rmse:0.102322\u001b[0m\n",
      "\u001b[31m[57]#011train-rmse:0.014108#011validation-rmse:0.102327\u001b[0m\n",
      "\u001b[31m[58]#011train-rmse:0.013394#011validation-rmse:0.102326\u001b[0m\n",
      "\u001b[31m[59]#011train-rmse:0.012721#011validation-rmse:0.102322\u001b[0m\n",
      "\u001b[31m[60]#011train-rmse:0.012084#011validation-rmse:0.102309\u001b[0m\n",
      "\u001b[31m[61]#011train-rmse:0.011485#011validation-rmse:0.102369\u001b[0m\n",
      "\u001b[31m[62]#011train-rmse:0.010918#011validation-rmse:0.102358\u001b[0m\n",
      "\u001b[31m[63]#011train-rmse:0.010386#011validation-rmse:0.102398\u001b[0m\n",
      "\u001b[31m[64]#011train-rmse:0.009884#011validation-rmse:0.102436\u001b[0m\n",
      "\u001b[31m[65]#011train-rmse:0.009409#011validation-rmse:0.102441\u001b[0m\n",
      "\u001b[31m[66]#011train-rmse:0.008967#011validation-rmse:0.102453\u001b[0m\n",
      "\u001b[31m[67]#011train-rmse:0.008546#011validation-rmse:0.102396\u001b[0m\n",
      "\u001b[31m[68]#011train-rmse:0.008149#011validation-rmse:0.102401\u001b[0m\n",
      "\u001b[31m[69]#011train-rmse:0.007777#011validation-rmse:0.102349\u001b[0m\n",
      "\u001b[31m[70]#011train-rmse:0.007423#011validation-rmse:0.102341\u001b[0m\n",
      "Training seconds: 59\n",
      "Billable seconds: 59\n"
     ]
    }
   ],
   "source": [
    "xgb_attached = sagemaker.estimator.Estimator.attach(xgb_hyperparameter_tuner.best_training_job())"
   ]
  },
  {
   "cell_type": "markdown",
   "metadata": {},
   "source": [
    "#### 6: Test the trained model using Batch Transform (Optional)\n",
    "The trained and validated model is tested with SageMaker's Batch Transform functionality.\n",
    "1. Build a transformer object from our fit model.\n",
    "2. Ask SageMaker to begin a batch transform job using the trained model and applying it to the test data which was previously stored in S3.\n",
    "3. Store the resulting output in S3. Save this data locally to analyze.\n",
    "4. Create a simple plot between the predicted and actual values to see how the model performs.\n",
    "\n",
    "**[NOTE]**: Once the model is ready to be deployed, skip these steps as the deployed model will be evaluated later."
   ]
  },
  {
   "cell_type": "code",
   "execution_count": null,
   "metadata": {},
   "outputs": [],
   "source": [
    "xgb_transformer = xgb_attached.transformer(instance_count = 1, instance_type = 'ml.m4.xlarge')"
   ]
  },
  {
   "cell_type": "code",
   "execution_count": null,
   "metadata": {},
   "outputs": [],
   "source": [
    "xgb_transformer.transform(test_location, content_type='text/csv', split_type='Line')"
   ]
  },
  {
   "cell_type": "code",
   "execution_count": null,
   "metadata": {},
   "outputs": [],
   "source": [
    "xgb_transformer.wait()"
   ]
  },
  {
   "cell_type": "code",
   "execution_count": null,
   "metadata": {},
   "outputs": [],
   "source": [
    "!aws s3 cp --recursive $xgb_transformer.output_path $processed_data_dir"
   ]
  },
  {
   "cell_type": "code",
   "execution_count": null,
   "metadata": {},
   "outputs": [],
   "source": [
    "Y_pred = pd.read_csv(os.path.join(processed_data_dir, 'XGB_features_test.csv.out'), header=None)"
   ]
  },
  {
   "cell_type": "code",
   "execution_count": null,
   "metadata": {},
   "outputs": [],
   "source": [
    "viz.plot_prediction(y_test, Y_pred, filename = images_dir+'xgbTransform.png')\n",
    "\n",
    "from sklearn.metrics import mean_squared_error\n",
    "import math\n",
    "\n",
    "score = mean_squared_error(y_test, Y_pred)\n",
    "print(\"{:<11} {:.8f} MSE ({:.8f} RMSE)\".format('Score:', score, math.sqrt(score)))"
   ]
  },
  {
   "cell_type": "markdown",
   "metadata": {},
   "source": [
    "#### 7: Deploy the trained model\n",
    "Now that the model is fit to the training data, using the validation data to avoid overfitting, it can be deployed and tested. A high-level API is used, similar to the `LinearLearner` case, where the `model.deploy()` method is used. "
   ]
  },
  {
   "cell_type": "code",
   "execution_count": 37,
   "metadata": {},
   "outputs": [
    {
     "name": "stdout",
     "output_type": "stream",
     "text": [
      "--------------------------------------------------------------------------------------------------!CPU times: user 493 ms, sys: 20.7 ms, total: 513 ms\n",
      "Wall time: 8min 14s\n"
     ]
    }
   ],
   "source": [
    "%%time\n",
    "xgb_predictor = xgb_attached.deploy(initial_instance_count=1, instance_type='ml.m4.xlarge')"
   ]
  },
  {
   "cell_type": "markdown",
   "metadata": {},
   "source": [
    "#### 8: Evaluate the model\n",
    "Once the model is trained and deployed, test data can be sent to it to evaluate the results and its performance. Here, since the test data is small, we can send it all using a single call to the endpoint. If the test dataset was larger it'd have to be split up and sent in chunks, making sure to accumulate the results. To see how the model performs, create a visual plot between the predicted and actual values. "
   ]
  },
  {
   "cell_type": "code",
   "execution_count": 38,
   "metadata": {},
   "outputs": [],
   "source": [
    "# We need to tell the endpoint what format the data we are sending is in\n",
    "xgb_predictor.content_type = 'text/csv'\n",
    "xgb_predictor.serializer = csv_serializer\n",
    "\n",
    "# predictions = xgb_predictor.predict(X_test)\n",
    "predictions = xgb_predictor.predict(X_test.values).decode('utf-8')\n",
    "# predictions is currently a comma delimited string and so we would like to break it up\n",
    "# as a numpy array.\n",
    "predictions = np.fromstring(predictions, sep=',')\n",
    "predictions = pd.DataFrame(predictions)"
   ]
  },
  {
   "cell_type": "code",
   "execution_count": 39,
   "metadata": {},
   "outputs": [
    {
     "data": {
      "image/png": "[encoded data removed]",
      "text/plain": [
       "<Figure size 432x288 with 1 Axes>"
      ]
     },
     "metadata": {},
     "output_type": "display_data"
    }
   ],
   "source": [
    "viz.plot_prediction(y_test, predictions, filename = images_dir+'xgbDeployed.png')"
   ]
  },
  {
   "cell_type": "markdown",
   "metadata": {},
   "source": [
    "A more quantitative metric of performance is the `mean_squared_error` between the predictions ($\\tilde{y}$) and the actual values ($y$).\n",
    "\n",
    "\\begin{align*}\n",
    "\\displaystyle MSE &= \\frac{1}{n}\\sum\\limits_{i=1}^n (y_i - \\tilde{y_i})^2 \\\\\n",
    "\\displaystyle RMSE &= (\\frac{1}{n}\\sum\\limits_{i=1}^n (y_i - \\tilde{y_i})^2)^{1/2} = \\sqrt{MSE}\n",
    "\\end{align*}"
   ]
  },
  {
   "cell_type": "code",
   "execution_count": 40,
   "metadata": {},
   "outputs": [
    {
     "name": "stdout",
     "output_type": "stream",
     "text": [
      "Score:      0.11284369 MSE (0.33592215 RMSE)\n"
     ]
    }
   ],
   "source": [
    "score = mean_squared_error(y_test, predictions)\n",
    "print(\"{:<11} {:.8f} MSE ({:.8f} RMSE)\".format('Score:', score, math.sqrt(score)))"
   ]
  },
  {
   "cell_type": "markdown",
   "metadata": {},
   "source": [
    "#### 9: Delete the endpoint"
   ]
  },
  {
   "cell_type": "code",
   "execution_count": 41,
   "metadata": {},
   "outputs": [
    {
     "name": "stdout",
     "output_type": "stream",
     "text": [
      "Deleted sagemaker-xgboost-191128-2221-018-25848f47\n"
     ]
    }
   ],
   "source": [
    "# delete the predictor endpoint \n",
    "delete_endpoint(xgb_predictor)"
   ]
  },
  {
   "cell_type": "markdown",
   "metadata": {},
   "source": [
    "---\n",
    "<a id='sec4'></a>\n",
    "## IV. Long Short-Term Memory (LSTM) Networks\n",
    "\n",
    "Long Short-Term Memory (LSTM) networks are a kind of recurrent neural network (RNN) that are capable of learning long-term dependencies. The respeating modules of the standard RNN have a simple structure, such as a single tanh layer. However, the repeating modules in a LSTM have a different design with four layers interacting in a special way. The key to LSTMs is the cell state $\\mathcal{C}_t$. The LSTMs have the ability to remove or add information to the cell state, regulated by structures called gates. Gates are a way to optionally let information through. They are composed out of a sigmoid neural net layer and a pointwise multiplication operation. The sigmoid layer outputs numbers between `0` which means **let nothing through** and `1` that means **let everything through!**.\n",
    "The three important gates are:\n",
    "\n",
    "* `Forget Gate Layer`: Decides what information to throw away from the cell state. It looks at the output from previous cell $h_{t-1}$ and some input to current cell $x_t$, and outputs a number between 0 and 1. The operation can be defined as, \n",
    "\n",
    "\\begin{equation*}\n",
    "\\displaystyle f_t = \\sigma(W_f.[h_{t-1}, \\,x_t] + b_f)\n",
    "\\end{equation*}\n",
    "\n",
    "* `Input Gate Layer`: Decides what new information to store in the cell state. First, a sigmoid layer decides which values we’ll update. Next, a tanh layer creates a vector of new candidate values, that could be added to the state. To update the old cell state, $\\mathcal{C}_{t−1}$, into the new cell state $\\mathcal{C}_t$, multiply the old state by $f_t$ forgetting the things as decided earlier. Then, add the new input $i * \\widetilde{\\mathcal{C}}_t$ scaled by how much to update each state value. Thus, new state $\\mathcal{C}_t$ is given by, \n",
    "\n",
    "\\begin{equation*}\n",
    "\\displaystyle \\mathcal{C}_t = f_t * \\mathcal{C}_{t−1} + i * \\widetilde{\\mathcal{C}}_t\n",
    "\\end{equation*}\n",
    "\n",
    "where $i_t = \\sigma(W_i.[h_{t-1}, \\,x_t] + b_i)$, and $\\widetilde{\\mathcal{C}}_t = \\tanh(W_{\\mathcal{C}}.[h_{t-1}, \\,x_t] + b_{\\mathcal{C}})$.\n",
    "\n",
    "* `Output Gate Layer`: Decides what to output. This output is based on the cell state, but will be a filtered version. First, a sigmoid layer decides what parts of the cell state to output. Then, the cell state is put through tanh (to push the values to be between −1−1 and 11) and multiply it by the output of the sigmoid gate, so that we only output the parts we decided to.\n",
    "\n",
    "\\begin{align*}\n",
    "\\displaystyle o_t &= \\sigma(W_o.[h_{t-1}, \\,x_t] + b_o) \\\\\n",
    "h_t &= o_t*tanh(\\mathcal{C}_t)\n",
    "\\end{align*}\n",
    "\n",
    "A more detailed desription and discussion of LSTM is provided in [Colah's blog](https://colah.github.io/posts/2015-08-Understanding-LSTMs/) or read the original [paper](http://www.bioinf.jku.at/publications/older/2604.pdf).\n",
    "\n",
    "---\n",
    "\n",
    "### Using LSTMs for Stock Price Prediction\n",
    "From the above two benchmark models [`LinearLearner`](#sec2) and [`XGBoost`](#sec3) it was observed that training the model can be hard. While it appears that for linear regression, the date (or Item) and the closing price is sufficient to train the model. LinearLearner even performs well. However, Stocks are heavily affected by many factors that are not documented, such as brand value, policies and political environments, news and other events. Thus statistcal regression alone cannot yield accurate predictions for stock prices. However, advanced machine learning techniques such as LSTMs that specialize in learning long-term dependencies can be good candidates for time-seris data prediction. \n",
    "\n",
    "Here we showcase an implementation of the LSTM using `Keras` in SageMaker with `TensorFlow` to train and predict the closing price from our dataset.\n",
    "\n",
    "---\n",
    "\n",
    "#### 1: Load the processed dataset\n",
    "Load the already pre-processed and saved dataset from `processed_data_dir`."
   ]
  },
  {
   "cell_type": "code",
   "execution_count": 42,
   "metadata": {},
   "outputs": [
    {
     "data": {
      "text/html": [
       "<div>\n",
       "<style scoped>\n",
       "    .dataframe tbody tr th:only-of-type {\n",
       "        vertical-align: middle;\n",
       "    }\n",
       "\n",
       "    .dataframe tbody tr th {\n",
       "        vertical-align: top;\n",
       "    }\n",
       "\n",
       "    .dataframe thead th {\n",
       "        text-align: right;\n",
       "    }\n",
       "</style>\n",
       "<table border=\"1\" class=\"dataframe\">\n",
       "  <thead>\n",
       "    <tr style=\"text-align: right;\">\n",
       "      <th></th>\n",
       "      <th>Item</th>\n",
       "      <th>Open</th>\n",
       "      <th>Close</th>\n",
       "      <th>Volume</th>\n",
       "    </tr>\n",
       "  </thead>\n",
       "  <tbody>\n",
       "    <tr>\n",
       "      <th>0</th>\n",
       "      <td>0</td>\n",
       "      <td>0.042904</td>\n",
       "      <td>0.046997</td>\n",
       "      <td>0.145536</td>\n",
       "    </tr>\n",
       "    <tr>\n",
       "      <th>1</th>\n",
       "      <td>1</td>\n",
       "      <td>0.047952</td>\n",
       "      <td>0.048409</td>\n",
       "      <td>0.142275</td>\n",
       "    </tr>\n",
       "    <tr>\n",
       "      <th>2</th>\n",
       "      <td>2</td>\n",
       "      <td>0.049210</td>\n",
       "      <td>0.052272</td>\n",
       "      <td>0.108975</td>\n",
       "    </tr>\n",
       "    <tr>\n",
       "      <th>3</th>\n",
       "      <td>3</td>\n",
       "      <td>0.051190</td>\n",
       "      <td>0.053409</td>\n",
       "      <td>0.107532</td>\n",
       "    </tr>\n",
       "    <tr>\n",
       "      <th>4</th>\n",
       "      <td>4</td>\n",
       "      <td>0.054806</td>\n",
       "      <td>0.058707</td>\n",
       "      <td>0.164055</td>\n",
       "    </tr>\n",
       "  </tbody>\n",
       "</table>\n",
       "</div>"
      ],
      "text/plain": [
       "   Item      Open     Close    Volume\n",
       "0     0  0.042904  0.046997  0.145536\n",
       "1     1  0.047952  0.048409  0.142275\n",
       "2     2  0.049210  0.052272  0.108975\n",
       "3     3  0.051190  0.053409  0.107532\n",
       "4     4  0.054806  0.058707  0.164055"
      ]
     },
     "metadata": {},
     "output_type": "display_data"
    }
   ],
   "source": [
    "stocks = pd.read_csv(processed_data_dir + '/{0}_processed.csv'.format(symbol))\n",
    "display(stocks.head())"
   ]
  },
  {
   "cell_type": "markdown",
   "metadata": {},
   "source": [
    "#### 2: Split the dataset\n",
    "Similar to the [`XGBoost`](#sec3) case, split the dataset into `train`, `val` and `test` data. <br>\n",
    "The input to the LSTM is a 3D tensor defined as (`batch_size`, `time_steps`, `num_features`). \n",
    "* `batch_size`: Equivalent to number of samples, defines how many samples will be input to the network at a time. For large datasets, it is recommended that the input be divided and fed to the network as chunks.\n",
    "* `time_steps`: How many time steps of the data are send to the network in a single batch. The network looks and learns from the historic data at these time steps with each sample. Generally a good pratice to keep time_step size in the range 200-400. This is provided here as **history_size**.\n",
    "* `num_features`: The number of features used for training the network. Here, all the columns except for ['Item'] will be used, and thus ['Open', 'Close', 'Volume'] gives **3 features**. "
   ]
  },
  {
   "cell_type": "code",
   "execution_count": 43,
   "metadata": {},
   "outputs": [
    {
     "name": "stdout",
     "output_type": "stream",
     "text": [
      "x_train (1396, 200, 3)\n",
      "y_train (1396, 14)\n",
      "x_validation (188, 200, 3)\n",
      "y_validation (188, 14)\n",
      "x_test (290, 200, 3)\n",
      "y_test (290, 14)\n"
     ]
    },
    {
     "name": "stderr",
     "output_type": "stream",
     "text": [
      "/home/ec2-user/SageMaker/ML_Stock_Price_Prediction/src/processData.py:107: FutureWarning: Method .as_matrix will be removed in a future version. Use .values instead.\n",
      "  stock_matrix = stocks.as_matrix()\n"
     ]
    }
   ],
   "source": [
    "# The 80/20 split to train/test the XGBoost model\n",
    "# Further split the training set such that 20% comprises of validation data.\n",
    "train_fraction = 0.8\n",
    "val_fraction = 0.2\n",
    "\n",
    "# Providing other information to create datasets for LSTMs \n",
    "num_features = 3     # Using all 3 features, \n",
    "history_size = 200   # Using 200 time-steps in each batch,\n",
    "target_size  = 14    # No. of days to predict in future,\n",
    "\n",
    "X_train, X_val, X_test, y_train, y_val, y_test = ppd.create_dataset_lstm(stocks, \n",
    "                                                                         train_frac=train_fraction, \n",
    "                                                                         history_size=history_size, \n",
    "                                                                         target_size=target_size,\n",
    "                                                                         val_frac=val_fraction)\n",
    "\n",
    "#rehaping the datasets to ensure format (batch_size, time_steps, num_features)\n",
    "X_train = X_train.reshape((-1, history_size, num_features))\n",
    "y_train = y_train.reshape((-1, target_size))\n",
    "\n",
    "X_val = X_val.reshape((-1, history_size, num_features))\n",
    "y_val = y_val.reshape((-1, target_size))\n",
    "\n",
    "X_test = X_test.reshape((-1, history_size, num_features))\n",
    "y_test = y_test.reshape((-1, target_size))\n",
    "\n",
    "print(\"x_train\", X_train.shape)\n",
    "print(\"y_train\", y_train.shape)\n",
    "print(\"x_validation\", X_val.shape)\n",
    "print(\"y_validation\", y_val.shape)\n",
    "print(\"x_test\", X_test.shape)\n",
    "print(\"y_test\", y_test.shape)"
   ]
  },
  {
   "cell_type": "markdown",
   "metadata": {},
   "source": [
    "#### 3: Build and setup the LSTM model\n",
    "Use the LSTM model definition in [lstm_model.py](./src/lstm/lstm_model.py) to build and setup the LSTM model. SageMaker implements a wrapper of TensorFlow which enables training, building, deployment and monitoring of TensorFlow models. This implementation uses a high-end API of TensorFlow brought by Keras, which means Keras models are TensorFlow models. Thus, SageMaker can be used with Keras along with the bonus implementations on TensorFlow done by Amazon.\n",
    "1. Provide :\n",
    "    * `input_dim` : equal to `num_features`, and\n",
    "    * `output_dim`: equals the number days of prediction `target_size`.\n",
    "2. Compile the model with: \n",
    "    * `loss` : as `mean_squared_error`, and\n",
    "    * `optimizer`: Choose  `adam` or some other suitable optimizer. \n",
    "    \n",
    "To see the model implementaion, use the cell below."
   ]
  },
  {
   "cell_type": "code",
   "execution_count": null,
   "metadata": {},
   "outputs": [],
   "source": [
    "!cat ./src/lstm/lstm_model.py"
   ]
  },
  {
   "cell_type": "code",
   "execution_count": 44,
   "metadata": {},
   "outputs": [
    {
     "name": "stdout",
     "output_type": "stream",
     "text": [
      "WARNING:tensorflow:From /home/ec2-user/anaconda3/envs/amazonei_tensorflow_p36/lib/python3.6/site-packages/tensorflow/python/ops/resource_variable_ops.py:435: colocate_with (from tensorflow.python.framework.ops) is deprecated and will be removed in a future version.\n",
      "Instructions for updating:\n",
      "Colocations handled automatically by placer.\n",
      "WARNING:tensorflow:From /home/ec2-user/anaconda3/envs/amazonei_tensorflow_p36/lib/python3.6/site-packages/tensorflow/python/keras/layers/core.py:143: calling dropout (from tensorflow.python.ops.nn_ops) with keep_prob is deprecated and will be removed in a future version.\n",
      "Instructions for updating:\n",
      "Please use `rate` instead of `keep_prob`. Rate should be set to `rate = 1 - keep_prob`.\n",
      "WARNING:tensorflow:From /home/ec2-user/anaconda3/envs/amazonei_tensorflow_p36/lib/python3.6/site-packages/tensorflow/python/keras/utils/losses_utils.py:170: to_float (from tensorflow.python.ops.math_ops) is deprecated and will be removed in a future version.\n",
      "Instructions for updating:\n",
      "Use tf.cast instead.\n",
      "CPU times: user 626 ms, sys: 2.82 ms, total: 629 ms\n",
      "Wall time: 1.08 s\n"
     ]
    }
   ],
   "source": [
    "%%time\n",
    "lstm = build_lstm_model(input_dim = X_train.shape[2], output_dim = target_size, return_sequences=True)\n",
    "lstm.compile(loss='mean_squared_error', optimizer='adam')"
   ]
  },
  {
   "cell_type": "markdown",
   "metadata": {},
   "source": [
    "#### Check LSTM model implementation\n",
    "To see the construction of the model and the dimensions of various layers use the `model.summary()` functionality. "
   ]
  },
  {
   "cell_type": "code",
   "execution_count": 45,
   "metadata": {},
   "outputs": [
    {
     "name": "stdout",
     "output_type": "stream",
     "text": [
      "_________________________________________________________________\n",
      "Layer (type)                 Output Shape              Param #   \n",
      "=================================================================\n",
      "lstm (LSTM)                  (None, None, 14)          1008      \n",
      "_________________________________________________________________\n",
      "dropout (Dropout)            (None, None, 14)          0         \n",
      "_________________________________________________________________\n",
      "lstm_1 (LSTM)                (None, 200)               172000    \n",
      "_________________________________________________________________\n",
      "dropout_1 (Dropout)          (None, 200)               0         \n",
      "_________________________________________________________________\n",
      "dense (Dense)                (None, 1)                 201       \n",
      "_________________________________________________________________\n",
      "activation (Activation)      (None, 1)                 0         \n",
      "=================================================================\n",
      "Total params: 173,209\n",
      "Trainable params: 173,209\n",
      "Non-trainable params: 0\n",
      "_________________________________________________________________\n"
     ]
    }
   ],
   "source": [
    "lstm.summary()"
   ]
  },
  {
   "cell_type": "markdown",
   "metadata": {},
   "source": [
    "#### 4: Train the LSTM model\n",
    "Train the LSTM estimator with the training input data, and: \n",
    "* `epochs`: Number of training iterations - set to 20 here\n",
    "* `batch_size`: The number of training samples (chunk size) to be supplied to the network at once - set to 100 here."
   ]
  },
  {
   "cell_type": "code",
   "execution_count": 46,
   "metadata": {
    "scrolled": true
   },
   "outputs": [
    {
     "name": "stdout",
     "output_type": "stream",
     "text": [
      "WARNING:tensorflow:From /home/ec2-user/anaconda3/envs/amazonei_tensorflow_p36/lib/python3.6/site-packages/tensorflow/python/ops/math_ops.py:3066: to_int32 (from tensorflow.python.ops.math_ops) is deprecated and will be removed in a future version.\n",
      "Instructions for updating:\n",
      "Use tf.cast instead.\n",
      "Epoch 1/30\n",
      "1396/1396 [==============================] - 15s 11ms/sample - loss: 0.0149\n",
      "Epoch 2/30\n",
      "1396/1396 [==============================] - 14s 10ms/sample - loss: 0.0024\n",
      "Epoch 3/30\n",
      "1396/1396 [==============================] - 14s 10ms/sample - loss: 0.0012\n",
      "Epoch 4/30\n",
      "1396/1396 [==============================] - 14s 10ms/sample - loss: 0.0010\n",
      "Epoch 5/30\n",
      "1396/1396 [==============================] - 14s 10ms/sample - loss: 9.4372e-04\n",
      "Epoch 6/30\n",
      "1396/1396 [==============================] - 14s 10ms/sample - loss: 8.8611e-04\n",
      "Epoch 7/30\n",
      "1396/1396 [==============================] - 14s 10ms/sample - loss: 8.5463e-04\n",
      "Epoch 8/30\n",
      "1396/1396 [==============================] - 15s 11ms/sample - loss: 8.2630e-04\n",
      "Epoch 9/30\n",
      "1396/1396 [==============================] - 14s 10ms/sample - loss: 7.8644e-04\n",
      "Epoch 10/30\n",
      "1396/1396 [==============================] - 14s 10ms/sample - loss: 8.0602e-04\n",
      "Epoch 11/30\n",
      "1396/1396 [==============================] - 14s 10ms/sample - loss: 8.0230e-04\n",
      "Epoch 12/30\n",
      "1396/1396 [==============================] - 14s 10ms/sample - loss: 8.1308e-04\n",
      "Epoch 13/30\n",
      "1396/1396 [==============================] - 14s 10ms/sample - loss: 7.9228e-04\n",
      "Epoch 14/30\n",
      "1396/1396 [==============================] - 14s 10ms/sample - loss: 7.8185e-04\n",
      "Epoch 15/30\n",
      "1396/1396 [==============================] - 14s 10ms/sample - loss: 7.7531e-04\n",
      "Epoch 16/30\n",
      "1396/1396 [==============================] - 14s 10ms/sample - loss: 7.5592e-04\n",
      "Epoch 17/30\n",
      "1396/1396 [==============================] - 14s 10ms/sample - loss: 7.4887e-04\n",
      "Epoch 18/30\n",
      "1396/1396 [==============================] - 14s 10ms/sample - loss: 7.3382e-04\n",
      "Epoch 19/30\n",
      "1396/1396 [==============================] - 14s 10ms/sample - loss: 7.3591e-04\n",
      "Epoch 20/30\n",
      "1396/1396 [==============================] - 14s 10ms/sample - loss: 7.1351e-04\n",
      "Epoch 21/30\n",
      "1396/1396 [==============================] - 15s 11ms/sample - loss: 7.3218e-04\n",
      "Epoch 22/30\n",
      "1396/1396 [==============================] - 14s 10ms/sample - loss: 7.4264e-04\n",
      "Epoch 23/30\n",
      "1396/1396 [==============================] - 14s 10ms/sample - loss: 7.4224e-04\n",
      "Epoch 24/30\n",
      "1396/1396 [==============================] - 14s 10ms/sample - loss: 7.2014e-04\n",
      "Epoch 25/30\n",
      "1396/1396 [==============================] - 14s 10ms/sample - loss: 7.3879e-04\n",
      "Epoch 26/30\n",
      "1396/1396 [==============================] - 14s 10ms/sample - loss: 7.3997e-04\n",
      "Epoch 27/30\n",
      "1396/1396 [==============================] - 14s 10ms/sample - loss: 7.3126e-04\n",
      "Epoch 28/30\n",
      "1396/1396 [==============================] - 14s 10ms/sample - loss: 7.0760e-04\n",
      "Epoch 29/30\n",
      "1396/1396 [==============================] - 14s 10ms/sample - loss: 7.7457e-04\n",
      "Epoch 30/30\n",
      "1396/1396 [==============================] - 14s 10ms/sample - loss: 7.8839e-04\n",
      "CPU times: user 11min 31s, sys: 57.9 s, total: 12min 29s\n",
      "Wall time: 7min 7s\n"
     ]
    },
    {
     "data": {
      "text/plain": [
       "<tensorflow.python.keras.callbacks.History at 0x7fb809f895f8>"
      ]
     },
     "execution_count": 46,
     "metadata": {},
     "output_type": "execute_result"
    }
   ],
   "source": [
    "%%time\n",
    "lstm.fit(X_train,           # features for training\n",
    "          y_train,          # labels associated with feature set\n",
    "          epochs=30,        # No. of iterations of training\n",
    "          batch_size = 128) # No. of samples to inject as input to the network at a time"
   ]
  },
  {
   "cell_type": "markdown",
   "metadata": {},
   "source": [
    "#### 5: Evaluate the trained model\n",
    "After training the model, its performance can be evaluated on the validation data. Use the `model.evaluate()` to get a score of the model performance. The score can be used an indicator to check if the model needs to be redesigned or if any parameters needs to be tuned."
   ]
  },
  {
   "cell_type": "code",
   "execution_count": 47,
   "metadata": {},
   "outputs": [
    {
     "name": "stdout",
     "output_type": "stream",
     "text": [
      "Validation Score: 0.00233446 MSE (0.04831625 RMSE)\n"
     ]
    }
   ],
   "source": [
    "valScore = lstm.evaluate(X_val, y_val, verbose=0)\n",
    "print('Validation Score: %.8f MSE (%.8f RMSE)' % (valScore, math.sqrt(valScore)))"
   ]
  },
  {
   "cell_type": "markdown",
   "metadata": {},
   "source": [
    "#### 6: Save the model in ProtoBuf file and use for deployment\n",
    "Save the weights and sructure of the neural network. These two files are needed to generated a ProtoBuf file that is used for the actual deployment."
   ]
  },
  {
   "cell_type": "code",
   "execution_count": 48,
   "metadata": {},
   "outputs": [],
   "source": [
    "import tensorflow as tf\n",
    "import tensorflow.keras\n",
    "from tensorflow.keras.models import model_from_json\n",
    "\n",
    "save_path = source_dir + '/keras_model'\n",
    "if not os.path.exists(save_path):\n",
    "    os.makedirs(save_path)\n",
    "\n",
    "# save network weights to h5 file    \n",
    "lstm.save_weights(os.path.join(save_path, \"mpg_lstm-weights.h5\"))\n",
    "\n",
    "# save network structure to JSON (no weights)\n",
    "lstm_json = lstm.to_json()\n",
    "with open(os.path.join(save_path,\"mpg_lstm.json\"), \"w\") as json_file:\n",
    "    json_file.write(lstm_json)"
   ]
  },
  {
   "cell_type": "markdown",
   "metadata": {},
   "source": [
    "Load the saved model JSON file and model weights."
   ]
  },
  {
   "cell_type": "code",
   "execution_count": 49,
   "metadata": {
    "scrolled": true
   },
   "outputs": [
    {
     "name": "stdout",
     "output_type": "stream",
     "text": [
      "========================================\n",
      "!... Loaded LSTM model from disk ... !\n",
      "========================================\n"
     ]
    }
   ],
   "source": [
    "# load network srtucture\n",
    "json_file = open(save_path +'/mpg_lstm.json', 'r')\n",
    "loaded_model_json = json_file.read()\n",
    "json_file.close()\n",
    "loaded_lstm = model_from_json(loaded_model_json,custom_objects={\"GlorotUniform\": tensorflow.keras.initializers.glorot_uniform})\n",
    "\n",
    "#load network weights\n",
    "loaded_lstm.load_weights(save_path +'/mpg_lstm-weights.h5')\n",
    "print(\"========================================\")\n",
    "print(\"!... Loaded LSTM model from disk ... !\")\n",
    "print(\"========================================\")"
   ]
  },
  {
   "cell_type": "markdown",
   "metadata": {},
   "source": [
    "Export the Keras model to the TensorFlow ProtoBuf format so that it can be used for deployment. "
   ]
  },
  {
   "cell_type": "code",
   "execution_count": 50,
   "metadata": {},
   "outputs": [],
   "source": [
    "from tensorflow.python.saved_model import builder\n",
    "from tensorflow.python.saved_model.signature_def_utils import predict_signature_def\n",
    "from tensorflow.python.saved_model import tag_constants\n",
    "\n",
    "# Note: This directory structure will need to be followed - see notes for the next section\n",
    "model_version = '1'\n",
    "export_dir = source_dir + '/export/Servo/' + model_version\n",
    "if not os.path.exists(export_dir):\n",
    "    os.makedirs(export_dir)"
   ]
  },
  {
   "cell_type": "code",
   "execution_count": 51,
   "metadata": {},
   "outputs": [],
   "source": [
    "# It is very important that this export directory be empty. \n",
    "# Be careful, the following command deletes the entire expor directory.\n",
    "import shutil\n",
    "shutil.rmtree(export_dir)"
   ]
  },
  {
   "cell_type": "code",
   "execution_count": 52,
   "metadata": {},
   "outputs": [],
   "source": [
    "# Build the Protocol Buffer SavedModel at 'export_dir'\n",
    "build = builder.SavedModelBuilder(export_dir)"
   ]
  },
  {
   "cell_type": "code",
   "execution_count": 53,
   "metadata": {},
   "outputs": [
    {
     "name": "stdout",
     "output_type": "stream",
     "text": [
      "WARNING:tensorflow:From /home/ec2-user/anaconda3/envs/amazonei_tensorflow_p36/lib/python3.6/site-packages/tensorflow/python/saved_model/signature_def_utils_impl.py:205: build_tensor_info (from tensorflow.python.saved_model.utils_impl) is deprecated and will be removed in a future version.\n",
      "Instructions for updating:\n",
      "This function will only be available through the v1 compatibility library as tf.compat.v1.saved_model.utils.build_tensor_info or tf.compat.v1.saved_model.build_tensor_info.\n"
     ]
    }
   ],
   "source": [
    "# Create prediction signature to be used by TensorFlow Serving Predict API\n",
    "signature = predict_signature_def(\n",
    "    inputs={\"inputs\": loaded_lstm.input}, outputs={\"score\": loaded_lstm.output})"
   ]
  },
  {
   "cell_type": "code",
   "execution_count": 54,
   "metadata": {},
   "outputs": [
    {
     "name": "stdout",
     "output_type": "stream",
     "text": [
      "INFO:tensorflow:No assets to save.\n",
      "INFO:tensorflow:No assets to write.\n",
      "INFO:tensorflow:SavedModel written to: /home/ec2-user/SageMaker/ML_Stock_Price_Prediction/export/Servo/1/saved_model.pb\n"
     ]
    }
   ],
   "source": [
    "from tensorflow.keras import backend as K\n",
    "\n",
    "with K.get_session() as sess:\n",
    "    # Save the meta graph and variables\n",
    "    build.add_meta_graph_and_variables(\n",
    "        sess=sess, tags=[tag_constants.SERVING], signature_def_map={\"serving_default\": signature})\n",
    "    build.save()"
   ]
  },
  {
   "cell_type": "markdown",
   "metadata": {},
   "source": [
    "Tar the entire export directory and upload to S3"
   ]
  },
  {
   "cell_type": "code",
   "execution_count": 55,
   "metadata": {},
   "outputs": [],
   "source": [
    "import tarfile\n",
    "with tarfile.open('model.tar.gz', mode='w:gz') as archive:\n",
    "    archive.add('export', recursive=True)"
   ]
  },
  {
   "cell_type": "code",
   "execution_count": 56,
   "metadata": {},
   "outputs": [],
   "source": [
    "model_prefix = 'lstm-model'\n",
    "#upload to S3\n",
    "inputs = sagemaker_session.upload_data(path='model.tar.gz', key_prefix=model_prefix)"
   ]
  },
  {
   "cell_type": "markdown",
   "metadata": {},
   "source": [
    "#### 7: Deploy the trained LSTM netowrk\n",
    "To deploy an already trained Keras model, its structure and weight need to be exported to ProtoBuf format, as done in previous step. The TensorFlow model requires an `entry_point` which can be an empty `train.py`. If not already created, the cell beow will create an exmpty script. (Maybe this requirement is not needed in current implementations). Creating an LSTM TensoFlow predictor"
   ]
  },
  {
   "cell_type": "code",
   "execution_count": 57,
   "metadata": {},
   "outputs": [],
   "source": [
    "if not os.path.exists('src/lstm/train.py'):\n",
    "    !touch src/lstm/train.py"
   ]
  },
  {
   "cell_type": "code",
   "execution_count": 58,
   "metadata": {},
   "outputs": [
    {
     "name": "stderr",
     "output_type": "stream",
     "text": [
      "The Python 2 tensorflow images will be soon deprecated and may not be supported for newer upcoming versions of the tensorflow images.\n",
      "Please set the argument \"py_version='py3'\" to use the Python 3 tensorflow image.\n"
     ]
    }
   ],
   "source": [
    "from sagemaker.tensorflow.model import TensorFlowModel\n",
    "LSTM_model = TensorFlowModel(model_data = 's3://{}/{}/'.format(bucket, model_prefix) + 'model.tar.gz',\n",
    "                             role = role,\n",
    "                             framework_version = '1.12',\n",
    "                             entry_point = 'train.py', \n",
    "                             source_dir = source_dir + '/src/lstm/')"
   ]
  },
  {
   "cell_type": "markdown",
   "metadata": {},
   "source": [
    "Deploy the predictor for the pre-trained `LSTM_model` imported above using TensorFlow"
   ]
  },
  {
   "cell_type": "code",
   "execution_count": 59,
   "metadata": {},
   "outputs": [
    {
     "name": "stdout",
     "output_type": "stream",
     "text": [
      "-------------------------------------------------------------------------------------!CPU times: user 661 ms, sys: 28 ms, total: 689 ms\n",
      "Wall time: 7min 9s\n"
     ]
    }
   ],
   "source": [
    "%%time\n",
    "lstm_predictor = LSTM_model.deploy(initial_instance_count=1, instance_type='ml.m4.xlarge')"
   ]
  },
  {
   "cell_type": "markdown",
   "metadata": {},
   "source": [
    "#### 8: Use the model to make predictions\n",
    "Once the model is trained, evaluated, exported and deployed using SageMaker, it can be used to make predictions. <br>\n",
    "The test data features are provided to the `predictor.predict()` which returns a set of predictions."
   ]
  },
  {
   "cell_type": "code",
   "execution_count": 60,
   "metadata": {
    "scrolled": true
   },
   "outputs": [],
   "source": [
    "predictions = lstm_predictor.predict({'inputs':X_test})\n",
    "\n",
    "# local_predictions = lstm.predict(X_test) #use this for local testing"
   ]
  },
  {
   "cell_type": "code",
   "execution_count": 61,
   "metadata": {},
   "outputs": [],
   "source": [
    "# Extract the list of float values from the predictions dictionary \n",
    "# with format {'outputs:'{'score':{'float_val':[list_of_values]}}}\n",
    "predictions = predictions['outputs']['score']['float_val']"
   ]
  },
  {
   "cell_type": "markdown",
   "metadata": {},
   "source": [
    "#### 9: Test the model predictions\n",
    "To see how well the the model performs with the test data, plot the predictions with the actual target values. In addition also calculate the score of model performance on test data using the `model.evaluate()` as before. "
   ]
  },
  {
   "cell_type": "code",
   "execution_count": 62,
   "metadata": {},
   "outputs": [
    {
     "data": {
      "image/png": "[encoded data removed]",
      "text/plain": [
       "<Figure size 432x288 with 1 Axes>"
      ]
     },
     "metadata": {},
     "output_type": "display_data"
    }
   ],
   "source": [
    "viz.plot_prediction(y_test[:,13], predictions, filename = images_dir+'lstmDeployed.png')"
   ]
  },
  {
   "cell_type": "markdown",
   "metadata": {},
   "source": [
    "A better way to check how close the test predictions ($\\tilde{y}_i$) are to the real target values ($y$), is by calculating the `mean_square_error` (MSE) or the `root_mean_square_error` (RMSE). The lower the numbers, the better the model performance. \n",
    "\n",
    "\\begin{align*}\n",
    "\\displaystyle MSE &= \\frac{1}{n}\\sum\\limits_{i=1}^n (y_i - \\tilde{y_i})^2 \\\\\n",
    "\\displaystyle RMSE &= (\\frac{1}{n}\\sum\\limits_{i=1}^n (y_i - \\tilde{y_i})^2)^{1/2} = \\sqrt{MSE}\n",
    "\\end{align*}"
   ]
  },
  {
   "cell_type": "code",
   "execution_count": 63,
   "metadata": {},
   "outputs": [
    {
     "name": "stdout",
     "output_type": "stream",
     "text": [
      "Score:      0.00677487 MSE (0.08230960 RMSE)\n"
     ]
    }
   ],
   "source": [
    "from sklearn.metrics import mean_squared_error\n",
    "import math\n",
    "\n",
    "score = mean_squared_error(y_test[:,13], predictions)\n",
    "print(\"{:<11} {:.8f} MSE ({:.8f} RMSE)\".format('Score:', score, math.sqrt(score)))"
   ]
  },
  {
   "cell_type": "markdown",
   "metadata": {},
   "source": [
    "#### 10: Delete the Endpoint"
   ]
  },
  {
   "cell_type": "code",
   "execution_count": 64,
   "metadata": {},
   "outputs": [
    {
     "name": "stdout",
     "output_type": "stream",
     "text": [
      "Deleted sagemaker-tensorflow-2019-11-28-23-21-15-840\n"
     ]
    }
   ],
   "source": [
    "# Delete the predictor endpoint\n",
    "delete_endpoint(lstm_predictor)"
   ]
  },
  {
   "cell_type": "markdown",
   "metadata": {},
   "source": [
    "---\n",
    "\n",
    "## Delete Endpoints (Optional)\n",
    "If not already done so, all the endpoints created must be deleted. "
   ]
  },
  {
   "cell_type": "code",
   "execution_count": 65,
   "metadata": {},
   "outputs": [
    {
     "name": "stdout",
     "output_type": "stream",
     "text": [
      "Already deleted: linear-learner-2019-11-28-22-05-11-012\n",
      "Already deleted: sagemaker-xgboost-191128-2221-018-25848f47\n",
      "Already deleted: sagemaker-tensorflow-2019-11-28-23-21-15-840\n"
     ]
    }
   ],
   "source": [
    "# all the predictors defined in this notebook instance\n",
    "predictors_created = [linear_predictor, xgb_predictor, lstm_predictor]\n",
    "\n",
    "for predictor in predictors_created:\n",
    "    delete_endpoint(predictor)"
   ]
  },
  {
   "cell_type": "markdown",
   "metadata": {},
   "source": [
    "## Data Cleanup (Optional)\n",
    "The default notebook instance on SageMaker doesn't have a lot of excess disk space available. Executing notebooks will eventually fill up this disk space, leading to errors which can be difficult to diagnose. It is a good idea to remove the files that was created along the way. Of course, this can be done from the terminal or from the notebook hub as well. The cell below contains some commands to clean up the created files from within the notebook."
   ]
  },
  {
   "cell_type": "code",
   "execution_count": null,
   "metadata": {},
   "outputs": [],
   "source": [
    "# First we will remove all of the files contained in the data_dir directory\n",
    "# And then we delete the directory itself\n",
    "%rm -rf $processed_data_dir/*\n",
    "%rm -rf $processed_data_dir\n",
    "\n",
    "%rm -rf $data_dir/*\n",
    "%rm -rf $data_dir"
   ]
  },
  {
   "cell_type": "code",
   "execution_count": null,
   "metadata": {},
   "outputs": [],
   "source": []
  }
 ],
 "metadata": {
  "kernelspec": {
   "display_name": "conda_amazonei_tensorflow_p36",
   "language": "python",
   "name": "conda_amazonei_tensorflow_p36"
  },
  "language_info": {
   "codemirror_mode": {
    "name": "ipython",
    "version": 3
   },
   "file_extension": ".py",
   "mimetype": "text/x-python",
   "name": "python",
   "nbconvert_exporter": "python",
   "pygments_lexer": "ipython3",
   "version": "3.6.5"
  }
 },
 "nbformat": 4,
 "nbformat_minor": 2
}
