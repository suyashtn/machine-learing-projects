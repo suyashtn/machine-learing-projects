{
 "cells": [
  {
   "cell_type": "markdown",
   "metadata": {},
   "source": [
    "# Machine Learning Nanodegree\n",
    "\n",
    "### Capstone Project\n",
    "---\n",
    "\n",
    "## Stock Price Prediction\n",
    "\n",
    "\n",
    "---\n",
    "\n",
    "### Read in the Data\n"
   ]
  },
  {
   "cell_type": "code",
   "execution_count": 1,
   "metadata": {},
   "outputs": [
    {
     "data": {
      "application/javascript": [
       "IPython.notebook.set_autosave_interval(60000)"
      ]
     },
     "metadata": {},
     "output_type": "display_data"
    },
    {
     "name": "stdout",
     "output_type": "stream",
     "text": [
      "Autosaving every 60 seconds\n"
     ]
    }
   ],
   "source": [
    "%autosave 60\n",
    "# import all libraries\n",
    "import io\n",
    "import os\n",
    "import time, requests\n",
    "import matplotlib.pyplot as plt\n",
    "import numpy as np \n",
    "import pandas as pd \n",
    "\n",
    "import boto3\n",
    "import sagemaker\n",
    "from sagemaker import get_execution_role\n",
    "\n",
    "%matplotlib inline"
   ]
  },
  {
   "cell_type": "code",
   "execution_count": 2,
   "metadata": {},
   "outputs": [
    {
     "name": "stdout",
     "output_type": "stream",
     "text": [
      "\u001b[33mYou are using pip version 10.0.1, however version 19.3.1 is available.\r\n",
      "You should consider upgrading via the 'pip install --upgrade pip' command.\u001b[0m\r\n"
     ]
    }
   ],
   "source": [
    "!pip -q install -r requirements.txt --upgrade --no-cache-dir"
   ]
  },
  {
   "cell_type": "code",
   "execution_count": 3,
   "metadata": {},
   "outputs": [],
   "source": [
    "# sagemaker session, role\n",
    "sagemaker_session = sagemaker.Session()\n",
    "role = sagemaker.get_execution_role()\n",
    "\n",
    "# S3 bucket name\n",
    "bucket = sagemaker_session.default_bucket()"
   ]
  },
  {
   "cell_type": "code",
   "execution_count": 4,
   "metadata": {},
   "outputs": [],
   "source": [
    "import yfinance as yf\n",
    "\n",
    "# def get_epoch_time(date):\n",
    "#     ''' Get the epoch time for a particular date\n",
    "#         param | date: Date in the format YYYY-MM-DD\n",
    "#     '''\n",
    "#     os.environ['TZ']='EST+5ETD'\n",
    "#     date_time = date + ' 00:00:00'\n",
    "#     pattern = '%Y-%m-%d %H:%M:%S'\n",
    "    \n",
    "#     epoch = int(time.mktime(time.strptime(date_time, pattern)))\n",
    "#     return epoch\n",
    "\n",
    "def get_historical_data(symbol,start_date,end_date, data_dir):\n",
    "    ''' Daily quotes from Google. Date format='yyyy-mm-dd' '''\n",
    "    symbol = symbol.upper()\n",
    "    df = yf.download('{0}'.format(symbol), start=start_date, end=end_date)\n",
    "    df.to_csv(data_dir+'{0}.csv'.format(symbol), index = True, header=False)\n",
    "    col_names = ['Date','Open','High','Low','Close','Adj_Close','Volume']\n",
    "    stocks = pd.read_csv('data/{0}.csv'.format(symbol), header=0, names=col_names)\n",
    "    \n",
    "    dataFile = pd.DataFrame(stocks)\n",
    "    return dataFile\n",
    "    \n",
    "#     col_names = ['Date','Open','High','Low','Close','Volume']\n",
    "#     stocks = pd.read_csv(url_string, header=0, names=col_names) \n",
    "    \n",
    "#     df = pd.DataFrame(stocks)\n",
    "#     return df"
   ]
  },
  {
   "cell_type": "code",
   "execution_count": 5,
   "metadata": {},
   "outputs": [
    {
     "name": "stdout",
     "output_type": "stream",
     "text": [
      "[*********************100%***********************]  1 of 1 completed\n"
     ]
    }
   ],
   "source": [
    "source_dir = '/home/ec2-user/SageMaker/ML_Stock_Price_Prediction'\n",
    "os.chdir(source_dir)\n",
    "\n",
    "data_dir = source_dir + '/data/'\n",
    "if not os.path.exists(data_dir):\n",
    "    os.makedirs(data_dir)\n",
    "\n",
    "processed_data_dir = source_dir +'/data/processedData'\n",
    "if not os.path.exists(processed_data_dir):\n",
    "    os.makedirs(processed_data_dir) \n",
    "\n",
    "symbol = 'GOOGL'\n",
    "start  = '2009-11-01'\n",
    "end    = '2019-11-01'\n",
    "\n",
    "data = get_historical_data(symbol, start, end, data_dir) # from January 1, 2005 to June 30, 2017"
   ]
  },
  {
   "cell_type": "code",
   "execution_count": 6,
   "metadata": {},
   "outputs": [
    {
     "data": {
      "text/html": [
       "<div>\n",
       "<style scoped>\n",
       "    .dataframe tbody tr th:only-of-type {\n",
       "        vertical-align: middle;\n",
       "    }\n",
       "\n",
       "    .dataframe tbody tr th {\n",
       "        vertical-align: top;\n",
       "    }\n",
       "\n",
       "    .dataframe thead th {\n",
       "        text-align: right;\n",
       "    }\n",
       "</style>\n",
       "<table border=\"1\" class=\"dataframe\">\n",
       "  <thead>\n",
       "    <tr style=\"text-align: right;\">\n",
       "      <th></th>\n",
       "      <th>Date</th>\n",
       "      <th>Open</th>\n",
       "      <th>High</th>\n",
       "      <th>Low</th>\n",
       "      <th>Close</th>\n",
       "      <th>Adj_Close</th>\n",
       "      <th>Volume</th>\n",
       "    </tr>\n",
       "  </thead>\n",
       "  <tbody>\n",
       "    <tr>\n",
       "      <th>0</th>\n",
       "      <td>2009-11-03</td>\n",
       "      <td>265.270264</td>\n",
       "      <td>269.019012</td>\n",
       "      <td>264.414429</td>\n",
       "      <td>268.913910</td>\n",
       "      <td>268.913910</td>\n",
       "      <td>4755600</td>\n",
       "    </tr>\n",
       "    <tr>\n",
       "      <th>1</th>\n",
       "      <td>2009-11-04</td>\n",
       "      <td>270.670685</td>\n",
       "      <td>273.023010</td>\n",
       "      <td>268.478485</td>\n",
       "      <td>270.435425</td>\n",
       "      <td>270.435425</td>\n",
       "      <td>4660700</td>\n",
       "    </tr>\n",
       "    <tr>\n",
       "      <th>2</th>\n",
       "      <td>2009-11-05</td>\n",
       "      <td>272.017029</td>\n",
       "      <td>275.160156</td>\n",
       "      <td>271.601593</td>\n",
       "      <td>274.599609</td>\n",
       "      <td>274.599609</td>\n",
       "      <td>3691700</td>\n",
       "    </tr>\n",
       "    <tr>\n",
       "      <th>3</th>\n",
       "      <td>2009-11-06</td>\n",
       "      <td>274.134125</td>\n",
       "      <td>276.166168</td>\n",
       "      <td>273.023010</td>\n",
       "      <td>275.825836</td>\n",
       "      <td>275.825836</td>\n",
       "      <td>3649700</td>\n",
       "    </tr>\n",
       "    <tr>\n",
       "      <th>4</th>\n",
       "      <td>2009-11-09</td>\n",
       "      <td>278.002991</td>\n",
       "      <td>281.571564</td>\n",
       "      <td>277.392395</td>\n",
       "      <td>281.536530</td>\n",
       "      <td>281.536530</td>\n",
       "      <td>5294500</td>\n",
       "    </tr>\n",
       "  </tbody>\n",
       "</table>\n",
       "</div>"
      ],
      "text/plain": [
       "         Date        Open        High         Low       Close   Adj_Close  \\\n",
       "0  2009-11-03  265.270264  269.019012  264.414429  268.913910  268.913910   \n",
       "1  2009-11-04  270.670685  273.023010  268.478485  270.435425  270.435425   \n",
       "2  2009-11-05  272.017029  275.160156  271.601593  274.599609  274.599609   \n",
       "3  2009-11-06  274.134125  276.166168  273.023010  275.825836  275.825836   \n",
       "4  2009-11-09  278.002991  281.571564  277.392395  281.536530  281.536530   \n",
       "\n",
       "    Volume  \n",
       "0  4755600  \n",
       "1  4660700  \n",
       "2  3691700  \n",
       "3  3649700  \n",
       "4  5294500  "
      ]
     },
     "execution_count": 6,
     "metadata": {},
     "output_type": "execute_result"
    }
   ],
   "source": [
    "data.head()"
   ]
  },
  {
   "cell_type": "code",
   "execution_count": 7,
   "metadata": {},
   "outputs": [
    {
     "data": {
      "text/html": [
       "<div>\n",
       "<style scoped>\n",
       "    .dataframe tbody tr th:only-of-type {\n",
       "        vertical-align: middle;\n",
       "    }\n",
       "\n",
       "    .dataframe tbody tr th {\n",
       "        vertical-align: top;\n",
       "    }\n",
       "\n",
       "    .dataframe thead th {\n",
       "        text-align: right;\n",
       "    }\n",
       "</style>\n",
       "<table border=\"1\" class=\"dataframe\">\n",
       "  <thead>\n",
       "    <tr style=\"text-align: right;\">\n",
       "      <th></th>\n",
       "      <th>Open</th>\n",
       "      <th>High</th>\n",
       "      <th>Low</th>\n",
       "      <th>Close</th>\n",
       "      <th>Adj_Close</th>\n",
       "      <th>Volume</th>\n",
       "    </tr>\n",
       "  </thead>\n",
       "  <tbody>\n",
       "    <tr>\n",
       "      <th>count</th>\n",
       "      <td>2516.000000</td>\n",
       "      <td>2516.000000</td>\n",
       "      <td>2516.000000</td>\n",
       "      <td>2516.000000</td>\n",
       "      <td>2516.000000</td>\n",
       "      <td>2.516000e+03</td>\n",
       "    </tr>\n",
       "    <tr>\n",
       "      <th>mean</th>\n",
       "      <td>635.397300</td>\n",
       "      <td>640.689145</td>\n",
       "      <td>629.668080</td>\n",
       "      <td>635.334439</td>\n",
       "      <td>635.334439</td>\n",
       "      <td>3.427869e+06</td>\n",
       "    </tr>\n",
       "    <tr>\n",
       "      <th>std</th>\n",
       "      <td>320.135523</td>\n",
       "      <td>322.995625</td>\n",
       "      <td>317.249482</td>\n",
       "      <td>320.265958</td>\n",
       "      <td>320.265958</td>\n",
       "      <td>2.672654e+06</td>\n",
       "    </tr>\n",
       "    <tr>\n",
       "      <th>min</th>\n",
       "      <td>219.374374</td>\n",
       "      <td>221.361359</td>\n",
       "      <td>217.032028</td>\n",
       "      <td>218.253250</td>\n",
       "      <td>218.253250</td>\n",
       "      <td>5.206000e+05</td>\n",
       "    </tr>\n",
       "    <tr>\n",
       "      <th>25%</th>\n",
       "      <td>311.961975</td>\n",
       "      <td>314.191681</td>\n",
       "      <td>310.307800</td>\n",
       "      <td>312.367371</td>\n",
       "      <td>312.367371</td>\n",
       "      <td>1.583525e+06</td>\n",
       "    </tr>\n",
       "    <tr>\n",
       "      <th>50%</th>\n",
       "      <td>561.025024</td>\n",
       "      <td>565.725006</td>\n",
       "      <td>556.744995</td>\n",
       "      <td>561.229980</td>\n",
       "      <td>561.229980</td>\n",
       "      <td>2.561600e+06</td>\n",
       "    </tr>\n",
       "    <tr>\n",
       "      <th>75%</th>\n",
       "      <td>924.400009</td>\n",
       "      <td>934.392487</td>\n",
       "      <td>919.444992</td>\n",
       "      <td>924.935013</td>\n",
       "      <td>924.935013</td>\n",
       "      <td>4.489575e+06</td>\n",
       "    </tr>\n",
       "    <tr>\n",
       "      <th>max</th>\n",
       "      <td>1289.119995</td>\n",
       "      <td>1299.239990</td>\n",
       "      <td>1272.310059</td>\n",
       "      <td>1296.199951</td>\n",
       "      <td>1296.199951</td>\n",
       "      <td>2.961990e+07</td>\n",
       "    </tr>\n",
       "  </tbody>\n",
       "</table>\n",
       "</div>"
      ],
      "text/plain": [
       "              Open         High          Low        Close    Adj_Close  \\\n",
       "count  2516.000000  2516.000000  2516.000000  2516.000000  2516.000000   \n",
       "mean    635.397300   640.689145   629.668080   635.334439   635.334439   \n",
       "std     320.135523   322.995625   317.249482   320.265958   320.265958   \n",
       "min     219.374374   221.361359   217.032028   218.253250   218.253250   \n",
       "25%     311.961975   314.191681   310.307800   312.367371   312.367371   \n",
       "50%     561.025024   565.725006   556.744995   561.229980   561.229980   \n",
       "75%     924.400009   934.392487   919.444992   924.935013   924.935013   \n",
       "max    1289.119995  1299.239990  1272.310059  1296.199951  1296.199951   \n",
       "\n",
       "             Volume  \n",
       "count  2.516000e+03  \n",
       "mean   3.427869e+06  \n",
       "std    2.672654e+06  \n",
       "min    5.206000e+05  \n",
       "25%    1.583525e+06  \n",
       "50%    2.561600e+06  \n",
       "75%    4.489575e+06  \n",
       "max    2.961990e+07  "
      ]
     },
     "execution_count": 7,
     "metadata": {},
     "output_type": "execute_result"
    }
   ],
   "source": [
    "data.describe()"
   ]
  },
  {
   "cell_type": "code",
   "execution_count": 8,
   "metadata": {},
   "outputs": [],
   "source": [
    "from src import viz_functions as viz, processData as ppd \n"
   ]
  },
  {
   "cell_type": "code",
   "execution_count": 9,
   "metadata": {},
   "outputs": [
    {
     "name": "stdout",
     "output_type": "stream",
     "text": [
      "   Item        Open       Close   Volume\n",
      "0     0  265.270264  268.913910  4755600\n",
      "1     1  270.670685  270.435425  4660700\n",
      "2     2  272.017029  274.599609  3691700\n",
      "3     3  274.134125  275.825836  3649700\n",
      "4     4  278.002991  281.536530  5294500\n",
      "---\n",
      "      Item         Open        Close   Volume\n",
      "2511  2511  1252.000000  1264.300049  1355200\n",
      "2512  2512  1275.000000  1288.979980  3271400\n",
      "2513  2513  1276.000000  1260.660034  2632700\n",
      "2514  2514  1255.150024  1260.699951  1460200\n",
      "2515  2515  1260.000000  1258.800049  1595000\n"
     ]
    }
   ],
   "source": [
    "stocks = ppd.remove_data(data)\n",
    "\n",
    "#Print the dataframe head and tail\n",
    "print(stocks.head())\n",
    "print(\"---\")\n",
    "print(stocks.tail())"
   ]
  },
  {
   "cell_type": "code",
   "execution_count": 10,
   "metadata": {},
   "outputs": [
    {
     "data": {
      "image/png": "[encoded data removed]",
      "text/plain": [
       "<Figure size 1296x864 with 1 Axes>"
      ]
     },
     "metadata": {},
     "output_type": "display_data"
    }
   ],
   "source": [
    "viz.plot_basic(stocks)"
   ]
  },
  {
   "cell_type": "code",
   "execution_count": 11,
   "metadata": {},
   "outputs": [
    {
     "name": "stdout",
     "output_type": "stream",
     "text": [
      "   Item      Open     Close    Volume\n",
      "0     0  0.042904  0.046997  0.145536\n",
      "1     1  0.047952  0.048409  0.142275\n",
      "2     2  0.049210  0.052272  0.108975\n",
      "3     3  0.051190  0.053409  0.107532\n",
      "4     4  0.054806  0.058707  0.164055\n"
     ]
    },
    {
     "name": "stderr",
     "output_type": "stream",
     "text": [
      "/home/ec2-user/anaconda3/envs/amazonei_tensorflow_p36/lib/python3.6/site-packages/sklearn/preprocessing/data.py:334: DataConversionWarning: Data with input dtype int64, float64 were all converted to float64 by MinMaxScaler.\n",
      "  return self.partial_fit(X, y)\n"
     ]
    }
   ],
   "source": [
    "stocks = ppd.normalise_data(stocks)\n",
    "print(stocks.head())"
   ]
  },
  {
   "cell_type": "code",
   "execution_count": 12,
   "metadata": {},
   "outputs": [
    {
     "data": {
      "image/png": "[encoded data removed]",
      "text/plain": [
       "<Figure size 1296x864 with 1 Axes>"
      ]
     },
     "metadata": {},
     "output_type": "display_data"
    }
   ],
   "source": [
    "viz.plot_basic(stocks)"
   ]
  },
  {
   "cell_type": "code",
   "execution_count": 13,
   "metadata": {},
   "outputs": [],
   "source": [
    "if not os.path.exists(processed_data_dir): # Make sure that the folder exists\n",
    "    os.makedirs(processed_data_dir)"
   ]
  },
  {
   "cell_type": "code",
   "execution_count": 14,
   "metadata": {},
   "outputs": [],
   "source": [
    "stocks.to_csv(processed_data_dir + '/{0}_processed.csv'.format(symbol) ,index= False, header=True)"
   ]
  },
  {
   "cell_type": "markdown",
   "metadata": {},
   "source": [
    "## Linear Regression "
   ]
  },
  {
   "cell_type": "code",
   "execution_count": 15,
   "metadata": {},
   "outputs": [],
   "source": [
    "# import LinearLearner\n",
    "from sagemaker import LinearLearner\n",
    "\n",
    "# specify an output path\n",
    "prefix = 'stockPrices'\n",
    "output_path = 's3://{}/{}/output'.format(bucket, prefix)\n",
    "\n",
    "# instantiate LinearLearner\n",
    "linear = LinearLearner(role=role,\n",
    "                       train_instance_count=1, \n",
    "                       train_instance_type='ml.c4.xlarge',\n",
    "                       predictor_type='regressor',\n",
    "                       loss='squared_loss',\n",
    "                       output_path=output_path,\n",
    "                       sagemaker_session=sagemaker_session,\n",
    "                       epochs=15)"
   ]
  },
  {
   "cell_type": "code",
   "execution_count": null,
   "metadata": {},
   "outputs": [],
   "source": [
    "stocks = pd.read_csv(processed_data_dir + '/{0}_processed.csv'.format(symbol))\n",
    "display(stocks.head())"
   ]
  },
  {
   "cell_type": "code",
   "execution_count": null,
   "metadata": {},
   "outputs": [],
   "source": [
    "train_fraction = 0.8\n",
    "X_train, X_test, y_train, y_test = ppd.train_test_split(stocks, train_fraction)\n",
    "\n",
    "print(\"x_train\", X_train.shape)\n",
    "print(\"y_train\", y_train.shape)\n",
    "print(\"x_test\", X_test.shape)\n",
    "print(\"y_test\", y_test.shape)"
   ]
  },
  {
   "cell_type": "code",
   "execution_count": null,
   "metadata": {},
   "outputs": [],
   "source": [
    "# convert features/labels to numpy in float32 format\n",
    "train_x_np = X_train.astype('float32')\n",
    "train_y_np = y_train.astype('float32')\n",
    "\n",
    "print(\"y_train\", train_y_np.shape)\n",
    "\n",
    "# create RecordSet\n",
    "formatted_train_data = linear.record_set(train_x_np , labels=train_y_np)"
   ]
  },
  {
   "cell_type": "code",
   "execution_count": null,
   "metadata": {},
   "outputs": [],
   "source": [
    "%%time \n",
    "# train the estimator on formatted training data\n",
    "linear.fit(formatted_train_data)"
   ]
  },
  {
   "cell_type": "code",
   "execution_count": null,
   "metadata": {},
   "outputs": [],
   "source": [
    "# convert features/labels to numpy\n",
    "test_x_np = X_test.astype('float32')\n",
    "test_y_np = y_test.astype('float32')"
   ]
  },
  {
   "cell_type": "code",
   "execution_count": null,
   "metadata": {},
   "outputs": [],
   "source": [
    "%%time \n",
    "# deploy and create a predictor\n",
    "linear_predictor = linear.deploy(initial_instance_count=1, instance_type='ml.t2.medium')"
   ]
  },
  {
   "cell_type": "markdown",
   "metadata": {},
   "source": [
    "### Evaluate Model"
   ]
  },
  {
   "cell_type": "code",
   "execution_count": null,
   "metadata": {},
   "outputs": [],
   "source": [
    "# from sagemaker.predictor import csv_serializer, json_deserializer\n",
    "\n",
    "result = linear_predictor.predict(test_x_np[0])\n",
    "print (result)"
   ]
  },
  {
   "cell_type": "code",
   "execution_count": null,
   "metadata": {},
   "outputs": [],
   "source": [
    "from sklearn.metrics import mean_squared_error\n",
    "import math\n",
    "\n",
    "# code to evaluate the endpoint on test data\n",
    "# returns a variety of model metrics\n",
    "def evaluate(predictor, test_features, test_labels, verbose=True):\n",
    "    \"\"\"\n",
    "    Evaluate a model on a test set given the prediction endpoint.  \n",
    "    Return binary classification metrics.\n",
    "    :param predictor: A prediction endpoint\n",
    "    :param test_features: Test features\n",
    "    :param test_labels: Class labels for test data\n",
    "    :param verbose: If True, prints a table of all performance metrics\n",
    "    :return: A dictionary of performance metrics.\n",
    "    \"\"\"\n",
    "    \n",
    "    # We have a lot of test data, so we'll split it into batches of 100\n",
    "    # split the test data set into batches and evaluate using prediction endpoint    \n",
    "    prediction_batches = [predictor.predict(batch) for batch in np.array_split(test_features, 100)]\n",
    "    \n",
    "    # LinearLearner produces a `predicted_label` for each data point in a batch\n",
    "    # get the 'predicted_label' for every point in a batch\n",
    "    test_preds = np.concatenate([np.array([x.label['score'].float32_tensor.values[0] for x in batch]) \n",
    "                                 for batch in prediction_batches])\n",
    "    \n",
    "    viz.plot_prediction(test_labels, test_preds)\n",
    "    \n",
    "#     # calculate true positives, false positives, true negatives, false negatives\n",
    "#     tp = np.logical_and(test_labels, test_preds).sum()\n",
    "#     fp = np.logical_and(1-test_labels, test_preds).sum()\n",
    "#     tn = np.logical_and(1-test_labels, 1-test_preds).sum()\n",
    "#     fn = np.logical_and(test_labels, 1-test_preds).sum()\n",
    "    \n",
    "#     # calculate binary classification metrics\n",
    "#     recall = tp / (tp + fn)\n",
    "#     precision = tp / (tp + fp)\n",
    "#     accuracy = (tp + tn) / (tp + fp + tn + fn)\n",
    "\n",
    "    #calculate the score based on mean squared error\n",
    "    score = mean_squared_error(test_preds, test_labels)\n",
    "    \n",
    "    # printing a table of metrics\n",
    "    if verbose:\n",
    "#         print(pd.crosstab(test_labels, test_preds, rownames=['actual (row)'], colnames=['prediction (col)']))\n",
    "#         print(\"\\n{:<11} {:.3f}\".format('Recall:', recall))\n",
    "#         print(\"{:<11} {:.3f}\".format('Precision:', precision))\n",
    "        print(\"{:<11} {:.8f} MSE ({:.8f} RMSE)\".format('Score:', score, math.sqrt(score)))\n",
    "        print()\n",
    "        \n",
    "    return {'Predictions': test_preds, 'Score': score}"
   ]
  },
  {
   "cell_type": "code",
   "execution_count": null,
   "metadata": {},
   "outputs": [],
   "source": [
    "print('Metrics for simple, LinearLearner.\\n')\n",
    "\n",
    "# get metrics for linear predictor\n",
    "predictions, metrics = evaluate(linear_predictor, \n",
    "                   test_x_np, \n",
    "                   test_y_np, \n",
    "                   verbose=True) # verbose means we'll print out the metrics"
   ]
  },
  {
   "cell_type": "code",
   "execution_count": 16,
   "metadata": {},
   "outputs": [],
   "source": [
    "# Deletes a precictor.endpoint\n",
    "def delete_endpoint(predictor):\n",
    "        try:\n",
    "            boto3.client('sagemaker').delete_endpoint(EndpointName=predictor.endpoint)\n",
    "            print('Deleted {}'.format(predictor.endpoint))\n",
    "        except:\n",
    "            print('Already deleted: {}'.format(predictor.endpoint))"
   ]
  },
  {
   "cell_type": "code",
   "execution_count": null,
   "metadata": {},
   "outputs": [],
   "source": [
    "# delete the predictor endpoint \n",
    "delete_endpoint(linear_predictor)"
   ]
  },
  {
   "cell_type": "markdown",
   "metadata": {},
   "source": [
    "## XGBoost"
   ]
  },
  {
   "cell_type": "code",
   "execution_count": 17,
   "metadata": {},
   "outputs": [],
   "source": [
    "from sagemaker.amazon.amazon_estimator import get_image_uri\n",
    "from sagemaker.predictor import csv_serializer"
   ]
  },
  {
   "cell_type": "code",
   "execution_count": 18,
   "metadata": {},
   "outputs": [
    {
     "data": {
      "text/html": [
       "<div>\n",
       "<style scoped>\n",
       "    .dataframe tbody tr th:only-of-type {\n",
       "        vertical-align: middle;\n",
       "    }\n",
       "\n",
       "    .dataframe tbody tr th {\n",
       "        vertical-align: top;\n",
       "    }\n",
       "\n",
       "    .dataframe thead th {\n",
       "        text-align: right;\n",
       "    }\n",
       "</style>\n",
       "<table border=\"1\" class=\"dataframe\">\n",
       "  <thead>\n",
       "    <tr style=\"text-align: right;\">\n",
       "      <th></th>\n",
       "      <th>Item</th>\n",
       "      <th>Open</th>\n",
       "      <th>Close</th>\n",
       "      <th>Volume</th>\n",
       "    </tr>\n",
       "  </thead>\n",
       "  <tbody>\n",
       "    <tr>\n",
       "      <th>0</th>\n",
       "      <td>0</td>\n",
       "      <td>0.042904</td>\n",
       "      <td>0.046997</td>\n",
       "      <td>0.145536</td>\n",
       "    </tr>\n",
       "    <tr>\n",
       "      <th>1</th>\n",
       "      <td>1</td>\n",
       "      <td>0.047952</td>\n",
       "      <td>0.048409</td>\n",
       "      <td>0.142275</td>\n",
       "    </tr>\n",
       "    <tr>\n",
       "      <th>2</th>\n",
       "      <td>2</td>\n",
       "      <td>0.049210</td>\n",
       "      <td>0.052272</td>\n",
       "      <td>0.108975</td>\n",
       "    </tr>\n",
       "    <tr>\n",
       "      <th>3</th>\n",
       "      <td>3</td>\n",
       "      <td>0.051190</td>\n",
       "      <td>0.053409</td>\n",
       "      <td>0.107532</td>\n",
       "    </tr>\n",
       "    <tr>\n",
       "      <th>4</th>\n",
       "      <td>4</td>\n",
       "      <td>0.054806</td>\n",
       "      <td>0.058707</td>\n",
       "      <td>0.164055</td>\n",
       "    </tr>\n",
       "  </tbody>\n",
       "</table>\n",
       "</div>"
      ],
      "text/plain": [
       "   Item      Open     Close    Volume\n",
       "0     0  0.042904  0.046997  0.145536\n",
       "1     1  0.047952  0.048409  0.142275\n",
       "2     2  0.049210  0.052272  0.108975\n",
       "3     3  0.051190  0.053409  0.107532\n",
       "4     4  0.054806  0.058707  0.164055"
      ]
     },
     "metadata": {},
     "output_type": "display_data"
    },
    {
     "data": {
      "text/html": [
       "<div>\n",
       "<style scoped>\n",
       "    .dataframe tbody tr th:only-of-type {\n",
       "        vertical-align: middle;\n",
       "    }\n",
       "\n",
       "    .dataframe tbody tr th {\n",
       "        vertical-align: top;\n",
       "    }\n",
       "\n",
       "    .dataframe thead th {\n",
       "        text-align: right;\n",
       "    }\n",
       "</style>\n",
       "<table border=\"1\" class=\"dataframe\">\n",
       "  <thead>\n",
       "    <tr style=\"text-align: right;\">\n",
       "      <th></th>\n",
       "      <th>Item</th>\n",
       "      <th>Open</th>\n",
       "      <th>Close</th>\n",
       "      <th>Volume</th>\n",
       "    </tr>\n",
       "  </thead>\n",
       "  <tbody>\n",
       "    <tr>\n",
       "      <th>2511</th>\n",
       "      <td>2511</td>\n",
       "      <td>0.965300</td>\n",
       "      <td>0.970407</td>\n",
       "      <td>0.028681</td>\n",
       "    </tr>\n",
       "    <tr>\n",
       "      <th>2512</th>\n",
       "      <td>2512</td>\n",
       "      <td>0.986801</td>\n",
       "      <td>0.993302</td>\n",
       "      <td>0.094531</td>\n",
       "    </tr>\n",
       "    <tr>\n",
       "      <th>2513</th>\n",
       "      <td>2513</td>\n",
       "      <td>0.987735</td>\n",
       "      <td>0.967030</td>\n",
       "      <td>0.072583</td>\n",
       "    </tr>\n",
       "    <tr>\n",
       "      <th>2514</th>\n",
       "      <td>2514</td>\n",
       "      <td>0.968245</td>\n",
       "      <td>0.967067</td>\n",
       "      <td>0.032289</td>\n",
       "    </tr>\n",
       "    <tr>\n",
       "      <th>2515</th>\n",
       "      <td>2515</td>\n",
       "      <td>0.972779</td>\n",
       "      <td>0.965304</td>\n",
       "      <td>0.036922</td>\n",
       "    </tr>\n",
       "  </tbody>\n",
       "</table>\n",
       "</div>"
      ],
      "text/plain": [
       "      Item      Open     Close    Volume\n",
       "2511  2511  0.965300  0.970407  0.028681\n",
       "2512  2512  0.986801  0.993302  0.094531\n",
       "2513  2513  0.987735  0.967030  0.072583\n",
       "2514  2514  0.968245  0.967067  0.032289\n",
       "2515  2515  0.972779  0.965304  0.036922"
      ]
     },
     "metadata": {},
     "output_type": "display_data"
    }
   ],
   "source": [
    "stocks = pd.read_csv(processed_data_dir + '/{0}_processed.csv'.format(symbol))\n",
    "display(stocks.head())\n",
    "\n",
    "display(stocks.tail())"
   ]
  },
  {
   "cell_type": "code",
   "execution_count": 19,
   "metadata": {},
   "outputs": [
    {
     "name": "stdout",
     "output_type": "stream",
     "text": [
      "x_train (1610, 3)\n",
      "y_train (1610,)\n",
      "x_validation (402, 3)\n",
      "y_validation (402,)\n",
      "x_test (504, 3)\n",
      "y_test (504,)\n"
     ]
    },
    {
     "name": "stderr",
     "output_type": "stream",
     "text": [
      "/home/ec2-user/SageMaker/ML_Stock_Price_Prediction/src/processData.py:86: FutureWarning: Method .as_matrix will be removed in a future version. Use .values instead.\n",
      "  stock_matrix = stocks.as_matrix()\n"
     ]
    }
   ],
   "source": [
    "train_fraction = 0.8\n",
    "val_fraction = 0.2\n",
    "\n",
    "X_train, X_val, X_test, y_train, y_val, y_test = ppd.train_test_split(stocks, \n",
    "                                                                      train_fraction, \n",
    "                                                                      val_frac=val_fraction)\n",
    "\n",
    "print(\"x_train\", X_train.shape)\n",
    "print(\"y_train\", y_train.shape)\n",
    "print(\"x_validation\", X_val.shape)\n",
    "print(\"y_validation\", y_val.shape)\n",
    "print(\"x_test\", X_test.shape)\n",
    "print(\"y_test\", y_test.shape)"
   ]
  },
  {
   "cell_type": "code",
   "execution_count": 20,
   "metadata": {},
   "outputs": [],
   "source": [
    "X_test = pd.DataFrame(X_test)\n",
    "y_test = pd.DataFrame(y_test)\n",
    "X_test.to_csv(os.path.join(processed_data_dir, 'XGB_features_test.csv'), header=False, index=False)\n",
    "y_test.to_csv(os.path.join(processed_data_dir, 'XGB_labels_test.csv'), header=False, index=False)\n",
    "\n",
    "pd.concat([pd.DataFrame(y_val), pd.DataFrame(X_val)], axis=1).to_csv(os.path.join(processed_data_dir, 'XGB_validation.csv'), header=False, index=False)\n",
    "pd.concat([pd.DataFrame(y_train), pd.DataFrame(X_train)], axis=1).to_csv(os.path.join(processed_data_dir, 'XGB_train.csv'), header=False, index=False)"
   ]
  },
  {
   "cell_type": "code",
   "execution_count": 21,
   "metadata": {},
   "outputs": [],
   "source": [
    "prefix = 'stockPrices-xgboost'\n",
    "output_path = 's3://{}/{}/output'.format(bucket, prefix)\n",
    "\n",
    "test_location = sagemaker_session.upload_data(os.path.join(processed_data_dir, 'XGB_features_test.csv'), key_prefix=prefix)\n",
    "val_location = sagemaker_session.upload_data(os.path.join(processed_data_dir, 'XGB_validation.csv'), key_prefix=prefix)\n",
    "train_location = sagemaker_session.upload_data(os.path.join(processed_data_dir, 'XGB_train.csv'), key_prefix=prefix)"
   ]
  },
  {
   "cell_type": "code",
   "execution_count": 22,
   "metadata": {},
   "outputs": [
    {
     "name": "stderr",
     "output_type": "stream",
     "text": [
      "WARNING:root:There is a more up to date SageMaker XGBoost image.To use the newer image, please set 'repo_version'='0.90-1. For example:\n",
      "\tget_image_uri(region, 'xgboost', '0.90-1').\n"
     ]
    }
   ],
   "source": [
    "# As stated above, we use this utility method to construct the image name for the training container.\n",
    "container = get_image_uri(sagemaker_session.boto_region_name, 'xgboost')\n",
    "\n",
    "# Now that we know which container to use, we can construct the estimator object.\n",
    "xgb = sagemaker.estimator.Estimator(container,     # The name of the training container\n",
    "                                    role = role,             # The IAM role to use (our current role in this case)\n",
    "                                    train_instance_count=1,  # The number of instances to use for training\n",
    "                                    train_instance_type='ml.m4.xlarge', # The type of instance ot use for training\n",
    "                                    output_path= output_path,  # Where to save the output (the model artifacts)\n",
    "                                    sagemaker_session=sagemaker_session) # The current SageMaker session"
   ]
  },
  {
   "cell_type": "code",
   "execution_count": 24,
   "metadata": {},
   "outputs": [],
   "source": [
    "xgb.set_hyperparameters(base_score=0.5, \n",
    "                        booster='gbtree',\n",
    "                        max_depth=3,\n",
    "                        eta=0.1,\n",
    "                        gamma=0,\n",
    "                        alpha=0,\n",
    "                        min_child_weight=13,\n",
    "                        subsample=1.0,\n",
    "                        objective='reg:linear',\n",
    "                        early_stopping_rounds=10,\n",
    "                        num_round=1000)"
   ]
  },
  {
   "cell_type": "code",
   "execution_count": 25,
   "metadata": {},
   "outputs": [
    {
     "name": "stdout",
     "output_type": "stream",
     "text": [
      "2019-11-21 16:26:28 Starting - Starting the training job...\n",
      "2019-11-21 16:26:29 Starting - Launching requested ML instances...\n",
      "2019-11-21 16:27:24 Starting - Preparing the instances for training......\n",
      "2019-11-21 16:28:27 Downloading - Downloading input data......\n",
      "2019-11-21 16:29:23 Training - Training image download completed. Training in progress.\n",
      "2019-11-21 16:29:23 Uploading - Uploading generated training model\u001b[31mArguments: train\u001b[0m\n",
      "\u001b[31m[2019-11-21:16:29:18:INFO] Running standalone xgboost training.\u001b[0m\n",
      "\u001b[31m[2019-11-21:16:29:18:INFO] File size need to be processed in the node: 0.13mb. Available memory size in the node: 8600.49mb\u001b[0m\n",
      "\u001b[31m[2019-11-21:16:29:18:INFO] Determined delimiter of CSV input is ','\u001b[0m\n",
      "\u001b[31m[16:29:18] S3DistributionType set as FullyReplicated\u001b[0m\n",
      "\u001b[31m[16:29:18] 1610x3 matrix with 4830 entries loaded from /opt/ml/input/data/train?format=csv&label_column=0&delimiter=,\u001b[0m\n",
      "\u001b[31m[2019-11-21:16:29:18:INFO] Determined delimiter of CSV input is ','\u001b[0m\n",
      "\u001b[31m[16:29:18] S3DistributionType set as FullyReplicated\u001b[0m\n",
      "\u001b[31m[16:29:18] 402x3 matrix with 1206 entries loaded from /opt/ml/input/data/validation?format=csv&label_column=0&delimiter=,\u001b[0m\n",
      "\u001b[31m[16:29:18] src/tree/updater_prune.cc:74: tree pruning end, 1 roots, 14 extra nodes, 0 pruned nodes, max_depth=3\u001b[0m\n",
      "\u001b[31m[0]#011train-rmse:0.305087#011validation-rmse:0.118354\u001b[0m\n",
      "\u001b[31mMultiple eval metrics have been passed: 'validation-rmse' will be used for early stopping.\n",
      "\u001b[0m\n",
      "\u001b[31mWill train until validation-rmse hasn't improved in 10 rounds.\u001b[0m\n",
      "\u001b[31m[16:29:18] src/tree/updater_prune.cc:74: tree pruning end, 1 roots, 14 extra nodes, 0 pruned nodes, max_depth=3\u001b[0m\n",
      "\u001b[31m[1]#011train-rmse:0.274769#011validation-rmse:0.118644\u001b[0m\n",
      "\u001b[31m[16:29:18] src/tree/updater_prune.cc:74: tree pruning end, 1 roots, 14 extra nodes, 0 pruned nodes, max_depth=3\u001b[0m\n",
      "\u001b[31m[2]#011train-rmse:0.247463#011validation-rmse:0.119168\u001b[0m\n",
      "\u001b[31m[16:29:18] src/tree/updater_prune.cc:74: tree pruning end, 1 roots, 14 extra nodes, 0 pruned nodes, max_depth=3\u001b[0m\n",
      "\u001b[31m[3]#011train-rmse:0.22288#011validation-rmse:0.119072\u001b[0m\n",
      "\u001b[31m[16:29:18] src/tree/updater_prune.cc:74: tree pruning end, 1 roots, 14 extra nodes, 0 pruned nodes, max_depth=3\u001b[0m\n",
      "\u001b[31m[4]#011train-rmse:0.200755#011validation-rmse:0.11945\u001b[0m\n",
      "\u001b[31m[16:29:18] src/tree/updater_prune.cc:74: tree pruning end, 1 roots, 14 extra nodes, 0 pruned nodes, max_depth=3\u001b[0m\n",
      "\u001b[31m[5]#011train-rmse:0.180824#011validation-rmse:0.119057\u001b[0m\n",
      "\u001b[31m[16:29:18] src/tree/updater_prune.cc:74: tree pruning end, 1 roots, 14 extra nodes, 0 pruned nodes, max_depth=3\u001b[0m\n",
      "\u001b[31m[6]#011train-rmse:0.162879#011validation-rmse:0.11839\u001b[0m\n",
      "\u001b[31m[16:29:18] src/tree/updater_prune.cc:74: tree pruning end, 1 roots, 14 extra nodes, 0 pruned nodes, max_depth=3\u001b[0m\n",
      "\u001b[31m[7]#011train-rmse:0.146727#011validation-rmse:0.118606\u001b[0m\n",
      "\u001b[31m[16:29:18] src/tree/updater_prune.cc:74: tree pruning end, 1 roots, 14 extra nodes, 0 pruned nodes, max_depth=3\u001b[0m\n",
      "\u001b[31m[8]#011train-rmse:0.132177#011validation-rmse:0.118973\u001b[0m\n",
      "\u001b[31m[16:29:18] src/tree/updater_prune.cc:74: tree pruning end, 1 roots, 14 extra nodes, 0 pruned nodes, max_depth=3\u001b[0m\n",
      "\u001b[31m[9]#011train-rmse:0.119079#011validation-rmse:0.118174\u001b[0m\n",
      "\u001b[31m[16:29:18] src/tree/updater_prune.cc:74: tree pruning end, 1 roots, 14 extra nodes, 0 pruned nodes, max_depth=3\u001b[0m\n",
      "\u001b[31m[10]#011train-rmse:0.10728#011validation-rmse:0.117802\u001b[0m\n",
      "\u001b[31m[16:29:18] src/tree/updater_prune.cc:74: tree pruning end, 1 roots, 14 extra nodes, 0 pruned nodes, max_depth=3\u001b[0m\n",
      "\u001b[31m[11]#011train-rmse:0.096652#011validation-rmse:0.118049\u001b[0m\n",
      "\u001b[31m[16:29:18] src/tree/updater_prune.cc:74: tree pruning end, 1 roots, 14 extra nodes, 0 pruned nodes, max_depth=3\u001b[0m\n",
      "\u001b[31m[12]#011train-rmse:0.087087#011validation-rmse:0.118139\u001b[0m\n",
      "\u001b[31m[16:29:18] src/tree/updater_prune.cc:74: tree pruning end, 1 roots, 14 extra nodes, 0 pruned nodes, max_depth=3\u001b[0m\n",
      "\u001b[31m[13]#011train-rmse:0.078469#011validation-rmse:0.117436\u001b[0m\n",
      "\u001b[31m[16:29:18] src/tree/updater_prune.cc:74: tree pruning end, 1 roots, 14 extra nodes, 0 pruned nodes, max_depth=3\u001b[0m\n",
      "\u001b[31m[14]#011train-rmse:0.070714#011validation-rmse:0.117147\u001b[0m\n",
      "\u001b[31m[16:29:18] src/tree/updater_prune.cc:74: tree pruning end, 1 roots, 14 extra nodes, 0 pruned nodes, max_depth=3\u001b[0m\n",
      "\u001b[31m[15]#011train-rmse:0.063729#011validation-rmse:0.116225\u001b[0m\n",
      "\u001b[31m[16:29:18] src/tree/updater_prune.cc:74: tree pruning end, 1 roots, 14 extra nodes, 0 pruned nodes, max_depth=3\u001b[0m\n",
      "\u001b[31m[16]#011train-rmse:0.05744#011validation-rmse:0.115282\u001b[0m\n",
      "\u001b[31m[16:29:18] src/tree/updater_prune.cc:74: tree pruning end, 1 roots, 14 extra nodes, 0 pruned nodes, max_depth=3\u001b[0m\n",
      "\u001b[31m[17]#011train-rmse:0.051783#011validation-rmse:0.11538\u001b[0m\n",
      "\u001b[31m[16:29:18] src/tree/updater_prune.cc:74: tree pruning end, 1 roots, 14 extra nodes, 0 pruned nodes, max_depth=3\u001b[0m\n",
      "\u001b[31m[18]#011train-rmse:0.046689#011validation-rmse:0.114734\u001b[0m\n",
      "\u001b[31m[16:29:18] src/tree/updater_prune.cc:74: tree pruning end, 1 roots, 14 extra nodes, 0 pruned nodes, max_depth=3\u001b[0m\n",
      "\u001b[31m[19]#011train-rmse:0.042105#011validation-rmse:0.114243\u001b[0m\n",
      "\u001b[31m[16:29:18] src/tree/updater_prune.cc:74: tree pruning end, 1 roots, 14 extra nodes, 0 pruned nodes, max_depth=3\u001b[0m\n",
      "\u001b[31m[20]#011train-rmse:0.037982#011validation-rmse:0.113991\u001b[0m\n",
      "\u001b[31m[16:29:18] src/tree/updater_prune.cc:74: tree pruning end, 1 roots, 14 extra nodes, 0 pruned nodes, max_depth=3\u001b[0m\n",
      "\u001b[31m[21]#011train-rmse:0.034272#011validation-rmse:0.113269\u001b[0m\n",
      "\u001b[31m[16:29:18] src/tree/updater_prune.cc:74: tree pruning end, 1 roots, 14 extra nodes, 0 pruned nodes, max_depth=3\u001b[0m\n",
      "\u001b[31m[22]#011train-rmse:0.030938#011validation-rmse:0.112906\u001b[0m\n",
      "\u001b[31m[16:29:18] src/tree/updater_prune.cc:74: tree pruning end, 1 roots, 14 extra nodes, 0 pruned nodes, max_depth=3\u001b[0m\n",
      "\u001b[31m[23]#011train-rmse:0.027941#011validation-rmse:0.112291\u001b[0m\n",
      "\u001b[31m[16:29:18] src/tree/updater_prune.cc:74: tree pruning end, 1 roots, 14 extra nodes, 0 pruned nodes, max_depth=3\u001b[0m\n",
      "\u001b[31m[24]#011train-rmse:0.025248#011validation-rmse:0.111738\u001b[0m\n",
      "\u001b[31m[16:29:18] src/tree/updater_prune.cc:74: tree pruning end, 1 roots, 14 extra nodes, 0 pruned nodes, max_depth=3\u001b[0m\n",
      "\u001b[31m[25]#011train-rmse:0.022828#011validation-rmse:0.111348\u001b[0m\n",
      "\u001b[31m[16:29:18] src/tree/updater_prune.cc:74: tree pruning end, 1 roots, 14 extra nodes, 0 pruned nodes, max_depth=3\u001b[0m\n",
      "\u001b[31m[26]#011train-rmse:0.020658#011validation-rmse:0.110874\u001b[0m\n",
      "\u001b[31m[16:29:18] src/tree/updater_prune.cc:74: tree pruning end, 1 roots, 14 extra nodes, 0 pruned nodes, max_depth=3\u001b[0m\n",
      "\u001b[31m[27]#011train-rmse:0.01871#011validation-rmse:0.110666\u001b[0m\n",
      "\u001b[31m[16:29:18] src/tree/updater_prune.cc:74: tree pruning end, 1 roots, 14 extra nodes, 0 pruned nodes, max_depth=3\u001b[0m\n",
      "\u001b[31m[28]#011train-rmse:0.016966#011validation-rmse:0.110259\u001b[0m\n",
      "\u001b[31m[16:29:18] src/tree/updater_prune.cc:74: tree pruning end, 1 roots, 14 extra nodes, 0 pruned nodes, max_depth=3\u001b[0m\n",
      "\u001b[31m[29]#011train-rmse:0.015406#011validation-rmse:0.110147\u001b[0m\n",
      "\u001b[31m[16:29:18] src/tree/updater_prune.cc:74: tree pruning end, 1 roots, 14 extra nodes, 0 pruned nodes, max_depth=3\u001b[0m\n",
      "\u001b[31m[30]#011train-rmse:0.014012#011validation-rmse:0.109791\u001b[0m\n",
      "\u001b[31m[16:29:18] src/tree/updater_prune.cc:74: tree pruning end, 1 roots, 14 extra nodes, 0 pruned nodes, max_depth=3\u001b[0m\n",
      "\u001b[31m[31]#011train-rmse:0.012768#011validation-rmse:0.109595\u001b[0m\n",
      "\u001b[31m[16:29:18] src/tree/updater_prune.cc:74: tree pruning end, 1 roots, 14 extra nodes, 0 pruned nodes, max_depth=3\u001b[0m\n",
      "\u001b[31m[32]#011train-rmse:0.01166#011validation-rmse:0.109454\u001b[0m\n",
      "\u001b[31m[16:29:18] src/tree/updater_prune.cc:74: tree pruning end, 1 roots, 14 extra nodes, 0 pruned nodes, max_depth=3\u001b[0m\n",
      "\u001b[31m[33]#011train-rmse:0.010677#011validation-rmse:0.109385\u001b[0m\n",
      "\u001b[31m[16:29:18] src/tree/updater_prune.cc:74: tree pruning end, 1 roots, 14 extra nodes, 0 pruned nodes, max_depth=3\u001b[0m\n",
      "\u001b[31m[34]#011train-rmse:0.009804#011validation-rmse:0.109232\u001b[0m\n",
      "\u001b[31m[16:29:18] src/tree/updater_prune.cc:74: tree pruning end, 1 roots, 14 extra nodes, 0 pruned nodes, max_depth=3\u001b[0m\n",
      "\u001b[31m[35]#011train-rmse:0.009034#011validation-rmse:0.108901\u001b[0m\n",
      "\u001b[31m[16:29:18] src/tree/updater_prune.cc:74: tree pruning end, 1 roots, 14 extra nodes, 0 pruned nodes, max_depth=3\u001b[0m\n",
      "\u001b[31m[36]#011train-rmse:0.008357#011validation-rmse:0.108837\u001b[0m\n",
      "\u001b[31m[16:29:18] src/tree/updater_prune.cc:74: tree pruning end, 1 roots, 14 extra nodes, 0 pruned nodes, max_depth=3\u001b[0m\n",
      "\u001b[31m[37]#011train-rmse:0.007761#011validation-rmse:0.108683\u001b[0m\n",
      "\u001b[31m[16:29:18] src/tree/updater_prune.cc:74: tree pruning end, 1 roots, 14 extra nodes, 0 pruned nodes, max_depth=3\u001b[0m\n",
      "\u001b[31m[38]#011train-rmse:0.007242#011validation-rmse:0.108563\u001b[0m\n",
      "\u001b[31m[16:29:18] src/tree/updater_prune.cc:74: tree pruning end, 1 roots, 14 extra nodes, 0 pruned nodes, max_depth=3\u001b[0m\n",
      "\u001b[31m[39]#011train-rmse:0.00679#011validation-rmse:0.108434\u001b[0m\n",
      "\u001b[31m[16:29:18] src/tree/updater_prune.cc:74: tree pruning end, 1 roots, 14 extra nodes, 0 pruned nodes, max_depth=3\u001b[0m\n",
      "\u001b[31m[40]#011train-rmse:0.006396#011validation-rmse:0.108152\u001b[0m\n",
      "\u001b[31m[16:29:18] src/tree/updater_prune.cc:74: tree pruning end, 1 roots, 14 extra nodes, 0 pruned nodes, max_depth=3\u001b[0m\n",
      "\u001b[31m[41]#011train-rmse:0.006058#011validation-rmse:0.108231\u001b[0m\n",
      "\u001b[31m[16:29:18] src/tree/updater_prune.cc:74: tree pruning end, 1 roots, 14 extra nodes, 0 pruned nodes, max_depth=3\u001b[0m\n",
      "\u001b[31m[42]#011train-rmse:0.005767#011validation-rmse:0.107964\u001b[0m\n",
      "\u001b[31m[16:29:18] src/tree/updater_prune.cc:74: tree pruning end, 1 roots, 14 extra nodes, 0 pruned nodes, max_depth=3\u001b[0m\n",
      "\u001b[31m[43]#011train-rmse:0.005517#011validation-rmse:0.108048\u001b[0m\n",
      "\u001b[31m[16:29:18] src/tree/updater_prune.cc:74: tree pruning end, 1 roots, 14 extra nodes, 0 pruned nodes, max_depth=3\u001b[0m\n",
      "\u001b[31m[44]#011train-rmse:0.005303#011validation-rmse:0.108047\u001b[0m\n",
      "\u001b[31m[16:29:18] src/tree/updater_prune.cc:74: tree pruning end, 1 roots, 12 extra nodes, 0 pruned nodes, max_depth=3\u001b[0m\n",
      "\u001b[31m[45]#011train-rmse:0.005123#011validation-rmse:0.107818\u001b[0m\n",
      "\u001b[31m[16:29:18] src/tree/updater_prune.cc:74: tree pruning end, 1 roots, 14 extra nodes, 0 pruned nodes, max_depth=3\u001b[0m\n",
      "\u001b[31m[46]#011train-rmse:0.004971#011validation-rmse:0.107611\u001b[0m\n",
      "\u001b[31m[16:29:18] src/tree/updater_prune.cc:74: tree pruning end, 1 roots, 14 extra nodes, 0 pruned nodes, max_depth=3\u001b[0m\n",
      "\u001b[31m[47]#011train-rmse:0.004841#011validation-rmse:0.107613\u001b[0m\n",
      "\u001b[31m[16:29:18] src/tree/updater_prune.cc:74: tree pruning end, 1 roots, 12 extra nodes, 0 pruned nodes, max_depth=3\u001b[0m\n",
      "\u001b[31m[48]#011train-rmse:0.004732#011validation-rmse:0.107532\u001b[0m\n",
      "\u001b[31m[16:29:18] src/tree/updater_prune.cc:74: tree pruning end, 1 roots, 12 extra nodes, 0 pruned nodes, max_depth=3\u001b[0m\n",
      "\u001b[31m[49]#011train-rmse:0.004642#011validation-rmse:0.107346\u001b[0m\n",
      "\u001b[31m[16:29:18] src/tree/updater_prune.cc:74: tree pruning end, 1 roots, 12 extra nodes, 0 pruned nodes, max_depth=3\u001b[0m\n",
      "\u001b[31m[50]#011train-rmse:0.004566#011validation-rmse:0.107139\u001b[0m\n",
      "\u001b[31m[16:29:18] src/tree/updater_prune.cc:74: tree pruning end, 1 roots, 14 extra nodes, 0 pruned nodes, max_depth=3\u001b[0m\n",
      "\u001b[31m[51]#011train-rmse:0.004501#011validation-rmse:0.107078\u001b[0m\n",
      "\u001b[31m[16:29:18] src/tree/updater_prune.cc:74: tree pruning end, 1 roots, 12 extra nodes, 0 pruned nodes, max_depth=3\u001b[0m\n",
      "\u001b[31m[52]#011train-rmse:0.004448#011validation-rmse:0.106924\u001b[0m\n",
      "\u001b[31m[16:29:18] src/tree/updater_prune.cc:74: tree pruning end, 1 roots, 14 extra nodes, 0 pruned nodes, max_depth=3\u001b[0m\n",
      "\u001b[31m[53]#011train-rmse:0.004403#011validation-rmse:0.106857\u001b[0m\n",
      "\u001b[31m[16:29:18] src/tree/updater_prune.cc:74: tree pruning end, 1 roots, 14 extra nodes, 0 pruned nodes, max_depth=3\u001b[0m\n",
      "\u001b[31m[54]#011train-rmse:0.004366#011validation-rmse:0.106722\u001b[0m\n",
      "\u001b[31m[16:29:18] src/tree/updater_prune.cc:74: tree pruning end, 1 roots, 12 extra nodes, 0 pruned nodes, max_depth=3\u001b[0m\n",
      "\u001b[31m[55]#011train-rmse:0.004334#011validation-rmse:0.106663\u001b[0m\n",
      "\u001b[31m[16:29:18] src/tree/updater_prune.cc:74: tree pruning end, 1 roots, 14 extra nodes, 0 pruned nodes, max_depth=3\u001b[0m\n",
      "\u001b[31m[56]#011train-rmse:0.004306#011validation-rmse:0.106578\u001b[0m\n",
      "\u001b[31m[16:29:18] src/tree/updater_prune.cc:74: tree pruning end, 1 roots, 12 extra nodes, 0 pruned nodes, max_depth=3\u001b[0m\n",
      "\u001b[31m[57]#011train-rmse:0.004284#011validation-rmse:0.106459\u001b[0m\n",
      "\u001b[31m[16:29:18] src/tree/updater_prune.cc:74: tree pruning end, 1 roots, 10 extra nodes, 0 pruned nodes, max_depth=3\u001b[0m\n",
      "\u001b[31m[58]#011train-rmse:0.004266#011validation-rmse:0.106464\u001b[0m\n",
      "\u001b[31m[16:29:18] src/tree/updater_prune.cc:74: tree pruning end, 1 roots, 12 extra nodes, 0 pruned nodes, max_depth=3\u001b[0m\n",
      "\u001b[31m[59]#011train-rmse:0.004246#011validation-rmse:0.106413\u001b[0m\n",
      "\u001b[31m[16:29:18] src/tree/updater_prune.cc:74: tree pruning end, 1 roots, 12 extra nodes, 0 pruned nodes, max_depth=3\u001b[0m\n",
      "\u001b[31m[60]#011train-rmse:0.004231#011validation-rmse:0.106418\u001b[0m\n",
      "\u001b[31m[16:29:18] src/tree/updater_prune.cc:74: tree pruning end, 1 roots, 10 extra nodes, 0 pruned nodes, max_depth=3\u001b[0m\n",
      "\u001b[31m[61]#011train-rmse:0.00422#011validation-rmse:0.106308\u001b[0m\n",
      "\u001b[31m[16:29:18] src/tree/updater_prune.cc:74: tree pruning end, 1 roots, 10 extra nodes, 0 pruned nodes, max_depth=3\u001b[0m\n",
      "\u001b[31m[62]#011train-rmse:0.00421#011validation-rmse:0.10618\u001b[0m\n",
      "\u001b[31m[16:29:18] src/tree/updater_prune.cc:74: tree pruning end, 1 roots, 14 extra nodes, 0 pruned nodes, max_depth=3\u001b[0m\n",
      "\u001b[31m[63]#011train-rmse:0.004199#011validation-rmse:0.106194\u001b[0m\n",
      "\u001b[31m[16:29:18] src/tree/updater_prune.cc:74: tree pruning end, 1 roots, 14 extra nodes, 0 pruned nodes, max_depth=3\u001b[0m\n",
      "\u001b[31m[64]#011train-rmse:0.004187#011validation-rmse:0.106189\u001b[0m\n",
      "\u001b[31m[16:29:18] src/tree/updater_prune.cc:74: tree pruning end, 1 roots, 10 extra nodes, 0 pruned nodes, max_depth=3\u001b[0m\n",
      "\u001b[31m[65]#011train-rmse:0.004181#011validation-rmse:0.106152\u001b[0m\n",
      "\u001b[31m[16:29:18] src/tree/updater_prune.cc:74: tree pruning end, 1 roots, 14 extra nodes, 0 pruned nodes, max_depth=3\u001b[0m\n",
      "\u001b[31m[66]#011train-rmse:0.004166#011validation-rmse:0.106138\u001b[0m\n",
      "\u001b[31m[16:29:18] src/tree/updater_prune.cc:74: tree pruning end, 1 roots, 12 extra nodes, 0 pruned nodes, max_depth=3\u001b[0m\n",
      "\u001b[31m[67]#011train-rmse:0.004161#011validation-rmse:0.106149\u001b[0m\n",
      "\u001b[31m[16:29:18] src/tree/updater_prune.cc:74: tree pruning end, 1 roots, 12 extra nodes, 0 pruned nodes, max_depth=3\u001b[0m\n",
      "\u001b[31m[68]#011train-rmse:0.004145#011validation-rmse:0.106106\u001b[0m\n",
      "\u001b[31m[16:29:18] src/tree/updater_prune.cc:74: tree pruning end, 1 roots, 8 extra nodes, 0 pruned nodes, max_depth=3\u001b[0m\n",
      "\u001b[31m[69]#011train-rmse:0.004141#011validation-rmse:0.106013\u001b[0m\n",
      "\u001b[31m[16:29:18] src/tree/updater_prune.cc:74: tree pruning end, 1 roots, 10 extra nodes, 0 pruned nodes, max_depth=3\u001b[0m\n",
      "\u001b[31m[70]#011train-rmse:0.004137#011validation-rmse:0.105978\u001b[0m\n",
      "\u001b[31m[16:29:18] src/tree/updater_prune.cc:74: tree pruning end, 1 roots, 14 extra nodes, 0 pruned nodes, max_depth=3\u001b[0m\n",
      "\u001b[31m[71]#011train-rmse:0.004128#011validation-rmse:0.105961\u001b[0m\n",
      "\u001b[31m[16:29:18] src/tree/updater_prune.cc:74: tree pruning end, 1 roots, 14 extra nodes, 0 pruned nodes, max_depth=3\u001b[0m\n",
      "\u001b[31m[72]#011train-rmse:0.004116#011validation-rmse:0.106016\u001b[0m\n",
      "\u001b[31m[16:29:18] src/tree/updater_prune.cc:74: tree pruning end, 1 roots, 6 extra nodes, 0 pruned nodes, max_depth=3\u001b[0m\n",
      "\u001b[31m[73]#011train-rmse:0.004113#011validation-rmse:0.106018\u001b[0m\n",
      "\u001b[31m[16:29:18] src/tree/updater_prune.cc:74: tree pruning end, 1 roots, 12 extra nodes, 0 pruned nodes, max_depth=3\u001b[0m\n",
      "\u001b[31m[74]#011train-rmse:0.004105#011validation-rmse:0.106029\u001b[0m\n",
      "\u001b[31m[16:29:18] src/tree/updater_prune.cc:74: tree pruning end, 1 roots, 8 extra nodes, 0 pruned nodes, max_depth=3\u001b[0m\n",
      "\u001b[31m[75]#011train-rmse:0.0041#011validation-rmse:0.105982\u001b[0m\n",
      "\u001b[31m[16:29:18] src/tree/updater_prune.cc:74: tree pruning end, 1 roots, 6 extra nodes, 0 pruned nodes, max_depth=3\u001b[0m\n",
      "\u001b[31m[76]#011train-rmse:0.004098#011validation-rmse:0.105989\u001b[0m\n",
      "\u001b[31m[16:29:18] src/tree/updater_prune.cc:74: tree pruning end, 1 roots, 14 extra nodes, 0 pruned nodes, max_depth=3\u001b[0m\n",
      "\u001b[31m[77]#011train-rmse:0.004094#011validation-rmse:0.105989\u001b[0m\n",
      "\u001b[31m[16:29:18] src/tree/updater_prune.cc:74: tree pruning end, 1 roots, 8 extra nodes, 0 pruned nodes, max_depth=3\u001b[0m\n",
      "\u001b[31m[78]#011train-rmse:0.004091#011validation-rmse:0.105914\u001b[0m\n",
      "\u001b[31m[16:29:18] src/tree/updater_prune.cc:74: tree pruning end, 1 roots, 8 extra nodes, 0 pruned nodes, max_depth=3\u001b[0m\n",
      "\u001b[31m[79]#011train-rmse:0.004086#011validation-rmse:0.105873\u001b[0m\n",
      "\u001b[31m[16:29:18] src/tree/updater_prune.cc:74: tree pruning end, 1 roots, 8 extra nodes, 0 pruned nodes, max_depth=3\u001b[0m\n",
      "\u001b[31m[80]#011train-rmse:0.004082#011validation-rmse:0.105797\u001b[0m\n",
      "\u001b[31m[16:29:18] src/tree/updater_prune.cc:74: tree pruning end, 1 roots, 8 extra nodes, 0 pruned nodes, max_depth=3\u001b[0m\n",
      "\u001b[31m[81]#011train-rmse:0.004077#011validation-rmse:0.10576\u001b[0m\n",
      "\u001b[31m[16:29:18] src/tree/updater_prune.cc:74: tree pruning end, 1 roots, 8 extra nodes, 0 pruned nodes, max_depth=3\u001b[0m\n",
      "\u001b[31m[82]#011train-rmse:0.004075#011validation-rmse:0.105684\u001b[0m\n",
      "\u001b[31m[16:29:18] src/tree/updater_prune.cc:74: tree pruning end, 1 roots, 8 extra nodes, 0 pruned nodes, max_depth=3\u001b[0m\n",
      "\u001b[31m[83]#011train-rmse:0.004072#011validation-rmse:0.105684\u001b[0m\n",
      "\u001b[31m[16:29:18] src/tree/updater_prune.cc:74: tree pruning end, 1 roots, 8 extra nodes, 0 pruned nodes, max_depth=3\u001b[0m\n",
      "\u001b[31m[84]#011train-rmse:0.004068#011validation-rmse:0.10565\u001b[0m\n",
      "\u001b[31m[16:29:18] src/tree/updater_prune.cc:74: tree pruning end, 1 roots, 6 extra nodes, 0 pruned nodes, max_depth=3\u001b[0m\n",
      "\u001b[31m[85]#011train-rmse:0.004066#011validation-rmse:0.105653\u001b[0m\n",
      "\u001b[31m[16:29:18] src/tree/updater_prune.cc:74: tree pruning end, 1 roots, 8 extra nodes, 0 pruned nodes, max_depth=3\u001b[0m\n",
      "\u001b[31m[86]#011train-rmse:0.004063#011validation-rmse:0.105655\u001b[0m\n",
      "\u001b[31m[16:29:18] src/tree/updater_prune.cc:74: tree pruning end, 1 roots, 12 extra nodes, 0 pruned nodes, max_depth=3\u001b[0m\n",
      "\u001b[31m[87]#011train-rmse:0.00406#011validation-rmse:0.105603\u001b[0m\n",
      "\u001b[31m[16:29:18] src/tree/updater_prune.cc:74: tree pruning end, 1 roots, 10 extra nodes, 0 pruned nodes, max_depth=3\u001b[0m\n",
      "\u001b[31m[88]#011train-rmse:0.004055#011validation-rmse:0.105511\u001b[0m\n",
      "\u001b[31m[16:29:18] src/tree/updater_prune.cc:74: tree pruning end, 1 roots, 8 extra nodes, 0 pruned nodes, max_depth=3\u001b[0m\n",
      "\u001b[31m[89]#011train-rmse:0.004052#011validation-rmse:0.105512\u001b[0m\n",
      "\u001b[31m[16:29:18] src/tree/updater_prune.cc:74: tree pruning end, 1 roots, 8 extra nodes, 0 pruned nodes, max_depth=3\u001b[0m\n",
      "\u001b[31m[90]#011train-rmse:0.004048#011validation-rmse:0.105481\u001b[0m\n",
      "\u001b[31m[16:29:18] src/tree/updater_prune.cc:74: tree pruning end, 1 roots, 8 extra nodes, 0 pruned nodes, max_depth=3\u001b[0m\n",
      "\u001b[31m[91]#011train-rmse:0.004046#011validation-rmse:0.105415\u001b[0m\n",
      "\u001b[31m[16:29:18] src/tree/updater_prune.cc:74: tree pruning end, 1 roots, 12 extra nodes, 0 pruned nodes, max_depth=3\u001b[0m\n",
      "\u001b[31m[92]#011train-rmse:0.004038#011validation-rmse:0.105351\u001b[0m\n",
      "\u001b[31m[16:29:18] src/tree/updater_prune.cc:74: tree pruning end, 1 roots, 8 extra nodes, 0 pruned nodes, max_depth=3\u001b[0m\n",
      "\u001b[31m[93]#011train-rmse:0.004036#011validation-rmse:0.105352\u001b[0m\n",
      "\u001b[31m[16:29:18] src/tree/updater_prune.cc:74: tree pruning end, 1 roots, 8 extra nodes, 0 pruned nodes, max_depth=3\u001b[0m\n",
      "\u001b[31m[94]#011train-rmse:0.004034#011validation-rmse:0.105328\u001b[0m\n",
      "\u001b[31m[16:29:18] src/tree/updater_prune.cc:74: tree pruning end, 1 roots, 12 extra nodes, 0 pruned nodes, max_depth=3\u001b[0m\n",
      "\u001b[31m[95]#011train-rmse:0.004028#011validation-rmse:0.105338\u001b[0m\n",
      "\u001b[31m[16:29:18] src/tree/updater_prune.cc:74: tree pruning end, 1 roots, 8 extra nodes, 0 pruned nodes, max_depth=3\u001b[0m\n",
      "\u001b[31m[96]#011train-rmse:0.004025#011validation-rmse:0.105337\u001b[0m\n",
      "\u001b[31m[16:29:18] src/tree/updater_prune.cc:74: tree pruning end, 1 roots, 8 extra nodes, 0 pruned nodes, max_depth=3\u001b[0m\n",
      "\u001b[31m[97]#011train-rmse:0.004022#011validation-rmse:0.10531\u001b[0m\n",
      "\u001b[31m[16:29:18] src/tree/updater_prune.cc:74: tree pruning end, 1 roots, 8 extra nodes, 0 pruned nodes, max_depth=3\u001b[0m\n",
      "\u001b[31m[98]#011train-rmse:0.00402#011validation-rmse:0.105253\u001b[0m\n",
      "\u001b[31m[16:29:18] src/tree/updater_prune.cc:74: tree pruning end, 1 roots, 12 extra nodes, 0 pruned nodes, max_depth=3\u001b[0m\n",
      "\u001b[31m[99]#011train-rmse:0.004016#011validation-rmse:0.105175\u001b[0m\n",
      "\u001b[31m[16:29:18] src/tree/updater_prune.cc:74: tree pruning end, 1 roots, 12 extra nodes, 0 pruned nodes, max_depth=3\u001b[0m\n",
      "\u001b[31m[100]#011train-rmse:0.004005#011validation-rmse:0.105158\u001b[0m\n",
      "\u001b[31m[16:29:18] src/tree/updater_prune.cc:74: tree pruning end, 1 roots, 10 extra nodes, 0 pruned nodes, max_depth=3\u001b[0m\n",
      "\u001b[31m[101]#011train-rmse:0.004003#011validation-rmse:0.105154\u001b[0m\n",
      "\u001b[31m[16:29:18] src/tree/updater_prune.cc:74: tree pruning end, 1 roots, 14 extra nodes, 0 pruned nodes, max_depth=3\u001b[0m\n",
      "\u001b[31m[102]#011train-rmse:0.003998#011validation-rmse:0.105147\u001b[0m\n",
      "\u001b[31m[16:29:18] src/tree/updater_prune.cc:74: tree pruning end, 1 roots, 8 extra nodes, 0 pruned nodes, max_depth=3\u001b[0m\n",
      "\u001b[31m[103]#011train-rmse:0.003996#011validation-rmse:0.105147\u001b[0m\n",
      "\u001b[31m[16:29:18] src/tree/updater_prune.cc:74: tree pruning end, 1 roots, 8 extra nodes, 0 pruned nodes, max_depth=3\u001b[0m\n",
      "\u001b[31m[104]#011train-rmse:0.003993#011validation-rmse:0.105256\u001b[0m\n",
      "\u001b[31m[16:29:18] src/tree/updater_prune.cc:74: tree pruning end, 1 roots, 8 extra nodes, 0 pruned nodes, max_depth=3\u001b[0m\n",
      "\u001b[31m[105]#011train-rmse:0.003991#011validation-rmse:0.105205\u001b[0m\n",
      "\u001b[31m[16:29:18] src/tree/updater_prune.cc:74: tree pruning end, 1 roots, 12 extra nodes, 0 pruned nodes, max_depth=3\u001b[0m\n",
      "\u001b[31m[106]#011train-rmse:0.003987#011validation-rmse:0.105124\u001b[0m\n",
      "\u001b[31m[16:29:18] src/tree/updater_prune.cc:74: tree pruning end, 1 roots, 12 extra nodes, 0 pruned nodes, max_depth=3\u001b[0m\n",
      "\u001b[31m[107]#011train-rmse:0.003985#011validation-rmse:0.105122\u001b[0m\n",
      "\u001b[31m[16:29:18] src/tree/updater_prune.cc:74: tree pruning end, 1 roots, 14 extra nodes, 0 pruned nodes, max_depth=3\u001b[0m\n",
      "\u001b[31m[108]#011train-rmse:0.003981#011validation-rmse:0.105117\u001b[0m\n",
      "\u001b[31m[16:29:18] src/tree/updater_prune.cc:74: tree pruning end, 1 roots, 8 extra nodes, 0 pruned nodes, max_depth=3\u001b[0m\n",
      "\u001b[31m[109]#011train-rmse:0.003978#011validation-rmse:0.105093\u001b[0m\n",
      "\u001b[31m[16:29:18] src/tree/updater_prune.cc:74: tree pruning end, 1 roots, 12 extra nodes, 0 pruned nodes, max_depth=3\u001b[0m\n",
      "\u001b[31m[110]#011train-rmse:0.003971#011validation-rmse:0.105078\u001b[0m\n",
      "\u001b[31m[16:29:18] src/tree/updater_prune.cc:74: tree pruning end, 1 roots, 8 extra nodes, 0 pruned nodes, max_depth=3\u001b[0m\n",
      "\u001b[31m[111]#011train-rmse:0.003969#011validation-rmse:0.105077\u001b[0m\n",
      "\u001b[31m[16:29:18] src/tree/updater_prune.cc:74: tree pruning end, 1 roots, 8 extra nodes, 0 pruned nodes, max_depth=3\u001b[0m\n",
      "\u001b[31m[112]#011train-rmse:0.003967#011validation-rmse:0.105077\u001b[0m\n",
      "\u001b[31m[16:29:18] src/tree/updater_prune.cc:74: tree pruning end, 1 roots, 8 extra nodes, 0 pruned nodes, max_depth=3\u001b[0m\n",
      "\u001b[31m[113]#011train-rmse:0.003966#011validation-rmse:0.105029\u001b[0m\n",
      "\u001b[31m[16:29:18] src/tree/updater_prune.cc:74: tree pruning end, 1 roots, 12 extra nodes, 0 pruned nodes, max_depth=3\u001b[0m\n",
      "\u001b[31m[114]#011train-rmse:0.003961#011validation-rmse:0.104952\u001b[0m\n",
      "\u001b[31m[16:29:18] src/tree/updater_prune.cc:74: tree pruning end, 1 roots, 8 extra nodes, 0 pruned nodes, max_depth=3\u001b[0m\n",
      "\u001b[31m[115]#011train-rmse:0.003959#011validation-rmse:0.104954\u001b[0m\n",
      "\u001b[31m[16:29:18] src/tree/updater_prune.cc:74: tree pruning end, 1 roots, 8 extra nodes, 0 pruned nodes, max_depth=3\u001b[0m\n",
      "\u001b[31m[116]#011train-rmse:0.003956#011validation-rmse:0.105055\u001b[0m\n",
      "\u001b[31m[16:29:18] src/tree/updater_prune.cc:74: tree pruning end, 1 roots, 8 extra nodes, 0 pruned nodes, max_depth=3\u001b[0m\n",
      "\u001b[31m[117]#011train-rmse:0.003955#011validation-rmse:0.105005\u001b[0m\n",
      "\u001b[31m[16:29:18] src/tree/updater_prune.cc:74: tree pruning end, 1 roots, 12 extra nodes, 0 pruned nodes, max_depth=3\u001b[0m\n",
      "\u001b[31m[118]#011train-rmse:0.003951#011validation-rmse:0.104928\u001b[0m\n",
      "\u001b[31m[16:29:18] src/tree/updater_prune.cc:74: tree pruning end, 1 roots, 8 extra nodes, 0 pruned nodes, max_depth=3\u001b[0m\n",
      "\u001b[31m[119]#011train-rmse:0.003949#011validation-rmse:0.105022\u001b[0m\n",
      "\u001b[31m[16:29:18] src/tree/updater_prune.cc:74: tree pruning end, 1 roots, 6 extra nodes, 0 pruned nodes, max_depth=3\u001b[0m\n",
      "\u001b[31m[120]#011train-rmse:0.003947#011validation-rmse:0.104955\u001b[0m\n",
      "\u001b[31m[16:29:18] src/tree/updater_prune.cc:74: tree pruning end, 1 roots, 10 extra nodes, 0 pruned nodes, max_depth=3\u001b[0m\n",
      "\u001b[31m[121]#011train-rmse:0.003945#011validation-rmse:0.104958\u001b[0m\n",
      "\u001b[31m[16:29:18] src/tree/updater_prune.cc:74: tree pruning end, 1 roots, 12 extra nodes, 0 pruned nodes, max_depth=3\u001b[0m\n",
      "\u001b[31m[122]#011train-rmse:0.003939#011validation-rmse:0.104947\u001b[0m\n",
      "\u001b[31m[16:29:18] src/tree/updater_prune.cc:74: tree pruning end, 1 roots, 8 extra nodes, 0 pruned nodes, max_depth=3\u001b[0m\n",
      "\u001b[31m[123]#011train-rmse:0.003937#011validation-rmse:0.104948\u001b[0m\n",
      "\u001b[31m[16:29:18] src/tree/updater_prune.cc:74: tree pruning end, 1 roots, 8 extra nodes, 0 pruned nodes, max_depth=3\u001b[0m\n",
      "\u001b[31m[124]#011train-rmse:0.003935#011validation-rmse:0.104948\u001b[0m\n",
      "\u001b[31m[16:29:18] src/tree/updater_prune.cc:74: tree pruning end, 1 roots, 8 extra nodes, 0 pruned nodes, max_depth=3\u001b[0m\n",
      "\u001b[31m[125]#011train-rmse:0.003933#011validation-rmse:0.104948\u001b[0m\n",
      "\u001b[31m[16:29:18] src/tree/updater_prune.cc:74: tree pruning end, 1 roots, 8 extra nodes, 0 pruned nodes, max_depth=3\u001b[0m\n",
      "\u001b[31m[126]#011train-rmse:0.003932#011validation-rmse:0.104948\u001b[0m\n",
      "\u001b[31m[16:29:18] src/tree/updater_prune.cc:74: tree pruning end, 1 roots, 12 extra nodes, 0 pruned nodes, max_depth=3\u001b[0m\n",
      "\u001b[31m[127]#011train-rmse:0.003925#011validation-rmse:0.104935\u001b[0m\n",
      "\u001b[31m[16:29:18] src/tree/updater_prune.cc:74: tree pruning end, 1 roots, 8 extra nodes, 0 pruned nodes, max_depth=3\u001b[0m\n",
      "\u001b[31m[128]#011train-rmse:0.003924#011validation-rmse:0.104935\u001b[0m\n",
      "\u001b[31mStopping. Best iteration:\u001b[0m\n",
      "\u001b[31m[118]#011train-rmse:0.003951#011validation-rmse:0.104928\n",
      "\u001b[0m\n"
     ]
    },
    {
     "name": "stdout",
     "output_type": "stream",
     "text": [
      "\n",
      "2019-11-21 16:29:30 Completed - Training job completed\n",
      "Training seconds: 63\n",
      "Billable seconds: 63\n",
      "CPU times: user 466 ms, sys: 27.3 ms, total: 493 ms\n",
      "Wall time: 3min 41s\n"
     ]
    }
   ],
   "source": [
    "%%time\n",
    "# This is a wrapper around the location of our train and validation data, to make sure that SageMaker\n",
    "# knows our data is in csv format.\n",
    "s3_input_train = sagemaker.s3_input(s3_data=train_location, content_type='csv')\n",
    "s3_input_validation = sagemaker.s3_input(s3_data=val_location, content_type='csv')\n",
    "\n",
    "xgb.fit({'train': s3_input_train, 'validation': s3_input_validation})"
   ]
  },
  {
   "cell_type": "code",
   "execution_count": null,
   "metadata": {},
   "outputs": [],
   "source": [
    "# xgb_transformer = xgb.transformer(instance_count = 1, instance_type = 'ml.m4.xlarge')"
   ]
  },
  {
   "cell_type": "code",
   "execution_count": null,
   "metadata": {},
   "outputs": [],
   "source": [
    "# xgb_transformer.transform(test_location, content_type='text/csv', split_type='Line')"
   ]
  },
  {
   "cell_type": "code",
   "execution_count": null,
   "metadata": {},
   "outputs": [],
   "source": [
    "# xgb_transformer.wait()"
   ]
  },
  {
   "cell_type": "code",
   "execution_count": null,
   "metadata": {},
   "outputs": [],
   "source": [
    "# !aws s3 cp --recursive $xgb_transformer.output_path $processed_data_dir"
   ]
  },
  {
   "cell_type": "code",
   "execution_count": null,
   "metadata": {},
   "outputs": [],
   "source": [
    "# Y_pred = pd.read_csv(os.path.join(processed_data_dir, 'XGB_features_test.csv.out'), header=None)"
   ]
  },
  {
   "cell_type": "code",
   "execution_count": null,
   "metadata": {},
   "outputs": [],
   "source": [
    "%%time\n",
    "xgb_predictor = xgb.deploy(initial_instance_count=1, instance_type='ml.m4.xlarge')"
   ]
  },
  {
   "cell_type": "code",
   "execution_count": null,
   "metadata": {},
   "outputs": [],
   "source": [
    "# We need to tell the endpoint what format the data we are sending is in\n",
    "xgb_predictor.content_type = 'text/csv'\n",
    "xgb_predictor.serializer = csv_serializer\n",
    "\n",
    "predictions = xgb_predictor.predict(X_test)\n",
    "# predictions = xgb_predictor.predict(X_test.values).decode('utf-8')\n",
    "# predictions is currently a comma delimited string and so we would like to break it up\n",
    "# as a numpy array.\n",
    "predictions = np.fromstring(predictions, sep=',')\n",
    "predictions = pd.DataFrame(predictions)"
   ]
  },
  {
   "cell_type": "code",
   "execution_count": null,
   "metadata": {},
   "outputs": [],
   "source": [
    "viz.plot_prediction(y_test, Y_pred)\n",
    "# plt.scatter(y_test, Y_pred)"
   ]
  },
  {
   "cell_type": "code",
   "execution_count": null,
   "metadata": {},
   "outputs": [],
   "source": [
    "from sklearn.metrics import mean_squared_error\n",
    "import math\n",
    "\n",
    "score = mean_squared_error(y_test, predictions)\n",
    "print(\"{:<11} {:.8f} MSE ({:.8f} RMSE)\".format('Score:', score, math.sqrt(score)))"
   ]
  },
  {
   "cell_type": "code",
   "execution_count": null,
   "metadata": {},
   "outputs": [],
   "source": [
    "# delete the predictor endpoint \n",
    "delete_endpoint(xgb_predictor)"
   ]
  },
  {
   "cell_type": "code",
   "execution_count": null,
   "metadata": {},
   "outputs": [],
   "source": [
    "# First we will remove all of the files contained in the data_dir directory\n",
    "# And then we delete the directory itself\n",
    "%rm -rf $processed_data_dir/*\n",
    "%rm -rf $processed_data_dir\n",
    "\n",
    "%rm -rf $data_dir/*\n",
    "%rm -rf $data_dir"
   ]
  },
  {
   "cell_type": "code",
   "execution_count": null,
   "metadata": {},
   "outputs": [],
   "source": []
  }
 ],
 "metadata": {
  "kernelspec": {
   "display_name": "conda_amazonei_tensorflow_p36",
   "language": "python",
   "name": "conda_amazonei_tensorflow_p36"
  },
  "language_info": {
   "codemirror_mode": {
    "name": "ipython",
    "version": 3
   },
   "file_extension": ".py",
   "mimetype": "text/x-python",
   "name": "python",
   "nbconvert_exporter": "python",
   "pygments_lexer": "ipython3",
   "version": "3.6.5"
  }
 },
 "nbformat": 4,
 "nbformat_minor": 2
}
